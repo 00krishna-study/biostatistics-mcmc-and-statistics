{
 "metadata": {
  "name": ""
 },
 "nbformat": 3,
 "nbformat_minor": 0,
 "worksheets": [
  {
   "cells": [
    {
     "cell_type": "markdown",
     "metadata": {},
     "source": [
      "**This section of the course requires familiarity with Bayesian inference, which is covered elsewhere in the Vanderbilt Biostatistics graduate program. For an introduction to Bayesian statistics, I recommend the open-source book [Probabilistic Programming & Bayesian Methods for Hackers](http://camdavidsonpilon.github.io/Probabilistic-Programming-and-Bayesian-Methods-for-Hackers/), which is freely available on GitHub.**\n",
      "\n",
      "For additional references and materials, contact the course instructor."
     ]
    },
    {
     "cell_type": "markdown",
     "metadata": {},
     "source": [
      "# Computational Methods in Bayesian Analysis\n",
      "\n",
      "Bayesian analysis often requires integration over multiple dimensions that is intractable both via analytic methods or standard methods of numerical integration.\n",
      "However, it is often possible to compute these integrals by simulating\n",
      "(drawing samples) from posterior distributions. For example, consider the expected value of a random variable $\\mathbf{x}$:\n",
      "\n",
      "$$\\begin{gathered}\n",
      "\\begin{split}E[{\\bf x}] = \\int {\\bf x} f({\\bf x}) d{\\bf x}, \\qquad\n",
      "{\\bf x} = \\{x_1,...,x_k\\}\\end{split}\\notag\\\\\\begin{split}\\end{split}\\notag\\end{gathered}$$\n",
      "\n",
      "where $k$ (the dimension of vector $x$) is perhaps very large. If we can produce a reasonable number of random vectors $\\{{\\bf x_i}\\}$, we can use these values to approximate the unknown integral. This process is known as *Monte Carlo integration*. In general, MC integration allows integrals against probability density functions:\n",
      "\n",
      "$$\\begin{gathered}\n",
      "\\begin{split}I = \\int h(\\mathbf{x}) f(\\mathbf{x}) \\mathbf{dx}\\end{split}\\notag\\\\\\begin{split}\\end{split}\\notag\\end{gathered}$$\n",
      "\n",
      "to be estimated by finite sums:\n",
      "\n",
      "$$\\begin{gathered}\n",
      "\\begin{split}\\hat{I} = \\frac{1}{n}\\sum_{i=1}^n h(\\mathbf{x}_i),\\end{split}\\notag\\\\\\begin{split}\\end{split}\\notag\\end{gathered}$$\n",
      "\n",
      "where $\\mathbf{x}_i$ is a sample from $f$. This estimate is valid and useful because:\n",
      "\n",
      "-   By the strong law of large numbers:\n",
      "\n",
      "$$\\begin{gathered}\n",
      "\\begin{split}\\hat{I} \\rightarrow I   \\mbox{   with probability 1}\\end{split}\\notag\\\\\\begin{split}\\end{split}\\notag\\end{gathered}$$\n",
      "\n",
      "-   Simulation error can be measured and controlled:\n",
      "\n",
      "$$Var(\\hat{I}) = \\frac{1}{n(n-1)}\\sum_{i=1}^n\n",
      "   (h(\\mathbf{x}_i)-\\hat{I})^2$$"
     ]
    },
    {
     "cell_type": "markdown",
     "metadata": {},
     "source": [
      "### How is this relevant to Bayesian analysis? \n",
      "\n",
      "When we observe data $y$ that we hypothesize as being obtained from a sampling model $f(y|\\theta)$, where $\\theta$ is a vector of (unknown) model parameters, a Bayesian places a *prior* distribution $p(\\theta)$ on the parameters to describe the uncertainty in the true values of the parameters. Bayesian inference, then, is obtained by calculating the *posterior* distribution, which is proportional to the product of these quantities:\n",
      "\n",
      "$$p(\\theta | y) \\propto f(y|\\theta) p(\\theta)$$\n",
      "\n",
      "unfortunately, for most problems of interest, the normalizing constant cannot be calculated because it involves mutli-dimensional integration over $\\theta$.\n",
      "\n",
      "Returning to our integral for MC sampling, if we replace $f(\\mathbf{x})$\n",
      "with a posterior, $p(\\theta|y)$ and make $h(\\theta)$ an interesting function of the unknown parameter, the resulting expectation is that of the posterior of $h(\\theta)$:\n",
      "\n",
      "$$E[h(\\theta)|y] = \\int h(\\theta) p(\\theta|y) d\\theta \\approx \\frac{1}{n}\\sum_{i=1}^n h(\\theta)$$\n",
      "\n",
      "We also require integrals to obtain marginal estimates from a joint model. If $\\theta$ is of length $K$, then inference about any particular parameter is obtained by:\n",
      "\n",
      "$$p(\\theta_i|y) \\propto \\int p(\\theta|y) d\\theta_{-i}$$\n",
      "\n",
      "where the `-i` subscript indicates all elements except the $i^{th}$."
     ]
    },
    {
     "cell_type": "markdown",
     "metadata": {},
     "source": [
      "## Example: Overdispersion Model\n",
      "\n",
      "[Tsutakawa et al. (1985)](http://onlinelibrary.wiley.com/doi/10.1002/sim.4780040210/abstract) provides mortality data for stomach cancer among men aged 45-64 in several cities in Missouri. The file `cancer.csv` contains deaths $y_i$ and subjects at risk $n_i$ for 20 cities from this dataset."
     ]
    },
    {
     "cell_type": "code",
     "collapsed": false,
     "input": [
      "import pandas as pd\n",
      "\n",
      "cancer = pd.read_csv('../data/cancer.csv')\n",
      "cancer"
     ],
     "language": "python",
     "metadata": {},
     "outputs": [
      {
       "html": [
        "<div style=\"max-height:1000px;max-width:1500px;overflow:auto;\">\n",
        "<table border=\"1\" class=\"dataframe\">\n",
        "  <thead>\n",
        "    <tr style=\"text-align: right;\">\n",
        "      <th></th>\n",
        "      <th>y</th>\n",
        "      <th>n</th>\n",
        "    </tr>\n",
        "  </thead>\n",
        "  <tbody>\n",
        "    <tr>\n",
        "      <th>0 </th>\n",
        "      <td>  0</td>\n",
        "      <td>  1083</td>\n",
        "    </tr>\n",
        "    <tr>\n",
        "      <th>1 </th>\n",
        "      <td>  0</td>\n",
        "      <td>   855</td>\n",
        "    </tr>\n",
        "    <tr>\n",
        "      <th>2 </th>\n",
        "      <td>  2</td>\n",
        "      <td>  3461</td>\n",
        "    </tr>\n",
        "    <tr>\n",
        "      <th>3 </th>\n",
        "      <td>  0</td>\n",
        "      <td>   657</td>\n",
        "    </tr>\n",
        "    <tr>\n",
        "      <th>4 </th>\n",
        "      <td>  1</td>\n",
        "      <td>  1208</td>\n",
        "    </tr>\n",
        "    <tr>\n",
        "      <th>5 </th>\n",
        "      <td>  1</td>\n",
        "      <td>  1025</td>\n",
        "    </tr>\n",
        "    <tr>\n",
        "      <th>6 </th>\n",
        "      <td>  0</td>\n",
        "      <td>   527</td>\n",
        "    </tr>\n",
        "    <tr>\n",
        "      <th>7 </th>\n",
        "      <td>  2</td>\n",
        "      <td>  1668</td>\n",
        "    </tr>\n",
        "    <tr>\n",
        "      <th>8 </th>\n",
        "      <td>  1</td>\n",
        "      <td>   583</td>\n",
        "    </tr>\n",
        "    <tr>\n",
        "      <th>9 </th>\n",
        "      <td>  3</td>\n",
        "      <td>   582</td>\n",
        "    </tr>\n",
        "    <tr>\n",
        "      <th>10</th>\n",
        "      <td>  0</td>\n",
        "      <td>   917</td>\n",
        "    </tr>\n",
        "    <tr>\n",
        "      <th>11</th>\n",
        "      <td>  1</td>\n",
        "      <td>   857</td>\n",
        "    </tr>\n",
        "    <tr>\n",
        "      <th>12</th>\n",
        "      <td>  1</td>\n",
        "      <td>   680</td>\n",
        "    </tr>\n",
        "    <tr>\n",
        "      <th>13</th>\n",
        "      <td>  1</td>\n",
        "      <td>   917</td>\n",
        "    </tr>\n",
        "    <tr>\n",
        "      <th>14</th>\n",
        "      <td> 54</td>\n",
        "      <td> 53637</td>\n",
        "    </tr>\n",
        "    <tr>\n",
        "      <th>15</th>\n",
        "      <td>  0</td>\n",
        "      <td>   874</td>\n",
        "    </tr>\n",
        "    <tr>\n",
        "      <th>16</th>\n",
        "      <td>  0</td>\n",
        "      <td>   395</td>\n",
        "    </tr>\n",
        "    <tr>\n",
        "      <th>17</th>\n",
        "      <td>  1</td>\n",
        "      <td>   581</td>\n",
        "    </tr>\n",
        "    <tr>\n",
        "      <th>18</th>\n",
        "      <td>  3</td>\n",
        "      <td>   588</td>\n",
        "    </tr>\n",
        "    <tr>\n",
        "      <th>19</th>\n",
        "      <td>  0</td>\n",
        "      <td>   383</td>\n",
        "    </tr>\n",
        "  </tbody>\n",
        "</table>\n",
        "</div>"
       ],
       "metadata": {},
       "output_type": "pyout",
       "prompt_number": 1,
       "text": [
        "     y      n\n",
        "0    0   1083\n",
        "1    0    855\n",
        "2    2   3461\n",
        "3    0    657\n",
        "4    1   1208\n",
        "5    1   1025\n",
        "6    0    527\n",
        "7    2   1668\n",
        "8    1    583\n",
        "9    3    582\n",
        "10   0    917\n",
        "11   1    857\n",
        "12   1    680\n",
        "13   1    917\n",
        "14  54  53637\n",
        "15   0    874\n",
        "16   0    395\n",
        "17   1    581\n",
        "18   3    588\n",
        "19   0    383"
       ]
      }
     ],
     "prompt_number": 1
    },
    {
     "cell_type": "markdown",
     "metadata": {},
     "source": [
      "If we use a simple binomial model, which assumes independent samples from a binomial distribution with probability of mortality $p$, we can use MLE to obtain an estimate of this probability."
     ]
    },
    {
     "cell_type": "code",
     "collapsed": false,
     "input": [
      "ytotal, ntotal = cancer.sum().astype(float)\n",
      "p_hat = ytotal/ntotal\n",
      "p_hat"
     ],
     "language": "python",
     "metadata": {},
     "outputs": [
      {
       "metadata": {},
       "output_type": "pyout",
       "prompt_number": 2,
       "text": [
        "0.00099331262766165821"
       ]
      }
     ],
     "prompt_number": 2
    },
    {
     "cell_type": "markdown",
     "metadata": {},
     "source": [
      "However, if we compare the variation of $y$ under this model, it is to small relative to the observed variation:"
     ]
    },
    {
     "cell_type": "code",
     "collapsed": false,
     "input": [
      "p_hat*(1.-p_hat)*ntotal"
     ],
     "language": "python",
     "metadata": {},
     "outputs": [
      {
       "metadata": {},
       "output_type": "pyout",
       "prompt_number": 3,
       "text": [
        "70.929474803436037"
       ]
      }
     ],
     "prompt_number": 3
    },
    {
     "cell_type": "code",
     "collapsed": false,
     "input": [
      "cancer.y.var()"
     ],
     "language": "python",
     "metadata": {},
     "outputs": [
      {
       "metadata": {},
       "output_type": "pyout",
       "prompt_number": 4,
       "text": [
        "141.94473684210524"
       ]
      }
     ],
     "prompt_number": 4
    },
    {
     "cell_type": "markdown",
     "metadata": {},
     "source": [
      "Hence, the data are strongly overdispersed relative to what is predicted under a model with a fixed probability of death. A more realistic model would allow for these probabilities to vary among the cities. One way of representing this is conjugating the binomial distribution with another distribution that describes the variation in the binomial probability. A sensible choice for this is the **beta distribution**:\n",
      "\n",
      "$$f(p \\mid \\alpha, \\beta) = \\frac{\\Gamma(\\alpha + \\beta)}{\\Gamma(\\alpha) \\Gamma(\\beta)} p^{\\alpha - 1} (1 - p)^{\\beta - 1}$$\n",
      "\n",
      "Conjugating this with the binomial distribution, and reparameterizing such that $\\alpha = K\\eta$ and $\\beta = K(1-\\eta)$ for $K > 0$ and $\\eta \\in (0,1)$ results in the **beta-binomial distribution**:\n",
      "\n",
      "$$f(y \\mid K, \\eta) = \\frac{n!}{y!(n-y)!} \\frac{B(K\\eta+y, K(1-\\eta) + n - y)}{B(K\\eta, K(1-\\eta))}$$\n",
      "\n",
      "where $B$ is the beta function.\n",
      "\n",
      "What remains is to place priors over the parameters $K$ and $\\eta$. Common choices for diffuse (*i.e.* vague or uninformative) priors are:\n",
      "\n",
      "$$\\begin{aligned}\n",
      "p(K) &\\propto \\frac{1}{(1+K)^2} \\cr\n",
      "p(\\eta) &\\propto \\frac{1}{\\eta(1-\\eta)}\n",
      "\\end{aligned}$$\n",
      "\n",
      "These are not normalized, but our posterior will not be normalized anyhow, so this is not an issue."
     ]
    },
    {
     "cell_type": "code",
     "collapsed": false,
     "input": [
      "eta_x = np.linspace(0, 1)\n",
      "eta_prior = lambda eta: 1./(eta*(1.-eta)) \n",
      "plt.plot(eta_x, eta_prior(eta_x))"
     ],
     "language": "python",
     "metadata": {},
     "outputs": [
      {
       "metadata": {},
       "output_type": "pyout",
       "prompt_number": 5,
       "text": [
        "[<matplotlib.lines.Line2D at 0x108097810>]"
       ]
      },
      {
       "metadata": {},
       "output_type": "display_data",
       "png": "[encoded data removed]",
       "text": [
        "<matplotlib.figure.Figure at 0x105415ed0>"
       ]
      }
     ],
     "prompt_number": 5
    },
    {
     "cell_type": "code",
     "collapsed": false,
     "input": [
      "K_x = np.linspace(0, 10)\n",
      "K_prior = lambda K: 1./(1. + K)**2\n",
      "plt.plot(K_x, K_prior(K_x))"
     ],
     "language": "python",
     "metadata": {},
     "outputs": [
      {
       "metadata": {},
       "output_type": "pyout",
       "prompt_number": 6,
       "text": [
        "[<matplotlib.lines.Line2D at 0x108155a10>]"
       ]
      },
      {
       "metadata": {},
       "output_type": "display_data",
       "png": "[encoded data removed]",
       "text": [
        "<matplotlib.figure.Figure at 0x108093790>"
       ]
      }
     ],
     "prompt_number": 6
    },
    {
     "cell_type": "markdown",
     "metadata": {},
     "source": [
      "Now, by multiplying these quantities together, we can obtain a non-normalized posterior.\n",
      "\n",
      "$$p(K, \\eta | \\mathbf{y}) \\propto \\frac{1}{(1+K)^2} \\frac{1}{\\eta(1-\\eta)} \\prod_i \\frac{B(K\\eta+y_i, K(1-\\eta) + n_i - y_i)}{B(K\\eta, K(1-\\eta))}$$\n",
      "\n",
      "This can be calculated in Python as follows"
     ]
    },
    {
     "cell_type": "code",
     "collapsed": false,
     "input": [
      "from scipy.special import betaln\n",
      "\n",
      "def betabin_post(params, n, y):\n",
      "\n",
      "    K, eta = params\n",
      "    post = betaln(K*eta + y, K*(1.-eta) + n - y).sum()\n",
      "    post -= len(y)*betaln(K*eta, K*(1.-eta))\n",
      "    post -= np.log(eta*(1.-eta))\n",
      "    post -= 2.*np.log(1.+K)\n",
      "    \n",
      "    return post\n",
      "        \n",
      "betabin_post((15000, 0.003), cancer.n, cancer.y)        "
     ],
     "language": "python",
     "metadata": {},
     "outputs": [
      {
       "metadata": {},
       "output_type": "pyout",
       "prompt_number": 7,
       "text": [
        "-605.06645607721157"
       ]
      }
     ],
     "prompt_number": 7
    },
    {
     "cell_type": "code",
     "collapsed": false,
     "input": [
      "K_x = np.linspace(1, 20000)\n",
      "eta_x = np.linspace(0.0001, 0.003)\n",
      "z = np.array([[betabin_post((K, eta), cancer.n, cancer.y) for eta in eta_x] for K in K_x])\n",
      "x, y = np.meshgrid(eta_x, K_x)\n",
      "cplot = plt.contour(x, y, z-z.max(), [-0.5, -1, -2, -3, -4], cmap=cm.RdBu)\n",
      "ylabel('K');xlabel('$\\eta$')"
     ],
     "language": "python",
     "metadata": {},
     "outputs": [
      {
       "metadata": {},
       "output_type": "pyout",
       "prompt_number": 8,
       "text": [
        "<matplotlib.text.Text at 0x1080a6d90>"
       ]
      },
      {
       "metadata": {},
       "output_type": "display_data",
       "png": "[encoded data removed]",
       "text": [
        "<matplotlib.figure.Figure at 0x108085510>"
       ]
      }
     ],
     "prompt_number": 8
    },
    {
     "cell_type": "markdown",
     "metadata": {},
     "source": [
      "To deal with the extreme skewness in the precision parameter $K$ and to facilitate modeling, we can transform the beta-binomial parameters to the real line via:\n",
      "\n",
      "$$\\begin{aligned}\n",
      "\\theta_1 &= \\log(K) \\cr\n",
      "\\theta_2 &= \\log\\left(\\frac{\\eta}{1-\\eta}\\right)\n",
      "\\end{aligned}$$\n",
      "\n",
      "which we can easily implement by wrapping `betabin_post`:"
     ]
    },
    {
     "cell_type": "code",
     "collapsed": false,
     "input": [
      "def betabin_trans(theta, n, y):\n",
      "    K = np.exp(theta[0])\n",
      "    eta = 1./(1. + np.exp(-theta[1]))\n",
      "    \n",
      "    post = betaln(K*eta + y, K*(1.-eta) + n - y).sum()\n",
      "    post -= len(y)*betaln(K*eta, K*(1.-eta))\n",
      "    post += theta[0]\n",
      "    post -= 2.*np.log(1.+np.exp(theta[0]))\n",
      "    \n",
      "    return post\n",
      "    \n",
      "betabin_trans((10, -7.5), cancer.n, cancer.y)"
     ],
     "language": "python",
     "metadata": {},
     "outputs": [
      {
       "metadata": {},
       "output_type": "pyout",
       "prompt_number": 9,
       "text": [
        "-576.79668610789224"
       ]
      }
     ],
     "prompt_number": 9
    },
    {
     "cell_type": "code",
     "collapsed": false,
     "input": [
      "log_K_x = np.linspace(0, 20)\n",
      "logit_eta_x = np.linspace(-8, -5)\n",
      "z = np.array([[betabin_trans((t1, t2), cancer.n, cancer.y) \n",
      "             for t2 in logit_eta_x] for t1 in log_K_x])\n",
      "x, y = np.meshgrid(logit_eta_x, log_K_x)\n",
      "cplot = plt.contour(x, y, z - z.max(), [-0.5, -1, -2, -4, -8], cmap=cm.RdBu)\n",
      "plt.clabel(cplot, inline=1, fontsize=10, fmt='%1.1f')\n",
      "ylabel('log(K)');xlabel('logit($\\eta$)')"
     ],
     "language": "python",
     "metadata": {},
     "outputs": [
      {
       "metadata": {},
       "output_type": "pyout",
       "prompt_number": 10,
       "text": [
        "<matplotlib.text.Text at 0x1081ffd10>"
       ]
      },
      {
       "metadata": {},
       "output_type": "display_data",
       "png": "[encoded data removed]",
       "text": [
        "<matplotlib.figure.Figure at 0x102ce4110>"
       ]
      }
     ],
     "prompt_number": 10
    },
    {
     "cell_type": "markdown",
     "metadata": {},
     "source": [
      "## Approximation Methods\n",
      "\n",
      "An alternative approach to summarizing a $p$-dimensional posterior distribution involves estimating the mode of the posterior, and approximating the density as multivariate normal. If we consider the logarithm of the unnormalized joint posterior:\n",
      "\n",
      "$$h(\\theta | y) = \\log[f(y|\\theta) p(\\theta)]$$\n",
      "\n",
      "one way to approximate this function is to usd a second-order Taylor series expansion around the mode $\\hat{\\theta}$:\n",
      "\n",
      "$$h(\\theta | y) \\approx h(\\hat{\\theta} | y) + \\frac{1}{2}(\\theta-\\hat{\\theta})' h''(\\hat{\\theta} | y) (\\theta-\\hat{\\theta})$$\n",
      "\n",
      "This form is simply the multivariate normal distribution with $\\hat{\\theta}$ as the mean and the inverse negative Hessian as the covariance matrix:\n",
      "\n",
      "$$\\Sigma = -h''(\\hat{\\theta} | y)^{-1}$$\n",
      "\n",
      "We can apply one of several numerical methods for multivariate optimization to numerically estimate the mode of the posterior. Here, we will use the Broyden\u2013Fletcher\u2013Goldfarb\u2013Shanno (BFGS) algorithm that is provided by scipy. In addition to returning an estimate of the mode, it returns the estimated variance-covariance matrix, which we will need to parameterize the mutlivariate normal distribution.\n",
      "\n",
      "Applying this to the beta-binomial posterior estimation problem, we simply provide an initial guess for the mode:"
     ]
    },
    {
     "cell_type": "code",
     "collapsed": false,
     "input": [
      "from scipy.optimize import fmin_bfgs\n",
      "\n",
      "betabin_trans_min = lambda *args: -betabin_trans(*args)\n",
      "\n",
      "opt = fmin_bfgs(betabin_trans_min, (10, -7.5), \n",
      "          args=(cancer.n, cancer.y), full_output=True)\n",
      "mode, var = opt[0], opt[3]\n",
      "mode, var"
     ],
     "language": "python",
     "metadata": {},
     "outputs": [
      {
       "output_type": "stream",
       "stream": "stdout",
       "text": [
        "Warning: Desired error not necessarily achieved due to precision loss.\n",
        "         Current function value: 571.376201\n",
        "         Iterations: 8\n",
        "         Function evaluations: 111\n",
        "         Gradient evaluations: 25\n"
       ]
      },
      {
       "metadata": {},
       "output_type": "pyout",
       "prompt_number": 95,
       "text": [
        "(array([ 7.57755904, -6.81895461]), array([[ 0.73900145, -0.0309378 ],\n",
        "        [-0.0309378 ,  0.05327216]]))"
       ]
      }
     ],
     "prompt_number": 95
    },
    {
     "cell_type": "markdown",
     "metadata": {},
     "source": [
      "Thus, our approximated mode is $\\log(K)=7.6$, $\\text{logit}(\\eta)=-6.8$. We can plug this value, along with the variance-covariance matrix, into a function that returns the kernel of a multivariate normal distribution, and use this to plot the approximate posterior:"
     ]
    },
    {
     "cell_type": "code",
     "collapsed": false,
     "input": [
      "det = np.linalg.det \n",
      "inv = np.linalg.inv\n",
      "\n",
      "def lmvn(value, mu, Sigma):\n",
      "    delta = np.array(value) - mu\n",
      "    return 1 / (2. * (np.log(det(Sigma))) - dot(delta.T, dot(inv(Sigma), delta)))"
     ],
     "language": "python",
     "metadata": {},
     "outputs": [],
     "prompt_number": 12
    },
    {
     "cell_type": "code",
     "collapsed": false,
     "input": [
      "z = np.array([[lmvn((t1, t2), mode, var) \n",
      "             for t2 in logit_eta_x] for t1 in log_K_x])\n",
      "x, y = np.meshgrid(logit_eta_x, log_K_x)\n",
      "cplot = plt.contour(x, y, z - z.max(), cmap=cm.RdBu)\n",
      "ylabel('log(K)');xlabel('logit($\\eta$)')"
     ],
     "language": "python",
     "metadata": {},
     "outputs": [
      {
       "metadata": {},
       "output_type": "pyout",
       "prompt_number": 13,
       "text": [
        "<matplotlib.text.Text at 0x108218890>"
       ]
      },
      {
       "metadata": {},
       "output_type": "display_data",
       "png": "[encoded data removed]",
       "text": [
        "<matplotlib.figure.Figure at 0x108177b50>"
       ]
      }
     ],
     "prompt_number": 13
    },
    {
     "cell_type": "markdown",
     "metadata": {},
     "source": [
      "Along with this, we can estimate a 95% probability interval for the estimated mode:"
     ]
    },
    {
     "cell_type": "code",
     "collapsed": false,
     "input": [
      "from scipy.stats.distributions import norm\n",
      "\n",
      "se = np.sqrt(np.diag(var))\n",
      "\n",
      "mode[0] + norm.ppf(0.025)*se[0], mode[0] + norm.ppf(0.975)*se[0]"
     ],
     "language": "python",
     "metadata": {},
     "outputs": [
      {
       "metadata": {},
       "output_type": "pyout",
       "prompt_number": 21,
       "text": [
        "(5.8926722074382862, 9.2624458767123272)"
       ]
      }
     ],
     "prompt_number": 21
    },
    {
     "cell_type": "code",
     "collapsed": false,
     "input": [
      "mode[1] + norm.ppf(0.025)*se[1], mode[1] + norm.ppf(0.975)*se[1]"
     ],
     "language": "python",
     "metadata": {},
     "outputs": [
      {
       "metadata": {},
       "output_type": "pyout",
       "prompt_number": 22,
       "text": [
        "(-7.2713292270676435, -6.3665799967537682)"
       ]
      }
     ],
     "prompt_number": 22
    },
    {
     "cell_type": "markdown",
     "metadata": {},
     "source": [
      "Of course, this approximation is only reasonable for posteriors that are not strongly skewed, bimodal, or leptokurtic (heavy-tailed)."
     ]
    },
    {
     "cell_type": "markdown",
     "metadata": {},
     "source": [
      "## Rejection Sampling\n",
      "\n",
      "Though Monte Carlo integration allows us to estimate integrals that are unassailable by analysis and standard numerical methods, it relies on the ability to draw samples from the posterior distribution. For known parametric forms, this is not a problem; probability integral transforms or bivariate techniques (e.g Box-Muller method) may be used to obtain samples from uniform pseudo-random variates generated from a computer. Often, however, we cannot readily generate random values from non-standard posteriors. In such instances, we can use rejection sampling to generate samples.\n",
      "\n",
      "Posit a function, $f(x)$ which can be evaluated for any value on the support of $x:S_x = [A,B]$, but may not be integrable or easily sampled from. If we can calculate the maximum value of $f(x)$, we can then define a rectangle that is guaranteed to contain all possible values\n",
      "$(x,f(x))$. It is then trivial to generate points over the box and enumerate the values that fall under the curve.\n",
      "\n",
      "\n",
      "$$\\begin{gathered}\n",
      "\\begin{split}\\frac{\\mbox{Points under curve}}{\\mbox{Points generated}} \\times \\mbox{box area} = \\lim_{n \\to \\infty} \\int_A^B f(x) dx\\end{split}\\notag\\\\\\begin{split}\\end{split}\\notag\\end{gathered}$$\n",
      "\n",
      "This approach is useful, for example, in estimating the normalizing constant for posterior distributions.\n",
      "\n",
      "\n",
      "If $f(x)$ has unbounded support (i.e. infinite tails), such as a Gaussian distribution, a bounding box is no longer appropriate. We must specify a majorizing (or, enveloping) function, $g(x)$, which implies:\n",
      "\n",
      "$$\\begin{gathered}\n",
      "\\begin{split}cg(x) \\ge  f(x) \\qquad\\forall x \\in (-\\infty,\\infty)\\end{split}\\notag\\\\\\begin{split}\\end{split}\\notag\\end{gathered}$$\n",
      "\n",
      "Having done this, we can now sample ${x_i}$ from $g(x)$ and accept or reject each of these values based upon $f(x_i)$. Specifically, for each draw $x_i$, we also draw a uniform random variate $u_i$ and accept $x_i$\n",
      "if $u_i < f(x_i)/cg(x_i)$, where $c$ is a constant. This procedure is repeated until a sufficient number of samples is obtained. This approach is made more efficient by choosing an enveloping distribution that is \u201cclose\u201d to the target distribution, thus maximizing the number of accepted points. \n",
      "\n",
      "To apply rejection sampling to the beta-binomial example, we first need to find a majorizing function $g(x)$ from which we can easily draw samples. We have seen in the previous section that the multivariate normal might serve as a suitable candidate, if multiplied by an appropriately large value of $c$. However, the thinness of the normal tails makes it difficult to use as a majorizing function. Instead, a multivariate Student's T distribution offers heavier tails for a suitably-small value for the degrees of freedom $\\nu$:\n",
      "\n",
      "$$f(\\mathbf{x}| \\nu,\\mu,\\Sigma) = \\frac{\\Gamma\\left[(\\nu+p)/2\\right]}{\\Gamma(\\nu/2)\\nu^{p/2}\\pi^{p/2}\\left|{\\boldsymbol\\Sigma}\\right|^{1/2}\\left[1+\\frac{1}{\\nu}({\\mathbf x}-{\\boldsymbol\\mu})^T{\\boldsymbol\\Sigma}^{-1}({\\mathbf x}-{\\boldsymbol\\mu})\\right]^{(\\nu+p)/2}}$$"
     ]
    },
    {
     "cell_type": "markdown",
     "metadata": {},
     "source": [
      "We can draw samples from a multivariate-T density by combining mutlivariate normal and $\\chi^2$ random variates:\n",
      "\n",
      "> ### Generating multivariate-T samples\n",
      "\n",
      "> If $X$ is distributed multivariate normal $\\text{MVN}(\\mathbf{0},\\Sigma)$ and $S$ is a $\\chi^2$ random variable with $\\mu$ degrees of freedom, then a multivariate Student's-T random variable $T = T_1,\\ldots,T_p$ can be generated by $T_i = \\frac{\\sqrt{\\nu}X_i}{S} + \\mu_i$, where $\\mu = \\mu_1,\\ldots,\\mu$ is a mean vector."
     ]
    },
    {
     "cell_type": "markdown",
     "metadata": {},
     "source": [
      "This is implemented in Python by:"
     ]
    },
    {
     "cell_type": "code",
     "collapsed": false,
     "input": [
      "chi2 = np.random.chisquare\n",
      "mvn = np.random.multivariate_normal\n",
      "\n",
      "rmvt = lambda nu, S, mu=0, size=1: (np.sqrt(nu) * (mvn(np.zeros(len(S)), S, size).T\n",
      "                                   / chi2(nu, size))).T + mu"
     ],
     "language": "python",
     "metadata": {},
     "outputs": [],
     "prompt_number": 54
    },
    {
     "cell_type": "markdown",
     "metadata": {},
     "source": [
      "Finally, we need an implementation of the multivariate T probability distribution function, which is as follows:"
     ]
    },
    {
     "cell_type": "code",
     "collapsed": false,
     "input": [
      "from scipy.special import gammaln\n",
      "\n",
      "def mvt(x, nu, S, mu=0): \n",
      "\n",
      "    d = len(S)\n",
      "    n = len(x)\n",
      "    X = np.atleast_2d(x) - mu\n",
      "    \n",
      "    Q = X.dot(inv(S)).dot(X.T).sum()\n",
      "    log_det = np.log(det(S))\n",
      "    log_pdf = gammaln((nu + d)/2.) - 0.5 * (d*np.log(pi*nu) + log_det) - gammaln(nu/2.)\n",
      "    log_pdf -= 0.5*(nu + d)*np.log(1 + Q/nu)\n",
      "    \n",
      "    return(np.exp(log_pdf))"
     ],
     "language": "python",
     "metadata": {},
     "outputs": [],
     "prompt_number": 76
    },
    {
     "cell_type": "markdown",
     "metadata": {},
     "source": [
      "The next step is to find the constant $c$ that ensures:\n",
      "\n",
      "$$cg(\\theta) \\ge  f(\\theta|y) \\qquad\\forall \\theta \\in (-\\infty,\\infty)$$\n",
      "\n",
      "Alternatively, we want to ensure:\n",
      "\n",
      "$$\\log[f(\\theta|y)] - \\log[g(\\theta)] \\le c'$$"
     ]
    },
    {
     "cell_type": "code",
     "collapsed": false,
     "input": [
      "def calc_diff(theta, n, y, nu, S, mu):\n",
      "    \n",
      "    return betabin_trans(theta, n, y) - np.log(mvt(theta, nu, S, mu))\n",
      "\n",
      "calc_diff_min = lambda *args: -calc_diff(*args)"
     ],
     "language": "python",
     "metadata": {},
     "outputs": [],
     "prompt_number": 99
    },
    {
     "cell_type": "markdown",
     "metadata": {},
     "source": [
      "We can calculate an appropriate value of $c'$ by simply using the approximation method described above on `calc_diff` (tweaked to produce a negative value for minimization):"
     ]
    },
    {
     "cell_type": "code",
     "collapsed": false,
     "input": [
      "opt = fmin_bfgs(calc_diff_min, \n",
      "                (12, -7), \n",
      "                args=(cancer.n, cancer.y, 4, 2*var, mode), \n",
      "                full_output=True)"
     ],
     "language": "python",
     "metadata": {},
     "outputs": [
      {
       "output_type": "stream",
       "stream": "stdout",
       "text": [
        "Warning: Desired error not necessarily achieved due to precision loss.\n",
        "         Current function value: 568.710236\n",
        "         Iterations: 8\n",
        "         Function evaluations: 230\n",
        "         Gradient evaluations: 54\n"
       ]
      }
     ],
     "prompt_number": 100
    },
    {
     "cell_type": "code",
     "collapsed": false,
     "input": [
      "c = opt[1]\n",
      "c"
     ],
     "language": "python",
     "metadata": {},
     "outputs": [
      {
       "metadata": {},
       "output_type": "pyout",
       "prompt_number": 101,
       "text": [
        "568.71023574886522"
       ]
      }
     ],
     "prompt_number": 101
    },
    {
     "cell_type": "markdown",
     "metadata": {},
     "source": [
      "Now we can execute a rejection sampling algorithm:"
     ]
    },
    {
     "cell_type": "code",
     "collapsed": false,
     "input": [
      "def reject(post, nu, S, mu, n, data, c):\n",
      "    \n",
      "    k = len(mode)\n",
      "    \n",
      "    # Draw samples from g(theta)\n",
      "    theta = rmvt(nu, S, mu, size=n)\n",
      "    \n",
      "    # Calculate probability under g(theta)\n",
      "    gvals = np.array([np.log(mvt(t, nu, S, mu)) for t in theta])\n",
      "\n",
      "    # Calculate probability under f(theta)\n",
      "    fvals = np.array([post(t, data.n, data.y) for t in theta])\n",
      "    \n",
      "    # Calculate acceptance probability\n",
      "    p = np.exp(fvals - gvals + c)\n",
      "    \n",
      "    return theta[np.random.random(n) < p]"
     ],
     "language": "python",
     "metadata": {},
     "outputs": [],
     "prompt_number": 139
    },
    {
     "cell_type": "code",
     "collapsed": false,
     "input": [
      "nsamples = 1000\n",
      "sample = reject(betabin_trans, 4, var, mode, nsamples, cancer, c)"
     ],
     "language": "python",
     "metadata": {},
     "outputs": [],
     "prompt_number": 157
    },
    {
     "cell_type": "code",
     "collapsed": false,
     "input": [
      "z = np.array([[betabin_trans((t1, t2), cancer.n, cancer.y) \n",
      "             for t2 in logit_eta_x] for t1 in log_K_x])\n",
      "x, y = np.meshgrid(logit_eta_x, log_K_x)\n",
      "cplot = plt.contour(x, y, z - z.max(), [-0.5, -1, -2, -4, -8], cmap=cm.RdBu)\n",
      "plt.clabel(cplot, inline=1, fontsize=10, fmt='%1.1f')\n",
      "ylabel('log(K)');xlabel('logit($\\eta$)')\n",
      "plt.scatter(*sample.T[[1,0]])"
     ],
     "language": "python",
     "metadata": {},
     "outputs": [
      {
       "metadata": {},
       "output_type": "pyout",
       "prompt_number": 158,
       "text": [
        "<matplotlib.collections.PathCollection at 0x10898dcd0>"
       ]
      },
      {
       "metadata": {},
       "output_type": "display_data",
       "png": "[encoded data removed]",
       "text": [
        "<matplotlib.figure.Figure at 0x108537790>"
       ]
      }
     ],
     "prompt_number": 158
    },
    {
     "cell_type": "markdown",
     "metadata": {},
     "source": [
      "Notice that the efficiency of rejection sampling is not very high for this problem."
     ]
    },
    {
     "cell_type": "code",
     "collapsed": false,
     "input": [
      "float(sample.size)/nsamples"
     ],
     "language": "python",
     "metadata": {},
     "outputs": [
      {
       "metadata": {},
       "output_type": "pyout",
       "prompt_number": 161,
       "text": [
        "0.21"
       ]
      }
     ],
     "prompt_number": 161
    },
    {
     "cell_type": "markdown",
     "metadata": {},
     "source": [
      "Rejection sampling is usually subject to declining performance as the dimension of the parameter space increases. Further improvement is gained by using optimized algorithms such as importance sampling which, as the name implies, samples more frequently from important areas of the distribution."
     ]
    },
    {
     "cell_type": "markdown",
     "metadata": {},
     "source": [
      "## Importance Sampling\n",
      "\n",
      "As we have seen, the primary difficulty in Bayesian inference is calculating the posterior density for models of moderate-to-high dimension. For example, calculating the posterior mean of some function $h$ requires two difficult integration steps:\n",
      "\n",
      "$$E[h(\\theta) | y] = \\frac{\\int h(\\theta)f(y|\\theta) p(\\theta) d\\theta}{\\int f(y|\\theta) p(\\theta) d\\theta} = \\frac{\\int h(\\theta)p(\\theta | y) d\\theta}{\\int p(\\theta|y) d\\theta}$$\n",
      "\n",
      "If the posterior $p(\\theta|y)$ is a density from which it is easy to sample, we could approximiate these integrals using Monte Carlo simulation, but too often it is not.\n",
      "\n",
      "Instead, assume that we can draw from a probability density $q(\\theta)$ that is some approximation of $p$. We could then write:\n",
      "\n",
      "$$E[h(\\theta) | y] = \\frac{\\int h(\\theta) \\frac{p(\\theta|y)}{q(\\theta)} q(\\theta) d\\theta}{\\int \\frac{p(\\theta|y)}{q(\\theta)} q(\\theta) d\\theta}$$\n",
      "\n",
      "Expressed this way, $w(\\theta) = p(\\theta|y) / q(\\theta)$ can be regarded as *weights* for the $M$ values of $\\theta$ sampled from $q$ that we can use to correct the sample so that it approximates $h(\\theta)$. Specifically, the **importance sampling estimate** of $E[h(\\theta) | y]$ is:\n",
      "\n",
      "$$\\hat{h}_{is} = \\frac{\\sum_{i=1}^{M} h(\\theta^{(i)})w(\\theta^{(i)})}{\\sum_{i=1}^{M} w(\\theta^{(i)})}$$\n",
      "\n",
      "where $\\theta^{(i)}$ is the $i^{th}$ sample simulated from $q(\\theta)$. The standard error for the importance sampling estimate is:\n",
      "\n",
      "$$\\text{SE}_{is} = \\frac{\\sqrt{\\sum_{i=1}^{M} [(h(\\theta^{(i)}) - \\hat{h}_{is}) w(\\theta^{(i)})]^2}}{\\sum_{i=1}^{M} w(\\theta^{(i)})}$$\n",
      "\n",
      "The efficiency of importance sampling is related to the selection of the importance sampling distribution $q$."
     ]
    },
    {
     "cell_type": "markdown",
     "metadata": {},
     "source": [
      "### Example: Beta-binomial parameter\n",
      "\n",
      "As a simple illustration of importance sampling, let's consider again the problem of estimating the paramters of the beta-binomial example. Here, we will use a multivariate T density as the simulation distribution $q$.\n",
      "\n",
      "Here are 1000 sampled values to use for approximating the posterior:"
     ]
    },
    {
     "cell_type": "code",
     "collapsed": false,
     "input": [
      "theta = rmvt(4, var, mode, size=1000)"
     ],
     "language": "python",
     "metadata": {},
     "outputs": []
    },
    {
     "cell_type": "markdown",
     "metadata": {},
     "source": [
      "We can obtain the probability of these values under the posterior density:"
     ]
    },
    {
     "cell_type": "code",
     "collapsed": false,
     "input": [
      "f_theta = np.array([betabin_trans(t, cancer.n, cancer.y) for t in theta])"
     ],
     "language": "python",
     "metadata": {},
     "outputs": [],
     "prompt_number": 199
    },
    {
     "cell_type": "markdown",
     "metadata": {},
     "source": [
      "and under the T distribution:"
     ]
    },
    {
     "cell_type": "code",
     "collapsed": false,
     "input": [
      "q_theta = mvt(theta, 4, var, mode)"
     ],
     "language": "python",
     "metadata": {},
     "outputs": []
    },
    {
     "cell_type": "markdown",
     "metadata": {},
     "source": [
      "This allows us to calculate the importance weights:"
     ]
    },
    {
     "cell_type": "code",
     "collapsed": false,
     "input": [
      "w = np.exp(f_theta - q_theta - max(f_theta - q_theta))"
     ],
     "language": "python",
     "metadata": {},
     "outputs": [],
     "prompt_number": 202
    },
    {
     "cell_type": "markdown",
     "metadata": {},
     "source": [
      "notice that we have subtracted the maximum value of the differences, which normalizes the weights.\n",
      "\n",
      "Now, we can obtain estimates of the parameters:"
     ]
    },
    {
     "cell_type": "code",
     "collapsed": false,
     "input": [
      "theta_si = [(w*t).sum()/w.sum() for t in theta.T]\n",
      "theta_si"
     ],
     "language": "python",
     "metadata": {},
     "outputs": [
      {
       "metadata": {},
       "output_type": "pyout",
       "prompt_number": 207,
       "text": [
        "[7.6290317572869499, -6.8202953057258577]"
       ]
      }
     ],
     "prompt_number": 207
    },
    {
     "cell_type": "markdown",
     "metadata": {},
     "source": [
      "Finally, the standard error of the estimates:"
     ]
    },
    {
     "cell_type": "code",
     "collapsed": false,
     "input": [
      "se = [np.sqrt((((theta.T[i] - theta_si[i])* w)**2).sum()/w.sum()) for i in (0,1)]\n",
      "se"
     ],
     "language": "python",
     "metadata": {},
     "outputs": [
      {
       "metadata": {},
       "output_type": "pyout",
       "prompt_number": 209,
       "text": [
        "[0.38861096202718232, 0.083705450178521087]"
       ]
      }
     ],
     "prompt_number": 209
    },
    {
     "cell_type": "markdown",
     "metadata": {},
     "source": [
      "## Sampling Importance Resampling\n",
      "\n",
      "The importance sampling method can be modified to incorporate weighted bootstrapping, in a procedure called sampling importance resampling (SIR). As previously, we obtain a sample of size $M$ from an importance sampling distribution $q$ and calculate the corresponding weights $w(\\theta_i) = p(\\theta|y) / q(\\theta)$. \n",
      "\n",
      "Instead of directly re-weighting the samples from $q$, SIR instead transforms the weights into probabilities via:\n",
      "\n",
      "$$p_i = \\frac{w(\\theta_i)}{\\sum_{i=1}^M w(\\theta_i)}$$\n",
      "\n",
      "These probabilities are then used to re-sample their respective $\\theta_i$ values, with replacement. This implies that the resulting resamples $\\theta_i\\prime$ will be distributed approximately as the posterior $p(\\theta|y)$.\n",
      "\n",
      "Using again the beta-binomial example, we can take the weights calculated above, and convert them to probabilities:"
     ]
    },
    {
     "cell_type": "code",
     "collapsed": false,
     "input": [
      "p_sir = w/w.sum()"
     ],
     "language": "python",
     "metadata": {},
     "outputs": [],
     "prompt_number": 211
    },
    {
     "cell_type": "markdown",
     "metadata": {},
     "source": [
      "The `choice` function in `numpy.random` can be used to generate a random sample from an arbitrary 1-D array."
     ]
    },
    {
     "cell_type": "code",
     "collapsed": false,
     "input": [
      "theta_sir = theta[np.random.choice(range(len(theta)), size=10000, p=p_sir)]"
     ],
     "language": "python",
     "metadata": {},
     "outputs": [],
     "prompt_number": 222
    },
    {
     "cell_type": "code",
     "collapsed": false,
     "input": [
      "fig, axes = plt.subplots(2)\n",
      "_ = axes[0].hist(theta_sir.T[0], bins=30)\n",
      "_ = axes[1].hist(theta_sir.T[1], bins=30)"
     ],
     "language": "python",
     "metadata": {},
     "outputs": [
      {
       "metadata": {},
       "output_type": "display_data",
       "png": "[encoded data removed]",
       "text": [
        "<matplotlib.figure.Figure at 0x109bf47d0>"
       ]
      }
     ],
     "prompt_number": 227
    },
    {
     "cell_type": "markdown",
     "metadata": {},
     "source": [
      "One advantage of this approach is that one can easily extract a posterior probability interval for each parameter, simply by extracting quantiles from the resampled values."
     ]
    },
    {
     "cell_type": "code",
     "collapsed": false,
     "input": [
      "logK_sample = theta_sir[:,0]\n",
      "logK_sample.sort()\n",
      "logK_sample[[250, 9750]]"
     ],
     "language": "python",
     "metadata": {},
     "outputs": [
      {
       "metadata": {},
       "output_type": "pyout",
       "prompt_number": 247,
       "text": [
        "array([ 6.88004039,  8.66053141])"
       ]
      }
     ],
     "prompt_number": 247
    },
    {
     "cell_type": "markdown",
     "metadata": {},
     "source": [
      "## Exercise: Sensitivity analysis\n",
      "\n",
      "Perform a Bayesian sensitivity analysis by performing SIR on the stomach cancer dataset $N$ times, with one observation (a city) removed from the dataset each time. Calculate and plot posterior medians and 95% posterior intervals for each $f(\\theta|y_{(-i)})$ to visually analyze the influence of each observation."
     ]
    },
    {
     "cell_type": "markdown",
     "metadata": {},
     "source": [
      "## References\n",
      "\n",
      "Chapter 6 of [Givens, Geof H.; Hoeting, Jennifer A. (2012-10-09). Computational Statistics (Wiley Series in Computational Statistics)](http://www.stat.colostate.edu/computationalstatistics/)\n",
      "\n",
      "Chapter 5 of [Albert, J. (2009). Bayesian computation with R.](http://www.amazon.com/Bayesian-Computation-R-Use/dp/0387922970)"
     ]
    },
    {
     "cell_type": "markdown",
     "metadata": {},
     "source": [
      "---"
     ]
    },
    {
     "cell_type": "code",
     "collapsed": false,
     "input": [
      "from IPython.core.display import HTML\n",
      "def css_styling():\n",
      "    styles = open(\"styles/custom.css\", \"r\").read()\n",
      "    return HTML(styles)\n",
      "css_styling()"
     ],
     "language": "python",
     "metadata": {},
     "outputs": [
      {
       "html": [
        "<style>\n",
        "    @font-face {\n",
        "        font-family: \"Computer Modern\";\n",
        "        src: url('http://mirrors.ctan.org/fonts/cm-unicode/fonts/otf/cmunss.otf');\n",
        "    }\n",
        "    div.cell{\n",
        "        width:800px;\n",
        "/*        margin-left:16% !important;*/\n",
        "        margin-left:auto;\n",
        "        margin-right:auto;\n",
        "    }\n",
        "    h1 {\n",
        "        font-family: Helvetica, serif;\n",
        "    }\n",
        "    h4{\n",
        "        margin-top:12px;\n",
        "        margin-bottom: 3px;\n",
        "       }\n",
        "    div.text_cell_render{\n",
        "        font-family: Computer Modern, \"Helvetica Neue\", Arial, Helvetica, Geneva, sans-serif;\n",
        "        line-height: 145%;\n",
        "        font-size: 130%;\n",
        "        width:800px;\n",
        "        margin-left:auto;\n",
        "        margin-right:auto;\n",
        "    }\n",
        "    .CodeMirror{\n",
        "            font-family: \"Source Code Pro\", source-code-pro,Consolas, monospace;\n",
        "    }\n",
        "/*    .prompt{\n",
        "        display: None;\n",
        "    }*/\n",
        "    .text_cell_render h5 {\n",
        "        font-weight: 300;\n",
        "        font-size: 16pt;\n",
        "        color: #4057A1;\n",
        "        font-style: italic;\n",
        "        margin-bottom: .5em;\n",
        "        margin-top: 0.5em;\n",
        "        display: block;\n",
        "    }\n",
        "\n",
        "    .warning{\n",
        "        color: rgb( 240, 20, 20 )\n",
        "        }\n",
        "</style>\n",
        "<script>\n",
        "    MathJax.Hub.Config({\n",
        "                        TeX: {\n",
        "                           extensions: [\"AMSmath.js\"]\n",
        "                           },\n",
        "                tex2jax: {\n",
        "                    inlineMath: [ ['$','$'], [\"\\\\(\",\"\\\\)\"] ],\n",
        "                    displayMath: [ ['$$','$$'], [\"\\\\[\",\"\\\\]\"] ]\n",
        "                },\n",
        "                displayAlign: 'center', // Change this to 'center' to center equations.\n",
        "                \"HTML-CSS\": {\n",
        "                    styles: {'.MathJax_Display': {\"margin\": 4}}\n",
        "                }\n",
        "        });\n",
        "</script>"
       ],
       "metadata": {},
       "output_type": "pyout",
       "prompt_number": 3,
       "text": [
        "<IPython.core.display.HTML at 0x10cfd6f90>"
       ]
      }
     ],
     "prompt_number": 3
    }
   ],
   "metadata": {}
  }
 ]
}