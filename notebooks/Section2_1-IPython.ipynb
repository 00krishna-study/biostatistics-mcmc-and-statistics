{
 "metadata": {
  "name": ""
 },
 "nbformat": 3,
 "nbformat_minor": 0,
 "worksheets": [
  {
   "cells": [
    {
     "cell_type": "markdown",
     "metadata": {},
     "source": [
      "# IPython\n",
      "\n",
      "**IPython** is an enhanced Python shell which provides a more robust and productive development environment for users. There are several key features that set it apart from the standard Python shell .\n",
      "\n",
      "### History\n",
      "\n",
      "In IPython, all your inputs and outputs are saved. There are two variables named `In` and `Out` which are assigned as you work with your results. All outputs are saved automatically to variables of the form `_N`, where `N` is the prompt number, and inputs to `_iN`. This allows you to recover quickly the result of a prior computation by referring to its number even if you forgot to store it as a variable. "
     ]
    },
    {
     "cell_type": "code",
     "collapsed": false,
     "input": [
      "import numpy as np\n",
      "np.sin(4)**2"
     ],
     "language": "python",
     "metadata": {},
     "outputs": [
      {
       "metadata": {},
       "output_type": "pyout",
       "prompt_number": 1,
       "text": [
        "0.57275001690430671"
       ]
      }
     ],
     "prompt_number": 1
    },
    {
     "cell_type": "code",
     "collapsed": false,
     "input": [
      "_1"
     ],
     "language": "python",
     "metadata": {},
     "outputs": [
      {
       "metadata": {},
       "output_type": "pyout",
       "prompt_number": 2,
       "text": [
        "0.57275001690430671"
       ]
      }
     ],
     "prompt_number": 2
    },
    {
     "cell_type": "code",
     "collapsed": false,
     "input": [
      "_i1"
     ],
     "language": "python",
     "metadata": {},
     "outputs": [
      {
       "metadata": {},
       "output_type": "pyout",
       "prompt_number": 3,
       "text": [
        "u'import numpy as np\\nnp.sin(4)**2'"
       ]
      }
     ],
     "prompt_number": 3
    },
    {
     "cell_type": "code",
     "collapsed": false,
     "input": [
      "_1 / 4."
     ],
     "language": "python",
     "metadata": {},
     "outputs": [
      {
       "metadata": {},
       "output_type": "pyout",
       "prompt_number": 4,
       "text": [
        "0.14318750422607668"
       ]
      }
     ],
     "prompt_number": 4
    },
    {
     "cell_type": "markdown",
     "metadata": {},
     "source": [
      "### Introspection\n",
      "\n",
      "If you want details regarding the properties and functionality of any Python objects currently loaded into IPython, you can use the `?` to reveal any details that are available:"
     ]
    },
    {
     "cell_type": "code",
     "collapsed": false,
     "input": [
      "some_dict = {}\n",
      "some_dict?"
     ],
     "language": "python",
     "metadata": {},
     "outputs": [],
     "prompt_number": 5
    },
    {
     "cell_type": "markdown",
     "metadata": {},
     "source": [
      "If available, additional detail is provided with two question marks, including the source code of the object itself."
     ]
    },
    {
     "cell_type": "code",
     "collapsed": false,
     "input": [
      "from numpy.linalg import cholesky\n",
      "cholesky??"
     ],
     "language": "python",
     "metadata": {},
     "outputs": [],
     "prompt_number": 6
    },
    {
     "cell_type": "markdown",
     "metadata": {},
     "source": [
      "This syntax can also be used to search namespaces with wildcards (\\*)."
     ]
    },
    {
     "cell_type": "code",
     "collapsed": false,
     "input": [
      "import pylab as plt\n",
      "plt.*plot*?"
     ],
     "language": "python",
     "metadata": {},
     "outputs": [],
     "prompt_number": 7
    },
    {
     "cell_type": "markdown",
     "metadata": {},
     "source": [
      "### Tab completion\n",
      "\n",
      "Because IPython allows for introspection, it is able to afford the user the ability to tab-complete commands that have been partially typed. This is done by pressing the `<tab>` key at any point during the process of typing a command:"
     ]
    },
    {
     "cell_type": "code",
     "collapsed": false,
     "input": [
      "np."
     ],
     "language": "python",
     "metadata": {},
     "outputs": []
    },
    {
     "cell_type": "markdown",
     "metadata": {},
     "source": [
      "This can even be used to help with specifying arguments to functions, which can sometimes be difficult to remember:"
     ]
    },
    {
     "cell_type": "code",
     "collapsed": false,
     "input": [
      "plt.hist("
     ],
     "language": "python",
     "metadata": {},
     "outputs": []
    },
    {
     "cell_type": "markdown",
     "metadata": {},
     "source": [
      "### System commands\n",
      "\n",
      "In IPython, you can type `ls` to see your files or `cd` to change directories, just like you would at a regular system prompt:"
     ]
    },
    {
     "cell_type": "code",
     "collapsed": false,
     "input": [
      "pwd"
     ],
     "language": "python",
     "metadata": {},
     "outputs": [
      {
       "metadata": {},
       "output_type": "pyout",
       "prompt_number": 8,
       "text": [
        "u'/Users/fonnescj/Bios366/notebooks'"
       ]
      }
     ],
     "prompt_number": 8
    },
    {
     "cell_type": "code",
     "collapsed": false,
     "input": [
      "ls ~/Python/*py"
     ],
     "language": "python",
     "metadata": {},
     "outputs": [
      {
       "output_type": "stream",
       "stream": "stdout",
       "text": [
        "/Users/fonnescj/Python/arbitrary_stochastic.py\r\n",
        "/Users/fonnescj/Python/back.py\r\n",
        "/Users/fonnescj/Python/back2.py\r\n",
        "/Users/fonnescj/Python/bern_test.py\r\n",
        "/Users/fonnescj/Python/delphine.py\r\n",
        "/Users/fonnescj/Python/gelman.py\r\n",
        "/Users/fonnescj/Python/gibbs.py\r\n",
        "/Users/fonnescj/Python/gptest.py\r\n",
        "/Users/fonnescj/Python/hdf5test.py\r\n",
        "/Users/fonnescj/Python/hierarchical.py\r\n",
        "/Users/fonnescj/Python/kde_test.py\r\n",
        "/Users/fonnescj/Python/lasso_block_update.py\r\n",
        "/Users/fonnescj/Python/latent_occupancy.py\r\n",
        "/Users/fonnescj/Python/logistic.py\r\n",
        "/Users/fonnescj/Python/monkey_patch.py\r\n",
        "/Users/fonnescj/Python/mymodel.py\r\n",
        "/Users/fonnescj/Python/pep20_by_example.py\r\n",
        "/Users/fonnescj/Python/salesman.py\r\n",
        "/Users/fonnescj/Python/test_LazyFunction.py\r\n",
        "/Users/fonnescj/Python/test_categorical.py\r\n",
        "/Users/fonnescj/Python/test_geom.py\r\n",
        "/Users/fonnescj/Python/test_normapprox.py\r\n",
        "/Users/fonnescj/Python/test_step.py\r\n",
        "/Users/fonnescj/Python/theanotest.py\r\n",
        "/Users/fonnescj/Python/weight.py\r\n"
       ]
      }
     ],
     "prompt_number": 9
    },
    {
     "cell_type": "markdown",
     "metadata": {},
     "source": [
      "Virtually any system command can be accessed by prepending `!`, which passes any subsequent command directly to the OS."
     ]
    },
    {
     "cell_type": "code",
     "collapsed": false,
     "input": [
      "!locate Bayesian | grep pdf"
     ],
     "language": "python",
     "metadata": {},
     "outputs": [
      {
       "output_type": "stream",
       "stream": "stdout",
       "text": [
        "/Users/fonnescj/Archive/Bayes Workshop/ERG Workshop/Introduction to Bayesian Statistics.oo3/Pasted Graphic.\u001b[1;32m\u001b[Kpdf\u001b[m\u001b[K\r\n",
        "/Users/fonnescj/Archive/Bayes Workshop/STAT 431/2008 Archive/MissingBayesian.beamer.\u001b[1;32m\u001b[Kpdf\u001b[m\u001b[K\r\n",
        "/Users/fonnescj/Archive/Hartmann Meta-analysis/We conducted a Bayesian meta.\u001b[1;32m\u001b[Kpdf\u001b[m\u001b[K\r\n"
       ]
      },
      {
       "output_type": "stream",
       "stream": "stdout",
       "text": [
        "/Users/fonnescj/Probabilistic-Programming-and-Bayesian-Methods-for-Hackers/Chapter1_Introduction/Chapter1_Introduction.\u001b[1;32m\u001b[Kpdf\u001b[m\u001b[K\r\n",
        "/Users/fonnescj/Probabilistic-Programming-and-Bayesian-Methods-for-Hackers/Chapter2_MorePyMC/MorePyMC.\u001b[1;32m\u001b[Kpdf\u001b[m\u001b[K\r\n",
        "/Users/fonnescj/Probabilistic-Programming-and-Bayesian-Methods-for-Hackers/Chapter3_MCMC/IntroMCMC.\u001b[1;32m\u001b[Kpdf\u001b[m\u001b[K\r\n",
        "/Users/fonnescj/Probabilistic-Programming-and-Bayesian-Methods-for-Hackers/PDF/June82013.\u001b[1;32m\u001b[Kpdf\u001b[m\u001b[K\r\n"
       ]
      }
     ],
     "prompt_number": 10
    },
    {
     "cell_type": "markdown",
     "metadata": {},
     "source": [
      "You can even use Python variables in commands sent to the OS:"
     ]
    },
    {
     "cell_type": "code",
     "collapsed": false,
     "input": [
      "file_type = 'csv'\n",
      "!ls ../data/*$file_type"
     ],
     "language": "python",
     "metadata": {},
     "outputs": [
      {
       "output_type": "stream",
       "stream": "stdout",
       "text": [
        "../data/baseball.csv           ../data/microbiome_missing.csv\r\n",
        "../data/cdystonia.csv          ../data/vlbw.csv\r\n",
        "../data/microbiome.csv\r\n"
       ]
      }
     ],
     "prompt_number": 11
    },
    {
     "cell_type": "markdown",
     "metadata": {},
     "source": [
      "The output of a system command using the exclamation point syntax can be assigned to a Python variable."
     ]
    },
    {
     "cell_type": "code",
     "collapsed": false,
     "input": [
      "data_files = !ls ../data/microbiome/"
     ],
     "language": "python",
     "metadata": {},
     "outputs": [],
     "prompt_number": 12
    },
    {
     "cell_type": "code",
     "collapsed": false,
     "input": [
      "data_files"
     ],
     "language": "python",
     "metadata": {},
     "outputs": [
      {
       "metadata": {},
       "output_type": "pyout",
       "prompt_number": 13,
       "text": [
        "['MID1.xls',\n",
        " 'MID2.xls',\n",
        " 'MID3.xls',\n",
        " 'MID4.xls',\n",
        " 'MID5.xls',\n",
        " 'MID6.xls',\n",
        " 'MID7.xls',\n",
        " 'MID8.xls',\n",
        " 'MID9.xls',\n",
        " 'metadata.xls']"
       ]
      }
     ],
     "prompt_number": 13
    },
    {
     "cell_type": "markdown",
     "metadata": {},
     "source": [
      "## Qt Console\n",
      "\n",
      "If you type at the system prompt:\n",
      "\n",
      "    $ ipython qtconsole\n",
      "\n",
      "instead of opening in a terminal, IPython will start a graphical console that at first sight appears just like a terminal, but which is in fact much more capable than a text-only terminal.  This is a specialized terminal designed for interactive scientific work, and it supports full multi-line editing with color highlighting and graphical calltips for functions, it can keep multiple IPython sessions open simultaneously in tabs, and when scripts run it can display the figures inline directly in the work area.\n",
      "\n",
      "![qtconsole](files/images/qtconsole.png)"
     ]
    },
    {
     "cell_type": "markdown",
     "metadata": {},
     "source": [
      "# iPython Notebook\n",
      "\n",
      "IPython includes the *HTML notebook* featured here, as well as support for **interactive data visualization** and easy high-performance **parallel computing**.\n"
     ]
    },
    {
     "cell_type": "code",
     "collapsed": false,
     "input": [
      "def f(x):\n",
      "    return (x-3)*(x-5)*(x-7)+85\n",
      "\n",
      "import numpy as np\n",
      "x = np.linspace(0, 10, 200)\n",
      "y = f(x)\n",
      "plot(x,y)"
     ],
     "language": "python",
     "metadata": {},
     "outputs": [
      {
       "metadata": {},
       "output_type": "pyout",
       "prompt_number": 14,
       "text": [
        "[<matplotlib.lines.Line2D at 0x1134b9990>]"
       ]
      },
      {
       "metadata": {},
       "output_type": "display_data",
       "png": "[encoded data removed]",
       "text": [
        "<matplotlib.figure.Figure at 0x113072ed0>"
       ]
      }
     ],
     "prompt_number": 14
    },
    {
     "cell_type": "markdown",
     "metadata": {},
     "source": [
      "The notebook lets you document your workflow using either HTML or Markdown.\n",
      "\n",
      "The IPython Notebook consists of two related components:\n",
      "\n",
      "* A JSON based Notebook document format for recording and distributing Python code and rich text.\n",
      "* A web-based user interface for authoring and running notebook documents.\n",
      "\n",
      "The Notebook can be used by starting the Notebook server with the command:\n",
      "\n",
      "    $ ipython notebook\n",
      "    \n",
      "This initiates an **iPython engine**, which is a Python instance that takes Python commands over a network connection. If we want to enable inline plotting of figures via Matplotlib, we can add a `--pylab inline` flag to the command.\n",
      "\n",
      "The **IPython controller** provides an interface for working with a set of engines, to which one or more **iPython clients** can connect.\n",
      "\n",
      "The Notebook gives you everything that a browser gives you. For example, you can embed images, videos, or entire websites."
     ]
    },
    {
     "cell_type": "code",
     "collapsed": false,
     "input": [
      "from IPython.display import HTML\n",
      "HTML(\"<iframe src=http://fonnesbeck.github.io/Bios366 width=700 height=350></iframe>\")"
     ],
     "language": "python",
     "metadata": {},
     "outputs": [
      {
       "html": [
        "<iframe src=http://fonnesbeck.github.io/Bios366 width=700 height=350></iframe>"
       ],
       "metadata": {},
       "output_type": "pyout",
       "prompt_number": 15,
       "text": [
        "<IPython.core.display.HTML at 0x1134a8a50>"
       ]
      }
     ],
     "prompt_number": 15
    },
    {
     "cell_type": "code",
     "collapsed": false,
     "input": [
      "from IPython.display import YouTubeVideo\n",
      "YouTubeVideo(\"2G5YTlheCbw\")"
     ],
     "language": "python",
     "metadata": {
      "slideshow": {
       "slide_type": "slide"
      }
     },
     "outputs": [
      {
       "html": [
        "\n",
        "        <iframe\n",
        "            width=\"400\"\n",
        "            height=300\"\n",
        "            src=\"http://www.youtube.com/embed/2G5YTlheCbw\"\n",
        "            frameborder=\"0\"\n",
        "            allowfullscreen\n",
        "        ></iframe>\n",
        "        "
       ],
       "metadata": {},
       "output_type": "pyout",
       "prompt_number": 16,
       "text": [
        "<IPython.lib.display.YouTubeVideo at 0x1134a8850>"
       ]
      }
     ],
     "prompt_number": 16
    },
    {
     "cell_type": "markdown",
     "metadata": {},
     "source": [
      "### Remote Code\n",
      "\n",
      "Use `%load` to add remote code"
     ]
    },
    {
     "cell_type": "code",
     "collapsed": false,
     "input": [
      "%load http://matplotlib.org/mpl_examples/shapes_and_collections/scatter_demo.py"
     ],
     "language": "python",
     "metadata": {},
     "outputs": [],
     "prompt_number": 17
    },
    {
     "cell_type": "code",
     "collapsed": false,
     "input": [
      "\"\"\"\n",
      "Simple demo of a scatter plot.\n",
      "\"\"\"\n",
      "import numpy as np\n",
      "import matplotlib.pyplot as plt\n",
      "\n",
      "\n",
      "N = 50\n",
      "x = np.random.rand(N)\n",
      "y = np.random.rand(N)\n",
      "area = np.pi * (15 * np.random.rand(N))**2 # 0 to 15 point radiuses\n",
      "\n",
      "plt.scatter(x, y, s=area, alpha=0.5)\n",
      "plt.show()\n"
     ],
     "language": "python",
     "metadata": {},
     "outputs": [
      {
       "metadata": {},
       "output_type": "display_data",
       "png": "[encoded data removed]",
       "text": [
        "<matplotlib.figure.Figure at 0x1134a3390>"
       ]
      }
     ],
     "prompt_number": 18
    },
    {
     "cell_type": "markdown",
     "metadata": {},
     "source": [
      "### Mathjax Support\n",
      "\n",
      "Mathjax ia a javascript implementation of LaTeX that allows equations to be embedded into HTML. For example, this markup:\n",
      "\n",
      "    \"\"\"$$ \\int_{a}^{b} f(x)\\, dx \\approx \\frac{1}{2} \\sum_{k=1}^{N} \\left( x_{k} - x_{k-1} \\right) \\left( f(x_{k}) + f(x_{k-1}) \\right). $$\"\"\"\n",
      "    \n",
      "becomes this:\n",
      "\n",
      "$$\n",
      "\\int_{a}^{b} f(x)\\, dx \\approx \\frac{1}{2} \\sum_{k=1}^{N} \\left( x_{k} - x_{k-1} \\right) \\left( f(x_{k}) + f(x_{k-1}) \\right).\n",
      "$$"
     ]
    },
    {
     "cell_type": "markdown",
     "metadata": {},
     "source": [
      "## SymPy Support\n",
      "\n",
      "SymPy is a Python library for symbolic mathematics. It supports:\n",
      "\n",
      "* polynomials\n",
      "* calculus\n",
      "* solving equations\n",
      "* discrete math\n",
      "* matrices"
     ]
    },
    {
     "cell_type": "code",
     "collapsed": false,
     "input": [
      "from sympy import *\n",
      "%load_ext sympyprinting\n",
      "x, y = symbols(\"x y\")"
     ],
     "language": "python",
     "metadata": {},
     "outputs": [],
     "prompt_number": 19
    },
    {
     "cell_type": "code",
     "collapsed": false,
     "input": [
      "eq = ((x+y)**2 * (x+1))\n",
      "eq"
     ],
     "language": "python",
     "metadata": {},
     "outputs": [
      {
       "metadata": {},
       "output_type": "pyout",
       "png": "[encoded data removed]",
       "prompt_number": 20,
       "text": [
        "\n",
        "               2\n",
        "(x + 1)\u22c5(x + y) "
       ]
      }
     ],
     "prompt_number": 20
    },
    {
     "cell_type": "code",
     "collapsed": false,
     "input": [
      "expand(eq)"
     ],
     "language": "python",
     "metadata": {},
     "outputs": [
      {
       "metadata": {},
       "output_type": "pyout",
       "png": "[encoded data removed]",
       "prompt_number": 21,
       "text": [
        "\n",
        " 3      2      2      2            2\n",
        "x  + 2\u22c5x \u22c5y + x  + x\u22c5y  + 2\u22c5x\u22c5y + y "
       ]
      }
     ],
     "prompt_number": 21
    },
    {
     "cell_type": "code",
     "collapsed": false,
     "input": [
      "(1/cos(x)).series(x, 0, 6)"
     ],
     "language": "python",
     "metadata": {},
     "outputs": [
      {
       "metadata": {},
       "output_type": "pyout",
       "png": "[encoded data removed]",
       "prompt_number": 22,
       "text": [
        "\n",
        "     2      4        \n",
        "    x    5\u22c5x     \u239b 6\u239e\n",
        "1 + \u2500\u2500 + \u2500\u2500\u2500\u2500 + O\u239dx \u23a0\n",
        "    2     24         "
       ]
      }
     ],
     "prompt_number": 22
    },
    {
     "cell_type": "code",
     "collapsed": false,
     "input": [
      "limit((sin(x)-x)/x**3, x, 0)"
     ],
     "language": "python",
     "metadata": {},
     "outputs": [
      {
       "metadata": {},
       "output_type": "pyout",
       "png": "[encoded data removed]",
       "prompt_number": 23,
       "text": [
        "-1/6"
       ]
      }
     ],
     "prompt_number": 23
    },
    {
     "cell_type": "code",
     "collapsed": false,
     "input": [
      "diff(cos(x**2)**2 / (1+x), x)"
     ],
     "language": "python",
     "metadata": {},
     "outputs": [
      {
       "metadata": {},
       "output_type": "pyout",
       "png": "[encoded data removed]",
       "prompt_number": 24,
       "text": [
        "\n",
        "                           2    \n",
        "         \u239b 2\u239e    \u239b 2\u239e       \u239b 2\u239e\n",
        "  4\u22c5x\u22c5sin\u239dx \u23a0\u22c5cos\u239dx \u23a0   cos \u239dx \u23a0\n",
        "- \u2500\u2500\u2500\u2500\u2500\u2500\u2500\u2500\u2500\u2500\u2500\u2500\u2500\u2500\u2500\u2500\u2500\u2500\u2500 - \u2500\u2500\u2500\u2500\u2500\u2500\u2500\u2500\n",
        "         x + 1                 2\n",
        "                        (x + 1) "
       ]
      }
     ],
     "prompt_number": 24
    },
    {
     "cell_type": "markdown",
     "metadata": {},
     "source": [
      "### Magic functions\n",
      "\n",
      "IPython has a set of predefined \u2018magic functions\u2019 that you can call with a command line style syntax. These include:\n",
      "\n",
      "* `%run`\n",
      "* `%edit`\n",
      "* `%debug`\n",
      "* `%timeit`\n",
      "* `%paste`\n",
      "* `%load_ext`\n",
      "\n"
     ]
    },
    {
     "cell_type": "code",
     "collapsed": false,
     "input": [
      "%lsmagic"
     ],
     "language": "python",
     "metadata": {},
     "outputs": [
      {
       "json": [
        "{\"cell\": {\"prun\": \"ExecutionMagics\", \"file\": \"Other\", \"!\": \"OSMagics\", \"capture\": \"ExecutionMagics\", \"timeit\": \"ExecutionMagics\", \"script\": \"ScriptMagics\", \"ruby\": \"Other\", \"system\": \"OSMagics\", \"perl\": \"Other\", \"HTML\": \"Other\", \"bash\": \"Other\", \"python\": \"Other\", \"SVG\": \"Other\", \"javascript\": \"DisplayMagics\", \"writefile\": \"OSMagics\", \"pypy\": \"Other\", \"python3\": \"Other\", \"latex\": \"DisplayMagics\", \"sx\": \"OSMagics\", \"svg\": \"DisplayMagics\", \"html\": \"DisplayMagics\", \"sh\": \"Other\", \"time\": \"ExecutionMagics\", \"debug\": \"ExecutionMagics\"}, \"line\": {\"load\": \"CodeMagics\", \"psource\": \"NamespaceMagics\", \"lsmagic\": \"BasicMagics\", \"logstate\": \"LoggingMagics\", \"logstart\": \"LoggingMagics\", \"popd\": \"OSMagics\", \"ed\": \"Other\", \"pycat\": \"OSMagics\", \"loadpy\": \"CodeMagics\", \"install_ext\": \"ExtensionMagics\", \"cd\": \"OSMagics\", \"pastebin\": \"CodeMagics\", \"clear\": \"KernelMagics\", \"colors\": \"BasicMagics\", \"prun\": \"ExecutionMagics\", \"pushd\": \"OSMagics\", \"rep\": \"Other\", \"config\": \"ConfigMagics\", \"dirs\": \"OSMagics\", \"time\": \"ExecutionMagics\", \"who_ls\": \"NamespaceMagics\", \"install_profiles\": \"DeprecatedMagics\", \"macro\": \"ExecutionMagics\", \"autocall\": \"AutoMagics\", \"alias\": \"OSMagics\", \"bookmark\": \"OSMagics\", \"connect_info\": \"KernelMagics\", \"rehashx\": \"OSMagics\", \"pprint\": \"BasicMagics\", \"system\": \"OSMagics\", \"whos\": \"NamespaceMagics\", \"hist\": \"Other\", \"install_default_config\": \"DeprecatedMagics\", \"logoff\": \"LoggingMagics\", \"env\": \"OSMagics\", \"qtconsole\": \"KernelMagics\", \"load_ext\": \"ExtensionMagics\", \"save\": \"CodeMagics\", \"tb\": \"ExecutionMagics\", \"store\": \"StoreMagics\", \"more\": \"KernelMagics\", \"profile\": \"BasicMagics\", \"doctest_mode\": \"KernelMagics\", \"pylab\": \"PylabMagics\", \"run\": \"ExecutionMagics\", \"reset_selective\": \"NamespaceMagics\", \"pfile\": \"NamespaceMagics\", \"pinfo2\": \"NamespaceMagics\", \"pdef\": \"NamespaceMagics\", \"killbgscripts\": \"ScriptMagics\", \"who\": \"NamespaceMagics\", \"precision\": \"BasicMagics\", \"matplotlib\": \"PylabMagics\", \"quickref\": \"BasicMagics\", \"pinfo\": \"NamespaceMagics\", \"pwd\": \"OSMagics\", \"psearch\": \"NamespaceMagics\", \"autosave\": \"KernelMagics\", \"less\": \"KernelMagics\", \"sc\": \"OSMagics\", \"automagic\": \"AutoMagics\", \"reset\": \"NamespaceMagics\", \"sx\": \"OSMagics\", \"magic\": \"BasicMagics\", \"dhist\": \"OSMagics\", \"timeit\": \"ExecutionMagics\", \"edit\": \"KernelMagics\", \"logstop\": \"LoggingMagics\", \"gui\": \"BasicMagics\", \"xdel\": \"NamespaceMagics\", \"xmode\": \"BasicMagics\", \"notebook\": \"BasicMagics\", \"pdb\": \"ExecutionMagics\", \"recall\": \"HistoryMagics\", \"unalias\": \"OSMagics\", \"unload_ext\": \"ExtensionMagics\", \"alias_magic\": \"BasicMagics\", \"reload_ext\": \"ExtensionMagics\", \"man\": \"KernelMagics\", \"rerun\": \"HistoryMagics\", \"debug\": \"ExecutionMagics\", \"logon\": \"LoggingMagics\", \"page\": \"BasicMagics\", \"pdoc\": \"NamespaceMagics\", \"history\": \"HistoryMagics\"}}"
       ],
       "metadata": {},
       "output_type": "pyout",
       "prompt_number": 25,
       "text": [
        "Available line magics:\n",
        "%alias  %alias_magic  %autocall  %automagic  %autosave  %bookmark  %cd  %clear  %colors  %config  %connect_info  %debug  %dhist  %dirs  %doctest_mode  %ed  %edit  %env  %gui  %hist  %history  %install_default_config  %install_ext  %install_profiles  %killbgscripts  %less  %load  %load_ext  %loadpy  %logoff  %logon  %logstart  %logstate  %logstop  %lsmagic  %macro  %magic  %man  %matplotlib  %more  %notebook  %page  %pastebin  %pdb  %pdef  %pdoc  %pfile  %pinfo  %pinfo2  %popd  %pprint  %precision  %profile  %prun  %psearch  %psource  %pushd  %pwd  %pycat  %pylab  %qtconsole  %quickref  %recall  %rehashx  %reload_ext  %rep  %rerun  %reset  %reset_selective  %run  %save  %sc  %store  %sx  %system  %tb  %time  %timeit  %unalias  %unload_ext  %who  %who_ls  %whos  %xdel  %xmode\n",
        "\n",
        "Available cell magics:\n",
        "%%!  %%HTML  %%SVG  %%bash  %%capture  %%debug  %%file  %%html  %%javascript  %%latex  %%perl  %%prun  %%pypy  %%python  %%python3  %%ruby  %%script  %%sh  %%svg  %%sx  %%system  %%time  %%timeit  %%writefile\n",
        "\n",
        "Automagic is ON, % prefix IS NOT needed for line magics."
       ]
      }
     ],
     "prompt_number": 25
    },
    {
     "cell_type": "markdown",
     "metadata": {},
     "source": [
      "Timing the execution of code; the `timeit` magic exists both in line and cell form:"
     ]
    },
    {
     "cell_type": "code",
     "collapsed": false,
     "input": [
      "%timeit np.linalg.eigvals(np.random.rand(100,100))"
     ],
     "language": "python",
     "metadata": {},
     "outputs": [
      {
       "output_type": "stream",
       "stream": "stdout",
       "text": [
        "100 loops, best of 3: 8.99 ms per loop\n"
       ]
      }
     ],
     "prompt_number": 26
    },
    {
     "cell_type": "code",
     "collapsed": false,
     "input": [
      "%%timeit a = np.random.rand(100, 100)\n",
      "np.linalg.eigvals(a)"
     ],
     "language": "python",
     "metadata": {},
     "outputs": [
      {
       "output_type": "stream",
       "stream": "stdout",
       "text": [
        "100 loops, best of 3: 8.6 ms per loop\n"
       ]
      }
     ],
     "prompt_number": 27
    },
    {
     "cell_type": "markdown",
     "metadata": {},
     "source": [
      "IPython also creates aliases for a few common interpreters, such as bash, ruby, perl, etc.\n",
      "\n",
      "These are all equivalent to `%%script <name>`"
     ]
    },
    {
     "cell_type": "code",
     "collapsed": false,
     "input": [
      "%%ruby\n",
      "puts \"Hello from Ruby #{RUBY_VERSION}\""
     ],
     "language": "python",
     "metadata": {},
     "outputs": [
      {
       "output_type": "stream",
       "stream": "stdout",
       "text": [
        "Hello from Ruby 1.8.7\n"
       ]
      }
     ],
     "prompt_number": 28
    },
    {
     "cell_type": "code",
     "collapsed": false,
     "input": [
      "%%bash\n",
      "echo \"hello from $BASH\""
     ],
     "language": "python",
     "metadata": {},
     "outputs": [
      {
       "output_type": "stream",
       "stream": "stdout",
       "text": [
        "hello from /bin/bash\n"
       ]
      }
     ],
     "prompt_number": 29
    },
    {
     "cell_type": "markdown",
     "metadata": {},
     "source": [
      "IPython has an `rmagic` extension that contains a some magic functions for working with R via rpy2. This extension can be loaded using the `%load_ext` magic as follows:"
     ]
    },
    {
     "cell_type": "code",
     "collapsed": false,
     "input": [
      "%load_ext rmagic"
     ],
     "language": "python",
     "metadata": {},
     "outputs": [],
     "prompt_number": 30
    },
    {
     "cell_type": "code",
     "collapsed": false,
     "input": [
      "x,y = np.arange(10), np.random.normal(size=10)\n",
      "%R print(lm(rnorm(10)~rnorm(10)))"
     ],
     "language": "python",
     "metadata": {},
     "outputs": [
      {
       "metadata": {},
       "output_type": "display_data",
       "text": [
        "\n",
        "Call:\n",
        "lm(formula = rnorm(10) ~ rnorm(10))\n",
        "\n",
        "Coefficients:\n",
        "(Intercept)  \n",
        "     0.3662  \n",
        "\n"
       ]
      }
     ],
     "prompt_number": 31
    },
    {
     "cell_type": "code",
     "collapsed": false,
     "input": [
      "%%R -i x,y -o XYcoef\n",
      "lm.fit <- lm(y~x)\n",
      "par(mfrow=c(2,2))\n",
      "print(summary(lm.fit))\n",
      "plot(lm.fit)\n",
      "XYcoef <- coef(lm.fit)"
     ],
     "language": "python",
     "metadata": {},
     "outputs": [
      {
       "metadata": {},
       "output_type": "display_data",
       "text": [
        "\n",
        "Call:\n",
        "lm(formula = y ~ x)\n",
        "\n",
        "Residuals:\n",
        "    Min      1Q  Median      3Q     Max \n",
        "-1.2943 -0.7126 -0.3345  0.8256  1.6900 \n",
        "\n",
        "Coefficients:\n",
        "            Estimate Std. Error t value Pr(>|t|)\n",
        "(Intercept) -0.09031    0.67563  -0.134    0.897\n",
        "x            0.01374    0.12656   0.109    0.916\n",
        "\n",
        "Residual standard error: 1.15 on 8 degrees of freedom\n",
        "Multiple R-squared:  0.001471,\tAdjusted R-squared:  -0.1233 \n",
        "F-statistic: 0.01178 on 1 and 8 DF,  p-value: 0.9162\n",
        "\n"
       ]
      },
      {
       "metadata": {},
       "output_type": "display_data",
       "png": "[encoded data removed]"
      }
     ],
     "prompt_number": 32
    },
    {
     "cell_type": "code",
     "collapsed": false,
     "input": [
      "XYcoef"
     ],
     "language": "python",
     "metadata": {},
     "outputs": [
      {
       "metadata": {},
       "output_type": "pyout",
       "prompt_number": 33,
       "text": [
        "[-0.09030932  0.01373777]"
       ]
      }
     ],
     "prompt_number": 33
    },
    {
     "cell_type": "markdown",
     "metadata": {},
     "source": [
      "## Exporting and Converting Notebooks\n",
      "\n",
      "In IPython 1.0, one can convert an `.ipynb` notebook document file into various static formats via the `nbconvert` tool. Currently, nbconvert is a command line tool, run as a script using IPython."
     ]
    },
    {
     "cell_type": "code",
     "collapsed": false,
     "input": [
      "%load Section2_1-IPython.tex"
     ],
     "language": "python",
     "metadata": {},
     "outputs": [],
     "prompt_number": 1
    },
    {
     "cell_type": "code",
     "collapsed": false,
     "input": [
      "!ipython nbconvert --to html Section2_1-IPython.ipynb"
     ],
     "language": "python",
     "metadata": {},
     "outputs": [
      {
       "output_type": "stream",
       "stream": "stdout",
       "text": [
        "[NbConvertApp] Using existing profile dir: u'/Users/fonnescj/.ipython/profile_default'\r\n"
       ]
      },
      {
       "output_type": "stream",
       "stream": "stdout",
       "text": [
        "[NbConvertApp] Converting notebook Section2_1-IPython.ipynb to html\r\n",
        "[NbConvertApp] Support files will be in Section2_1-IPython_files/\r\n",
        "[NbConvertApp] Loaded template html_full.tpl\r\n"
       ]
      },
      {
       "output_type": "stream",
       "stream": "stdout",
       "text": [
        "[NbConvertApp] Writing 248537 bytes to Section2_1-IPython.html\r\n"
       ]
      }
     ],
     "prompt_number": 35
    },
    {
     "cell_type": "markdown",
     "metadata": {},
     "source": [
      "Currently, `nbconvert` supports HTML (default), LaTeX, Markdown, reStructuredText, Python and HTML5 slides for presentations. Some types can be post-processed, such as LaTeX to PDF (this requires [Pandoc](http://johnmacfarlane.net/pandoc/) to be installed, however)."
     ]
    },
    {
     "cell_type": "code",
     "collapsed": false,
     "input": [
      "!ipython nbconvert --to latex --post PDF Section2_1-IPython.ipynb"
     ],
     "language": "python",
     "metadata": {},
     "outputs": [
      {
       "output_type": "stream",
       "stream": "stdout",
       "text": [
        "[NbConvertApp] Using existing profile dir: u'/Users/fonnescj/.ipython/profile_default'\r\n"
       ]
      },
      {
       "output_type": "stream",
       "stream": "stdout",
       "text": [
        "[NbConvertApp] Converting notebook Section2_1-IPython.ipynb to latex\r\n",
        "[NbConvertApp] Support files will be in Section2_1-IPython_files/\r\n"
       ]
      },
      {
       "output_type": "stream",
       "stream": "stdout",
       "text": [
        "[NbConvertApp] Loaded template latex_article.tplx\r\n"
       ]
      },
      {
       "output_type": "stream",
       "stream": "stdout",
       "text": [
        "[NbConvertApp] Writing 84972 bytes to Section2_1-IPython.tex\r\n",
        "[NbConvertApp] Building PDF: `pdflatex Section2_1-IPython.tex`\r\n"
       ]
      },
      {
       "output_type": "stream",
       "stream": "stdout",
       "text": [
        "This is pdfTeX, Version 3.1415926-2.3-1.40.12 (TeX Live 2011)\r\n",
        " restricted \\write18 enabled.\r\n",
        "entering extended mode\r\n",
        "(./Section2_1-IPython.tex\r\n",
        "LaTeX2e <2009/09/24>\r\n",
        "Babel <v3.8l> and hyphenation patterns for english, dumylang, nohyphenation, ge\r\n",
        "rman-x-2009-06-19, ngerman-x-2009-06-19, afrikaans, ancientgreek, ibycus, arabi\r\n",
        "c, armenian, basque, bulgarian, catalan, pinyin, coptic, croatian, czech, danis\r\n",
        "h, dutch, ukenglish, usenglishmax, esperanto, estonian, ethiopic, farsi, finnis\r\n",
        "h, french, galician, german, ngerman, swissgerman, monogreek, greek, hungarian,\r\n",
        " icelandic, assamese, bengali, gujarati, hindi, kannada, malayalam, marathi, or\r\n",
        "iya, panjabi, tamil, telugu, indonesian, interlingua, irish, italian, kurmanji,\r\n",
        " lao, latin, latvian, lithuanian, mongolian, mongolianlmc, bokmal, nynorsk, pol\r\n",
        "ish, portuguese, romanian, russian, sanskrit, serbian, serbianc, slovak, sloven\r\n",
        "ian, spanish, swedish, turkish, turkmen, ukrainian, uppersorbian, welsh, loaded\r\n",
        ".\r\n",
        "(/Library/Python/2.7/site-packages/sphinx/texinputs/sphinxhowto.cls\r\n",
        "\r\n",
        "LaTeX Warning: You have requested document class `/Library/Python/2.7/site-pack\r\n",
        "ages/sphinx/texinputs/sphinxhowto',\r\n",
        "               but the document class provides `sphinxhowto'.\r\n",
        "\r\n",
        "Document Class: sphinxhowto 2009/06/02 Document class (Sphinx HOWTO)\r\n",
        "(/usr/local/texlive/2011/texmf-dist/tex/latex/base/article.cls\r\n",
        "Document Class: article 2007/10/19 v1.4h Standard LaTeX document class\r\n",
        "(/usr/local/texlive/2011/texmf-dist/tex/latex/base/size10.clo)))\r\n",
        "(/usr/local/texlive/2011/texmf-dist/tex/latex/base/inputenc.sty\r\n",
        "(/usr/local/texlive/2011/texmf-dist/tex/latex/base/utf8.def\r\n",
        "(/usr/local/texlive/2011/texmf-dist/tex/latex/base/t1enc.dfu)\r\n",
        "(/usr/local/texlive/2011/texmf-dist/tex/latex/base/ot1enc.dfu)\r\n",
        "(/usr/local/texlive/2011/texmf-dist/tex/latex/base/omsenc.dfu)))\r\n",
        "(/usr/local/texlive/2011/texmf-dist/tex/latex/base/fontenc.sty\r\n",
        "(/usr/local/texlive/2011/texmf-dist/tex/latex/base/t1enc.def))\r\n",
        "(/usr/local/texlive/2011/texmf-dist/tex/generic/babel/babel.sty\r\n",
        "(/usr/local/texlive/2011/texmf-dist/tex/generic/babel/english.ldf\r\n",
        "(/usr/local/texlive/2011/texmf-dist/tex/generic/babel/babel.def)"
       ]
      },
      {
       "output_type": "stream",
       "stream": "stdout",
       "text": [
        "))\r\n",
        "(/usr/local/texlive/2011/texmf-dist/tex/latex/psnfss/times.sty)\r\n",
        "(/usr/local/texlive/2011/texmf-dist/tex/latex/import/import.sty)\r\n",
        "(/Library/Python/2.7/site-packages/sphinx/texinputs/fncychap.sty\r\n",
        "\r\n",
        "LaTeX Warning: You have requested package `/Library/Python/2.7/site-packages/sp\r\n",
        "hinx/texinputs/fncychap',\r\n",
        "               but the package provides `fncychap'.\r\n",
        "\r\n",
        ") (/usr/local/texlive/2011/texmf-dist/tex/latex/tools/longtable.sty)\r\n",
        "(/Library/Python/2.7/site-packages/sphinx/texinputs/sphinx.sty\r\n",
        "\r\n",
        "LaTeX Warning: You have requested package `/Library/Python/2.7/site-packages/sp\r\n",
        "hinx/texinputs/sphinx',\r\n",
        "               but the package provides `sphinx'.\r\n",
        "\r\n",
        "(/usr/local/texlive/2011/texmf-dist/tex/latex/base/textcomp.sty\r\n",
        "(/usr/local/texlive/2011/texmf-dist/tex/latex/base/ts1enc.def\r\n",
        "(/usr/local/texlive/2011/texmf-dist/tex/latex/base/ts1enc.dfu)))\r\n",
        "(/usr/local/texlive/2011/texmf-dist/tex/latex/fancyhdr/fancyhdr.sty)\r\n",
        "(/usr/local/texlive/2011/texmf-dist/tex/latex/fancybox/fancybox.sty\r\n",
        "Style option: `fancybox' v1.4 <2010/05/15> (tvz)\r\n",
        ") (/usr/local/texlive/2011/texmf-dist/tex/latex/titlesec/titlesec.sty)\r\n",
        "(/usr/local/texlive/2011/texmf-dist/tex/latex/tabulary/tabulary.sty\r\n",
        "(/usr/local/texlive/2011/texmf-dist/tex/latex/tools/array.sty))\r\n",
        "(/usr/local/texlive/2011/texmf-dist/tex/latex/amsmath/amsmath.sty\r\n",
        "For additional information on amsmath, use the `?' option.\r\n",
        "(/usr/local/texlive/2011/texmf-dist/tex/latex/amsmath/amstext.sty\r\n",
        "(/usr/local/texlive/2011/texmf-dist/tex/latex/amsmath/amsgen.sty))\r\n",
        "(/usr/local/texlive/2011/texmf-dist/tex/latex/amsmath/amsbsy.sty)\r\n",
        "(/usr/local/texlive/2011/texmf-dist/tex/latex/amsmath/amsopn.sty))\r\n",
        "(/usr/local/texlive/2011/texmf-dist/tex/latex/base/makeidx.sty)\r\n",
        "(/usr/local/texlive/2011/texmf-dist/tex/latex/framed/framed.sty)\r\n",
        "(/usr/local/texlive/2011/texmf-dist/tex/latex/base/ifthen.sty)\r\n",
        "(/usr/local/texlive/2011/texmf-dist/tex/latex/graphics/color.sty\r\n",
        "(/usr/local/texlive/2011/texmf-dist/tex/latex/latexconfig/color.cfg)\r\n",
        "(/usr/local/texlive/2011/texmf-dist/tex/latex/pdftex-def/pdftex.def\r\n",
        "(/usr/local/texlive/2011/texmf-dist/tex/generic/oberdiek/infwarerr.sty)\r\n",
        "(/usr/local/texlive/2011/texmf-dist/tex/generic/oberdiek/ltxcmds.sty)))\r\n",
        "(/usr/local/texlive/2011/texmf-dist/tex/latex/fancyvrb/fancyvrb.sty\r\n",
        "Style option: `fancyvrb' v2.7a, with DG/SPQR fixes, and firstline=lastline fix \r\n",
        "<2008/02/07> (tvz)\r\n",
        "(/usr/local/texlive/2011/texmf-dist/tex/latex/graphics/keyval.sty))\r\n",
        "(/usr/local/texlive/2011/texmf-dist/tex/latex/threeparttable/threeparttable.sty\r\n",
        ") (/usr/local/texlive/2011/texmf-dist/tex/latex/mdwtools/footnote.sty)\r\n",
        "(/usr/local/texlive/2011/texmf-dist/tex/latex/wrapfig/wrapfig.sty)\r\n",
        "(/usr/local/texlive/2011/texmf-dist/tex/latex/parskip/parskip.sty)\r\n",
        "(/usr/local/texlive/2011/texmf-dist/tex/latex/graphics/graphicx.sty\r\n",
        "(/usr/local/texlive/2011/texmf-dist/tex/latex/graphics/graphics.sty\r\n",
        "(/usr/local/texlive/2011/texmf-dist/tex/latex/graphics/trig.sty)\r\n",
        "(/usr/local/texlive/2011/texmf-dist/tex/latex/latexconfig/graphics.cfg)))\r\n",
        "(/usr/local/texlive/2011/texmf-dist/tex/plain/misc/pdfcolor.tex)\r\n",
        "(/usr/local/texlive/2011/texmf-dist/tex/latex/hyperref/hyperref.sty"
       ]
      },
      {
       "output_type": "stream",
       "stream": "stdout",
       "text": [
        "\r\n",
        "(/usr/local/texlive/2011/texmf-dist/tex/generic/oberdiek/hobsub-hyperref.sty\r\n",
        "(/usr/local/texlive/2011/texmf-dist/tex/generic/oberdiek/hobsub-generic.sty))\r\n",
        "(/usr/local/texlive/2011/texmf-dist/tex/generic/ifxetex/ifxetex.sty)\r\n",
        "(/usr/local/texlive/2011/texmf-dist/tex/latex/oberdiek/kvoptions.sty)\r\n",
        "(/usr/local/texlive/2011/texmf-dist/tex/latex/hyperref/pd1enc.def)\r\n",
        "(/usr/local/texlive/2011/texmf-dist/tex/latex/latexconfig/hyperref.cfg)\r\n",
        "(/usr/local/texlive/2011/texmf-dist/tex/latex/url/url.sty))\r\n",
        "\r\n",
        "Package hyperref Message: Driver (autodetected): hpdftex.\r\n",
        "\r\n",
        "(/usr/local/texlive/2011/texmf-dist/tex/latex/hyperref/hpdftex.def\r\n",
        "(/usr/local/texlive/2011/texmf-dist/tex/latex/oberdiek/rerunfilecheck.sty))\r\n",
        "(/usr/local/texlive/2011/texmf-dist/tex/latex/oberdiek/hypcap.sty))\r\n",
        "(/usr/local/texlive/2011/texmf-dist/tex/latex/multirow/multirow.sty)\r\n",
        "(/usr/local/texlive/2011/texmf-dist/tex/latex/amsfonts/amssymb.sty\r\n",
        "(/usr/local/texlive/2011/texmf-dist/tex/latex/amsfonts/amsfonts.sty))\r\n",
        "(/usr/local/texlive/2011/texmf-dist/tex/latex/ucs/ucs.sty\r\n",
        "(/usr/local/texlive/2011/texmf-dist/tex/latex/ucs/data/uni-global.def))\r\n",
        "(/usr/local/texlive/2011/texmf-dist/tex/latex/tools/enumerate.sty)"
       ]
      },
      {
       "output_type": "stream",
       "stream": "stdout",
       "text": [
        "\r\n",
        "(/usr/local/texlive/2011/texmf-dist/tex/latex/needspace/needspace.sty)\r\n",
        "(/usr/local/texlive/2011/texmf-dist/tex/latex/pgf/frontendlayer/tikz.sty\r\n",
        "(/usr/local/texlive/2011/texmf-dist/tex/latex/pgf/basiclayer/pgf.sty\r\n",
        "(/usr/local/texlive/2011/texmf-dist/tex/latex/pgf/utilities/pgfrcs.sty\r\n",
        "(/usr/local/texlive/2011/texmf-dist/tex/generic/pgf/utilities/pgfutil-common.te\r\n",
        "x)\r\n",
        "(/usr/local/texlive/2011/texmf-dist/tex/generic/pgf/utilities/pgfutil-latex.def\r\n",
        "(/usr/local/texlive/2011/texmf-dist/tex/latex/ms/everyshi.sty))\r\n",
        "(/usr/local/texlive/2011/texmf-dist/tex/generic/pgf/utilities/pgfrcs.code.tex))\r\n",
        "(/usr/local/texlive/2011/texmf-dist/tex/latex/pgf/basiclayer/pgfcore.sty\r\n",
        "(/usr/local/texlive/2011/texmf-dist/tex/latex/pgf/systemlayer/pgfsys.sty\r\n",
        "(/usr/local/texlive/2011/texmf-dist/tex/generic/pgf/systemlayer/pgfsys.code.tex\r\n",
        "(/usr/local/texlive/2011/texmf-dist/tex/generic/pgf/utilities/pgfkeys.code.tex\r\n",
        "(/usr/local/texlive/2011/texmf-dist/tex/generic/pgf/utilities/pgfkeysfiltered.c\r\n",
        "ode.tex))\r\n",
        "(/usr/local/texlive/2011/texmf-dist/tex/generic/pgf/systemlayer/pgf.cfg)\r\n",
        "(/usr/local/texlive/2011/texmf-dist/tex/generic/pgf/systemlayer/pgfsys-pdftex.d\r\n",
        "ef\r\n",
        "(/usr/local/texlive/2011/texmf-dist/tex/generic/pgf/systemlayer/pgfsys-common-p\r\n",
        "df.def)))\r\n",
        "(/usr/local/texlive/2011/texmf-dist/tex/generic/pgf/systemlayer/pgfsyssoftpath.\r\n",
        "code.tex)\r\n",
        "(/usr/local/texlive/2011/texmf-dist/tex/generic/pgf/systemlayer/pgfsysprotocol.\r\n",
        "code.tex)) (/usr/local/texlive/2011/texmf-dist/tex/latex/xcolor/xcolor.sty\r\n",
        "(/usr/local/texlive/2011/texmf-dist/tex/latex/latexconfig/color.cfg))\r\n",
        "(/usr/local/texlive/2011/texmf-dist/tex/generic/pgf/basiclayer/pgfcore.code.tex\r\n",
        "(/usr/local/texlive/2011/texmf-dist/tex/generic/pgf/math/pgfmath.code.tex\r\n",
        "(/usr/local/texlive/2011/texmf-dist/tex/generic/pgf/math/pgfmathcalc.code.tex\r\n",
        "(/usr/local/texlive/2011/texmf-dist/tex/generic/pgf/math/pgfmathutil.code.tex)\r\n",
        "(/usr/local/texlive/2011/texmf-dist/tex/generic/pgf/math/pgfmathparser.code.tex\r\n",
        ")\r\n",
        "(/usr/local/texlive/2011/texmf-dist/tex/generic/pgf/math/pgfmathfunctions.code.\r\n",
        "tex\r\n",
        "(/usr/local/texlive/2011/texmf-dist/tex/generic/pgf/math/pgfmathfunctions.basic\r\n",
        ".code.tex)\r\n",
        "(/usr/local/texlive/2011/texmf-dist/tex/generic/pgf/math/pgfmathfunctions.trigo\r\n",
        "nometric.code.tex)\r\n",
        "(/usr/local/texlive/2011/texmf-dist/tex/generic/pgf/math/pgfmathfunctions.rando\r\n",
        "m.code.tex)\r\n",
        "(/usr/local/texlive/2011/texmf-dist/tex/generic/pgf/math/pgfmathfunctions.compa\r\n",
        "rison.code.tex)\r\n",
        "(/usr/local/texlive/2011/texmf-dist/tex/generic/pgf/math/pgfmathfunctions.base.\r\n",
        "code.tex)\r\n",
        "(/usr/local/texlive/2011/texmf-dist/tex/generic/pgf/math/pgfmathfunctions.round\r\n",
        ".code.tex)\r\n",
        "(/usr/local/texlive/2011/texmf-dist/tex/generic/pgf/math/pgfmathfunctions.misc.\r\n",
        "code.tex)))\r\n",
        "(/usr/local/texlive/2011/texmf-dist/tex/generic/pgf/math/pgfmathfloat.code.tex)\r\n",
        ")\r\n",
        "(/usr/local/texlive/2011/texmf-dist/tex/generic/pgf/basiclayer/pgfcorepoints.co\r\n",
        "de.tex)\r\n",
        "(/usr/local/texlive/2011/texmf-dist/tex/generic/pgf/basiclayer/pgfcorepathconst\r\n",
        "ruct.code.tex)\r\n",
        "(/usr/local/texlive/2011/texmf-dist/tex/generic/pgf/basiclayer/pgfcorepathusage\r\n",
        ".code.tex"
       ]
      },
      {
       "output_type": "stream",
       "stream": "stdout",
       "text": [
        ")\r\n",
        "(/usr/local/texlive/2011/texmf-dist/tex/generic/pgf/basiclayer/pgfcorescopes.co\r\n",
        "de.tex)\r\n",
        "(/usr/local/texlive/2011/texmf-dist/tex/generic/pgf/basiclayer/pgfcoregraphicst\r\n",
        "ate.code.tex)\r\n",
        "(/usr/local/texlive/2011/texmf-dist/tex/generic/pgf/basiclayer/pgfcoretransform\r\n",
        "ations.code.tex)\r\n",
        "(/usr/local/texlive/2011/texmf-dist/tex/generic/pgf/basiclayer/pgfcorequick.cod\r\n",
        "e.tex)\r\n",
        "(/usr/local/texlive/2011/texmf-dist/tex/generic/pgf/basiclayer/pgfcoreobjects.c\r\n",
        "ode.tex)\r\n",
        "(/usr/local/texlive/2011/texmf-dist/tex/generic/pgf/basiclayer/pgfcorepathproce\r\n",
        "ssing.code.tex)\r\n",
        "(/usr/local/texlive/2011/texmf-dist/tex/generic/pgf/basiclayer/pgfcorearrows.co\r\n",
        "de.tex)\r\n",
        "(/usr/local/texlive/2011/texmf-dist/tex/generic/pgf/basiclayer/pgfcoreshade.cod\r\n",
        "e.tex)\r\n",
        "(/usr/local/texlive/2011/texmf-dist/tex/generic/pgf/basiclayer/pgfcoreimage.cod\r\n",
        "e.tex\r\n",
        "(/usr/local/texlive/2011/texmf-dist/tex/generic/pgf/basiclayer/pgfcoreexternal.\r\n",
        "code.tex))\r\n",
        "(/usr/local/texlive/2011/texmf-dist/tex/generic/pgf/basiclayer/pgfcorelayers.co\r\n",
        "de.tex)\r\n",
        "(/usr/local/texlive/2011/texmf-dist/tex/generic/pgf/basiclayer/pgfcoretranspare\r\n",
        "ncy.code.tex)\r\n",
        "(/usr/local/texlive/2011/texmf-dist/tex/generic/pgf/basiclayer/pgfcorepatterns.\r\n",
        "code.tex)))\r\n",
        "(/usr/local/texlive/2011/texmf-dist/tex/generic/pgf/modules/pgfmoduleshapes.cod\r\n",
        "e.tex)\r\n",
        "(/usr/local/texlive/2011/texmf-dist/tex/generic/pgf/modules/pgfmoduleplot.code.\r\n",
        "tex)\r\n",
        "(/usr/local/texlive/2011/texmf-dist/tex/latex/pgf/compatibility/pgfcomp-version\r\n",
        "-0-65.sty)\r\n",
        "(/usr/local/texlive/2011/texmf-dist/tex/latex/pgf/compatibility/pgfcomp-version\r\n",
        "-1-18.sty))\r\n",
        "(/usr/local/texlive/2011/texmf-dist/tex/latex/pgf/utilities/pgffor.sty\r\n",
        "(/usr/local/texlive/2011/texmf-dist/tex/latex/pgf/utilities/pgfkeys.sty\r\n",
        "(/usr/local/texlive/2011/texmf-dist/tex/generic/pgf/utilities/pgfkeys.code.tex)\r\n",
        ") (/usr/local/texlive/2011/texmf-dist/tex/generic/pgf/utilities/pgffor.code.tex\r\n",
        "))\r\n",
        "(/usr/local/texlive/2011/texmf-dist/tex/generic/pgf/frontendlayer/tikz/tikz.cod\r\n",
        "e.tex\r\n",
        "(/usr/local/texlive/2011/texmf-dist/tex/generic/pgf/libraries/pgflibraryplothan\r\n",
        "dlers.code.tex)\r\n",
        "(/usr/local/texlive/2011/texmf-dist/tex/generic/pgf/modules/pgfmodulematrix.cod\r\n",
        "e.tex)\r\n",
        "(/usr/local/texlive/2011/texmf-dist/tex/generic/pgf/frontendlayer/tikz/librarie\r\n",
        "s/tikzlibrarytopaths.code.tex)))\r\n",
        "(/usr/local/texlive/2011/texmf-dist/tex/generic/pgf/frontendlayer/tikz/librarie\r\n",
        "s/tikzlibrarycalc.code.tex)\r\n",
        "(/usr/local/texlive/2011/texmf-dist/tex/generic/pgf/frontendlayer/tikz/librarie\r\n",
        "s/tikzlibraryarrows.code.tex\r\n",
        "(/usr/local/texlive/2011/texmf-dist/tex/generic/pgf/libraries/pgflibraryarrows.\r\n",
        "code.tex))\r\n",
        "(/usr/local/texlive/2011/texmf-dist/tex/generic/pgf/frontendlayer/tikz/librarie\r\n",
        "s/tikzlibraryshadows.code.tex\r\n",
        "(/usr/local/texlive/2011/texmf-dist/tex/generic/pgf/frontendlayer/tikz/librarie\r\n",
        "s/tikzlibraryfadings.code.tex\r\n",
        "(/usr/local/texlive/2011/texmf-dist/tex/generic/pgf/libraries/pgflibraryfadings\r\n",
        ".code.tex"
       ]
      },
      {
       "output_type": "stream",
       "stream": "stdout",
       "text": [
        ")))\r\n",
        "(/usr/local/texlive/2011/texmf-dist/tex/latex/mdframed/mdframed.sty\r\n",
        "(/usr/local/texlive/2011/texmf-dist/tex/latex/xpackages/xbase/xparse.sty\r\n",
        "(/usr/local/texlive/2011/texmf-dist/tex/latex/expl3/l3names.sty)\r\n",
        "(/usr/local/texlive/2011/texmf-dist/tex/latex/expl3/expl3.sty\r\n",
        "(/usr/local/texlive/2011/texmf-dist/tex/latex/etex-pkg/etex.sty)\r\n",
        "(/usr/local/texlive/2011/texmf-dist/tex/latex/expl3/l3basics.sty)\r\n",
        "(/usr/local/texlive/2011/texmf-dist/tex/latex/expl3/l3expan.sty)\r\n",
        "(/usr/local/texlive/2011/texmf-dist/tex/latex/expl3/l3tl.sty)\r\n",
        "(/usr/local/texlive/2011/texmf-dist/tex/latex/expl3/l3int.sty)\r\n",
        "(/usr/local/texlive/2011/texmf-dist/tex/latex/expl3/l3quark.sty)\r\n",
        "(/usr/local/texlive/2011/texmf-dist/tex/latex/expl3/l3seq.sty"
       ]
      },
      {
       "output_type": "stream",
       "stream": "stdout",
       "text": [
        ")\r\n",
        "(/usr/local/texlive/2011/texmf-dist/tex/latex/expl3/l3toks.sty)\r\n",
        "(/usr/local/texlive/2011/texmf-dist/tex/latex/expl3/l3prg.sty)\r\n",
        "(/usr/local/texlive/2011/texmf-dist/tex/latex/expl3/l3clist.sty)\r\n",
        "(/usr/local/texlive/2011/texmf-dist/tex/latex/expl3/l3token.sty)\r\n",
        "(/usr/local/texlive/2011/texmf-dist/tex/latex/expl3/l3prop.sty)\r\n",
        "(/usr/local/texlive/2011/texmf-dist/tex/latex/expl3/l3msg.sty)\r\n",
        "(/usr/local/texlive/2011/texmf-dist/tex/latex/expl3/l3io.sty)\r\n",
        "(/usr/local/texlive/2011/texmf-dist/tex/latex/expl3/l3skip.sty)\r\n",
        "(/usr/local/texlive/2011/texmf-dist/tex/latex/expl3/l3box.sty)\r\n",
        "(/usr/local/texlive/2011/texmf-dist/tex/latex/expl3/l3keyval.sty)\r\n",
        "(/usr/local/texlive/2011/texmf-dist/tex/latex/expl3/l3keys.sty)\r\n",
        "(/usr/local/texlive/2011/texmf-dist/tex/latex/expl3/l3precom.sty)\r\n",
        "(/usr/local/texlive/2011/texmf-dist/tex/latex/expl3/l3xref.sty)\r\n",
        "(/usr/local/texlive/2011/texmf-dist/tex/latex/expl3/l3file.sty)\r\n",
        "(/usr/local/texlive/2011/texmf-dist/tex/latex/expl3/l3fp.sty"
       ]
      },
      {
       "output_type": "stream",
       "stream": "stdout",
       "text": [
        ")\r\n",
        "(/usr/local/texlive/2011/texmf-dist/tex/latex/expl3/l3luatex.sty)\r\n",
        "(/usr/local/texlive/2011/texmf-dist/tex/latex/tools/calc.sty)))\r\n",
        "(/usr/local/texlive/2011/texmf-dist/tex/latex/etoolbox/etoolbox.sty)\r\n",
        "(/usr/local/texlive/2011/texmf-dist/tex/latex/oberdiek/zref-abspage.sty\r\n",
        "(/usr/local/texlive/2011/texmf-dist/tex/latex/oberdiek/zref-base.sty\r\n",
        "(/usr/local/texlive/2011/texmf-dist/tex/latex/oberdiek/auxhook.sty)))\r\n",
        "(/usr/local/texlive/2011/texmf-dist/tex/latex/mdframed/md-frame-1.mdf))\r\n",
        "(/usr/local/texlive/2011/texmf-dist/tex/latex/base/alltt.sty)\r\n",
        "(/usr/local/texlive/2011/texmf-dist/tex/latex/adjustbox/adjustbox.sty)\r\n",
        "\r\n",
        "! LaTeX Error: Unknown option `export' for package `adjustbox'.\r\n",
        "\r\n",
        "See the LaTeX manual or LaTeX Companion for explanation.\r\n",
        "Type  H <return>  for immediate help.\r\n",
        " ...                                              \r\n",
        "                                                  \r\n",
        "l.58 \r\n",
        "     \r\n",
        "? "
       ]
      }
     ],
     "prompt_number": "*"
    },
    {
     "cell_type": "markdown",
     "metadata": {},
     "source": [
      "A very useful online service is the [IPython Notebook Viewer](http://nbviewer.ipython.org) which allows you to display your notebook as a static HTML page, which is useful for sharing with others:"
     ]
    },
    {
     "cell_type": "code",
     "collapsed": false,
     "input": [
      "from IPython.display import HTML\n",
      "HTML(\"<iframe src=http://nbviewer.ipython.org/2352771 width=700 height=300></iframe>\")"
     ],
     "language": "python",
     "metadata": {},
     "outputs": []
    },
    {
     "cell_type": "markdown",
     "metadata": {},
     "source": [
      "## Reproducible Research\n",
      "\n",
      "> reproducing conclusions from a single experiment based on the measurements from that experiment\n",
      "\n",
      "The most basic form of reproducibility is a complete description of the data and associated analyses (including code!) so the results can be *exactly* reproduced by others.\n",
      "\n",
      "Reproducing calculations can be onerous, even with one's own work!\n",
      "\n",
      "Scientific data are becoming larger and more complex, making simple descriptions inadequate for reproducibility. As a result, most modern research is irreproducible without tremendous effort.\n",
      "\n",
      "*** Reproducible research is not yet part of the culture of science in general, or scientific computing in particular. ***"
     ]
    },
    {
     "cell_type": "markdown",
     "metadata": {},
     "source": [
      "## Scientific Computing Workflow\n",
      "\n",
      "There are a number of steps to scientific endeavors that involve computing:\n",
      "\n",
      "![workflow](http://f.cl.ly/items/3B0l063n2T0H1p041U3L/workflow.png)\n",
      "\n",
      "\n",
      "Many of the standard tools impose barriers between one or more of these steps. This can make it difficult to iterate, reproduce work.\n",
      "\n",
      "The IPython notebook eliminates or reduces these barriers to reproducibility."
     ]
    },
    {
     "cell_type": "markdown",
     "metadata": {},
     "source": [
      "## Parallel iPython\n",
      "\n",
      "At a high level, there are three basic components to parallel IPython:\n",
      "\n",
      "* Engine(s) - the remote or distributed processes where your code runs.\n",
      "* Client - your interface to running code on Engines.\n",
      "* Controller - the collection of processes that coordinate Engines and Clients.\n",
      "\n",
      "These components live in the `IPython.parallel` package and are installed with IPython."
     ]
    },
    {
     "cell_type": "markdown",
     "metadata": {},
     "source": [
      "Before running the next cell, make sure you have first started your cluster, you can use the [clusters tab in the dashboard](/#tab2) to do so.  "
     ]
    },
    {
     "cell_type": "code",
     "collapsed": false,
     "input": [
      "from IPython.parallel import Client\n",
      "client = Client()\n",
      "dv = client.direct_view()"
     ],
     "language": "python",
     "metadata": {},
     "outputs": []
    },
    {
     "cell_type": "code",
     "collapsed": false,
     "input": [
      "len(dv)"
     ],
     "language": "python",
     "metadata": {},
     "outputs": []
    },
    {
     "cell_type": "code",
     "collapsed": false,
     "input": [
      "def where_am_i():\n",
      "    import os\n",
      "    import socket\n",
      "    \n",
      "    return \"In process with pid {0} on host: '{1}'\".format(\n",
      "        os.getpid(), socket.gethostname())"
     ],
     "language": "python",
     "metadata": {},
     "outputs": []
    },
    {
     "cell_type": "code",
     "collapsed": false,
     "input": [
      "where_am_i_direct_results = dv.apply(where_am_i)\n",
      "where_am_i_direct_results.get()"
     ],
     "language": "python",
     "metadata": {},
     "outputs": []
    },
    {
     "cell_type": "markdown",
     "metadata": {},
     "source": [
      "## Links and References"
     ]
    },
    {
     "cell_type": "markdown",
     "metadata": {},
     "source": [
      "[IPython Notebook Viewer](http://nbviewer.ipython.org) Displays static HTML versions of notebooks, and includes a gallery of notebook examples."
     ]
    },
    {
     "cell_type": "markdown",
     "metadata": {},
     "source": [
      "[NotebookCloud](https://notebookcloud.appspot.com) A service that allows you to launch and control IPython Notebook servers on Amazon EC2 from your browser."
     ]
    },
    {
     "cell_type": "markdown",
     "metadata": {},
     "source": [
      "[A Reference-Free Algorithm for Computational Normalization of Shotgun Sequencing Data](http://ged.msu.edu/papers/2012-diginorm/) A landmark example of reproducible research in genomics: Git repo, iPython notebook, data and scripts."
     ]
    },
    {
     "cell_type": "markdown",
     "metadata": {},
     "source": [
      "---"
     ]
    },
    {
     "cell_type": "code",
     "collapsed": false,
     "input": [
      "from IPython.core.display import HTML\n",
      "def css_styling():\n",
      "    styles = open(\"styles/custom.css\", \"r\").read()\n",
      "    return HTML(styles)\n",
      "css_styling()"
     ],
     "language": "python",
     "metadata": {},
     "outputs": []
    },
    {
     "cell_type": "code",
     "collapsed": false,
     "input": [
      "%load styles/custom.css"
     ],
     "language": "python",
     "metadata": {},
     "outputs": []
    }
   ],
   "metadata": {}
  }
 ]
}