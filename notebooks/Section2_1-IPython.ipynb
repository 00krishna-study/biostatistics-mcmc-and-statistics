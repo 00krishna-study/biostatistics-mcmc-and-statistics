{
 "metadata": {
  "name": ""
 },
 "nbformat": 3,
 "nbformat_minor": 0,
 "worksheets": [
  {
   "cells": [
    {
     "cell_type": "markdown",
     "metadata": {},
     "source": [
      "# IPython: An Enhanced Python Shell\n",
      "## (and much more!)"
     ]
    },
    {
     "cell_type": "markdown",
     "metadata": {},
     "source": [
      "A key component of the everyday workflow of most scientific computing environments is a good interactive environment, that is, a system in which you can execute small amounts of code and view the results immediately, combining both printing out data and opening graphical visualizations.  All modern systems for scientific computing, commercial and open source, include such functionality.  \n",
      "\n",
      "Out of the box, Python also offers a simple interactive shell with very limited capabilities.  But just like the scientific community built Numpy to provide arrays suited for scientific work (since Pytyhon's lists aren't optimal for this task), it has also developed an interactive environment much more sophisticated than the built-in one.  The [IPython project](http://ipython.org) offers a set of tools to make productive use of the Python language, all the while working interactively and with immedate feedback on your results.  The basic tools that IPython provides are:\n",
      "\n",
      "1. A powerful terminal shell, with many features designed to increase the fluidity and productivity of everyday scientific workflows, including:\n",
      "\n",
      "    * rich introspection of all objects and variables including easy access to the source code of any function\n",
      "    * powerful and extensible tab completion of variables and filenames,\n",
      "    * tight integration with matplotlib, supporting interactive figures that don't block the terminal,\n",
      "    * direct access to the filesystem and underlying operating system,\n",
      "    * an extensible system for shell-like commands called 'magics' that reduce the work needed to perform many common tasks,\n",
      "    * tools for easily running, timing, profiling and debugging your codes,\n",
      "    * syntax highlighted error messages with much more detail than the default Python ones,\n",
      "    * logging and access to all previous history of inputs, including across sessions\n",
      "\n",
      "2. A Qt console that provides the look and feel of a terminal, but adds support for inline figures, graphical calltips, a persistent session that can survive crashes (even segfaults) of the kernel process, and more.\n",
      "\n",
      "3. A web-based notebook that can execute code and also contain rich text and figures, mathematical equations and arbitrary HTML. This notebook presents a document-like view with cells where code is executed but that can be edited in-place, reordered, mixed with explanatory text and figures, etc.\n",
      "\n",
      "4. A high-performance, low-latency system for parallel computing that supports the control of a cluster of IPython engines communicating over a network, with optimizations that minimize unnecessary copying of large objects (especially numpy arrays).\n",
      "\n",
      "We will now discuss the highlights of the tools 1-3 above so that you can make them an effective part of your workflow.  The topic of parallel computing is beyond the scope of this document, but we encourage you to read the extensive [documentation](http://ipython.org/ipython-doc/rel-0.12.1/parallel/index.html) and [tutorials](http://minrk.github.com/scipy-tutorial-2011/) on this available on the IPython website."
     ]
    },
    {
     "cell_type": "heading",
     "level": 2,
     "metadata": {},
     "source": [
      "The IPython terminal"
     ]
    },
    {
     "cell_type": "markdown",
     "metadata": {},
     "source": [
      "You can start IPython at the terminal simply by typing:\n",
      "\n",
      "    $ ipython\n",
      "\n",
      "which will provide you some basic information about how to get started and will then open a prompt labeled `In [1]:` for you to start typing.  Here we type $2^{64}$ and Python computes the result for us in exact arithmetic, returning it as `Out[1]`:\n",
      "\n",
      "    $ ipython\n",
      "    Python 2.7.2+ (default, Oct  4 2011, 20:03:08) \n",
      "    Type \"copyright\", \"credits\" or \"license\" for more information.\n",
      "    \n",
      "    IPython 0.13.dev -- An enhanced Interactive Python.\n",
      "    ?         -> Introduction and overview of IPython's features.\n",
      "    %quickref -> Quick reference.\n",
      "    help      -> Python's own help system.\n",
      "    object?   -> Details about 'object', use 'objectjQuery1710023358753183856606_1368066640458' for extra details.\n",
      "    \n",
      "    In [1]: 2**64\n",
      "    Out[1]: 18446744073709551616L\n",
      "\n",
      "The first thing you should know about IPython is that all your inputs and outputs are saved. There are two variables named `In` and `Out` which are filled as you work with your results.  Furthermore, all outputs are also saved to auto-created variables of the form `_NN` where `NN` is the prompt number, and inputs to `_iNN`.  This allows you to recover quickly the result of a prior computation by referring to its number even if you forgot to store it as a variable.  For example, later on in the above session you can do:\n",
      "\n",
      "    In [6]: print _1\n",
      "    18446744073709551616"
     ]
    },
    {
     "cell_type": "markdown",
     "metadata": {},
     "source": [
      "We strongly recommend that you take a few minutes to read at least the basic introduction provided by the `?` command, and keep in mind that the `%quickref` command at all times can be used as a quick reference \"cheat sheet\" of the most frequently used features of IPython.\n",
      "\n",
      "At the IPython prompt, any valid Python code that you type will be executed similarly to the default Python shell (though often with more informative feedback).  But since IPython is a *superset* of the default Python shell; let's have a brief look at some of its additional functionality."
     ]
    },
    {
     "cell_type": "markdown",
     "metadata": {},
     "source": [
      "**Object introspection**\n",
      "\n",
      "A simple `?` command provides a general introduction to IPython, but as indicated in the banner above, you can use the `?` syntax to ask for details about any object.  For example, if we type `_1?`, IPython will print the following details about this variable:\n",
      "\n",
      "    In [14]: _1?\n",
      "    Type:       long\n",
      "    Base Class: <type 'long'>\n",
      "    String Form:18446744073709551616\n",
      "    Namespace:  Interactive\n",
      "    Docstring:\n",
      "    long(x[, base]) -> integer\n",
      "    \n",
      "    Convert a string or number to a long integer, if possible.  A floating\n",
      "\n",
      "    [etc... snipped for brevity]\n",
      "\n",
      "If you add a second `?` and for any oobject `x` type `x??`, IPython will try to provide an even more detailed analsysi of the object, including its syntax-highlighted source code when it can be found.  It's possible that `x??` returns the same information as `x?`, but in many cases `x??` will indeed provide additional details.\n",
      "\n",
      "Finally, the `?` syntax is also useful to search *namespaces* with wildcards.  Suppose you are wondering if there is any function in Numpy that may do text-related things; with `np.*txt*?`, IPython will print all the names in the `np` namespace (our Numpy shorthand) that have 'txt' anywhere in their name:\n",
      "\n",
      "    In [17]: np.*txt*?\n",
      "    np.genfromtxt\n",
      "    np.loadtxt\n",
      "    np.mafromtxt\n",
      "    np.ndfromtxt\n",
      "    np.recfromtxt\n",
      "    np.savetxt"
     ]
    },
    {
     "cell_type": "markdown",
     "metadata": {},
     "source": [
      "**Tab completion**\n",
      "\n",
      "IPython makes the tab key work extra hard for you as a way to rapidly inspect objects and libraries.  Whenever you have typed something at the prompt, by hitting the `<tab>` key IPython will try to complete the rest of the line.  For this, IPython will analyze the text you had so far and try to search for Python data or files that may match the context you have already provided.\n",
      "\n",
      "For example, if you type `np.load` and hit the <tab> key, you'll see:\n",
      "\n",
      "    In [21]: np.load<TAB HERE>\n",
      "    np.load     np.loads    np.loadtxt  \n",
      "\n",
      "so you can quickly find all the load-related functionality in numpy.  Tab completion works even for function arguments, for example consider this function definition:\n",
      "\n",
      "    In [20]: def f(x, frobinate=False):\n",
      "       ....:     if frobinate:\n",
      "       ....:         return x**2\n",
      "       ....:     \n",
      "    \n",
      "If you now use the `<tab>` key after having typed 'fro' you'll get all valid Python completions, but those marked with `=` at the end are known to be keywords of your function:\n",
      "\n",
      "    In [21]: f(2, fro<TAB HERE>\n",
      "    frobinate=    frombuffer    fromfunction  frompyfunc    fromstring    \n",
      "    from          fromfile      fromiter      fromregex     frozenset     \n",
      "\n",
      "at this point you can add the `b` letter and hit `<tab>` once more, and IPython will finish the line for you:\n",
      "\n",
      "    In [21]: f(2, frobinate=\n",
      "\n",
      "As a beginner, simply get into the habit of using `<tab>` after most objects; it should quickly become second nature as you will see how helps keep a fluid workflow and discover useful information.  Later on you can also customize this behavior by writing your own completion code, if you so desire."
     ]
    },
    {
     "cell_type": "markdown",
     "metadata": {},
     "source": [
      "**Matplotlib integration**\n",
      "\n",
      "One of the most useful features of IPython for scientists is its tight integration with matplotlib: at the terminal IPython lets you open matplotlib figures without blocking your typing (which is what happens if you try to do the same thing at the default Python shell), and in the Qt console and notebook you can even view your figures embedded in your workspace next to the code that created them.\n",
      "\n",
      "The matplotlib support can be either activated when you start IPython by passing the `--pylab` flag, or at any point later in your session by using the `%pylab` command.  If you start IPython with `--pylab`, you'll see something like this (note the extra message about pylab):\n",
      "\n",
      "    $ ipython --pylab\n",
      "    Python 2.7.2+ (default, Oct  4 2011, 20:03:08) \n",
      "    Type \"copyright\", \"credits\" or \"license\" for more information.\n",
      "    \n",
      "    IPython 0.13.dev -- An enhanced Interactive Python.\n",
      "    ?         -> Introduction and overview of IPython's features.\n",
      "    %quickref -> Quick reference.\n",
      "    help      -> Python's own help system.\n",
      "    object?   -> Details about 'object', use 'object??' for extra details.\n",
      "    \n",
      "    Welcome to pylab, a matplotlib-based Python environment [backend: Qt4Agg].\n",
      "    For more information, type 'help(pylab)'.\n",
      "    \n",
      "    In [1]: \n",
      "\n",
      "Furthermore, IPython will import `numpy` with the `np` shorthand, `matplotlib.pyplot` as `plt`, and it will also load all of the numpy and pyplot top-level names so that you can directly type something like:\n",
      "\n",
      "    In [1]: x = linspace(0, 2*pi, 200)\n",
      "    \n",
      "    In [2]: plot(x, sin(x))\n",
      "    Out[2]: [<matplotlib.lines.Line2D at 0x9e7c16c>]\n",
      "\n",
      "instead of having to prefix each call with its full signature (as we have been doing in the examples thus far):\n",
      "\n",
      "    In [3]: x = np.linspace(0, 2*np.pi, 200)\n",
      "    \n",
      "    In [4]: plt.plot(x, np.sin(x))\n",
      "    Out[4]: [<matplotlib.lines.Line2D at 0x9e900ac>]\n",
      "\n",
      "This shorthand notation can be a huge time-saver when working interactively (it's a few characters but you are likely to type them hundreds of times in a session).  But we should note that as you develop persistent scripts and notebooks meant for reuse, it's best to get in the habit of using the longer notation (known as *fully qualified names* as it's clearer where things come from and it makes for more robust, readable and maintainable code in the long run)."
     ]
    },
    {
     "cell_type": "markdown",
     "metadata": {},
     "source": [
      "**Access to the operating system and files**\n",
      "\n",
      "In IPython, you can type `ls` to see your files or `cd` to change directories, just like you would at a regular system prompt:\n",
      "\n",
      "    In [2]: cd tests\n",
      "    /home/fperez/ipython/nbconvert/tests\n",
      "    \n",
      "    In [3]: ls test.*\n",
      "    test.aux  test.html  test.ipynb  test.log  test.out  test.pdf  test.rst  test.tex\n",
      "\n",
      "Furthermore, if you use the `!` at the beginning of a line, any commands you pass afterwards go directly to the operating system:\n",
      "\n",
      "    In [4]: !echo \"Hello IPython\"\n",
      "    Hello IPython\n",
      "\n",
      "IPython offers a useful twist in this feature: it will substitute in the command the value of any *Python* variable you may have if you prepend it with a `$` sign:\n",
      "\n",
      "    In [5]: message = 'IPython interpolates from Python to the shell'\n",
      "    \n",
      "    In [6]: !echo $message\n",
      "    IPython interpolates from Python to the shell\n",
      "\n",
      "This feature can be extremely useful, as it lets you combine the power and clarity of Python for complex logic with the immediacy and familiarity of many shell commands.  Additionally, if you start the line with *two* `$$` signs, the output of the command will be automatically captured as a list of lines, e.g.:\n",
      "\n",
      "    In [10]: !!ls test.*\n",
      "    Out[10]: \n",
      "    ['test.aux',\n",
      "     'test.html',\n",
      "     'test.ipynb',\n",
      "     'test.log',\n",
      "     'test.out',\n",
      "     'test.pdf',\n",
      "     'test.rst',\n",
      "     'test.tex']\n",
      "\n",
      "As explained above, you can now use this as the variable `_10`.  If you directly want to capture the output of a system command to a Python variable, you can use the syntax `=!`:\n",
      "\n",
      "    In [11]: testfiles =! ls test.*\n",
      "    \n",
      "    In [12]: print testfiles\n",
      "    ['test.aux', 'test.html', 'test.ipynb', 'test.log', 'test.out', 'test.pdf', 'test.rst', 'test.tex']\n",
      "\n",
      "Finally, the special `%alias` command lets you define names that are shorthands for system commands, so that you can type them without having to prefix them via `!` explicitly (for example, `ls` is an alias that has been predefined for you at startup)."
     ]
    },
    {
     "cell_type": "markdown",
     "metadata": {},
     "source": [
      "**Magic commands**\n",
      "\n",
      "IPython has a system for special commands, called 'magics', that let you control IPython itself and perform many common tasks with a more shell-like syntax: it uses spaces for delimiting arguments, flags can be set with dashes and all arguments are treated as strings, so no additional quoting is required.  This kind of syntax is invalid in the Python language but very convenient for interactive typing (less parentheses, commans and quoting everywhere); IPython distinguishes the two by detecting lines that start with the `%` character.  \n",
      "\n",
      "You can learn more about the magic system by simply typing `%magic` at the prompt, which will give you a short description plus the documentation on *all* available magics.  If you want to see only a listing of existing magics, you can use `%lsmagic`:\n",
      "\n",
      "    In [4]: lsmagic\n",
      "    Available magic functions:\n",
      "    %alias  %autocall  %autoindent  %automagic  %bookmark  %c  %cd  %colors  %config  %cpaste\n",
      "    %debug  %dhist  %dirs  %doctest_mode  %ds  %ed  %edit  %env  %gui  %hist  %history\n",
      "    %install_default_config  %install_ext  %install_profiles  %load_ext  %loadpy  %logoff  %logon  \n",
      "    %logstart  %logstate  %logstop  %lsmagic  %macro  %magic  %notebook  %page  %paste  %pastebin  \n",
      "    %pd  %pdb  %pdef  %pdoc  %pfile  %pinfo  %pinfo2  %pop  %popd  %pprint  %precision  %profile  \n",
      "    %prun  %psearch  %psource  %pushd  %pwd  %pycat  %pylab  %quickref  %recall  %rehashx  \n",
      "    %reload_ext  %rep  %rerun  %reset  %reset_selective  %run  %save  %sc  %stop  %store  %sx  %tb\n",
      "    %time  %timeit  %unalias  %unload_ext  %who  %who_ls  %whos  %xdel  %xmode\n",
      "    \n",
      "    Automagic is ON, % prefix NOT needed for magic functions.\n",
      "\n",
      "Note how the example above omitted the eplicit `%` marker and simply uses `lsmagic`.  As long as the 'automagic' feature is on (which it is by default), you can omit the `%` marker as long as there is no ambiguity with a Python variable of the same name."
     ]
    },
    {
     "cell_type": "markdown",
     "metadata": {},
     "source": [
      "**Running your code**\n",
      "\n",
      "While it's easy to type a few lines of code in IPython, for any long-lived work you should keep your codes in Python scripts (or in IPython notebooks, see below).  Consider that you have a script, in this case trivially simple for the sake of brevity, named `simple.py`:\n",
      "\n",
      "    In [12]: !cat simple.py\n",
      "    import numpy as np\n",
      "    \n",
      "    x = np.random.normal(size=100)\n",
      "    \n",
      "    print 'First elment of x:', x[0]\n",
      "\n",
      "The typical workflow with IPython is to use the `%run` magic to execute your script (you can omit the .py extension if you want).  When you run it, the script will execute just as if it had been run at the system prompt with `python simple.py` (though since modules don't get re-executed on new imports by Python, all system initialization is essentially free, which can have a significant run time impact in some cases):\n",
      "    \n",
      "    In [13]: run simple\n",
      "    First elment of x: -1.55872256289\n",
      "\n",
      "Once it completes, all variables defined in it become available for you to use interactively:\n",
      "\n",
      "    In [14]: x.shape\n",
      "    Out[14]: (100,)\n",
      "\n",
      "This allows you to plot data, try out ideas, etc, in a `%run`/interact/edit cycle that can be very productive.  As you start understanding your problem better you can refine your script further, incrementally improving it based on the work you do at the IPython prompt.  At any point you can use the `%hist` magic to print out your history without prompts, so that you can copy useful fragments back into the script.\n",
      "\n",
      "By default, `%run` executes scripts in a completely empty namespace, to better mimic how they would execute at the system prompt with plain Python.  But if you use the `-i` flag, the script will also see your interactively defined variables.  This lets you edit in a script larger amounts of code that still behave as if you had typed them at the IPython prompt.\n",
      "\n",
      "You can also get a summary of the time taken by your script with the `-t` flag; consider a different script `randsvd.py` that takes a bit longer to run:\n",
      "\n",
      "    In [21]: run -t randsvd.py\n",
      "    \n",
      "    IPython CPU timings (estimated):\n",
      "      User   :       0.38 s.\n",
      "      System :       0.04 s.\n",
      "    Wall time:       0.34 s.\n",
      "\n",
      "`User` is the time spent by the computer executing your code, while `System` is the time the operating system had to work on your behalf, doing things like memory allocation that are needed by your code but that you didn't explicitly program and that happen inside the kernel.  The `Wall time` is the time on a 'clock on the wall' between the start and end of your program.  \n",
      "\n",
      "If `Wall > User+System`, your code is most likely waiting idle for certain periods.  That could be waiting for data to arrive from a remote source or perhaps because the operating system has to swap large amounts of virtual memory.  If you know that your code doesn't explicitly wait for remote data to arrive, you should investigate further to identify possible ways of improving the performance profile.\n",
      "\n",
      "If you only want to time how long a single statement takes, you don't need to put it into a script as you can use the `%timeit` magic, which uses Python's `timeit` module to very carefully measure timig data; `timeit` can measure even short statements that execute extremely fast:\n",
      "\n",
      "    In [27]: %timeit a=1\n",
      "    10000000 loops, best of 3: 23 ns per loop\n",
      "    \n",
      "and for code that runs longer, it automatically adjusts so the overall measurement doesn't take too long:\n",
      "\n",
      "    In [28]: %timeit np.linalg.svd(x)\n",
      "    1 loops, best of 3: 310 ms per loop\n",
      "\n",
      "The `%run` magic still has more options for debugging and profiling data; you should read its documentation for many useful details (as always, just type `%run?`)."
     ]
    },
    {
     "cell_type": "heading",
     "level": 2,
     "metadata": {},
     "source": [
      "The graphical Qt console"
     ]
    },
    {
     "cell_type": "markdown",
     "metadata": {},
     "source": [
      "If you type at the system prompt (see the IPython website for installation details, as this requires some additional libraries):\n",
      "\n",
      "    $ ipython qtconsole\n",
      "\n",
      "instead of opening in a terminal as before, IPython will start a graphical console that at first sight appears just like a terminal, but which is in fact much more capable than a text-only terminal.  This is a specialized terminal designed for interactive scientific work, and it supports full multi-line editing with color highlighting and graphical calltips for functions, it can keep multiple IPython sessions open simultaneously in tabs, and when scripts run it can display the figures inline directly in the work area.\n",
      "\n",
      "![qtconsole](files/images/qtconsole.png)"
     ]
    },
    {
     "cell_type": "markdown",
     "metadata": {},
     "source": [
      "The Qt console accepts the same `--pylab` startup flags as the terminal, but you can additionally supply the value `--pylab inline`, which enables the support for inline graphics shown in the figure.  This is ideal for keeping all the code and figures in the same session, given that the console can save the output of your entire session to HTML or PDF.\n",
      "\n",
      "Since the Qt console makes it far more convenient than the terminal to edit blocks of code with multiple lines, in this environment it's worth knowing about the `%loadpy` magic function.  `%loadpy` takes a path to a local file or remote URL, fetches its contents, and puts it in the work area for you to further edit and execute.  It can be an extremely fast and convenient way of loading code from local disk or remote examples from sites such as the [Matplotlib gallery](http://matplotlib.sourceforge.net/gallery.html).\n",
      "\n",
      "Other than its enhanced capabilities for code and graphics, all of the features of IPython we've explained before remain functional in this graphical console."
     ]
    },
    {
     "cell_type": "heading",
     "level": 2,
     "metadata": {},
     "source": [
      "The IPython Notebook"
     ]
    },
    {
     "cell_type": "markdown",
     "metadata": {},
     "source": [
      "The third way to interact with IPython, in addition to the terminal and graphical Qt console, is a powerful web interface called the \"IPython Notebook\".  If you run at the system console (you can omit the `pylab` flags if you don't need plotting support):\n",
      "\n",
      "    $ ipython notebook --pylab inline\n",
      "\n",
      "IPython will start a process that runs a web server in your local machine and to which a web browser can connect.  The Notebook is a workspace that lets you execute code in blocks called 'cells' and displays any results and figures, but which can also contain arbitrary text (including LaTeX-formatted mathematical expressions) and any rich media that a modern web browser is capable of displaying."
     ]
    },
    {
     "cell_type": "markdown",
     "metadata": {},
     "source": [
      "Since the Notebook runs as a web application, it is possible to configure it for remote access, letting you run your computations on a persistent server close to your data, which you can then access remotely from any browser-equipped computer.  We encourage you to read the extensive documentation provided by the IPython project for details on how to do this and many more features of the notebook.\n",
      "\n",
      "As we will see later in the course, IPython has a high-level and easy-to-use set of libraries for parallel computing, that let you control (interactively if desired) not just one IPython but an entire cluster of 'IPython engines'."
     ]
    },
    {
     "cell_type": "markdown",
     "metadata": {},
     "source": [
      "## References\n",
      "\n",
      "[Python In-Depth Tutorial](https://github.com/ipython/ipython-in-depth), Repository for an in-depth 3-hour tutorial on IPython."
     ]
    },
    {
     "cell_type": "markdown",
     "metadata": {},
     "source": [
      "---"
     ]
    },
    {
     "cell_type": "code",
     "collapsed": false,
     "input": [
      "from IPython.core.display import HTML\n",
      "def css_styling():\n",
      "    styles = open(\"styles/custom.css\", \"r\").read()\n",
      "    return HTML(styles)\n",
      "css_styling()"
     ],
     "language": "python",
     "metadata": {},
     "outputs": [
      {
       "html": [
        "<style>\n",
        "    @font-face {\n",
        "        font-family: \"Computer Modern\";\n",
        "        src: url('http://mirrors.ctan.org/fonts/cm-unicode/fonts/otf/cmunss.otf');\n",
        "    }\n",
        "    div.cell{\n",
        "        width:800px;\n",
        "/*        margin-left:16% !important;*/\n",
        "        margin-left:auto;\n",
        "        margin-right:auto;\n",
        "    }\n",
        "    h1 {\n",
        "        font-family: Helvetica, serif;\n",
        "    }\n",
        "    h4{\n",
        "        margin-top:12px;\n",
        "        margin-bottom: 3px;\n",
        "       }\n",
        "    div.text_cell_render{\n",
        "        font-family: Computer Modern, \"Helvetica Neue\", Arial, Helvetica, Geneva, sans-serif;\n",
        "        line-height: 145%;\n",
        "        font-size: 130%;\n",
        "        width:800px;\n",
        "        margin-left:auto;\n",
        "        margin-right:auto;\n",
        "    }\n",
        "    .CodeMirror{\n",
        "            font-family: \"Source Code Pro\", source-code-pro,Consolas, monospace;\n",
        "    }\n",
        "/*    .prompt{\n",
        "        display: None;\n",
        "    }*/\n",
        "    .text_cell_render h5 {\n",
        "        font-weight: 300;\n",
        "        font-size: 16pt;\n",
        "        color: #4057A1;\n",
        "        font-style: italic;\n",
        "        margin-bottom: .5em;\n",
        "        margin-top: 0.5em;\n",
        "        display: block;\n",
        "    }\n",
        "\n",
        "    .warning{\n",
        "        color: rgb( 240, 20, 20 )\n",
        "        }\n",
        "</style>\n",
        "<script>\n",
        "    MathJax.Hub.Config({\n",
        "                        TeX: {\n",
        "                           extensions: [\"AMSmath.js\"]\n",
        "                           },\n",
        "                tex2jax: {\n",
        "                    inlineMath: [ ['$','$'], [\"\\\\(\",\"\\\\)\"] ],\n",
        "                    displayMath: [ ['$$','$$'], [\"\\\\[\",\"\\\\]\"] ]\n",
        "                },\n",
        "                displayAlign: 'center', // Change this to 'center' to center equations.\n",
        "                \"HTML-CSS\": {\n",
        "                    styles: {'.MathJax_Display': {\"margin\": 4}}\n",
        "                }\n",
        "        });\n",
        "</script>"
       ],
       "metadata": {},
       "output_type": "pyout",
       "prompt_number": 2,
       "text": [
        "<IPython.core.display.HTML at 0x10eb4ed90>"
       ]
      }
     ],
     "prompt_number": 2
    }
   ],
   "metadata": {}
  }
 ]
}