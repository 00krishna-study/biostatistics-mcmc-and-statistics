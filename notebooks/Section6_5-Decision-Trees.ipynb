{
 "metadata": {
  "name": ""
 },
 "nbformat": 3,
 "nbformat_minor": 0,
 "worksheets": [
  {
   "cells": [
    {
     "cell_type": "markdown",
     "metadata": {},
     "source": [
      "# Decision Trees"
     ]
    },
    {
     "cell_type": "markdown",
     "metadata": {},
     "source": [
      "For methods like support vector machines to work well, it requires identifying an appropriate kernel function, which is not always straightforward or intuitive.\n",
      "\n",
      "An alternative to this is to perform statistical learning more directly, say, as a combination of the predictors (features). An **adaptive basis-function model** is one example of this.\n",
      "\n",
      "$$f(x) = w_0 + \\sum_{j=1}^k w_j \\phi_j(\\mathbf{x})$$\n",
      "\n",
      "here, $\\theta_j$ is a *basis function*, which is typically parametric:\n",
      "\n",
      "$$\\phi_j(\\mathbf{x}) = \\phi_j(\\mathbf{x}|\\alpha_j)$$\n",
      "\n",
      "The parameter set for this model is thus $\\theta = \\{\\mathbf{w} = w_0,\\ldots,w_k; \\mathbf{\\alpha} = \\alpha_1, \\ldots, \\alpha_k\\}$. This model is *not* linear in the parameters.\n",
      "\n",
      "\n",
      "**Decision trees** use an ABM to *recursively partition* the space of predictor variables into a piecewise-constant response surface. We can consider each component $j=1,\\ldots,k$ to be a region in the response surface, and $w_j$ the expected response in that region.\n",
      "\n",
      "$$f(x) = \\sum_{j=1}^k w_j I(\\mathbf{x} \\in R_j)$$\n",
      "\n",
      "Each paramter $\\alpha_j$ encodes both (1) a variable used for splitting and (2) the corresponding threshold value. Specifically, the basis functions define the regions, and the weights encode the response value in each region.\n",
      "\n",
      "We can generalize this to classification by storing the distribution over classes in each leaf, instead of the mean response.\n",
      "\n",
      "For example, consider its application to a subset variables from the Titanic dataset used to predict survival from the disaster. We first check if gender of the passenger is male. If \"no\", we follow the right branch and end up in a leaf where the probability of survival is $p(y=1,x_1=F)=0.73$, so we predict survival ($y=1$) at this node (36% of observations fall under this leaf). If the passenger is male, we then check the age of the passenger. If he is older than 9.5 years, then the probability of survival $p(y=1,x_1=M,x_2>9.5)=0.17$, so we predict death ($y=0$). If, on the other hand, the passenger is younger than 9.5 years, we then check if the number of siblings and spouses on board was higher than 2.5; if \"yes\", then the probability of survival  $p(y=1, x_1=M, x_2>9.5, x_3>2.5)=0.05$, so we predict death, otherwise we predict survival with $p(y=1, x_1=M, x_2>9.5 , x_3 \\lt 2.5)=0.89$. Hence, these probabilities are just the empirical fraction of positive examples that satisfy each conjunction of feature values, which defines a path from the root to a leaf.\n",
      "\n",
      "![titanic tree](http://upload.wikimedia.org/wikipedia/commons/f/f3/CART_tree_titanic_survivors.png)\n",
      "\n",
      "We can use a recursive, greedy algorithm to grow a tree. By \"greedy\", we mean that at each step it chooses the most advantageous binary partition, not taking into account the impact of the choice on the quality of subsequent partitions.\n",
      "\n",
      "$$(j^*, t^*) = \\text{argmin}_{j,t} C(\\{\\mathbf{x}_i,y_i: x_{ij} \\le t\\}) + C(\\{\\mathbf{x}_i,y_i: x_{ij} \\gt t\\})$$\n",
      "\n",
      "where $C$ is a cost function, $j$ and $t$ are a variable index and cutpoint, respectively. We will restrict consideration to binary partitions.\n",
      "\n",
      "The function that checks if a node is worth splitting can use several stopping heuristics, including:\n",
      "\n",
      "* regression cost\n",
      "* misclassification rate\n",
      "* entropy\n",
      "* Gini index"
     ]
    },
    {
     "cell_type": "markdown",
     "metadata": {},
     "source": [
      "## Entropy\n",
      "\n",
      "In order to decide on which attribute to split, decision tree learning algorithms use a metric called *information gain*. It measures how well a particular attribute distinguishes among different target classifications. Information gain is measured in terms of the expected reduction in the entropy or impurity of the data. The entropy of a set of probabilities is:\n",
      "\n",
      "$$H(p) = -\\sum_i p_i log_2(p_i)$$\n",
      "\n",
      "If we have a set of binary responses from some variable, all of which are positive/true/1, then knowing the values of the variable does not hold any predictive value for us, since all the outcomes are positive. Hence, the entropy is zero:"
     ]
    },
    {
     "cell_type": "code",
     "collapsed": false,
     "input": [
      "import numpy as np\n",
      "\n",
      "entropy = lambda p: -np.sum(p * np.log2(p)) if not 0 in p else 0"
     ],
     "language": "python",
     "metadata": {},
     "outputs": [],
     "prompt_number": 1
    },
    {
     "cell_type": "code",
     "collapsed": false,
     "input": [
      "entropy([1,0])"
     ],
     "language": "python",
     "metadata": {},
     "outputs": [
      {
       "metadata": {},
       "output_type": "pyout",
       "prompt_number": 2,
       "text": [
        "0"
       ]
      }
     ],
     "prompt_number": 2
    },
    {
     "cell_type": "markdown",
     "metadata": {},
     "source": [
      "However, if the variable splits responses into equal numbers of positive and negative values, then entropy is maximized, and we wish to know about the feature:"
     ]
    },
    {
     "cell_type": "code",
     "collapsed": false,
     "input": [
      "entropy([0.5, 0.5])"
     ],
     "language": "python",
     "metadata": {},
     "outputs": [
      {
       "metadata": {},
       "output_type": "pyout",
       "prompt_number": 3,
       "text": [
        "1.0"
       ]
      }
     ],
     "prompt_number": 3
    },
    {
     "cell_type": "code",
     "collapsed": false,
     "input": [
      "pvals = np.linspace(0, 1)        \n",
      "plt.plot(pvals, [entropy([p,1-p]) for p in pvals])"
     ],
     "language": "python",
     "metadata": {},
     "outputs": [
      {
       "metadata": {},
       "output_type": "pyout",
       "prompt_number": 4,
       "text": [
        "[<matplotlib.lines.Line2D at 0x109791350>]"
       ]
      },
      {
       "metadata": {},
       "output_type": "display_data",
       "png": "[encoded data removed]",
       "text": [
        "<matplotlib.figure.Figure at 0x109314b50>"
       ]
      }
     ],
     "prompt_number": 4
    },
    {
     "cell_type": "markdown",
     "metadata": {},
     "source": [
      "The entropy calculation tells us how much additional information we would obtain with knowledge of the variable.\n",
      "\n",
      "So, if we have a set of candidate covariates from which to choose as a node in a decision tree, we should choose the one that gives us the most information about the response variable (*i.e.* the one with the highest entropy).\n",
      "\n",
      "## Other cost functions\n",
      "\n",
      "Entropy is not the only cost function that can be used to grow decision trees. For example, we can use the misclassification rate:\n",
      "\n",
      "$$C(j,t) = \\frac{1}{n_{jt}} \\sum_{y_i: x_{ij} \\gt t} I(y_i \\ne \\hat{y})$$\n",
      "\n",
      "where $\\hat{y}$ is the most probable class label and $n_{ij}$ is the number of observations in the data subset obtained from splitting via $j,t$.\n",
      "\n",
      "A common choice is the *Gini index*, which is simply the expected error rate:\n",
      "\n",
      "$$C(j,t) = \\sum_{k=1}^K \\hat{\\pi}_{jt}[k] (1 - \\hat{\\pi}_{jt}[k]) = 1 - \\sum_{k=1}^K \\hat{\\pi}_{jt}[k]^2$$\n",
      "\n",
      "where $\\hat{\\pi}_{jt}[k]$ is the probability of an observation being correctly classified as class $k$ for the data subset obtained from splitting via $j,t$ (hence, $(1 - \\hat{\\pi}_{jt}[k])$ is the misclassification probability).\n",
      "\n",
      "In a regression setting, we might instead use a regression cost:\n",
      "\n",
      "$$C(j,t) = \\sum_{y_i: x_{ij} \\gt t} (y_i - \\bar{y})^2$$\n",
      "\n",
      "where $\\bar{y}$ is the mean of the specified data subset."
     ]
    },
    {
     "cell_type": "code",
     "collapsed": false,
     "input": [
      "gini = lambda p: 1. - (np.array(p)**2).sum()"
     ],
     "language": "python",
     "metadata": {},
     "outputs": [],
     "prompt_number": 5
    },
    {
     "cell_type": "code",
     "collapsed": false,
     "input": [
      "pvals = np.linspace(0, 1)        \n",
      "plt.plot(pvals, [entropy([p,1-p])/2. for p in pvals], label='Entropy')\n",
      "plt.plot(pvals, [gini([p,1-p]) for p in pvals], label='Gini')\n",
      "plt.legend()"
     ],
     "language": "python",
     "metadata": {},
     "outputs": [
      {
       "metadata": {},
       "output_type": "pyout",
       "prompt_number": 6,
       "text": [
        "<matplotlib.legend.Legend at 0x109825a50>"
       ]
      },
      {
       "metadata": {},
       "output_type": "display_data",
       "png": "[encoded data removed]",
       "text": [
        "<matplotlib.figure.Figure at 0x10979f2d0>"
       ]
      }
     ],
     "prompt_number": 6
    },
    {
     "cell_type": "markdown",
     "metadata": {},
     "source": [
      "## ID3\n",
      "\n",
      "A given cost function can be used to construct a decision tree via one of several algorithms. The Iterative Dichotomiser 3 (ID3) is on such algorithm, which uses entropy, and a related concept, *information gain*, to choose features and partitions at each classification step in the tree.\n",
      "\n",
      "Information gain is the difference between the current entropy of a system and the entropy measured after a feature is chosen. If $S$ is a set of examples and $X$ is a possible feature on which to partition the examples, then:\n",
      "\n",
      "$$G(S,X) = \\text{Entropy}(S) - \\sum_{x \\in X} \\frac{\\#(S_x)}{\\#(S)} \\text{Entropy}(S_x)$$\n",
      "\n",
      "where $\\#$ is the count function and $x$ is a particular value of $X$.\n",
      "\n",
      "Let's say $S$ is a set of survival events, $S = \\{s_1=survived, s_2=died, s_3=died, s_4=died\\}$ and a particular variable $X$ can have values $\\{x_1, x_2, x_3\\}$. To perform a sample calculation of information gain, we will say that:\n",
      "\n",
      "* $X(s_1) = x_2$\n",
      "* $X(s_2) = x_2$\n",
      "* $X(s_3) = x_3$\n",
      "* $X(x_4) = x_1$\n",
      "\n",
      "The current entropy of this state is:\n",
      "\n",
      "$$\\begin{align}\n",
      "\\text{Entropy}(S) &= -p^{(+)} \\log_2(p^{(+)}) - p^{(-)} \\log_2(p^{(-)}) \\\\\n",
      "&= -0.25 \\log_2(0.25) - 0.75 \\log_2(0.75) \\\\\n",
      "&= 0.5 + 0.311 = 0.811\n",
      "\\end{align}$$\n",
      "\n",
      "Now, we need to compute the information after selecting variable $X$, which is the sum of three terms:\n",
      "\n",
      "$$\\begin{align}\n",
      "\\frac{\\#(S_{x1})}{\\#(S)} \\text{Entropy}(S) &= 0.25 (-0 \\log_2(0) - 1 \\log_2(1)) = 0\\\\\n",
      "\\frac{\\#(S_{x2})}{\\#(S)} \\text{Entropy}(S) &= 0.5 (-0.5 \\log_2(0.5) - 0.5 \\log_2(0.5) = 0.5\\\\\n",
      "\\frac{\\#(S_{x3})}{\\#(S)} \\text{Entropy}(S) &= 0.25 (-0 \\log_2(0) - 1 \\log_2 1) = 0\\\\\n",
      "\\end{align}$$\n",
      "\n",
      "Therefore, the information gain is:\n",
      "\n",
      "$$G(S,X) = 0.811 - (0 + 0.5 + 0) = 0.311$$"
     ]
    },
    {
     "cell_type": "code",
     "collapsed": false,
     "input": [
      "import numpy as np\n",
      "\n",
      "def info_gain(X, y, feature):\n",
      "    # Calculates the information gain based on entropy and the Gini impurity\n",
      "    \n",
      "    gain = 0\n",
      "    n = len(X)\n",
      "\n",
      "    # List the values that feature can take\n",
      "    values = list(set(X[feature]))\n",
      "\n",
      "    feature_counts = np.zeros(len(values))\n",
      "    E = np.zeros(len(values))\n",
      "    ivalue = 0\n",
      "    \n",
      "    # Find where those values appear in X[feature] and the corresponding class\n",
      "    for value in values:\n",
      "        \n",
      "        new_y = [y[i] for i,d in enumerate(X[feature].values) if d==value]\n",
      "        feature_counts[ivalue] += len(new_y)\n",
      "\n",
      "        # Get the values in newClasses\n",
      "        class_values = list(set(new_y))\n",
      "\n",
      "        class_counts = np.zeros(len(class_values))\n",
      "        iclass = 0\n",
      "        for v in class_values:\n",
      "            for c in new_y:\n",
      "                if c == v:\n",
      "                    class_counts[iclass] += 1 \n",
      "            iclass += 1\n",
      "        \n",
      "        nc = float(np.sum(class_counts))\n",
      "        new_entropy = entropy([class_counts[c] / nc for c in range(len(class_values))])\n",
      "        E[ivalue] += new_entropy\n",
      "\n",
      "        # Computes both the Gini gain and the entropy\n",
      "        gain += float(feature_counts[ivalue])/n * E[ivalue]\n",
      "        ivalue += 1\n",
      "        \n",
      "    return gain "
     ],
     "language": "python",
     "metadata": {},
     "outputs": [],
     "prompt_number": 7
    },
    {
     "cell_type": "markdown",
     "metadata": {},
     "source": [
      "Consider a few variables from the titanic database:"
     ]
    },
    {
     "cell_type": "code",
     "collapsed": false,
     "input": [
      "titanic = pd.read_excel(\"../data/titanic.xls\", \"titanic\")\n",
      "titanic.head(1)"
     ],
     "language": "python",
     "metadata": {},
     "outputs": [
      {
       "html": [
        "<div style=\"max-height:1000px;max-width:1500px;overflow:auto;\">\n",
        "<table border=\"1\" class=\"dataframe\">\n",
        "  <thead>\n",
        "    <tr style=\"text-align: right;\">\n",
        "      <th></th>\n",
        "      <th>pclass</th>\n",
        "      <th>survived</th>\n",
        "      <th>name</th>\n",
        "      <th>sex</th>\n",
        "      <th>age</th>\n",
        "      <th>sibsp</th>\n",
        "      <th>parch</th>\n",
        "      <th>ticket</th>\n",
        "      <th>fare</th>\n",
        "      <th>cabin</th>\n",
        "      <th>embarked</th>\n",
        "      <th>boat</th>\n",
        "      <th>body</th>\n",
        "      <th>home.dest</th>\n",
        "    </tr>\n",
        "  </thead>\n",
        "  <tbody>\n",
        "    <tr>\n",
        "      <th>0</th>\n",
        "      <td> 1</td>\n",
        "      <td> 1</td>\n",
        "      <td> Allen, Miss. Elisabeth Walton</td>\n",
        "      <td> female</td>\n",
        "      <td> 29</td>\n",
        "      <td> 0</td>\n",
        "      <td> 0</td>\n",
        "      <td> 24160</td>\n",
        "      <td> 211.3375</td>\n",
        "      <td> B5</td>\n",
        "      <td> S</td>\n",
        "      <td> 2</td>\n",
        "      <td>NaN</td>\n",
        "      <td> St Louis, MO</td>\n",
        "    </tr>\n",
        "  </tbody>\n",
        "</table>\n",
        "</div>"
       ],
       "metadata": {},
       "output_type": "pyout",
       "prompt_number": 8,
       "text": [
        "   pclass  survived                           name     sex  age  sibsp  parch  \\\n",
        "0       1         1  Allen, Miss. Elisabeth Walton  female   29      0      0   \n",
        "\n",
        "  ticket      fare cabin embarked boat  body     home.dest  \n",
        "0  24160  211.3375    B5        S    2   NaN  St Louis, MO  "
       ]
      }
     ],
     "prompt_number": 8
    },
    {
     "cell_type": "code",
     "collapsed": false,
     "input": [
      "y = titanic['survived']\n",
      "X = titanic[['pclass','sex','embarked']]\n",
      "X['adult'] = titanic.age<17\n",
      "\n",
      "info_gain(X, y, 'pclass')"
     ],
     "language": "python",
     "metadata": {},
     "outputs": [
      {
       "metadata": {},
       "output_type": "pyout",
       "prompt_number": 9,
       "text": [
        "0.8890147580167741"
       ]
      }
     ],
     "prompt_number": 9
    },
    {
     "cell_type": "code",
     "collapsed": false,
     "input": [
      "info_gain(X, y, 'sex')"
     ],
     "language": "python",
     "metadata": {},
     "outputs": [
      {
       "metadata": {},
       "output_type": "pyout",
       "prompt_number": 10,
       "text": [
        "0.75391729814273911"
       ]
      }
     ],
     "prompt_number": 10
    },
    {
     "cell_type": "code",
     "collapsed": false,
     "input": [
      "info_gain(X, y, 'embarked')"
     ],
     "language": "python",
     "metadata": {},
     "outputs": [
      {
       "metadata": {},
       "output_type": "pyout",
       "prompt_number": 11,
       "text": [
        "0.93350672011351277"
       ]
      }
     ],
     "prompt_number": 11
    },
    {
     "cell_type": "code",
     "collapsed": false,
     "input": [
      "info_gain(X, y, 'adult')"
     ],
     "language": "python",
     "metadata": {},
     "outputs": [
      {
       "metadata": {},
       "output_type": "pyout",
       "prompt_number": 12,
       "text": [
        "0.94962718318029182"
       ]
      }
     ],
     "prompt_number": 12
    },
    {
     "cell_type": "markdown",
     "metadata": {},
     "source": [
      "Hence, the ID3 algorithm computes the information gain for each variable, selecting the one with the highest value. In this way, it searches the \"tree space\" according to a greedy strategy.\n",
      "\n",
      "A tree can be constructed by recursively selecting the feature from the current dataset with the largest information gain, then removing it from the datset. Recursion stops when there are either no variables remaining, or there is only one class left in the subset (*e.g.* all `True` or all `False`).\n",
      "\n",
      "The ID3 algorithm is as follows:\n",
      "\n",
      "> * if all response data have the same class:\n",
      "> \n",
      ">     - return leaf with data label\n",
      ">     \n",
      "> * else if no features:\n",
      "> \n",
      ">     - return leaf with most common label\n",
      ">     \n",
      "> * else:\n",
      "> \n",
      ">     - choose variable $X'$ that maximizes information gain to be a tree node\n",
      ">     - add branch from node for each value of $X'$\n",
      ">     - for each branch of node:\n",
      ">     \n",
      ">         * calculate $S_{x}$ by removing $X'$ from $S$\n",
      ">         * set $S=S_{x}$ and call algorithm again \n",
      "\n",
      "The greedy approach of maximizing information gain at each step tends to bias solutions towards smaller trees."
     ]
    },
    {
     "cell_type": "code",
     "collapsed": false,
     "input": [
      "wine = pd.read_table(\"../data/textbook/wine.dat\", sep='\\s+')\n",
      "\n",
      "attributes = ['Alcohol',\n",
      "            'Malic acid',\n",
      "            'Ash',\n",
      "            'Alcalinity of ash',\n",
      "            'Magnesium',\n",
      "            'Total phenols',\n",
      "            'Flavanoids',\n",
      "            'Nonflavanoid phenols',\n",
      "            'Proanthocyanins',\n",
      "            'Color intensity',\n",
      "            'Hue',\n",
      "            'OD280/OD315 of diluted wines',\n",
      "            'Proline']\n",
      "\n",
      "grape = wine.pop('region')\n",
      "y = grape\n",
      "wine.columns = attributes\n",
      "X = wine"
     ],
     "language": "python",
     "metadata": {},
     "outputs": [],
     "prompt_number": 13
    },
    {
     "cell_type": "code",
     "collapsed": false,
     "input": [
      "from sklearn import tree\n",
      "from sklearn import cross_validation\n",
      "\n",
      "X_train, X_test, y_train, y_test = cross_validation.train_test_split(\n",
      "        X, y, test_size=0.4, random_state=0)\n",
      "\n",
      "clf = tree.DecisionTreeClassifier(max_features=\"auto\",\n",
      "                                  min_samples_leaf=10)\n",
      "clf.fit(X_train, y_train)"
     ],
     "language": "python",
     "metadata": {},
     "outputs": [
      {
       "metadata": {},
       "output_type": "pyout",
       "prompt_number": 14,
       "text": [
        "DecisionTreeClassifier(compute_importances=None, criterion='gini',\n",
        "            max_depth=None, max_features='auto', min_density=None,\n",
        "            min_samples_leaf=10, min_samples_split=2, random_state=None,\n",
        "            splitter='best')"
       ]
      }
     ],
     "prompt_number": 14
    },
    {
     "cell_type": "markdown",
     "metadata": {},
     "source": [
      "If you have [GraphViz](http://www.graphviz.org) installed, you can draw the resulting tree:"
     ]
    },
    {
     "cell_type": "code",
     "collapsed": false,
     "input": [
      "with open(\"wine.dot\", 'w') as f:\n",
      "    f = tree.export_graphviz(clf, out_file=f)"
     ],
     "language": "python",
     "metadata": {},
     "outputs": [],
     "prompt_number": 15
    },
    {
     "cell_type": "code",
     "collapsed": false,
     "input": [
      "! dot -Tpng wine.dot -o wine.png"
     ],
     "language": "python",
     "metadata": {},
     "outputs": [],
     "prompt_number": 16
    },
    {
     "cell_type": "code",
     "collapsed": false,
     "input": [
      "from IPython.core.display import Image\n",
      "Image(\"wine.png\")"
     ],
     "language": "python",
     "metadata": {},
     "outputs": [
      {
       "metadata": {},
       "output_type": "pyout",
       "png": "[encoded data removed]",
       "prompt_number": 17,
       "text": [
        "<IPython.core.display.Image at 0x1098e6b90>"
       ]
      }
     ],
     "prompt_number": 17
    },
    {
     "cell_type": "code",
     "collapsed": false,
     "input": [
      "preds = clf.predict(X_test)\n",
      "pd.crosstab(y_test, preds, rownames=['actual'], colnames=['prediction'])"
     ],
     "language": "python",
     "metadata": {},
     "outputs": [
      {
       "html": [
        "<div style=\"max-height:1000px;max-width:1500px;overflow:auto;\">\n",
        "<table border=\"1\" class=\"dataframe\">\n",
        "  <thead>\n",
        "    <tr style=\"text-align: right;\">\n",
        "      <th>prediction</th>\n",
        "      <th>1</th>\n",
        "      <th>2</th>\n",
        "      <th>3</th>\n",
        "    </tr>\n",
        "    <tr>\n",
        "      <th>actual</th>\n",
        "      <th></th>\n",
        "      <th></th>\n",
        "      <th></th>\n",
        "    </tr>\n",
        "  </thead>\n",
        "  <tbody>\n",
        "    <tr>\n",
        "      <th>1</th>\n",
        "      <td> 21</td>\n",
        "      <td>  0</td>\n",
        "      <td>  1</td>\n",
        "    </tr>\n",
        "    <tr>\n",
        "      <th>2</th>\n",
        "      <td>  2</td>\n",
        "      <td> 22</td>\n",
        "      <td>  7</td>\n",
        "    </tr>\n",
        "    <tr>\n",
        "      <th>3</th>\n",
        "      <td>  4</td>\n",
        "      <td>  0</td>\n",
        "      <td> 15</td>\n",
        "    </tr>\n",
        "  </tbody>\n",
        "</table>\n",
        "</div>"
       ],
       "metadata": {},
       "output_type": "pyout",
       "prompt_number": 18,
       "text": [
        "prediction   1   2   3\n",
        "actual                \n",
        "1           21   0   1\n",
        "2            2  22   7\n",
        "3            4   0  15"
       ]
      }
     ],
     "prompt_number": 18
    },
    {
     "cell_type": "markdown",
     "metadata": {},
     "source": [
      "## Pruning\n",
      "\n",
      "Despite the *inductive bias* associated with trees that tend to make them small, the ID3 algorithm continues choosing nodes and branches until either it runs out of variables, or all outputs are of the same class. This can clearly lead to overfit trees.\n",
      "\n",
      "To prevent overfitting, we can stop growing the tree if the information gain (or reduction in error, etc.) is not sufficient to justify the extra complexity of adding another node. However, this simple rule is not optimal, because an uninformative subtree can lead to informative ones later on. \n",
      "\n",
      "The standard approach is therefore to grow a full tree, and then to *prune* it. The easiest approach is to remove branches that give the least increase in the error (information gain). To determine how far back to prune, we can evaluate the cross-validated error on each candidate pruning, and then pick the tree whose CV error is within 1 standard error of the minimum.\n",
      "\n",
      "The **C4.5** algorithm extends ID3 by incorporating pruning.\n",
      "\n",
      "## Continuous Variables\n",
      "\n",
      "The implementation of decision trees for discrete (especially binary) variables is clear. When a feature is continous, one strategy is to discretize it. A better appraoch is to modify the tree-growing algorithm such that it chooses a cutpoint along the range of the variable with which to split the variable into two regions. Since there are an infinite number of possible cutpoints, there is additional computation required in order to select a high-value cut point, in terms of information gain or error reduction."
     ]
    },
    {
     "cell_type": "markdown",
     "metadata": {},
     "source": [
      "## Random Forests\n",
      "\n",
      "Decision trees have several advantages: \n",
      "\n",
      "* ease of interpretation\n",
      "* handles continuous and discrete features\n",
      "* invariant to monotone transformation of features\n",
      "* variable selection automated\n",
      "* robust\n",
      "* scalable\n",
      "\n",
      "However, relative to other statistical learning methods, trees do not predict very accurately, due to the greedy nature of the tree construction algorithm. Also, trees tend to be **unstable**, as small changes to the inputs can have large effects on the structure of the tree; poor decisions near the root of the tree will propogate to the rest of the tree. Hence, trees are high variance estimators.\n",
      "\n",
      "One way to reduce the variance of an estimate is to average together many estimates. In the case of deision trees, we can train $T$ different trees on random subsets of the data (with replacement) then average according to:\n",
      "\n",
      "$$\\hat{f}(\\mathbf{x}) = \\frac{1}{T} \\sum_{i=1}^T f_t(\\mathbf{x})$$\n",
      "\n",
      "where $f_t$ is the $t^{th}$ tree. This approach is called \"bootstrap aggregating\", or **bagging*."
     ]
    },
    {
     "cell_type": "code",
     "collapsed": false,
     "input": [
      "from sklearn.ensemble import RandomForestClassifier\n",
      "\n",
      "rf = RandomForestClassifier(n_jobs=2)\n",
      "rf.fit(X_train, y_train)\n",
      "\n",
      "preds = rf.predict(X_test)\n",
      "pd.crosstab(y_test, preds, rownames=['actual'], colnames=['prediction'])"
     ],
     "language": "python",
     "metadata": {},
     "outputs": [
      {
       "html": [
        "<div style=\"max-height:1000px;max-width:1500px;overflow:auto;\">\n",
        "<table border=\"1\" class=\"dataframe\">\n",
        "  <thead>\n",
        "    <tr style=\"text-align: right;\">\n",
        "      <th>prediction</th>\n",
        "      <th>1</th>\n",
        "      <th>2</th>\n",
        "      <th>3</th>\n",
        "    </tr>\n",
        "    <tr>\n",
        "      <th>actual</th>\n",
        "      <th></th>\n",
        "      <th></th>\n",
        "      <th></th>\n",
        "    </tr>\n",
        "  </thead>\n",
        "  <tbody>\n",
        "    <tr>\n",
        "      <th>1</th>\n",
        "      <td> 22</td>\n",
        "      <td>  0</td>\n",
        "      <td>  0</td>\n",
        "    </tr>\n",
        "    <tr>\n",
        "      <th>2</th>\n",
        "      <td>  2</td>\n",
        "      <td> 26</td>\n",
        "      <td>  3</td>\n",
        "    </tr>\n",
        "    <tr>\n",
        "      <th>3</th>\n",
        "      <td>  0</td>\n",
        "      <td>  0</td>\n",
        "      <td> 19</td>\n",
        "    </tr>\n",
        "  </tbody>\n",
        "</table>\n",
        "</div>"
       ],
       "metadata": {},
       "output_type": "pyout",
       "prompt_number": 19,
       "text": [
        "prediction   1   2   3\n",
        "actual                \n",
        "1           22   0   0\n",
        "2            2  26   3\n",
        "3            0   0  19"
       ]
      }
     ],
     "prompt_number": 19
    },
    {
     "cell_type": "heading",
     "level": 2,
     "metadata": {},
     "source": [
      "Decision Tree Regression"
     ]
    },
    {
     "cell_type": "markdown",
     "metadata": {},
     "source": [
      "While it may not be apparent how to use trees for regression analysis, it requires only a straightforward modification to the algorithm. A popular tree-based regression algorithm is the **classification and regression tree** (CART).\n",
      "\n",
      "Consider again the salmon-spawning dataset, for it which seems more appropriate to apply a regression model rather than classification."
     ]
    },
    {
     "cell_type": "code",
     "collapsed": false,
     "input": [
      "import pandas as pd\n",
      "\n",
      "salmon = pd.read_table(\"../data/textbook/salmon.dat\", sep='\\s*', index_col=0)\n",
      "plt.scatter(x=salmon.spawners, y=salmon.recruits)"
     ],
     "language": "python",
     "metadata": {},
     "outputs": [
      {
       "metadata": {},
       "output_type": "pyout",
       "prompt_number": 20,
       "text": [
        "<matplotlib.collections.PathCollection at 0x10ae65550>"
       ]
      },
      {
       "metadata": {},
       "output_type": "display_data",
       "png": "[encoded data removed]",
       "text": [
        "<matplotlib.figure.Figure at 0x1098e6490>"
       ]
      }
     ],
     "prompt_number": 20
    },
    {
     "cell_type": "markdown",
     "metadata": {},
     "source": [
      "In this context, none of the cost functions considered so far would be appropriate. Instead, it would be more suitable to use something like mean squared error (MSE) to guide the growth of the tree. With this, we can proceed to choose (1) a variaible on which to split the dataset and (2) (in the case of continuous features) a value of the variable at which to place a node.\n",
      "\n",
      "Recall that the output of a tree is just a constant value for each leaf; here, we simply return the average of all the response values in the region. Thus, we choose a cut point that minimizes the MSE at each step."
     ]
    },
    {
     "cell_type": "code",
     "collapsed": false,
     "input": [
      "# Transmogrify data\n",
      "X = np.atleast_2d(salmon.spawners).T"
     ],
     "language": "python",
     "metadata": {},
     "outputs": [],
     "prompt_number": 21
    },
    {
     "cell_type": "code",
     "collapsed": false,
     "input": [
      "from sklearn.tree import DecisionTreeRegressor\n",
      "clf = DecisionTreeRegressor(max_depth=7)\n",
      "clf.fit(X, salmon.recruits)\n",
      "\n",
      "X_fit = np.linspace(0, 500).reshape((-1, 1))\n",
      "y_fit_1 = clf.predict(X_fit)\n",
      "\n",
      "plt.plot(X_fit.ravel(), y_fit_1, color='blue')\n",
      "plt.plot(X.ravel(), salmon.recruits, '.k')"
     ],
     "language": "python",
     "metadata": {},
     "outputs": [
      {
       "metadata": {},
       "output_type": "pyout",
       "prompt_number": 22,
       "text": [
        "[<matplotlib.lines.Line2D at 0x10ae4ea50>]"
       ]
      },
      {
       "metadata": {},
       "output_type": "display_data",
       "png": "[encoded data removed]",
       "text": [
        "<matplotlib.figure.Figure at 0x10ae4ec10>"
       ]
      }
     ],
     "prompt_number": 22
    },
    {
     "cell_type": "markdown",
     "metadata": {},
     "source": [
      "A single decision tree allows us to estimate the signal in a non-parametric way,\n",
      "but clearly has some issues.  In some regions, the model shows high bias and\n",
      "under-fits the data\n",
      "(seen in the long flat lines which don't follow the contours of the data),\n",
      "while in other regions the model shows high variance and over-fits the data\n",
      "(reflected in the narrow spikes which are influenced by noise in single points).\n",
      "\n",
      "One way to address this is to use an ensemble method, like random forests, so that the\n",
      "effects of their over-fitting go away on average. \n",
      "\n",
      "Here we will use a random forest of 200 trees to reduce the tendency of each\n",
      "tree to over-fitting the data."
     ]
    },
    {
     "cell_type": "code",
     "collapsed": false,
     "input": [
      "from sklearn.ensemble import RandomForestRegressor\n",
      "clf = RandomForestRegressor(n_estimators=200, max_depth=7)\n",
      "clf.fit(X, salmon.recruits)\n",
      "\n",
      "y_fit_200 = clf.predict(X_fit)\n",
      "\n",
      "plt.plot(X_fit.ravel(), y_fit_200, color='blue')\n",
      "plt.plot(X.ravel(), salmon.recruits, '.k')"
     ],
     "language": "python",
     "metadata": {},
     "outputs": [
      {
       "metadata": {},
       "output_type": "pyout",
       "prompt_number": 23,
       "text": [
        "[<matplotlib.lines.Line2D at 0x10ae6b610>]"
       ]
      },
      {
       "metadata": {},
       "output_type": "display_data",
       "png": "[encoded data removed]",
       "text": [
        "<matplotlib.figure.Figure at 0x10979b510>"
       ]
      }
     ],
     "prompt_number": 23
    },
    {
     "cell_type": "heading",
     "level": 2,
     "metadata": {},
     "source": [
      "Selecting the Optimal Estimator via Cross-Validation"
     ]
    },
    {
     "cell_type": "code",
     "collapsed": false,
     "input": [
      "from sklearn import grid_search\n",
      "\n",
      "rf = RandomForestRegressor()\n",
      "parameters = {'n_estimators':[100, 200, 300, 400],\n",
      "              'max_depth':[3, 5, 7, 9, 11]}\n",
      "\n",
      "# Warning: be sure your data is shuffled before using GridSearch!\n",
      "clf_grid = grid_search.GridSearchCV(rf, parameters)\n",
      "clf_grid.fit(X, salmon.recruits)"
     ],
     "language": "python",
     "metadata": {},
     "outputs": [
      {
       "metadata": {},
       "output_type": "pyout",
       "prompt_number": 24,
       "text": [
        "GridSearchCV(cv=None,\n",
        "       estimator=RandomForestRegressor(bootstrap=True, compute_importances=None,\n",
        "           criterion='mse', max_depth=None, max_features='auto',\n",
        "           min_density=None, min_samples_leaf=1, min_samples_split=2,\n",
        "           n_estimators=10, n_jobs=1, oob_score=False, random_state=None,\n",
        "           verbose=0),\n",
        "       fit_params={}, iid=True, loss_func=None, n_jobs=1,\n",
        "       param_grid={'n_estimators': [100, 200, 300, 400], 'max_depth': [3, 5, 7, 9, 11]},\n",
        "       pre_dispatch='2*n_jobs', refit=True, score_func=None, scoring=None,\n",
        "       verbose=0)"
       ]
      }
     ],
     "prompt_number": 24
    },
    {
     "cell_type": "code",
     "collapsed": false,
     "input": [
      "rf_best = clf_grid.best_estimator_\n",
      "X_fit = np.linspace(0, 500).reshape((-1, 1))\n",
      "y_fit_best = rf_best.predict(X_fit)\n",
      "\n",
      "print rf_best.n_estimators, rf_best.max_depth\n",
      "\n",
      "plt.plot(X_fit.ravel(), y_fit_best, color='blue')\n",
      "plt.plot(X.ravel(), salmon.recruits, '.k')"
     ],
     "language": "python",
     "metadata": {},
     "outputs": [
      {
       "output_type": "stream",
       "stream": "stdout",
       "text": [
        "100 5\n"
       ]
      },
      {
       "metadata": {},
       "output_type": "pyout",
       "prompt_number": 25,
       "text": [
        "[<matplotlib.lines.Line2D at 0x10af98dd0>]"
       ]
      },
      {
       "metadata": {},
       "output_type": "display_data",
       "png": "[encoded data removed]",
       "text": [
        "<matplotlib.figure.Figure at 0x10af98f50>"
       ]
      }
     ],
     "prompt_number": 25
    },
    {
     "cell_type": "heading",
     "level": 2,
     "metadata": {},
     "source": [
      "Another option: Gradient Boosting"
     ]
    },
    {
     "cell_type": "markdown",
     "metadata": {},
     "source": [
      "Another Ensemble method that can be useful is *Boosting*. Boosting was originally derived in the computational learning theory literature, where it was proved that one could boost the performance of any \"weak\" learner arbitrarily high, provided the weak learner could always perform slightly better than chance. \n",
      "The idea is that by sequentially applying very fast, simple models, we can get a\n",
      "total model error which is better than any of the individual pieces.\n",
      "\n",
      "For regression problems, boosting is a form of \u2018functional gradient descent\u2019. Consider a cost function (like MSE) that represents the loss in predictive performance due to a suboptimal model. Boosting is a numerical optimization technique for minimizing the loss function by adding, at each step, a new tree that best reduces (by stepping down the gradient) the cost function. For boosted regression trees, the first regression tree is the one that, for the selected tree size, maximally reduces the loss function. For subsequent steps, the focus is on the residuals: on variation in the response that is not so far explained by the model.\n",
      "\n",
      "The process is stagewise, meaning that existing trees are left unchanged as the model is enlarged. Only the fitted value for each observation is re-estimated at each step to reflect the contribution of the newly added tree. The final model is a linear combination of many trees (usually hundreds to thousands) that can be thought of as a regression model where each term itself is a tree.\n",
      "\n",
      "Boosted decision trees are typically among the most powerful classifiers. In some cases, the test set error continues to decline even after the training set error has reached zero\n",
      "\n",
      "Here, rather than looking at 200 parallel estimators, we construct a chain of 200 estimators\n",
      "which iteratively refine the results of the previous estimator."
     ]
    },
    {
     "cell_type": "code",
     "collapsed": false,
     "input": [
      "from sklearn.ensemble import GradientBoostingRegressor\n",
      "clf = GradientBoostingRegressor(n_estimators=200, max_depth=3)\n",
      "clf.fit(X, salmon.recruits)\n",
      "\n",
      "y_fit_200 = clf.predict(X_fit)\n",
      "\n",
      "plt.plot(X_fit.ravel(), y_fit_200, color='blue')\n",
      "plt.plot(X.ravel(), salmon.recruits, '.k')"
     ],
     "language": "python",
     "metadata": {},
     "outputs": [
      {
       "metadata": {},
       "output_type": "pyout",
       "prompt_number": 26,
       "text": [
        "[<matplotlib.lines.Line2D at 0x10ae6b550>]"
       ]
      },
      {
       "metadata": {},
       "output_type": "display_data",
       "png": "[encoded data removed]",
       "text": [
        "<matplotlib.figure.Figure at 0x10af05590>"
       ]
      }
     ],
     "prompt_number": 26
    },
    {
     "cell_type": "markdown",
     "metadata": {},
     "source": [
      "### Exercise: Cross-validating Gradient Boosted Trees"
     ]
    },
    {
     "cell_type": "markdown",
     "metadata": {},
     "source": [
      "Consider again the Titanic dataset. Use a grid search to optimize the number of estimators and max_depth for a Gradient Boosted Decision tree."
     ]
    },
    {
     "cell_type": "code",
     "collapsed": false,
     "input": [],
     "language": "python",
     "metadata": {},
     "outputs": [],
     "prompt_number": 26
    },
    {
     "cell_type": "markdown",
     "metadata": {},
     "source": [
      "Plug this optimal ``max_depth`` into a *single* decision tree.  Does this single tree over-fit or under-fit the data?"
     ]
    },
    {
     "cell_type": "code",
     "collapsed": false,
     "input": [],
     "language": "python",
     "metadata": {},
     "outputs": [],
     "prompt_number": 26
    },
    {
     "cell_type": "markdown",
     "metadata": {},
     "source": [
      "Repeat this for the Random Forest.  Construct a single decision tree using the ``max_depth``\n",
      "which is optimal for the Random Forest.  Does this single tree over-fit or under-fit the data?"
     ]
    },
    {
     "cell_type": "code",
     "collapsed": false,
     "input": [],
     "language": "python",
     "metadata": {},
     "outputs": [],
     "prompt_number": 26
    },
    {
     "cell_type": "markdown",
     "metadata": {},
     "source": [
      "---"
     ]
    },
    {
     "cell_type": "code",
     "collapsed": false,
     "input": [
      "from IPython.core.display import HTML\n",
      "def css_styling():\n",
      "    styles = open(\"styles/custom.css\", \"r\").read()\n",
      "    return HTML(styles)\n",
      "css_styling()"
     ],
     "language": "python",
     "metadata": {},
     "outputs": [
      {
       "html": [
        "<style>\n",
        "    @font-face {\n",
        "        font-family: \"Computer Modern\";\n",
        "        src: url('http://mirrors.ctan.org/fonts/cm-unicode/fonts/otf/cmunss.otf');\n",
        "    }\n",
        "    div.cell{\n",
        "        width: 90%;\n",
        "/*        margin-left:auto;*/\n",
        "/*        margin-right:auto;*/\n",
        "    }\n",
        "    ul {\n",
        "        line-height: 145%;\n",
        "        font-size: 90%;\n",
        "    }\n",
        "    li {\n",
        "        margin-bottom: 1em;\n",
        "    }\n",
        "    h1 {\n",
        "        font-family: Helvetica, serif;\n",
        "    }\n",
        "    h4{\n",
        "        margin-top: 12px;\n",
        "        margin-bottom: 3px;\n",
        "       }\n",
        "    div.text_cell_render{\n",
        "        font-family: Computer Modern, \"Helvetica Neue\", Arial, Helvetica, Geneva, sans-serif;\n",
        "        line-height: 145%;\n",
        "        font-size: 130%;\n",
        "        width: 90%;\n",
        "        margin-left:auto;\n",
        "        margin-right:auto;\n",
        "    }\n",
        "    .CodeMirror{\n",
        "            font-family: \"Source Code Pro\", source-code-pro,Consolas, monospace;\n",
        "    }\n",
        "/*    .prompt{\n",
        "        display: None;\n",
        "    }*/\n",
        "    .text_cell_render h5 {\n",
        "        font-weight: 300;\n",
        "        font-size: 16pt;\n",
        "        color: #4057A1;\n",
        "        font-style: italic;\n",
        "        margin-bottom: 0.5em;\n",
        "        margin-top: 0.5em;\n",
        "        display: block;\n",
        "    }\n",
        "\n",
        "    .warning{\n",
        "        color: rgb( 240, 20, 20 )\n",
        "        }\n",
        "</style>\n",
        "<script>\n",
        "    MathJax.Hub.Config({\n",
        "                        TeX: {\n",
        "                           extensions: [\"AMSmath.js\"]\n",
        "                           },\n",
        "                tex2jax: {\n",
        "                    inlineMath: [ ['$','$'], [\"\\\\(\",\"\\\\)\"] ],\n",
        "                    displayMath: [ ['$$','$$'], [\"\\\\[\",\"\\\\]\"] ]\n",
        "                },\n",
        "                displayAlign: 'center', // Change this to 'center' to center equations.\n",
        "                \"HTML-CSS\": {\n",
        "                    styles: {'.MathJax_Display': {\"margin\": 4}}\n",
        "                }\n",
        "        });\n",
        "</script>"
       ],
       "metadata": {},
       "output_type": "pyout",
       "prompt_number": 27,
       "text": [
        "<IPython.core.display.HTML at 0x10ae50c10>"
       ]
      }
     ],
     "prompt_number": 27
    }
   ],
   "metadata": {}
  }
 ]
}