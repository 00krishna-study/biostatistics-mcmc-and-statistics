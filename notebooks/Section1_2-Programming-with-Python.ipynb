{
 "metadata": {
  "name": ""
 },
 "nbformat": 3,
 "nbformat_minor": 0,
 "worksheets": [
  {
   "cells": [
    {
     "cell_type": "markdown",
     "metadata": {},
     "source": [
      "# Programming with Python"
     ]
    },
    {
     "cell_type": "markdown",
     "metadata": {},
     "source": [
      "## Control Flow Statements\n",
      "\n",
      "The control flow of  a program determines the order in which lines of code are executed. All else being equal, Python code is executed linearly, in the order that lines appear in the program. However, all is not usually equal, and so the appropriate control flow is frequently specified with the help of control flow statements. These include loops, conditional statements and calls to functions. Let\u2019s look at a few of these here.\n",
      "\n",
      "***for statements***  \n",
      "One way to repeatedly execute a block of statements (i.e. loop) is to use a `for` statement. These statements iterate over the number of elements in a specified sequence, according to the following syntax:"
     ]
    },
    {
     "cell_type": "code",
     "collapsed": false,
     "input": [
      "for letter in 'ciao':\n",
      "    print('give me a {0}'.format(letter.upper()))"
     ],
     "language": "python",
     "metadata": {},
     "outputs": []
    },
    {
     "cell_type": "markdown",
     "metadata": {},
     "source": [
      "Recall that strings are simply regarded as sequences of characters. Hence, the above `for` statement loops over each letter, converting each to upper case with the `upper()` method and printing it. Similarly, as shown in the introduction, list comprehensions may be constructed using `for` statements:"
     ]
    },
    {
     "cell_type": "code",
     "collapsed": false,
     "input": [
      "[i**2 for i in range(10)]"
     ],
     "language": "python",
     "metadata": {},
     "outputs": []
    },
    {
     "cell_type": "markdown",
     "metadata": {},
     "source": [
      "Here, the expression loops over range(10) -- the sequence from 0 to 9 -- and squares each before placing it in the returned list.\n",
      "\n",
      "***if statements***  \n",
      "As the name implies, `if` statements execute particular sections of code depending on some tested condition. For example, to code an absolute value function, one might employ conditional statements:\n"
     ]
    },
    {
     "cell_type": "code",
     "collapsed": false,
     "input": [
      "def absval(some_list):\n",
      "\n",
      "    # Create empty list\n",
      "    absolutes = []    \n",
      "\n",
      "    # Loop over elements in some_list\n",
      "    for value in some_list:\n",
      "\n",
      "        # Conditional statement\n",
      "        if value<0:\n",
      "            # Negative value\n",
      "            absolutes.append(-value)\n",
      "\n",
      "        else:\n",
      "            # Positive value\n",
      "            absolutes.append(value)\n",
      "    \n",
      "    return absolutes "
     ],
     "language": "python",
     "metadata": {},
     "outputs": []
    },
    {
     "cell_type": "markdown",
     "metadata": {},
     "source": [
      "Here, each value in `some_list` is tested for the condition that it is negative, in which case it is multiplied by -1, otherwise it is appended as-is. For conditions that have more than two possible values, the elif statement can be used:"
     ]
    },
    {
     "cell_type": "code",
     "collapsed": false,
     "input": [
      "x = 5\n",
      "if x<0:\n",
      "    print('x is negative')\n",
      "elif x%2:\n",
      "    print('x is positive and odd')\n",
      "else:\n",
      "    print('x is even and non-negative')"
     ],
     "language": "python",
     "metadata": {},
     "outputs": []
    },
    {
     "cell_type": "markdown",
     "metadata": {},
     "source": [
      "***while statements***  \n",
      "\n",
      "A different type of conditional loop is provided by the `while` statement. Rather than iterating a specified number of times, according to a given sequence, `while` executes its block of code repeatedly, until its condition is no longer true. For example, suppose we want to sample from a normal distribution, but are only interested in positive-valued samples. The following function is one solution:"
     ]
    },
    {
     "cell_type": "code",
     "collapsed": false,
     "input": [
      "# Import function\n",
      "from numpy.random import normal\n",
      "\n",
      "def positive_normals(how_many):\n",
      "\n",
      "    # Create empty list\n",
      "    values = []\n",
      "\n",
      "    # Loop until we have specified number of samples\n",
      "    while (len(values) < how_many):\n",
      "\n",
      "        # Sample from standard normal\n",
      "        x = normal(0,1)\n",
      "\n",
      "        # Append if positive\n",
      "        if x>0: values.append(x)\n",
      "\n",
      "    return values    "
     ],
     "language": "python",
     "metadata": {},
     "outputs": []
    },
    {
     "cell_type": "markdown",
     "metadata": {},
     "source": [
      "This function iteratively samples from a standard normal distribution, and appends it to the output array if it is positive, stopping to return the array once the specified number of values have been added.\n",
      "\t\n",
      "Obviously, the body of the `while` statement should contain code that eventually renders the condition false, otherwise the loop will never end! An exception to this is if the body of the statement contains a `break` or `return` statement; in either case, the loop will be interrupted.\n"
     ]
    },
    {
     "cell_type": "markdown",
     "metadata": {},
     "source": [
      "## Error Handling\n",
      "\n",
      "Inevitably, some code you write will generate errors, at least in some situations. Unless we explicitly anticipate and **handle** these errors, they will cause your code to halt (sometimes this is a good thing!). Errors are handled using `try/except` blocks.\n",
      "\n",
      "If code executed in the `try` block generates an error, code execution moves to the `except` block. If the exception that is specified corresponsd to that which has been raised, the code in the `except` block is executed before continuing; otherwise, the exception is carried out and the code is halted."
     ]
    },
    {
     "cell_type": "code",
     "collapsed": false,
     "input": [
      "absval(-5)"
     ],
     "language": "python",
     "metadata": {},
     "outputs": []
    },
    {
     "cell_type": "markdown",
     "metadata": {},
     "source": [
      "In the call to `absval`, we passed a single negative integer, whereas the function expects some sort of iterable data structure. Other than changing the function itself, we can avoid this error using exception handling."
     ]
    },
    {
     "cell_type": "code",
     "collapsed": false,
     "input": [
      "x = -5\n",
      "try:\n",
      "    absval(x)\n",
      "except TypeError:\n",
      "    print('The argument to absval must be iterable!')"
     ],
     "language": "python",
     "metadata": {},
     "outputs": []
    },
    {
     "cell_type": "code",
     "collapsed": false,
     "input": [
      "x = -5\n",
      "try:\n",
      "    absval(x)\n",
      "except TypeError:\n",
      "    absval([x])"
     ],
     "language": "python",
     "metadata": {},
     "outputs": []
    },
    {
     "cell_type": "markdown",
     "metadata": {},
     "source": [
      "We can raise exceptions manually by using the `raise` expression."
     ]
    },
    {
     "cell_type": "code",
     "collapsed": false,
     "input": [
      "raise ValueError('This is the wrong value')"
     ],
     "language": "python",
     "metadata": {},
     "outputs": []
    },
    {
     "cell_type": "code",
     "collapsed": false,
     "input": [
      "try:\n",
      "    raise ValueError('This is the wrong value')\n",
      "except ValueError:\n",
      "    pass"
     ],
     "language": "python",
     "metadata": {},
     "outputs": []
    },
    {
     "cell_type": "markdown",
     "metadata": {},
     "source": [
      "## Importing and Manipulating Data\n",
      "\n",
      "Python includes operations for importing and exporting data from files and binary objects, and third-party packages exist for database connectivity. The easiest way to import data from a file is to parse delimited text file, which can usually be exported from spreadsheets and databases. In fact, file is a built-in type in python. Data may be read from and written to regular files by specifying them as file objects:"
     ]
    },
    {
     "cell_type": "code",
     "collapsed": false,
     "input": [
      "microbiome = open('../data/microbiome.csv')"
     ],
     "language": "python",
     "metadata": {},
     "outputs": []
    },
    {
     "cell_type": "markdown",
     "metadata": {},
     "source": [
      "Here, a file containing microbiome data in a comma-delimited format is opened, and assigned to an object, called `microbiome`. The next step is to transfer the information in the file to a usable data structure in Python. Since this dataset contains four variables, the name of the taxon, the patient identifier (de-identified), the bacteria count in tissue and the bacteria count in stool, it is convenient to use a dictionary. This allows each variable to be specified by name. First, a dictionary object is initialized, with appropriate keys and corresponding lists, initially empty:"
     ]
    },
    {
     "cell_type": "code",
     "collapsed": false,
     "input": [
      "mb_dict = {'taxon':[], 'patient':[], 'tissue':[], 'stool':[]} "
     ],
     "language": "python",
     "metadata": {},
     "outputs": []
    },
    {
     "cell_type": "markdown",
     "metadata": {},
     "source": [
      "It is then a matter of looping over each line of the data. Python file objects are iterable, essentially just a sequence of lines, and fit naturally into a for statement.\n",
      "for line in snorkeldata:"
     ]
    },
    {
     "cell_type": "code",
     "collapsed": false,
     "input": [
      "for line in microbiome:\n",
      "    taxon,patient,tissue,stool = line.split(',')\n",
      "    mb_dict['taxon'].append(taxon)\n",
      "    mb_dict['patient'].append(int(patient))\n",
      "    mb_dict['tissue'].append(int(tissue))\n",
      "    mb_dict['stool'].append(int(stool))"
     ],
     "language": "python",
     "metadata": {},
     "outputs": []
    },
    {
     "cell_type": "markdown",
     "metadata": {},
     "source": [
      "For each line in the file, data elements are split by the comma delimiter, using the `split` method that is built-in to string objects. Each datum is subsequently appended to the appropriate list stored in the dictionary. After all the data is parsed, it is polite to close the file:"
     ]
    },
    {
     "cell_type": "code",
     "collapsed": false,
     "input": [
      "microbiome.close()"
     ],
     "language": "python",
     "metadata": {},
     "outputs": []
    },
    {
     "cell_type": "markdown",
     "metadata": {},
     "source": [
      "The data can now be readily accessed by indexing the appropriate variable by name:"
     ]
    },
    {
     "cell_type": "code",
     "collapsed": false,
     "input": [
      "mb_dict['tissue'][:10]"
     ],
     "language": "python",
     "metadata": {},
     "outputs": []
    },
    {
     "cell_type": "markdown",
     "metadata": {},
     "source": [
      "A second approach to importing data involves interfacing directly with a relational database management system. Relational databases are far more efficient for storing, maintaining and querying data than plain text files or spreadsheets, particularly for large datasets or multiple tables. A number of third parties have created packages for database access in Python. For example, `sqlite3` is a package that provides connectivity for SQLite databases:"
     ]
    },
    {
     "cell_type": "code",
     "collapsed": false,
     "input": [
      "import sqlite3\t\t# import database package, and connect\n",
      "db = sqlite3.connect(database='../data/baseball-archive-2011.sqlite')\n",
      "cur = db.cursor()\t# create a cursor object to mediate\n",
      "\t\t\t\t    # communication with database"
     ],
     "language": "python",
     "metadata": {},
     "outputs": []
    },
    {
     "cell_type": "code",
     "collapsed": false,
     "input": [
      "# run query\n",
      "cur.execute('SELECT playerid, HR, SB FROM Batting WHERE yearID=1970')\n",
      "baseball = cur.fetchall()\t# fetch data, and assign to variable\n",
      "baseball[:10]"
     ],
     "language": "python",
     "metadata": {},
     "outputs": []
    },
    {
     "cell_type": "markdown",
     "metadata": {},
     "source": [
      "## Functions\n",
      "\n",
      "Python uses the `def` statement to encapsulate code into a callable function. Here again is a very simple Python function:"
     ]
    },
    {
     "cell_type": "code",
     "collapsed": false,
     "input": [
      "# Function for calulating the mean of some data\n",
      "def mean(data):\n",
      "\n",
      "    # Initialize sum to zero\n",
      "    sum_x = 0.0\n",
      "\n",
      "    # Loop over data\n",
      "    for x in data:\n",
      "\n",
      "        # Add to sum\n",
      "        sum_x += x \n",
      "    \n",
      "    # Divide by number of elements in list, and return\n",
      "    return sum_x / len(data)"
     ],
     "language": "python",
     "metadata": {},
     "outputs": []
    },
    {
     "cell_type": "markdown",
     "metadata": {},
     "source": [
      "As we can see, arguments are specified in parentheses following the function name. If there are sensible \"default\" values, they can be specified as key-value pairs."
     ]
    },
    {
     "cell_type": "code",
     "collapsed": false,
     "input": [
      "def var(data, sample=True):\n",
      "\n",
      "    # Get mean of data from function above\n",
      "    x_bar = mean(data)\n",
      "\n",
      "    # Do sum of squares in one line\n",
      "    sum_squares = sum([(x - x_bar)**2 for x in data])\n",
      "\n",
      "    # Divide by n-1 and return\n",
      "    if sample:\n",
      "        return sum_squares/(len(data)-1)\n",
      "    return sum_squares/len(data)"
     ],
     "language": "python",
     "metadata": {},
     "outputs": []
    },
    {
     "cell_type": "markdown",
     "metadata": {},
     "source": [
      "Non-keyword arguments must always predede keyword arguments, and must always be presented in order; order is not important for keyword arguments.\n",
      "\n",
      "Arguments can also be passed to functions as a `tuple`/`list`/`dict` using the asterisk notation."
     ]
    },
    {
     "cell_type": "code",
     "collapsed": false,
     "input": [
      "def some_computation(a=-1, b=4.3, c=7):\n",
      "    return (a + b) / float(c)\n",
      "\n",
      "args = (5, 4, 3)\n",
      "some_computation(*args)"
     ],
     "language": "python",
     "metadata": {},
     "outputs": []
    },
    {
     "cell_type": "code",
     "collapsed": false,
     "input": [
      "kwargs = {'b':4, 'a':5, 'c':3}\n",
      "some_computation(**kwargs)"
     ],
     "language": "python",
     "metadata": {},
     "outputs": []
    },
    {
     "cell_type": "markdown",
     "metadata": {},
     "source": [
      "The `lambda` statement creates anonymous one-line functions that can simply be assigned to a name."
     ]
    },
    {
     "cell_type": "code",
     "collapsed": false,
     "input": [
      "normalize = lambda data: (np.array(data) - np.mean(data)) / np.std(data)"
     ],
     "language": "python",
     "metadata": {},
     "outputs": []
    },
    {
     "cell_type": "markdown",
     "metadata": {},
     "source": [
      "or not:"
     ]
    },
    {
     "cell_type": "code",
     "collapsed": false,
     "input": [
      "(lambda data: (np.array(data) - np.mean(data)) / np.std(data))([5,8,3,8,3,1,2,1])"
     ],
     "language": "python",
     "metadata": {},
     "outputs": []
    },
    {
     "cell_type": "markdown",
     "metadata": {},
     "source": [
      "Python has several built-in, higher-order functions that are useful."
     ]
    },
    {
     "cell_type": "code",
     "collapsed": false,
     "input": [
      "filter(lambda x: x > 5, range(10))"
     ],
     "language": "python",
     "metadata": {},
     "outputs": []
    },
    {
     "cell_type": "code",
     "collapsed": false,
     "input": [
      "abs([5,-6])"
     ],
     "language": "python",
     "metadata": {},
     "outputs": []
    },
    {
     "cell_type": "code",
     "collapsed": false,
     "input": [
      "map(abs, [5, -6])"
     ],
     "language": "python",
     "metadata": {},
     "outputs": []
    },
    {
     "cell_type": "markdown",
     "metadata": {},
     "source": [
      "## Example: Least Squares Estimation\n",
      "\n",
      "Lets try coding a statistical function. Suppose we want to estimate the parameters of a simple linear regression model. The objective of regression analysis is to specify an equation that will predict some response variable $Y$ based on a set of predictor variables $X$. This is done by fitting parameter values $\\beta$ of a regression model using extant data for $X$ and $Y$. This equation has the form:\n",
      "\n",
      "$$Y = X\\beta + \\epsilon$$\n",
      "\ufffc\n",
      "where $\\epsilon$ is a vector of errors. One way to fit this model is using the method of *least squares*, which is given by:\n",
      "\ufffc\n",
      "$$\\hat{\\beta} = (X\\prime X)^{-1}X\\prime Y$$\n",
      "\n",
      "We can write a function that calculates this estimate, with the help of some functions from other modules:"
     ]
    },
    {
     "cell_type": "code",
     "collapsed": false,
     "input": [
      "from numpy.linalg import inv\n",
      "from numpy import transpose, array, dot"
     ],
     "language": "python",
     "metadata": {},
     "outputs": []
    },
    {
     "cell_type": "markdown",
     "metadata": {},
     "source": [
      "We will call this function `solve`, requiring the predictor and response variables as arguments. For simplicity, we will restrict the function to univariate regression, whereby only a single slope and intercept are estimated:"
     ]
    },
    {
     "cell_type": "code",
     "collapsed": false,
     "input": [
      "def solve(x,y):\n",
      "    'Estimates regession coefficents from data'\n",
      "\n",
      "    '''\n",
      "    The first step is to specify the design matrix. For this, \n",
      "    we need to create a vector of ones (corresponding to the intercept term, \n",
      "    and along with x, create a n x 2 array:\n",
      "    '''\n",
      "    X = array([[1]*len(x), x])\n",
      "\n",
      "    '''\n",
      "    An array is a data structure from the numpy package, similar to a list, \n",
      "    but allowing for multiple dimensions. Next, we calculate the transpose of x, \n",
      "    using another numpy function, transpose\n",
      "    '''\n",
      "    Xt = transpose(X)\n",
      "\n",
      "    '''\n",
      "    Finally, we use the matrix multiplication function dot, also from numpy \n",
      "    to calculate the dot product. The inverse function is provided by the LinearAlgebra \n",
      "    package. Provided that x is not singular (which would raise an exception), this \n",
      "    yields estimates of the intercept and slope, as an array\n",
      "    '''\n",
      "    b_hat = dot(inv(dot(X,Xt)), dot(X,y))\n",
      "\n",
      "    return b_hat "
     ],
     "language": "python",
     "metadata": {},
     "outputs": []
    },
    {
     "cell_type": "markdown",
     "metadata": {},
     "source": [
      "Here is solve in action:"
     ]
    },
    {
     "cell_type": "code",
     "collapsed": false,
     "input": [
      "solve((10,5,10,11,14),(-4,3,0,23,0.6))"
     ],
     "language": "python",
     "metadata": {},
     "outputs": []
    },
    {
     "cell_type": "markdown",
     "metadata": {},
     "source": [
      "## Object-oriented Programming\n",
      "\n",
      "As previously stated, Python is an object-oriented programming (OOP) language, in contrast to procedural languages like FORTRAN and C. As the name implies, object-oriented languages employ objects to create convenient abstractions of data structures. This allows for more flexible programs, fewer lines of code, and a more natural programming paradigm in general. An object is simply a modular unit of data and associated functions, related to the state and behavior, respectively,  of some abstract entity. Object-oriented languages group similar objects into classes. For example, consider a Python class representing a bird:"
     ]
    },
    {
     "cell_type": "code",
     "collapsed": false,
     "input": [
      "class bird:\n",
      "    # Class representing a bird\n",
      "\n",
      "    name = 'bird'\n",
      "    \n",
      "    def __init__(self, sex):\n",
      "        # Initialization method\n",
      "        \n",
      "        self.sex = sex\n",
      "\t\n",
      "    def fly(self):\n",
      "        # Makes bird fly\n",
      "\n",
      "        print('Flying!')\n",
      "        \n",
      "    def nest(self):\n",
      "        # Makes bird build nest\n",
      "\n",
      "        print('Building nest ...')\n",
      "        \n",
      "    @classmethod\n",
      "    def get_name(cls):\n",
      "        # Class methods are shared among instances\n",
      "        \n",
      "        return cls.name"
     ],
     "language": "python",
     "metadata": {},
     "outputs": []
    },
    {
     "cell_type": "markdown",
     "metadata": {},
     "source": [
      "You will notice that this `bird` class is simply a container for two functions (called *methods* in Python), `fly` and `nest`, as well as one attribute, `name`. The methods represent functions in common with all members of this class. You can run this code in Python, and create birds:"
     ]
    },
    {
     "cell_type": "code",
     "collapsed": false,
     "input": [
      "Tweety = bird()\n",
      "Tweety.name"
     ],
     "language": "python",
     "metadata": {},
     "outputs": []
    },
    {
     "cell_type": "code",
     "collapsed": false,
     "input": [
      "Tweety.fly()"
     ],
     "language": "python",
     "metadata": {},
     "outputs": []
    },
    {
     "cell_type": "code",
     "collapsed": false,
     "input": [
      "Foghorn = bird()\n",
      "Foghorn.nest()"
     ],
     "language": "python",
     "metadata": {},
     "outputs": []
    },
    {
     "cell_type": "markdown",
     "metadata": {},
     "source": [
      "A `classmethod` can be called without instantiating an object."
     ]
    },
    {
     "cell_type": "code",
     "collapsed": false,
     "input": [
      "bird.get_name()"
     ],
     "language": "python",
     "metadata": {},
     "outputs": []
    },
    {
     "cell_type": "markdown",
     "metadata": {},
     "source": [
      "As many instances of the `bird` class can be generated as desired, though it may quickly become boring. One of the important benefits of using object-oriented classes is code re-use. For example, we may want more specific kinds of birds, with unique functionality:"
     ]
    },
    {
     "cell_type": "code",
     "collapsed": false,
     "input": [
      "class duck(bird):\n",
      "    # Duck is a subclass of bird\n",
      "\n",
      "    name = 'duck'\n",
      "    \n",
      "    def swim(self):\n",
      "        # Ducks can swim\n",
      "\n",
      "        print('Swimming!')\n",
      "\t\n",
      "    def quack(self,n):\n",
      "        # Ducks can quack\n",
      "    \n",
      "        print('Quack! ' * n)"
     ],
     "language": "python",
     "metadata": {},
     "outputs": []
    },
    {
     "cell_type": "markdown",
     "metadata": {},
     "source": [
      "Notice that this new `duck` class refers to the `bird` class in parentheses after the class declaration; this is called **inheritance**. The subclass `duck` automatically inherits all of the variables and methods of the superclass, but allows new functions or variables to be added. In addition to flying and best-building, our duck can also swim and quack:"
     ]
    },
    {
     "cell_type": "code",
     "collapsed": false,
     "input": [
      "Daffy = duck()\n",
      "Daffy.swim()"
     ],
     "language": "python",
     "metadata": {},
     "outputs": []
    },
    {
     "cell_type": "code",
     "collapsed": false,
     "input": [
      "Daffy.quack(3)"
     ],
     "language": "python",
     "metadata": {},
     "outputs": []
    },
    {
     "cell_type": "code",
     "collapsed": false,
     "input": [
      "Daffy.nest()"
     ],
     "language": "python",
     "metadata": {},
     "outputs": []
    },
    {
     "cell_type": "markdown",
     "metadata": {},
     "source": [
      "Along with adding new variables and methods, a subclass can also override existing variables and methods of the superclass. For example, one might define `fly` in the `duck` subclass to return an entirely different string. It is easy to see how inheritance promotes code re-use, sometimes dramatically reducing development time. Classes which are very similar need not be coded repetitiously, but rather, just extended from a single superclass. "
     ]
    },
    {
     "cell_type": "markdown",
     "metadata": {},
     "source": [
      "This brief introduction to object-oriented programming is intended only to introduce new users of Python to this programming paradigm. There are many more salient object-oriented topics, including interfaces, composition, and introspection. I encourage interested readers to refer to any number of current Python and OOP books for a more comprehensive treatment."
     ]
    },
    {
     "cell_type": "markdown",
     "metadata": {},
     "source": [
      "## Generators\n",
      "\n",
      "When a Python functions is called, it creates a namespace for the function, executes the code that comprises the function (creating objects inside the namespace as required), and returns some result to its caller. After the return, everything inside the namespace (including the namespace itself) is gone, and is created anew when the function is called again. \n",
      "\n",
      "However, one particular class of functions in Python breaks this pattern, returning a value to the caller while still active, and able to return subsequent values as needed. Python ***generators*** employ `yield` statements in place of `return`, allowing a sequence of values to be generated without having to create a new function namespace each time. In other languages, this construct is known as a *coroutine*. \n",
      "\n",
      "For example, we may want to have a function that returns a sequence of values; let's consider, for a simple illustration, the Fibonacci sequence:\n",
      "\n",
      "$$F_i = F_{i-2} + F_{i-1}$$\n",
      "\n",
      "its certaintly possible to write a standard Python function that returns however many Fibonacci numbers that we need:"
     ]
    },
    {
     "cell_type": "code",
     "collapsed": false,
     "input": [
      "def fibonacci(size):\n",
      "    F = np.empty(size, 'int')\n",
      "    a, b = 0, 1\n",
      "    for i in xrange(size):\n",
      "        F[i] = a\n",
      "        a, b = b, a + b\n",
      "    return F"
     ],
     "language": "python",
     "metadata": {},
     "outputs": []
    },
    {
     "cell_type": "markdown",
     "metadata": {},
     "source": [
      "and this works just fine:"
     ]
    },
    {
     "cell_type": "code",
     "collapsed": false,
     "input": [
      "fibonacci(20)"
     ],
     "language": "python",
     "metadata": {},
     "outputs": []
    },
    {
     "cell_type": "markdown",
     "metadata": {},
     "source": [
      "However, what if we need one number at a time, or if we need a million or 10 million values? In the first case, you would somehow have to store the values from the last iteration, and restore the state to the function each time it is called. In the second case, you would have to generate and then store a very large number of values, most of which you may not need right now.\n",
      "\n",
      "A more sensible solution is to create a generator, which calculates a single value in the sequence, then *returns control back to the caller*. This allows the generator to be called again, resuming the sequence generation where it left off. Here's the Fibonacci function, implemented as a generator:"
     ]
    },
    {
     "cell_type": "code",
     "collapsed": false,
     "input": [
      "def gfibonacci(size):\n",
      "    a, b = 0, 1\n",
      "    for _ in xrange(size):\n",
      "        yield a\n",
      "        a, b = b, a + b"
     ],
     "language": "python",
     "metadata": {},
     "outputs": []
    },
    {
     "cell_type": "markdown",
     "metadata": {},
     "source": [
      "Notice that there is no `return` statement at all; just `yield`, which is where a value is returned each time one is requested. The `yield` statement is what defines a generator. \n",
      "\n",
      "When we call our generator, rather than a sequence of Fibonacci numbers, we get a generator object:"
     ]
    },
    {
     "cell_type": "code",
     "collapsed": false,
     "input": [
      "f = gfibonacci(100)\n",
      "f"
     ],
     "language": "python",
     "metadata": {},
     "outputs": []
    },
    {
     "cell_type": "markdown",
     "metadata": {},
     "source": [
      "A generator has a `__next__()` method that can be called either via the method `generator.next()` or the builtin function `next()`. The call to `next` executes the generator until the `yield` statement is reached, returning the next generated value, and then pausing until another call to `next` occurs:"
     ]
    },
    {
     "cell_type": "code",
     "collapsed": false,
     "input": [
      "f.next(), f.next(), next(f)"
     ],
     "language": "python",
     "metadata": {},
     "outputs": []
    },
    {
     "cell_type": "markdown",
     "metadata": {},
     "source": [
      "A generator is a type of `iterator`. If we call a function that supports iterables using a generator as an argument, it will know how to use the generator."
     ]
    },
    {
     "cell_type": "code",
     "collapsed": false,
     "input": [
      "np.array(list(f))"
     ],
     "language": "python",
     "metadata": {},
     "outputs": []
    },
    {
     "cell_type": "markdown",
     "metadata": {},
     "source": [
      "What happens when we reach the \"end\" of a generator?"
     ]
    },
    {
     "cell_type": "code",
     "collapsed": false,
     "input": [
      "a_few_fibs = gfibonacci(2)"
     ],
     "language": "python",
     "metadata": {},
     "outputs": []
    },
    {
     "cell_type": "code",
     "collapsed": false,
     "input": [
      "a_few_fibs.next()"
     ],
     "language": "python",
     "metadata": {},
     "outputs": []
    },
    {
     "cell_type": "code",
     "collapsed": false,
     "input": [
      "a_few_fibs.next()"
     ],
     "language": "python",
     "metadata": {},
     "outputs": []
    },
    {
     "cell_type": "code",
     "collapsed": false,
     "input": [
      "a_few_fibs.next()"
     ],
     "language": "python",
     "metadata": {},
     "outputs": []
    },
    {
     "cell_type": "markdown",
     "metadata": {},
     "source": [
      "Thus, generators signal when there are no further values to generate by throwing a `StopIteration` exception. We must either handle this exception, or create a generator that is infinite, which we can do in this example by replacing a `for` loop with a `while` loop:"
     ]
    },
    {
     "cell_type": "code",
     "collapsed": false,
     "input": [
      "def infinite_fib():\n",
      "    a, b = 0, 1\n",
      "    while True:\n",
      "        yield a\n",
      "        a, b = b, a + b"
     ],
     "language": "python",
     "metadata": {},
     "outputs": []
    },
    {
     "cell_type": "code",
     "collapsed": false,
     "input": [
      "f = infinite_fib()\n",
      "vals = [f.next() for _ in range(10000)]\n",
      "vals[-1]"
     ],
     "language": "python",
     "metadata": {},
     "outputs": []
    },
    {
     "cell_type": "markdown",
     "metadata": {},
     "source": [
      "## Exercise: Translate R to Python\n",
      "\n",
      "Recode the secant search function from Bios 301 from R to Python."
     ]
    },
    {
     "cell_type": "code",
     "collapsed": false,
     "input": [
      "%load https://raw.github.com/fonnesbeck/Bios301/master/exercises/secant.r"
     ],
     "language": "python",
     "metadata": {},
     "outputs": []
    },
    {
     "cell_type": "code",
     "collapsed": false,
     "input": [
      "# Write your code here"
     ],
     "language": "python",
     "metadata": {},
     "outputs": []
    },
    {
     "cell_type": "markdown",
     "metadata": {},
     "source": [
      "## References\n",
      "\n",
      "* [Learn Python the Hard Way](http://learnpythonthehardway.org/book/)  \n",
      "* [Learn X in Y Minutes (where X=Python)](http://learnxinyminutes.com/docs/python/)  \n",
      "* [29 common beginner Python errors on one page](http://pythonforbiologists.com/index.php/29-common-beginner-python-errors-on-one-page/)"
     ]
    },
    {
     "cell_type": "markdown",
     "metadata": {},
     "source": [
      "---"
     ]
    },
    {
     "cell_type": "code",
     "collapsed": false,
     "input": [
      "from IPython.core.display import HTML\n",
      "def css_styling():\n",
      "    styles = open(\"styles/custom.css\", \"r\").read()\n",
      "    return HTML(styles)\n",
      "css_styling()"
     ],
     "language": "python",
     "metadata": {},
     "outputs": [
      {
       "html": [
        "<style>\n",
        "    @font-face {\n",
        "        font-family: \"Computer Modern\";\n",
        "        src: url('http://mirrors.ctan.org/fonts/cm-unicode/fonts/otf/cmunss.otf');\n",
        "    }\n",
        "    div.cell{\n",
        "        width:800px;\n",
        "/*        margin-left:16% !important;*/\n",
        "        margin-left:auto;\n",
        "        margin-right:auto;\n",
        "    }\n",
        "    h1 {\n",
        "        font-family: Helvetica, serif;\n",
        "    }\n",
        "    h4{\n",
        "        margin-top:12px;\n",
        "        margin-bottom: 3px;\n",
        "       }\n",
        "    div.text_cell_render{\n",
        "        font-family: Computer Modern, \"Helvetica Neue\", Arial, Helvetica, Geneva, sans-serif;\n",
        "        line-height: 145%;\n",
        "        font-size: 130%;\n",
        "        width:800px;\n",
        "        margin-left:auto;\n",
        "        margin-right:auto;\n",
        "    }\n",
        "    .CodeMirror{\n",
        "            font-family: \"Source Code Pro\", source-code-pro,Consolas, monospace;\n",
        "    }\n",
        "/*    .prompt{\n",
        "        display: None;\n",
        "    }*/\n",
        "    .text_cell_render h5 {\n",
        "        font-weight: 300;\n",
        "        font-size: 16pt;\n",
        "        color: #4057A1;\n",
        "        font-style: italic;\n",
        "        margin-bottom: .5em;\n",
        "        margin-top: 0.5em;\n",
        "        display: block;\n",
        "    }\n",
        "\n",
        "    .warning{\n",
        "        color: rgb( 240, 20, 20 )\n",
        "        }\n",
        "</style>\n",
        "<script>\n",
        "    MathJax.Hub.Config({\n",
        "                        TeX: {\n",
        "                           extensions: [\"AMSmath.js\"]\n",
        "                           },\n",
        "                tex2jax: {\n",
        "                    inlineMath: [ ['$','$'], [\"\\\\(\",\"\\\\)\"] ],\n",
        "                    displayMath: [ ['$$','$$'], [\"\\\\[\",\"\\\\]\"] ]\n",
        "                },\n",
        "                displayAlign: 'center', // Change this to 'center' to center equations.\n",
        "                \"HTML-CSS\": {\n",
        "                    styles: {'.MathJax_Display': {\"margin\": 4}}\n",
        "                }\n",
        "        });\n",
        "</script>"
       ],
       "metadata": {},
       "output_type": "pyout",
       "prompt_number": 1,
       "text": [
        "<IPython.core.display.HTML at 0x1147dfb50>"
       ]
      }
     ],
     "prompt_number": 1
    }
   ],
   "metadata": {}
  }
 ]
}