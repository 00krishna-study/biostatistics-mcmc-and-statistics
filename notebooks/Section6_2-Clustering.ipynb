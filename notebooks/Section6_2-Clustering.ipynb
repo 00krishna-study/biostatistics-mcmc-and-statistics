{
 "metadata": {
  "name": "",
  "signature": "sha256:0ee07d678fdc8d51144796c28baeb44115743df62da4666f17bf2773c1482a5d"
 },
 "nbformat": 3,
 "nbformat_minor": 0,
 "worksheets": [
  {
   "cells": [
    {
     "cell_type": "markdown",
     "metadata": {},
     "source": [
      "## Unsupvervised Learning\n",
      "\n",
      "Clustering is a class of unsupervised learning methods that associates observations according to some specified measure of similarity (e.g. Euclidean distance)."
     ]
    },
    {
     "cell_type": "markdown",
     "metadata": {},
     "source": [
      "## K-means Algorithm\n",
      "\n",
      "The K-means clustering algorithm associates each point $x_i$ in a set of input points $\\{x_1, x_2, \\ldots, x_m\\}$ to $K$ clusters. Each cluster is specified by a **centroid** that is the average location of all the points in the cluster. The algorithm proceeds iteratively from arbitrary centroid locations, updating the membership of each point according to minimum distance, then updating the centroid location based on the new cluster membership. \n",
      "\n",
      "In this sense, it is similar to the expectation maximization (EM) algorithm. Recall that in EM we iteratively assigned labels to observations, according to which mixture component they were most likely to have been derived from. K-means is simpler, in that we just use the minimum distance to assign membership.\n",
      "\n",
      "The algorithm will have converged when the assignment of points to centroids does not change with each iteration."
     ]
    },
    {
     "cell_type": "markdown",
     "metadata": {},
     "source": [
      "### Algorithm\n",
      "\n",
      "1. Initialize cluster centroids:\n",
      "\n",
      "    $$\\mu^{(0)}_1, \\ldots, \\mu^{(0)}_k \\in \\mathbb{R}^n$$\n",
      "\n",
      "2. Iterate until converged:\n",
      "\n",
      "    a. Set $c_i = \\text{argmin}_j || x_i - \\mu_j^{(s)} ||$\n",
      "    \n",
      "    b. Update centroids:\n",
      "    \n",
      "    $$\\mu_j^{(s+1)} = \\frac{\\sum_{i=1}^m I[c_i = j] x_i}{\\sum_{i=1}^m I[c_i = j]}$$"
     ]
    },
    {
     "cell_type": "markdown",
     "metadata": {},
     "source": [
      "The K-means algorithm is simply a Gaussian mixture model with two restrictions: \n",
      "\n",
      "1. the covariance matrix is spherical: \n",
      "\n",
      "    $$\\Sigma_k = \\sigma I_D$$\n",
      "\n",
      "2. the mixture weights are fixed:\n",
      "\n",
      "    $$\\pi_k = \\frac{1}{K}$$\n",
      "\n",
      "Hence, we are only interested in locating the appropriate centroid of the clusters. This serves to speed computation."
     ]
    },
    {
     "cell_type": "markdown",
     "metadata": {},
     "source": [
      "We can define the distortion function:\n",
      "\n",
      "$$J(c,\\mu) = \\sum_{i]1}^m ||x_i - \\mu_{c_i}||$$\n",
      "\n",
      "which gets smaller at every iteration. So, k-means is coordinate ascent on $J(c,\\mu)$"
     ]
    },
    {
     "cell_type": "markdown",
     "metadata": {},
     "source": [
      "### Choosing $k$\n",
      "\n",
      "To check whether a chosen $k$ is reasonable, one approach is to compare the distances between the centroids to the mean distance bewween each data point and their assigned centroid. A good fit involves relatively large inter-centroid distances. \n",
      "\n",
      "The appropriate value for k (the number of clusters) may depend on the goals of the analysis, or it may be chosen algorithmically, using an optimization procedure."
     ]
    },
    {
     "cell_type": "markdown",
     "metadata": {},
     "source": [
      "## Example: clustering random points"
     ]
    },
    {
     "cell_type": "code",
     "collapsed": false,
     "input": [
      "%matplotlib inline\n",
      "import numpy as np\n",
      "import matplotlib.pyplot as plt\n",
      "\n",
      "x, y = np.random.uniform(0, 10, 50).reshape(2, 25)\n",
      "plt.scatter(x, y)"
     ],
     "language": "python",
     "metadata": {},
     "outputs": [
      {
       "metadata": {},
       "output_type": "pyout",
       "prompt_number": 39,
       "text": [
        "<matplotlib.collections.PathCollection at 0x113585c10>"
       ]
      },
      {
       "metadata": {},
       "output_type": "display_data",
       "png": "[encoded data removed]",
       "text": [
        "<matplotlib.figure.Figure at 0x113479810>"
       ]
      }
     ],
     "prompt_number": 39
    },
    {
     "cell_type": "markdown",
     "metadata": {},
     "source": [
      "Let's start with $k=4$, arbitrarily assigned:"
     ]
    },
    {
     "cell_type": "code",
     "collapsed": false,
     "input": [
      "centroids = (3, 3), (3, 7), (7, 3), (7, 7)"
     ],
     "language": "python",
     "metadata": {},
     "outputs": [],
     "prompt_number": 40
    },
    {
     "cell_type": "code",
     "collapsed": false,
     "input": [
      "np.transpose(centroids)"
     ],
     "language": "python",
     "metadata": {},
     "outputs": [
      {
       "metadata": {},
       "output_type": "pyout",
       "prompt_number": 41,
       "text": [
        "array([[3, 3, 7, 7],\n",
        "       [3, 7, 3, 7]])"
       ]
      }
     ],
     "prompt_number": 41
    },
    {
     "cell_type": "code",
     "collapsed": false,
     "input": [
      "plt.scatter(x, y)\n",
      "plt.scatter(*np.transpose(centroids), c='r', marker='+', s=100)"
     ],
     "language": "python",
     "metadata": {},
     "outputs": [
      {
       "metadata": {},
       "output_type": "pyout",
       "prompt_number": 42,
       "text": [
        "<matplotlib.collections.PathCollection at 0x11359c450>"
       ]
      },
      {
       "metadata": {},
       "output_type": "display_data",
       "png": "[encoded data removed]",
       "text": [
        "<matplotlib.figure.Figure at 0x113479910>"
       ]
      }
     ],
     "prompt_number": 42
    },
    {
     "cell_type": "markdown",
     "metadata": {},
     "source": [
      "We can use the function `cdist` from SciPy to calculate the distances from each point to each centroid."
     ]
    },
    {
     "cell_type": "code",
     "collapsed": false,
     "input": [
      "from scipy.spatial.distance import cdist\n",
      "\n",
      "distances = cdist(centroids, zip(x,y))\n",
      "distances.shape"
     ],
     "language": "python",
     "metadata": {},
     "outputs": [
      {
       "metadata": {},
       "output_type": "pyout",
       "prompt_number": 43,
       "text": [
        "(4, 25)"
       ]
      }
     ],
     "prompt_number": 43
    },
    {
     "cell_type": "markdown",
     "metadata": {},
     "source": [
      "We can make the initial assignment to centroids by picking the minimum distance."
     ]
    },
    {
     "cell_type": "code",
     "collapsed": false,
     "input": [
      "labels = distances.argmin(axis=0)\n",
      "labels"
     ],
     "language": "python",
     "metadata": {},
     "outputs": [
      {
       "metadata": {},
       "output_type": "pyout",
       "prompt_number": 45,
       "text": [
        "array([3, 3, 0, 2, 2, 3, 2, 3, 0, 2, 0, 2, 0, 1, 0, 0, 0, 1, 3, 1, 3, 3, 0,\n",
        "       1, 2])"
       ]
      }
     ],
     "prompt_number": 45
    },
    {
     "cell_type": "code",
     "collapsed": false,
     "input": [
      "plt.scatter(x, y, c=labels)\n",
      "plt.scatter(*np.transpose(centroids), c='r', marker='+', s=100)"
     ],
     "language": "python",
     "metadata": {},
     "outputs": [
      {
       "metadata": {},
       "output_type": "pyout",
       "prompt_number": 47,
       "text": [
        "<matplotlib.collections.PathCollection at 0x113597ad0>"
       ]
      },
      {
       "metadata": {},
       "output_type": "display_data",
       "png": "[encoded data removed]",
       "text": [
        "<matplotlib.figure.Figure at 0x113597690>"
       ]
      }
     ],
     "prompt_number": 47
    },
    {
     "cell_type": "markdown",
     "metadata": {},
     "source": [
      "Now we can re-assign the centroid locations based on the means of the current members' locations."
     ]
    },
    {
     "cell_type": "code",
     "collapsed": false,
     "input": [
      "new_centroids = [(x[labels==i].mean(), y[labels==i].mean())\n",
      "                 for i in range(len(centroids))]"
     ],
     "language": "python",
     "metadata": {},
     "outputs": [],
     "prompt_number": 48
    },
    {
     "cell_type": "code",
     "collapsed": false,
     "input": [
      "plt.scatter(x, y, c=labels)\n",
      "plt.scatter(*np.transpose(new_centroids), c='r', marker='+', s=100)"
     ],
     "language": "python",
     "metadata": {},
     "outputs": [
      {
       "metadata": {},
       "output_type": "pyout",
       "prompt_number": 49,
       "text": [
        "<matplotlib.collections.PathCollection at 0x11363f2d0>"
       ]
      },
      {
       "metadata": {},
       "output_type": "display_data",
       "png": "[encoded data removed]",
       "text": [
        "<matplotlib.figure.Figure at 0x11363f390>"
       ]
      }
     ],
     "prompt_number": 49
    },
    {
     "cell_type": "markdown",
     "metadata": {},
     "source": [
      "So, we simply iterate these steps until convergence."
     ]
    },
    {
     "cell_type": "code",
     "collapsed": false,
     "input": [
      "centroids = new_centroids\n",
      "iterations = 20\n",
      "\n",
      "for _ in range(iterations):\n",
      "    distances = cdist(centroids, zip(x,y))\n",
      "    labels = distances.argmin(axis=0)\n",
      "    centroids = [(x[labels==i].mean(), y[labels==i].mean())\n",
      "                 for i in range(len(centroids))]"
     ],
     "language": "python",
     "metadata": {},
     "outputs": [],
     "prompt_number": 50
    },
    {
     "cell_type": "code",
     "collapsed": false,
     "input": [
      "plt.scatter(x, y, c=labels)\n",
      "plt.scatter(*np.transpose(centroids), c='r', marker='+', s=100)"
     ],
     "language": "python",
     "metadata": {},
     "outputs": [
      {
       "metadata": {},
       "output_type": "pyout",
       "prompt_number": 51,
       "text": [
        "<matplotlib.collections.PathCollection at 0x113486310>"
       ]
      },
      {
       "metadata": {},
       "output_type": "display_data",
       "png": "[encoded data removed]",
       "text": [
        "<matplotlib.figure.Figure at 0x113482410>"
       ]
      }
     ],
     "prompt_number": 51
    },
    {
     "cell_type": "markdown",
     "metadata": {},
     "source": [
      "## k-means using `scikit-learn`\n",
      "\n",
      "The `scikit-learn` package includes a `KMeans` class for flexibly fitting K-means models. It includes additional features, such as initialization options and the ability to set the convergence tolerance."
     ]
    },
    {
     "cell_type": "code",
     "collapsed": false,
     "input": [
      "from sklearn.cluster import KMeans\n",
      "from numpy.random import RandomState\n",
      "rng = RandomState(1)\n",
      "\n",
      "# Instantiate model\n",
      "kmeans = KMeans(n_clusters=4, random_state=rng)\n",
      "# Fit model\n",
      "kmeans.fit(np.transpose((x,y)))"
     ],
     "language": "python",
     "metadata": {},
     "outputs": [
      {
       "metadata": {},
       "output_type": "pyout",
       "prompt_number": 52,
       "text": [
        "KMeans(copy_x=True, init='k-means++', max_iter=300, n_clusters=4, n_init=10,\n",
        "    n_jobs=1, precompute_distances='auto',\n",
        "    random_state=<mtrand.RandomState object at 0x1133d7750>, tol=0.0001,\n",
        "    verbose=0)"
       ]
      }
     ],
     "prompt_number": 52
    },
    {
     "cell_type": "markdown",
     "metadata": {},
     "source": [
      "After fitting, we can retrieve the labels and cluster centers."
     ]
    },
    {
     "cell_type": "code",
     "collapsed": false,
     "input": [
      "kmeans.labels_"
     ],
     "language": "python",
     "metadata": {},
     "outputs": [
      {
       "metadata": {},
       "output_type": "pyout",
       "prompt_number": 53,
       "text": [
        "array([2, 2, 1, 3, 2, 2, 3, 2, 0, 3, 1, 3, 1, 0, 1, 1, 1, 0, 2, 0, 2, 2, 1,\n",
        "       0, 1], dtype=int32)"
       ]
      }
     ],
     "prompt_number": 53
    },
    {
     "cell_type": "code",
     "collapsed": false,
     "input": [
      "kmeans.cluster_centers_"
     ],
     "language": "python",
     "metadata": {},
     "outputs": [
      {
       "metadata": {},
       "output_type": "pyout",
       "prompt_number": 54,
       "text": [
        "array([[ 1.72543155,  6.76924917],\n",
        "       [ 4.05275498,  2.29593538],\n",
        "       [ 7.49886574,  6.39716383],\n",
        "       [ 7.96789969,  2.15453763]])"
       ]
      }
     ],
     "prompt_number": 54
    },
    {
     "cell_type": "markdown",
     "metadata": {},
     "source": [
      "The resulting plot should look very similar to the one we fit by hand."
     ]
    },
    {
     "cell_type": "code",
     "collapsed": false,
     "input": [
      "plt.scatter(x, y, c=kmeans.labels_)\n",
      "plt.scatter(*kmeans.cluster_centers_.T, c='r', marker='+', s=100)"
     ],
     "language": "python",
     "metadata": {},
     "outputs": [
      {
       "metadata": {},
       "output_type": "pyout",
       "prompt_number": 55,
       "text": [
        "<matplotlib.collections.PathCollection at 0x1130daad0>"
       ]
      },
      {
       "metadata": {},
       "output_type": "display_data",
       "png": "[encoded data removed]",
       "text": [
        "<matplotlib.figure.Figure at 0x1133d7890>"
       ]
      }
     ],
     "prompt_number": 55
    },
    {
     "cell_type": "markdown",
     "metadata": {},
     "source": [
      "## Example: Microbiome data\n",
      "\n",
      "The `microbiome.csv` dataset contains counts of various microbe taxa extraced from either tissue or stool samples of NICU infants. It may be of interest"
     ]
    },
    {
     "cell_type": "code",
     "collapsed": false,
     "input": [
      "import pandas as pd\n",
      "\n",
      "microbiome = pd.read_csv(\"../data/microbiome.csv\")"
     ],
     "language": "python",
     "metadata": {},
     "outputs": [],
     "prompt_number": 56
    },
    {
     "cell_type": "code",
     "collapsed": false,
     "input": [
      "microbiome"
     ],
     "language": "python",
     "metadata": {},
     "outputs": [
      {
       "html": [
        "<div style=\"max-height:1000px;max-width:1500px;overflow:auto;\">\n",
        "<table border=\"1\" class=\"dataframe\">\n",
        "  <thead>\n",
        "    <tr style=\"text-align: right;\">\n",
        "      <th></th>\n",
        "      <th>Taxon</th>\n",
        "      <th>Patient</th>\n",
        "      <th>Group</th>\n",
        "      <th>Tissue</th>\n",
        "      <th>Stool</th>\n",
        "    </tr>\n",
        "  </thead>\n",
        "  <tbody>\n",
        "    <tr>\n",
        "      <th>0 </th>\n",
        "      <td>     Firmicutes</td>\n",
        "      <td>  1</td>\n",
        "      <td> 0</td>\n",
        "      <td>   136</td>\n",
        "      <td> 4182</td>\n",
        "    </tr>\n",
        "    <tr>\n",
        "      <th>1 </th>\n",
        "      <td>     Firmicutes</td>\n",
        "      <td>  2</td>\n",
        "      <td> 1</td>\n",
        "      <td>  1174</td>\n",
        "      <td>  703</td>\n",
        "    </tr>\n",
        "    <tr>\n",
        "      <th>2 </th>\n",
        "      <td>     Firmicutes</td>\n",
        "      <td>  3</td>\n",
        "      <td> 0</td>\n",
        "      <td>   408</td>\n",
        "      <td> 3946</td>\n",
        "    </tr>\n",
        "    <tr>\n",
        "      <th>3 </th>\n",
        "      <td>     Firmicutes</td>\n",
        "      <td>  4</td>\n",
        "      <td> 1</td>\n",
        "      <td>   831</td>\n",
        "      <td> 8605</td>\n",
        "    </tr>\n",
        "    <tr>\n",
        "      <th>4 </th>\n",
        "      <td>     Firmicutes</td>\n",
        "      <td>  5</td>\n",
        "      <td> 0</td>\n",
        "      <td>   693</td>\n",
        "      <td>   50</td>\n",
        "    </tr>\n",
        "    <tr>\n",
        "      <th>5 </th>\n",
        "      <td>     Firmicutes</td>\n",
        "      <td>  6</td>\n",
        "      <td> 1</td>\n",
        "      <td>   718</td>\n",
        "      <td>  717</td>\n",
        "    </tr>\n",
        "    <tr>\n",
        "      <th>6 </th>\n",
        "      <td>     Firmicutes</td>\n",
        "      <td>  7</td>\n",
        "      <td> 0</td>\n",
        "      <td>   173</td>\n",
        "      <td>   33</td>\n",
        "    </tr>\n",
        "    <tr>\n",
        "      <th>7 </th>\n",
        "      <td>     Firmicutes</td>\n",
        "      <td>  8</td>\n",
        "      <td> 1</td>\n",
        "      <td>   228</td>\n",
        "      <td>   80</td>\n",
        "    </tr>\n",
        "    <tr>\n",
        "      <th>8 </th>\n",
        "      <td>     Firmicutes</td>\n",
        "      <td>  9</td>\n",
        "      <td> 0</td>\n",
        "      <td>   162</td>\n",
        "      <td> 3196</td>\n",
        "    </tr>\n",
        "    <tr>\n",
        "      <th>9 </th>\n",
        "      <td>     Firmicutes</td>\n",
        "      <td> 10</td>\n",
        "      <td> 1</td>\n",
        "      <td>   372</td>\n",
        "      <td>   32</td>\n",
        "    </tr>\n",
        "    <tr>\n",
        "      <th>10</th>\n",
        "      <td>     Firmicutes</td>\n",
        "      <td> 11</td>\n",
        "      <td> 0</td>\n",
        "      <td>  4255</td>\n",
        "      <td> 4361</td>\n",
        "    </tr>\n",
        "    <tr>\n",
        "      <th>11</th>\n",
        "      <td>     Firmicutes</td>\n",
        "      <td> 12</td>\n",
        "      <td> 1</td>\n",
        "      <td>   107</td>\n",
        "      <td> 1667</td>\n",
        "    </tr>\n",
        "    <tr>\n",
        "      <th>12</th>\n",
        "      <td>     Firmicutes</td>\n",
        "      <td> 13</td>\n",
        "      <td> 0</td>\n",
        "      <td>    96</td>\n",
        "      <td>  223</td>\n",
        "    </tr>\n",
        "    <tr>\n",
        "      <th>13</th>\n",
        "      <td>     Firmicutes</td>\n",
        "      <td> 14</td>\n",
        "      <td> 1</td>\n",
        "      <td>   281</td>\n",
        "      <td> 2377</td>\n",
        "    </tr>\n",
        "    <tr>\n",
        "      <th>14</th>\n",
        "      <td> Proteobacteria</td>\n",
        "      <td>  1</td>\n",
        "      <td> 0</td>\n",
        "      <td>  2469</td>\n",
        "      <td> 1821</td>\n",
        "    </tr>\n",
        "    <tr>\n",
        "      <th>15</th>\n",
        "      <td> Proteobacteria</td>\n",
        "      <td>  2</td>\n",
        "      <td> 1</td>\n",
        "      <td>   839</td>\n",
        "      <td>  661</td>\n",
        "    </tr>\n",
        "    <tr>\n",
        "      <th>16</th>\n",
        "      <td> Proteobacteria</td>\n",
        "      <td>  3</td>\n",
        "      <td> 0</td>\n",
        "      <td>  4414</td>\n",
        "      <td>   18</td>\n",
        "    </tr>\n",
        "    <tr>\n",
        "      <th>17</th>\n",
        "      <td> Proteobacteria</td>\n",
        "      <td>  4</td>\n",
        "      <td> 1</td>\n",
        "      <td> 12044</td>\n",
        "      <td>   83</td>\n",
        "    </tr>\n",
        "    <tr>\n",
        "      <th>18</th>\n",
        "      <td> Proteobacteria</td>\n",
        "      <td>  5</td>\n",
        "      <td> 0</td>\n",
        "      <td>  2310</td>\n",
        "      <td>   12</td>\n",
        "    </tr>\n",
        "    <tr>\n",
        "      <th>19</th>\n",
        "      <td> Proteobacteria</td>\n",
        "      <td>  6</td>\n",
        "      <td> 1</td>\n",
        "      <td>  3053</td>\n",
        "      <td>  547</td>\n",
        "    </tr>\n",
        "    <tr>\n",
        "      <th>20</th>\n",
        "      <td> Proteobacteria</td>\n",
        "      <td>  7</td>\n",
        "      <td> 0</td>\n",
        "      <td>   395</td>\n",
        "      <td> 2174</td>\n",
        "    </tr>\n",
        "    <tr>\n",
        "      <th>21</th>\n",
        "      <td> Proteobacteria</td>\n",
        "      <td>  8</td>\n",
        "      <td> 1</td>\n",
        "      <td>  2651</td>\n",
        "      <td>  767</td>\n",
        "    </tr>\n",
        "    <tr>\n",
        "      <th>22</th>\n",
        "      <td> Proteobacteria</td>\n",
        "      <td>  9</td>\n",
        "      <td> 0</td>\n",
        "      <td>  1195</td>\n",
        "      <td>   76</td>\n",
        "    </tr>\n",
        "    <tr>\n",
        "      <th>23</th>\n",
        "      <td> Proteobacteria</td>\n",
        "      <td> 10</td>\n",
        "      <td> 1</td>\n",
        "      <td>  6857</td>\n",
        "      <td>  795</td>\n",
        "    </tr>\n",
        "    <tr>\n",
        "      <th>24</th>\n",
        "      <td> Proteobacteria</td>\n",
        "      <td> 11</td>\n",
        "      <td> 0</td>\n",
        "      <td>   483</td>\n",
        "      <td>  666</td>\n",
        "    </tr>\n",
        "    <tr>\n",
        "      <th>25</th>\n",
        "      <td> Proteobacteria</td>\n",
        "      <td> 12</td>\n",
        "      <td> 1</td>\n",
        "      <td>  2950</td>\n",
        "      <td> 3994</td>\n",
        "    </tr>\n",
        "    <tr>\n",
        "      <th>26</th>\n",
        "      <td> Proteobacteria</td>\n",
        "      <td> 13</td>\n",
        "      <td> 0</td>\n",
        "      <td>  1541</td>\n",
        "      <td>  816</td>\n",
        "    </tr>\n",
        "    <tr>\n",
        "      <th>27</th>\n",
        "      <td> Proteobacteria</td>\n",
        "      <td> 14</td>\n",
        "      <td> 1</td>\n",
        "      <td>  1307</td>\n",
        "      <td>   53</td>\n",
        "    </tr>\n",
        "    <tr>\n",
        "      <th>28</th>\n",
        "      <td> Actinobacteria</td>\n",
        "      <td>  1</td>\n",
        "      <td> 0</td>\n",
        "      <td>  1590</td>\n",
        "      <td>    4</td>\n",
        "    </tr>\n",
        "    <tr>\n",
        "      <th>29</th>\n",
        "      <td> Actinobacteria</td>\n",
        "      <td>  2</td>\n",
        "      <td> 1</td>\n",
        "      <td>    25</td>\n",
        "      <td>    2</td>\n",
        "    </tr>\n",
        "    <tr>\n",
        "      <th>...</th>\n",
        "      <td>...</td>\n",
        "      <td>...</td>\n",
        "      <td>...</td>\n",
        "      <td>...</td>\n",
        "      <td>...</td>\n",
        "    </tr>\n",
        "    <tr>\n",
        "      <th>40</th>\n",
        "      <td> Actinobacteria</td>\n",
        "      <td> 13</td>\n",
        "      <td> 0</td>\n",
        "      <td>    51</td>\n",
        "      <td>  183</td>\n",
        "    </tr>\n",
        "    <tr>\n",
        "      <th>41</th>\n",
        "      <td> Actinobacteria</td>\n",
        "      <td> 14</td>\n",
        "      <td> 1</td>\n",
        "      <td>   310</td>\n",
        "      <td>  204</td>\n",
        "    </tr>\n",
        "    <tr>\n",
        "      <th>42</th>\n",
        "      <td>  Bacteroidetes</td>\n",
        "      <td>  1</td>\n",
        "      <td> 0</td>\n",
        "      <td>    67</td>\n",
        "      <td>    0</td>\n",
        "    </tr>\n",
        "    <tr>\n",
        "      <th>43</th>\n",
        "      <td>  Bacteroidetes</td>\n",
        "      <td>  2</td>\n",
        "      <td> 1</td>\n",
        "      <td>     0</td>\n",
        "      <td>    0</td>\n",
        "    </tr>\n",
        "    <tr>\n",
        "      <th>44</th>\n",
        "      <td>  Bacteroidetes</td>\n",
        "      <td>  3</td>\n",
        "      <td> 0</td>\n",
        "      <td>    85</td>\n",
        "      <td>    5</td>\n",
        "    </tr>\n",
        "    <tr>\n",
        "      <th>45</th>\n",
        "      <td>  Bacteroidetes</td>\n",
        "      <td>  4</td>\n",
        "      <td> 1</td>\n",
        "      <td>   143</td>\n",
        "      <td>    7</td>\n",
        "    </tr>\n",
        "    <tr>\n",
        "      <th>46</th>\n",
        "      <td>  Bacteroidetes</td>\n",
        "      <td>  5</td>\n",
        "      <td> 0</td>\n",
        "      <td>   678</td>\n",
        "      <td>    2</td>\n",
        "    </tr>\n",
        "    <tr>\n",
        "      <th>47</th>\n",
        "      <td>  Bacteroidetes</td>\n",
        "      <td>  6</td>\n",
        "      <td> 1</td>\n",
        "      <td>  4829</td>\n",
        "      <td>  209</td>\n",
        "    </tr>\n",
        "    <tr>\n",
        "      <th>48</th>\n",
        "      <td>  Bacteroidetes</td>\n",
        "      <td>  7</td>\n",
        "      <td> 0</td>\n",
        "      <td>    74</td>\n",
        "      <td>  651</td>\n",
        "    </tr>\n",
        "    <tr>\n",
        "      <th>49</th>\n",
        "      <td>  Bacteroidetes</td>\n",
        "      <td>  8</td>\n",
        "      <td> 1</td>\n",
        "      <td>   169</td>\n",
        "      <td>  254</td>\n",
        "    </tr>\n",
        "    <tr>\n",
        "      <th>50</th>\n",
        "      <td>  Bacteroidetes</td>\n",
        "      <td>  9</td>\n",
        "      <td> 0</td>\n",
        "      <td>   106</td>\n",
        "      <td>   10</td>\n",
        "    </tr>\n",
        "    <tr>\n",
        "      <th>51</th>\n",
        "      <td>  Bacteroidetes</td>\n",
        "      <td> 10</td>\n",
        "      <td> 1</td>\n",
        "      <td>    73</td>\n",
        "      <td>  381</td>\n",
        "    </tr>\n",
        "    <tr>\n",
        "      <th>52</th>\n",
        "      <td>  Bacteroidetes</td>\n",
        "      <td> 11</td>\n",
        "      <td> 0</td>\n",
        "      <td>    30</td>\n",
        "      <td>  359</td>\n",
        "    </tr>\n",
        "    <tr>\n",
        "      <th>53</th>\n",
        "      <td>  Bacteroidetes</td>\n",
        "      <td> 12</td>\n",
        "      <td> 1</td>\n",
        "      <td>    51</td>\n",
        "      <td>   51</td>\n",
        "    </tr>\n",
        "    <tr>\n",
        "      <th>54</th>\n",
        "      <td>  Bacteroidetes</td>\n",
        "      <td> 13</td>\n",
        "      <td> 0</td>\n",
        "      <td>  2473</td>\n",
        "      <td> 2314</td>\n",
        "    </tr>\n",
        "    <tr>\n",
        "      <th>55</th>\n",
        "      <td>  Bacteroidetes</td>\n",
        "      <td> 14</td>\n",
        "      <td> 1</td>\n",
        "      <td>   102</td>\n",
        "      <td>   33</td>\n",
        "    </tr>\n",
        "    <tr>\n",
        "      <th>56</th>\n",
        "      <td>          Other</td>\n",
        "      <td>  1</td>\n",
        "      <td> 0</td>\n",
        "      <td>   195</td>\n",
        "      <td>   18</td>\n",
        "    </tr>\n",
        "    <tr>\n",
        "      <th>57</th>\n",
        "      <td>          Other</td>\n",
        "      <td>  2</td>\n",
        "      <td> 1</td>\n",
        "      <td>    42</td>\n",
        "      <td>    2</td>\n",
        "    </tr>\n",
        "    <tr>\n",
        "      <th>58</th>\n",
        "      <td>          Other</td>\n",
        "      <td>  3</td>\n",
        "      <td> 0</td>\n",
        "      <td>   316</td>\n",
        "      <td>   43</td>\n",
        "    </tr>\n",
        "    <tr>\n",
        "      <th>59</th>\n",
        "      <td>          Other</td>\n",
        "      <td>  4</td>\n",
        "      <td> 1</td>\n",
        "      <td>   202</td>\n",
        "      <td>   40</td>\n",
        "    </tr>\n",
        "    <tr>\n",
        "      <th>60</th>\n",
        "      <td>          Other</td>\n",
        "      <td>  5</td>\n",
        "      <td> 0</td>\n",
        "      <td>   116</td>\n",
        "      <td>    0</td>\n",
        "    </tr>\n",
        "    <tr>\n",
        "      <th>61</th>\n",
        "      <td>          Other</td>\n",
        "      <td>  6</td>\n",
        "      <td> 1</td>\n",
        "      <td>   527</td>\n",
        "      <td>   12</td>\n",
        "    </tr>\n",
        "    <tr>\n",
        "      <th>62</th>\n",
        "      <td>          Other</td>\n",
        "      <td>  7</td>\n",
        "      <td> 0</td>\n",
        "      <td>   357</td>\n",
        "      <td>   11</td>\n",
        "    </tr>\n",
        "    <tr>\n",
        "      <th>63</th>\n",
        "      <td>          Other</td>\n",
        "      <td>  8</td>\n",
        "      <td> 1</td>\n",
        "      <td>   106</td>\n",
        "      <td>   11</td>\n",
        "    </tr>\n",
        "    <tr>\n",
        "      <th>64</th>\n",
        "      <td>          Other</td>\n",
        "      <td>  9</td>\n",
        "      <td> 0</td>\n",
        "      <td>    67</td>\n",
        "      <td>   14</td>\n",
        "    </tr>\n",
        "    <tr>\n",
        "      <th>65</th>\n",
        "      <td>          Other</td>\n",
        "      <td> 10</td>\n",
        "      <td> 1</td>\n",
        "      <td>   203</td>\n",
        "      <td>    6</td>\n",
        "    </tr>\n",
        "    <tr>\n",
        "      <th>66</th>\n",
        "      <td>          Other</td>\n",
        "      <td> 11</td>\n",
        "      <td> 0</td>\n",
        "      <td>   392</td>\n",
        "      <td>    6</td>\n",
        "    </tr>\n",
        "    <tr>\n",
        "      <th>67</th>\n",
        "      <td>          Other</td>\n",
        "      <td> 12</td>\n",
        "      <td> 1</td>\n",
        "      <td>    28</td>\n",
        "      <td>   25</td>\n",
        "    </tr>\n",
        "    <tr>\n",
        "      <th>68</th>\n",
        "      <td>          Other</td>\n",
        "      <td> 13</td>\n",
        "      <td> 0</td>\n",
        "      <td>    12</td>\n",
        "      <td>   22</td>\n",
        "    </tr>\n",
        "    <tr>\n",
        "      <th>69</th>\n",
        "      <td>          Other</td>\n",
        "      <td> 14</td>\n",
        "      <td> 1</td>\n",
        "      <td>   305</td>\n",
        "      <td>   32</td>\n",
        "    </tr>\n",
        "  </tbody>\n",
        "</table>\n",
        "<p>70 rows \u00d7 5 columns</p>\n",
        "</div>"
       ],
       "metadata": {},
       "output_type": "pyout",
       "prompt_number": 57,
       "text": [
        "             Taxon  Patient  Group  Tissue  Stool\n",
        "0       Firmicutes        1      0     136   4182\n",
        "1       Firmicutes        2      1    1174    703\n",
        "2       Firmicutes        3      0     408   3946\n",
        "3       Firmicutes        4      1     831   8605\n",
        "4       Firmicutes        5      0     693     50\n",
        "5       Firmicutes        6      1     718    717\n",
        "6       Firmicutes        7      0     173     33\n",
        "7       Firmicutes        8      1     228     80\n",
        "8       Firmicutes        9      0     162   3196\n",
        "9       Firmicutes       10      1     372     32\n",
        "10      Firmicutes       11      0    4255   4361\n",
        "11      Firmicutes       12      1     107   1667\n",
        "12      Firmicutes       13      0      96    223\n",
        "13      Firmicutes       14      1     281   2377\n",
        "14  Proteobacteria        1      0    2469   1821\n",
        "15  Proteobacteria        2      1     839    661\n",
        "16  Proteobacteria        3      0    4414     18\n",
        "17  Proteobacteria        4      1   12044     83\n",
        "18  Proteobacteria        5      0    2310     12\n",
        "19  Proteobacteria        6      1    3053    547\n",
        "20  Proteobacteria        7      0     395   2174\n",
        "21  Proteobacteria        8      1    2651    767\n",
        "22  Proteobacteria        9      0    1195     76\n",
        "23  Proteobacteria       10      1    6857    795\n",
        "24  Proteobacteria       11      0     483    666\n",
        "25  Proteobacteria       12      1    2950   3994\n",
        "26  Proteobacteria       13      0    1541    816\n",
        "27  Proteobacteria       14      1    1307     53\n",
        "28  Actinobacteria        1      0    1590      4\n",
        "29  Actinobacteria        2      1      25      2\n",
        "..             ...      ...    ...     ...    ...\n",
        "40  Actinobacteria       13      0      51    183\n",
        "41  Actinobacteria       14      1     310    204\n",
        "42   Bacteroidetes        1      0      67      0\n",
        "43   Bacteroidetes        2      1       0      0\n",
        "44   Bacteroidetes        3      0      85      5\n",
        "45   Bacteroidetes        4      1     143      7\n",
        "46   Bacteroidetes        5      0     678      2\n",
        "47   Bacteroidetes        6      1    4829    209\n",
        "48   Bacteroidetes        7      0      74    651\n",
        "49   Bacteroidetes        8      1     169    254\n",
        "50   Bacteroidetes        9      0     106     10\n",
        "51   Bacteroidetes       10      1      73    381\n",
        "52   Bacteroidetes       11      0      30    359\n",
        "53   Bacteroidetes       12      1      51     51\n",
        "54   Bacteroidetes       13      0    2473   2314\n",
        "55   Bacteroidetes       14      1     102     33\n",
        "56           Other        1      0     195     18\n",
        "57           Other        2      1      42      2\n",
        "58           Other        3      0     316     43\n",
        "59           Other        4      1     202     40\n",
        "60           Other        5      0     116      0\n",
        "61           Other        6      1     527     12\n",
        "62           Other        7      0     357     11\n",
        "63           Other        8      1     106     11\n",
        "64           Other        9      0      67     14\n",
        "65           Other       10      1     203      6\n",
        "66           Other       11      0     392      6\n",
        "67           Other       12      1      28     25\n",
        "68           Other       13      0      12     22\n",
        "69           Other       14      1     305     32\n",
        "\n",
        "[70 rows x 5 columns]"
       ]
      }
     ],
     "prompt_number": 57
    },
    {
     "cell_type": "code",
     "collapsed": false,
     "input": [
      "microbiome_pivoted = microbiome.drop('Group', axis=1).pivot(index='Patient', \n",
      "                        columns='Taxon').stack(level=0).reset_index()\n",
      "microbiome_data = microbiome_pivoted.drop('Patient', \n",
      "                        axis=1).rename(columns={'level_1':'Location'}\n",
      "                                       ).replace({'Tissue': 0 , 'Stool':1})\n",
      "\n",
      "y = microbiome_data.values[:, 0]\n",
      "X = microbiome_data.values[:, 1:]"
     ],
     "language": "python",
     "metadata": {},
     "outputs": [],
     "prompt_number": 58
    },
    {
     "cell_type": "code",
     "collapsed": false,
     "input": [
      "microbiome_data.head()"
     ],
     "language": "python",
     "metadata": {},
     "outputs": [
      {
       "html": [
        "<div style=\"max-height:1000px;max-width:1500px;overflow:auto;\">\n",
        "<table border=\"1\" class=\"dataframe\">\n",
        "  <thead>\n",
        "    <tr style=\"text-align: right;\">\n",
        "      <th>Taxon</th>\n",
        "      <th>Location</th>\n",
        "      <th>Actinobacteria</th>\n",
        "      <th>Bacteroidetes</th>\n",
        "      <th>Firmicutes</th>\n",
        "      <th>Other</th>\n",
        "      <th>Proteobacteria</th>\n",
        "    </tr>\n",
        "  </thead>\n",
        "  <tbody>\n",
        "    <tr>\n",
        "      <th>0</th>\n",
        "      <td> 0</td>\n",
        "      <td> 1590</td>\n",
        "      <td> 67</td>\n",
        "      <td>  136</td>\n",
        "      <td> 195</td>\n",
        "      <td> 2469</td>\n",
        "    </tr>\n",
        "    <tr>\n",
        "      <th>1</th>\n",
        "      <td> 1</td>\n",
        "      <td>    4</td>\n",
        "      <td>  0</td>\n",
        "      <td> 4182</td>\n",
        "      <td>  18</td>\n",
        "      <td> 1821</td>\n",
        "    </tr>\n",
        "    <tr>\n",
        "      <th>2</th>\n",
        "      <td> 0</td>\n",
        "      <td>   25</td>\n",
        "      <td>  0</td>\n",
        "      <td> 1174</td>\n",
        "      <td>  42</td>\n",
        "      <td>  839</td>\n",
        "    </tr>\n",
        "    <tr>\n",
        "      <th>3</th>\n",
        "      <td> 1</td>\n",
        "      <td>    2</td>\n",
        "      <td>  0</td>\n",
        "      <td>  703</td>\n",
        "      <td>   2</td>\n",
        "      <td>  661</td>\n",
        "    </tr>\n",
        "    <tr>\n",
        "      <th>4</th>\n",
        "      <td> 0</td>\n",
        "      <td>  259</td>\n",
        "      <td> 85</td>\n",
        "      <td>  408</td>\n",
        "      <td> 316</td>\n",
        "      <td> 4414</td>\n",
        "    </tr>\n",
        "  </tbody>\n",
        "</table>\n",
        "</div>"
       ],
       "metadata": {},
       "output_type": "pyout",
       "prompt_number": 59,
       "text": [
        "Taxon  Location  Actinobacteria  Bacteroidetes  Firmicutes  Other  \\\n",
        "0             0            1590             67         136    195   \n",
        "1             1               4              0        4182     18   \n",
        "2             0              25              0        1174     42   \n",
        "3             1               2              0         703      2   \n",
        "4             0             259             85         408    316   \n",
        "\n",
        "Taxon  Proteobacteria  \n",
        "0                2469  \n",
        "1                1821  \n",
        "2                 839  \n",
        "3                 661  \n",
        "4                4414  "
       ]
      }
     ],
     "prompt_number": 59
    },
    {
     "cell_type": "code",
     "collapsed": false,
     "input": [
      "from sklearn.decomposition import PCA\n",
      "from itertools import cycle\n",
      "\n",
      "pca = PCA(n_components=2, whiten=True).fit(X)\n",
      "X_pca = pca.transform(X)\n",
      "\n",
      "def plot_2D(data, target, target_names):\n",
      "    colors = cycle('rgbcmykw')\n",
      "    target_ids = range(len(target_names))\n",
      "    plt.figure()\n",
      "    for i, c, label in zip(target_ids, colors, target_names):\n",
      "        plt.scatter(data[target == i, 0], data[target == i, 1],\n",
      "                   c=c, label=label)\n",
      "    var_explained = pca.explained_variance_ratio_ * 100\n",
      "    plt.xlabel('First Component: {0:.1f}%'.format(var_explained[0]))\n",
      "    plt.ylabel('Second Component: {0:.1f}%'.format(var_explained[1]))\n",
      "    plt.legend()"
     ],
     "language": "python",
     "metadata": {},
     "outputs": [],
     "prompt_number": 60
    },
    {
     "cell_type": "code",
     "collapsed": false,
     "input": [
      "plot_2D(X_pca, y, ['Tissue', 'Stool'])"
     ],
     "language": "python",
     "metadata": {},
     "outputs": [
      {
       "metadata": {},
       "output_type": "display_data",
       "png": "[encoded data removed]",
       "text": [
        "<matplotlib.figure.Figure at 0x1133e4c10>"
       ]
      }
     ],
     "prompt_number": 61
    },
    {
     "cell_type": "code",
     "collapsed": false,
     "input": [
      "km_microbiome = KMeans(n_clusters=2, random_state=rng)\n",
      "km_microbiome.fit(X_pca)"
     ],
     "language": "python",
     "metadata": {},
     "outputs": [
      {
       "metadata": {},
       "output_type": "pyout",
       "prompt_number": 62,
       "text": [
        "KMeans(copy_x=True, init='k-means++', max_iter=300, n_clusters=2, n_init=10,\n",
        "    n_jobs=1, precompute_distances='auto',\n",
        "    random_state=<mtrand.RandomState object at 0x1133d7750>, tol=0.0001,\n",
        "    verbose=0)"
       ]
      }
     ],
     "prompt_number": 62
    },
    {
     "cell_type": "code",
     "collapsed": false,
     "input": [
      "np.round(km_microbiome.cluster_centers_, decimals=2)"
     ],
     "language": "python",
     "metadata": {},
     "outputs": [
      {
       "metadata": {},
       "output_type": "pyout",
       "prompt_number": 63,
       "text": [
        "array([[-0.34, -0.38],\n",
        "       [ 1.01,  1.14]])"
       ]
      }
     ],
     "prompt_number": 63
    },
    {
     "cell_type": "code",
     "collapsed": false,
     "input": [
      "km_microbiome.labels_"
     ],
     "language": "python",
     "metadata": {},
     "outputs": [
      {
       "metadata": {},
       "output_type": "pyout",
       "prompt_number": 64,
       "text": [
        "array([0, 1, 0, 0, 0, 1, 0, 1, 0, 0, 0, 0, 0, 0, 0, 0, 0, 1, 0, 0, 1, 1, 0,\n",
        "       0, 0, 0, 0, 1], dtype=int32)"
       ]
      }
     ],
     "prompt_number": 64
    },
    {
     "cell_type": "code",
     "collapsed": false,
     "input": [
      "plot_2D(X_pca, km_microbiome.labels_, [\"c1\", \"c2\"])"
     ],
     "language": "python",
     "metadata": {},
     "outputs": [
      {
       "metadata": {},
       "output_type": "display_data",
       "png": "[encoded data removed]",
       "text": [
        "<matplotlib.figure.Figure at 0x1130da350>"
       ]
      }
     ],
     "prompt_number": 65
    },
    {
     "cell_type": "markdown",
     "metadata": {},
     "source": [
      "`scikit-learn` includes a suite of well-known clustering algorithms. Like most unsupervised learning models in the scikit, they expect the data to be clustered to have the shape `(n_samples, n_features)`:\n",
      "\n",
      "- `sklearn.cluster.KMeans`\n",
      ": The simplest, yet effective clustering algorithm. Needs to be provided with the\n",
      "number of clusters in advance, and assumes that the data is normalized as input\n",
      "(but use a PCA model as preprocessor).\n",
      "- `sklearn.cluster.MeanShift`\n",
      ": Can find better looking clusters than KMeans but is not scalable to high number of samples.\n",
      "- `sklearn.cluster.DBSCAN`\n",
      ": Can detect irregularly shaped clusters based on density, i.e. sparse regions in\n",
      "the input space are likely to become inter-cluster boundaries. Can also detect\n",
      "outliers (samples that are not part of a cluster)."
     ]
    },
    {
     "cell_type": "markdown",
     "metadata": {},
     "source": [
      "## Exercise: NEC\n",
      "\n",
      "If all the odd-numbered patients are healthy controls and the even-numbered patients have necrotizing enterocolitis (NEC), see if either the tissue or stool samples cluster according to group status."
     ]
    },
    {
     "cell_type": "code",
     "collapsed": false,
     "input": [
      "## Write answer here"
     ],
     "language": "python",
     "metadata": {},
     "outputs": []
    },
    {
     "cell_type": "code",
     "collapsed": false,
     "input": [
      "microbiome_pivoted = microbiome.pivot_table(index=['Patient', 'Group'], \n",
      "                        columns='Taxon')\n",
      "tissue_data = microbiome_pivoted['Tissue']"
     ],
     "language": "python",
     "metadata": {},
     "outputs": [],
     "prompt_number": 75
    },
    {
     "cell_type": "code",
     "collapsed": false,
     "input": [
      "microbiome_pivoted"
     ],
     "language": "python",
     "metadata": {},
     "outputs": [
      {
       "html": [
        "<div style=\"max-height:1000px;max-width:1500px;overflow:auto;\">\n",
        "<table border=\"1\" class=\"dataframe\">\n",
        "  <thead>\n",
        "    <tr>\n",
        "      <th></th>\n",
        "      <th></th>\n",
        "      <th colspan=\"5\" halign=\"left\">Tissue</th>\n",
        "      <th colspan=\"5\" halign=\"left\">Stool</th>\n",
        "    </tr>\n",
        "    <tr>\n",
        "      <th></th>\n",
        "      <th>Taxon</th>\n",
        "      <th>Actinobacteria</th>\n",
        "      <th>Bacteroidetes</th>\n",
        "      <th>Firmicutes</th>\n",
        "      <th>Other</th>\n",
        "      <th>Proteobacteria</th>\n",
        "      <th>Actinobacteria</th>\n",
        "      <th>Bacteroidetes</th>\n",
        "      <th>Firmicutes</th>\n",
        "      <th>Other</th>\n",
        "      <th>Proteobacteria</th>\n",
        "    </tr>\n",
        "    <tr>\n",
        "      <th>Patient</th>\n",
        "      <th>Group</th>\n",
        "      <th></th>\n",
        "      <th></th>\n",
        "      <th></th>\n",
        "      <th></th>\n",
        "      <th></th>\n",
        "      <th></th>\n",
        "      <th></th>\n",
        "      <th></th>\n",
        "      <th></th>\n",
        "      <th></th>\n",
        "    </tr>\n",
        "  </thead>\n",
        "  <tbody>\n",
        "    <tr>\n",
        "      <th>1 </th>\n",
        "      <th>0</th>\n",
        "      <td> 1590</td>\n",
        "      <td>   67</td>\n",
        "      <td>  136</td>\n",
        "      <td> 195</td>\n",
        "      <td>  2469</td>\n",
        "      <td>   4</td>\n",
        "      <td>    0</td>\n",
        "      <td> 4182</td>\n",
        "      <td> 18</td>\n",
        "      <td> 1821</td>\n",
        "    </tr>\n",
        "    <tr>\n",
        "      <th>2 </th>\n",
        "      <th>1</th>\n",
        "      <td>   25</td>\n",
        "      <td>    0</td>\n",
        "      <td> 1174</td>\n",
        "      <td>  42</td>\n",
        "      <td>   839</td>\n",
        "      <td>   2</td>\n",
        "      <td>    0</td>\n",
        "      <td>  703</td>\n",
        "      <td>  2</td>\n",
        "      <td>  661</td>\n",
        "    </tr>\n",
        "    <tr>\n",
        "      <th>3 </th>\n",
        "      <th>0</th>\n",
        "      <td>  259</td>\n",
        "      <td>   85</td>\n",
        "      <td>  408</td>\n",
        "      <td> 316</td>\n",
        "      <td>  4414</td>\n",
        "      <td> 300</td>\n",
        "      <td>    5</td>\n",
        "      <td> 3946</td>\n",
        "      <td> 43</td>\n",
        "      <td>   18</td>\n",
        "    </tr>\n",
        "    <tr>\n",
        "      <th>4 </th>\n",
        "      <th>1</th>\n",
        "      <td>  568</td>\n",
        "      <td>  143</td>\n",
        "      <td>  831</td>\n",
        "      <td> 202</td>\n",
        "      <td> 12044</td>\n",
        "      <td>   7</td>\n",
        "      <td>    7</td>\n",
        "      <td> 8605</td>\n",
        "      <td> 40</td>\n",
        "      <td>   83</td>\n",
        "    </tr>\n",
        "    <tr>\n",
        "      <th>5 </th>\n",
        "      <th>0</th>\n",
        "      <td> 1102</td>\n",
        "      <td>  678</td>\n",
        "      <td>  693</td>\n",
        "      <td> 116</td>\n",
        "      <td>  2310</td>\n",
        "      <td>   9</td>\n",
        "      <td>    2</td>\n",
        "      <td>   50</td>\n",
        "      <td>  0</td>\n",
        "      <td>   12</td>\n",
        "    </tr>\n",
        "    <tr>\n",
        "      <th>6 </th>\n",
        "      <th>1</th>\n",
        "      <td>  678</td>\n",
        "      <td> 4829</td>\n",
        "      <td>  718</td>\n",
        "      <td> 527</td>\n",
        "      <td>  3053</td>\n",
        "      <td> 377</td>\n",
        "      <td>  209</td>\n",
        "      <td>  717</td>\n",
        "      <td> 12</td>\n",
        "      <td>  547</td>\n",
        "    </tr>\n",
        "    <tr>\n",
        "      <th>7 </th>\n",
        "      <th>0</th>\n",
        "      <td>  260</td>\n",
        "      <td>   74</td>\n",
        "      <td>  173</td>\n",
        "      <td> 357</td>\n",
        "      <td>   395</td>\n",
        "      <td>  58</td>\n",
        "      <td>  651</td>\n",
        "      <td>   33</td>\n",
        "      <td> 11</td>\n",
        "      <td> 2174</td>\n",
        "    </tr>\n",
        "    <tr>\n",
        "      <th>8 </th>\n",
        "      <th>1</th>\n",
        "      <td>  424</td>\n",
        "      <td>  169</td>\n",
        "      <td>  228</td>\n",
        "      <td> 106</td>\n",
        "      <td>  2651</td>\n",
        "      <td> 233</td>\n",
        "      <td>  254</td>\n",
        "      <td>   80</td>\n",
        "      <td> 11</td>\n",
        "      <td>  767</td>\n",
        "    </tr>\n",
        "    <tr>\n",
        "      <th>9 </th>\n",
        "      <th>0</th>\n",
        "      <td>  548</td>\n",
        "      <td>  106</td>\n",
        "      <td>  162</td>\n",
        "      <td>  67</td>\n",
        "      <td>  1195</td>\n",
        "      <td>  21</td>\n",
        "      <td>   10</td>\n",
        "      <td> 3196</td>\n",
        "      <td> 14</td>\n",
        "      <td>   76</td>\n",
        "    </tr>\n",
        "    <tr>\n",
        "      <th>10</th>\n",
        "      <th>1</th>\n",
        "      <td>  201</td>\n",
        "      <td>   73</td>\n",
        "      <td>  372</td>\n",
        "      <td> 203</td>\n",
        "      <td>  6857</td>\n",
        "      <td>  83</td>\n",
        "      <td>  381</td>\n",
        "      <td>   32</td>\n",
        "      <td>  6</td>\n",
        "      <td>  795</td>\n",
        "    </tr>\n",
        "    <tr>\n",
        "      <th>11</th>\n",
        "      <th>0</th>\n",
        "      <td>   42</td>\n",
        "      <td>   30</td>\n",
        "      <td> 4255</td>\n",
        "      <td> 392</td>\n",
        "      <td>   483</td>\n",
        "      <td>  75</td>\n",
        "      <td>  359</td>\n",
        "      <td> 4361</td>\n",
        "      <td>  6</td>\n",
        "      <td>  666</td>\n",
        "    </tr>\n",
        "    <tr>\n",
        "      <th>12</th>\n",
        "      <th>1</th>\n",
        "      <td>  109</td>\n",
        "      <td>   51</td>\n",
        "      <td>  107</td>\n",
        "      <td>  28</td>\n",
        "      <td>  2950</td>\n",
        "      <td>  59</td>\n",
        "      <td>   51</td>\n",
        "      <td> 1667</td>\n",
        "      <td> 25</td>\n",
        "      <td> 3994</td>\n",
        "    </tr>\n",
        "    <tr>\n",
        "      <th>13</th>\n",
        "      <th>0</th>\n",
        "      <td>   51</td>\n",
        "      <td> 2473</td>\n",
        "      <td>   96</td>\n",
        "      <td>  12</td>\n",
        "      <td>  1541</td>\n",
        "      <td> 183</td>\n",
        "      <td> 2314</td>\n",
        "      <td>  223</td>\n",
        "      <td> 22</td>\n",
        "      <td>  816</td>\n",
        "    </tr>\n",
        "    <tr>\n",
        "      <th>14</th>\n",
        "      <th>1</th>\n",
        "      <td>  310</td>\n",
        "      <td>  102</td>\n",
        "      <td>  281</td>\n",
        "      <td> 305</td>\n",
        "      <td>  1307</td>\n",
        "      <td> 204</td>\n",
        "      <td>   33</td>\n",
        "      <td> 2377</td>\n",
        "      <td> 32</td>\n",
        "      <td>   53</td>\n",
        "    </tr>\n",
        "  </tbody>\n",
        "</table>\n",
        "</div>"
       ],
       "metadata": {},
       "output_type": "pyout",
       "prompt_number": 105,
       "text": [
        "                      Tissue                                                \\\n",
        "Taxon         Actinobacteria Bacteroidetes Firmicutes Other Proteobacteria   \n",
        "Patient Group                                                                \n",
        "1       0               1590            67        136   195           2469   \n",
        "2       1                 25             0       1174    42            839   \n",
        "3       0                259            85        408   316           4414   \n",
        "4       1                568           143        831   202          12044   \n",
        "5       0               1102           678        693   116           2310   \n",
        "6       1                678          4829        718   527           3053   \n",
        "7       0                260            74        173   357            395   \n",
        "8       1                424           169        228   106           2651   \n",
        "9       0                548           106        162    67           1195   \n",
        "10      1                201            73        372   203           6857   \n",
        "11      0                 42            30       4255   392            483   \n",
        "12      1                109            51        107    28           2950   \n",
        "13      0                 51          2473         96    12           1541   \n",
        "14      1                310           102        281   305           1307   \n",
        "\n",
        "                       Stool                                                \n",
        "Taxon         Actinobacteria Bacteroidetes Firmicutes Other Proteobacteria  \n",
        "Patient Group                                                               \n",
        "1       0                  4             0       4182    18           1821  \n",
        "2       1                  2             0        703     2            661  \n",
        "3       0                300             5       3946    43             18  \n",
        "4       1                  7             7       8605    40             83  \n",
        "5       0                  9             2         50     0             12  \n",
        "6       1                377           209        717    12            547  \n",
        "7       0                 58           651         33    11           2174  \n",
        "8       1                233           254         80    11            767  \n",
        "9       0                 21            10       3196    14             76  \n",
        "10      1                 83           381         32     6            795  \n",
        "11      0                 75           359       4361     6            666  \n",
        "12      1                 59            51       1667    25           3994  \n",
        "13      0                183          2314        223    22            816  \n",
        "14      1                204            33       2377    32             53  "
       ]
      }
     ],
     "prompt_number": 105
    },
    {
     "cell_type": "code",
     "collapsed": true,
     "input": [
      "tissue_pca = PCA(n_components=2, whiten=True).fit(tissue_data)\n",
      "X_tissue_pca = pca.transform(tissue_data)"
     ],
     "language": "python",
     "metadata": {},
     "outputs": [],
     "prompt_number": 88
    },
    {
     "cell_type": "code",
     "collapsed": false,
     "input": [
      "y = tissue_data.index.labels[1]"
     ],
     "language": "python",
     "metadata": {},
     "outputs": [],
     "prompt_number": 82
    },
    {
     "cell_type": "code",
     "collapsed": true,
     "input": [
      "def plot_2D(data, target, target_names, pca):\n",
      "    colors = cycle('rgbcmykw')\n",
      "    target_ids = range(len(target_names))\n",
      "    plt.figure()\n",
      "    for i, c, label in zip(target_ids, colors, target_names):\n",
      "        plt.scatter(data[target == i, 0], data[target == i, 1],\n",
      "                   c=c, label=label)\n",
      "    var_explained = pca.explained_variance_ratio_ * 100\n",
      "    plt.xlabel('First Component: {0:.1f}%'.format(var_explained[0]))\n",
      "    plt.ylabel('Second Component: {0:.1f}%'.format(var_explained[1]))\n",
      "    plt.legend()"
     ],
     "language": "python",
     "metadata": {},
     "outputs": [],
     "prompt_number": 106
    },
    {
     "cell_type": "code",
     "collapsed": false,
     "input": [
      "plot_2D(X_tissue_pca, y, ['Healthy', 'NEC'], tissue_pca)"
     ],
     "language": "python",
     "metadata": {},
     "outputs": [
      {
       "metadata": {},
       "output_type": "display_data",
       "png": "[encoded data removed]",
       "text": [
        "<matplotlib.figure.Figure at 0x113c4e8d0>"
       ]
      }
     ],
     "prompt_number": 107
    },
    {
     "cell_type": "code",
     "collapsed": false,
     "input": [
      "km_tissue = KMeans(n_clusters=2)\n",
      "km_tissue.fit(X_tissue_pca)"
     ],
     "language": "python",
     "metadata": {},
     "outputs": [
      {
       "metadata": {},
       "output_type": "pyout",
       "prompt_number": 108,
       "text": [
        "KMeans(copy_x=True, init='k-means++', max_iter=300, n_clusters=2, n_init=10,\n",
        "    n_jobs=1, precompute_distances='auto', random_state=None, tol=0.0001,\n",
        "    verbose=0)"
       ]
      }
     ],
     "prompt_number": 108
    },
    {
     "cell_type": "code",
     "collapsed": false,
     "input": [
      "plot_2D(X_tissue_pca, km_tissue.labels_, [\"c1\", \"c2\"], tissue_pca)"
     ],
     "language": "python",
     "metadata": {},
     "outputs": [
      {
       "metadata": {},
       "output_type": "display_data",
       "png": "[encoded data removed]",
       "text": [
        "<matplotlib.figure.Figure at 0x113a90b50>"
       ]
      }
     ],
     "prompt_number": 110
    },
    {
     "cell_type": "code",
     "collapsed": true,
     "input": [
      "stool_data = microbiome_pivoted['Stool']"
     ],
     "language": "python",
     "metadata": {},
     "outputs": [],
     "prompt_number": 85
    },
    {
     "cell_type": "code",
     "collapsed": true,
     "input": [
      "stool_pca = PCA(n_components=2, whiten=True).fit(stool_data)\n",
      "X_stool_pca = pca.transform(stool_data)"
     ],
     "language": "python",
     "metadata": {},
     "outputs": [],
     "prompt_number": 89
    },
    {
     "cell_type": "code",
     "collapsed": true,
     "input": [
      "y_stool = stool_data.index.labels[1]"
     ],
     "language": "python",
     "metadata": {},
     "outputs": [],
     "prompt_number": 95
    },
    {
     "cell_type": "code",
     "collapsed": false,
     "input": [
      "plot_2D(X_stool_pca, y_stool, ['Healthy', 'NEC'], stool_pca)"
     ],
     "language": "python",
     "metadata": {},
     "outputs": [
      {
       "metadata": {},
       "output_type": "display_data",
       "png": "[encoded data removed]",
       "text": [
        "<matplotlib.figure.Figure at 0x113a1b310>"
       ]
      }
     ],
     "prompt_number": 111
    },
    {
     "cell_type": "code",
     "collapsed": false,
     "input": [
      "km_stool = KMeans(n_clusters=2)\n",
      "km_stool.fit(X_stool_pca)"
     ],
     "language": "python",
     "metadata": {},
     "outputs": [
      {
       "metadata": {},
       "output_type": "pyout",
       "prompt_number": 112,
       "text": [
        "KMeans(copy_x=True, init='k-means++', max_iter=300, n_clusters=2, n_init=10,\n",
        "    n_jobs=1, precompute_distances='auto', random_state=None, tol=0.0001,\n",
        "    verbose=0)"
       ]
      }
     ],
     "prompt_number": 112
    },
    {
     "cell_type": "code",
     "collapsed": false,
     "input": [
      "plot_2D(X_stool_pca, km_stool.labels_, [\"c1\", \"c2\"], stool_pca)"
     ],
     "language": "python",
     "metadata": {},
     "outputs": [
      {
       "metadata": {},
       "output_type": "display_data",
       "png": "[encoded data removed]",
       "text": [
        "<matplotlib.figure.Figure at 0x113868650>"
       ]
      }
     ],
     "prompt_number": 114
    },
    {
     "cell_type": "markdown",
     "metadata": {},
     "source": [
      "## Exercise: clustering baseball statistics\n",
      "\n",
      "We can use clustering to try to find interesting groupings among sets of baseball statistics. Load the baseball dataset and run a clustering algorithm on the set of three statistics:\n",
      "\n",
      "* hit rate: hits / at bats\n",
      "* strikeout rate: strikeouts / at bats\n",
      "* walk rate: bases on balls /at bats\n",
      "\n",
      "You should probably set a minimum number of at bats to qualify for the analysis, since there are pitchers that get only a handful of at bats each year.\n",
      "\n",
      "Since we are clustering in 3 dimensions, you can visualize the output as a series of pairwise plots."
     ]
    },
    {
     "cell_type": "code",
     "collapsed": false,
     "input": [
      "import pandas as pd\n",
      "\n",
      "baseball = pd.read_csv(\"../data/baseball.csv\", index_col=0)\n",
      "baseball.head()"
     ],
     "language": "python",
     "metadata": {},
     "outputs": []
    },
    {
     "cell_type": "code",
     "collapsed": false,
     "input": [
      "%load ../examples/baseball_cluster.py"
     ],
     "language": "python",
     "metadata": {},
     "outputs": []
    },
    {
     "cell_type": "code",
     "collapsed": false,
     "input": [
      "from sklearn.cluster import KMeans\n",
      "from sklearn.decomposition import PCA\n",
      "import pandas as pd\n",
      "\n",
      "# Import data\n",
      "baseball = pd.read_csv(\"../data/baseball.csv\", index_col=0)\n",
      "\n",
      "# Generate statistics\n",
      "baseball = baseball[baseball.ab>100]\n",
      "hit_rate = baseball.h.astype(float) / baseball.ab\n",
      "strikeout_rate = baseball.so.astype(float) / baseball.ab\n",
      "walk_rate = baseball.bb.astype(float) / baseball.ab\n",
      "\n",
      "# Create feature matrix\n",
      "X = np.c_[hit_rate, strikeout_rate, walk_rate]\n",
      "\n",
      "# Run PCA\n",
      "pca = PCA(n_components=2, whiten=True).fit(X)\n",
      "X_pca = pca.transform(X)\n",
      "\n",
      "# Run clustering\n",
      "km_baseball = KMeans(n_clusters=3).fit(X_pca)\n",
      "\n",
      "baseball.player.values[km_baseball.labels_==0]"
     ],
     "language": "python",
     "metadata": {},
     "outputs": [
      {
       "metadata": {},
       "output_type": "pyout",
       "prompt_number": 103,
       "text": [
        "array(['zaungr01', 'whitero02', 'valenjo03', 'thomeji01', 'thomafr04',\n",
        "       'stairma01', 'sosasa01', 'rodriiv01', 'ramirma02', 'piazzmi01',\n",
        "       'kleskry01', 'griffke02', 'graffto01', 'floydcl01', 'edmonji01',\n",
        "       'easleda01', 'delgaca01', 'claytro01', 'biggicr01', 'ausmubr01'], dtype=object)"
       ]
      }
     ],
     "prompt_number": 103
    },
    {
     "cell_type": "markdown",
     "metadata": {},
     "source": [
      "## DP-Means\n",
      "\n",
      "The major weakness of the k-means approach to clustering is that the number of clusters needs to be specified at the outset. However, there is usually uncertainty with respect to the appropriate number of clusters for a given dataset. A flexible alternative to k-means that allows for an unknown number of clusters involves using a Bayesian non-parametric mixture model instead (Kulis and Jordan 2011). In particular, a Dirichlet process (DP) mixture model, which we have seen in a previous lecture, probabilistically assigns observations to clusters, using a stick-breaking algorithm. \n",
      "\n",
      "Recall the definition of a finite mixture model:\n",
      "\n",
      "\\\\[f(y) = \\sum_{h=1}^{k} \\pi_h \\mathcal{K}(y|\\theta_h)\\\\]\n",
      "\n",
      "where \\\\(k\\\\) is the number of mixture components, \\\\(\\pi_h\\\\) is the mixing coefficient for component \\\\(h\\\\), and \\\\(K\\\\) specifies the mixing components (*e.g.* a Gaussian distribution), which has parameters \\\\(\\theta_h\\\\) for each component. \n",
      "\n",
      "A DP mixture extends this by placing a Dirichlet prior of dimension \\\\(k\\\\) on the mixing coefficients.\n",
      "\n",
      "\\\\[\\begin{aligned}\n",
      "\\mathbf{\\pi} &\\sim \\text{Dirichlet}(k, \\pi_0) \\\\\n",
      "\\theta_1,\\ldots,\\theta_k &\\sim P \\\\\n",
      "z_1,\\ldots,z_n &\\sim \\text{Categorical}(\\mathbf{\\pi}) \\\\\n",
      "y_1,\\ldots,y_n &\\sim \\mathcal{K}(y|\\theta_z)\n",
      "\\end{aligned}\\\\]"
     ]
    },
    {
     "cell_type": "markdown",
     "metadata": {},
     "source": [
      "### DP-means algorithm\n",
      "\n",
      "1. Initialize number of clusters to 1, and assign all observations to that cluster. Calculate cluster mean to be global mean.\n",
      "2. Specify cluster penalty parameter \\\\(\\lambda\\\\)\n",
      "3. Initialize cluster indicators: \\\\(z_1 = z_2 = \\ldots, = z_n = 1 \\\\)\n",
      "4. Repeat until convergence:\n",
      "\n",
      "    + For each data point \\\\(x_i\\\\):\n",
      "    \n",
      "        + compute distance from means $d_{ic} = ||x_i - \\mu_c||^2$ for $c=1,\\ldots,k$\n",
      "        + If $\\min_c(d_{ic}) > \\lambda$ set $k = k+1$, $z_i = k$, $\\mu_k = x_i$\n",
      "        + Otherwise set $z_i = \\text{argmin}_c(d_{ic})$\n",
      "        \n",
      "    + Generate clusters $l_1, \\ldots, l_k$ from $z_1,\\ldots,z_n$\n",
      "    \n",
      "    + Recompute cluster means: $\\mu_j = \\frac{1}{|l_j|} \\sum_{x \\in l_j} x$"
     ]
    },
    {
     "cell_type": "code",
     "collapsed": false,
     "input": [
      "x, y = np.random.uniform(0, 10, 50).reshape(2, 25)\n",
      "data = np.array((x,y))\n",
      "data.mean(1)"
     ],
     "language": "python",
     "metadata": {},
     "outputs": []
    },
    {
     "cell_type": "code",
     "collapsed": false,
     "input": [
      "foo = np.array([4,5,8,-1,8])\n",
      "np.where(foo==8)[0]"
     ],
     "language": "python",
     "metadata": {},
     "outputs": []
    },
    {
     "cell_type": "code",
     "collapsed": false,
     "input": [
      "np.inf"
     ],
     "language": "python",
     "metadata": {},
     "outputs": []
    },
    {
     "cell_type": "code",
     "collapsed": true,
     "input": [
      "def dp_means(x, lam, max_iter=100, tol=1e-5):\n",
      "    \n",
      "    data = np.array(data)\n",
      "    n = data.shape[0]\n",
      "    k = 1\n",
      "    \n",
      "    # Initlaize cluster indicators\n",
      "    z = np.ones(n)\n",
      "    \n",
      "    # Cluster means\n",
      "    mu = [data.mean(1)]\n",
      "    \n",
      "    converged = False\n",
      "    iteration = 0\n",
      "    \n",
      "    ss = np.inf\n",
      "\n",
      "    while not converged:\n",
      "        \n",
      "        for i in range(n):\n",
      "            \n",
      "            d = [(data[i, 0] - mu[j][0])**2 + (data[i, 1] - mu[j][1])**2 for j in range(k)]\n",
      "            \n",
      "            if np.min(d) > lam:\n",
      "\n",
      "                k += 1\n",
      "\n",
      "                z[i] = k\n",
      "\n",
      "                mu += [data[i]]\n",
      "\n",
      "            else:\n",
      "\n",
      "                z[i] = np.argmin(d)\n",
      "                \n",
      "        for j in range(k):\n",
      "            \n",
      "            if (z=j).sum():\n",
      "                \n",
      "                indices = np.where(z==j)[0]\n",
      "                mu[j] = np.mean(data[indices])\n",
      "                \n",
      "        ss_old = ss\n",
      "        ss = 0\n",
      "        \n",
      "        for i in range(n):\n",
      "            ss += (data[i,0] - mu[z[i]][0])**2 + (data[i,1] - mu[z[i]][1])**2\n",
      "            \n",
      "        ss_diff = ss_old - ss\n",
      "        \n",
      "        if ss_change < tol:\n",
      "            converged = True\n",
      "        \n",
      "        iteration += 1"
     ],
     "language": "python",
     "metadata": {},
     "outputs": []
    },
    {
     "cell_type": "markdown",
     "metadata": {},
     "source": [
      "## References\n",
      "\n",
      "Kulis B and Jordan MI. Revisiting k-means: New Algorithms via Bayesian Nonparametrics. arXiv preprint [arXiv:11110352](http://arxiv.org/abs/1111.0352) 2011.\n",
      "\n",
      "---"
     ]
    },
    {
     "cell_type": "code",
     "collapsed": false,
     "input": [
      "from IPython.core.display import HTML\n",
      "def css_styling():\n",
      "    styles = open(\"styles/custom.css\", \"r\").read()\n",
      "    return HTML(styles)\n",
      "css_styling()"
     ],
     "language": "python",
     "metadata": {},
     "outputs": [
      {
       "html": [
        "<style>\n",
        "    @font-face {\n",
        "        font-family: \"Computer Modern\";\n",
        "        src: url('http://mirrors.ctan.org/fonts/cm-unicode/fonts/otf/cmunss.otf');\n",
        "    }\n",
        "    div.cell{\n",
        "        width: 90%;\n",
        "/*        margin-left:auto;*/\n",
        "/*        margin-right:auto;*/\n",
        "    }\n",
        "    ul {\n",
        "        line-height: 145%;\n",
        "        font-size: 90%;\n",
        "    }\n",
        "    li {\n",
        "        margin-bottom: 1em;\n",
        "    }\n",
        "    h1 {\n",
        "        font-family: Helvetica, serif;\n",
        "    }\n",
        "    h4{\n",
        "        margin-top: 12px;\n",
        "        margin-bottom: 3px;\n",
        "       }\n",
        "    div.text_cell_render{\n",
        "        font-family: Computer Modern, \"Helvetica Neue\", Arial, Helvetica, Geneva, sans-serif;\n",
        "        line-height: 145%;\n",
        "        font-size: 130%;\n",
        "        width: 90%;\n",
        "        margin-left:auto;\n",
        "        margin-right:auto;\n",
        "    }\n",
        "    .CodeMirror{\n",
        "            font-family: \"Source Code Pro\", source-code-pro,Consolas, monospace;\n",
        "    }\n",
        "/*    .prompt{\n",
        "        display: None;\n",
        "    }*/\n",
        "    .text_cell_render h5 {\n",
        "        font-weight: 300;\n",
        "        font-size: 16pt;\n",
        "        color: #4057A1;\n",
        "        font-style: italic;\n",
        "        margin-bottom: 0.5em;\n",
        "        margin-top: 0.5em;\n",
        "        display: block;\n",
        "    }\n",
        "\n",
        "    .warning{\n",
        "        color: rgb( 240, 20, 20 )\n",
        "        }\n",
        "</style>\n",
        "<script>\n",
        "    MathJax.Hub.Config({\n",
        "                        TeX: {\n",
        "                           extensions: [\"AMSmath.js\"]\n",
        "                           },\n",
        "                tex2jax: {\n",
        "                    inlineMath: [ ['$','$'], [\"\\\\(\",\"\\\\)\"] ],\n",
        "                    displayMath: [ ['$$','$$'], [\"\\\\[\",\"\\\\]\"] ]\n",
        "                },\n",
        "                displayAlign: 'center', // Change this to 'center' to center equations.\n",
        "                \"HTML-CSS\": {\n",
        "                    styles: {'.MathJax_Display': {\"margin\": 4}}\n",
        "                }\n",
        "        });\n",
        "</script>"
       ],
       "metadata": {},
       "output_type": "pyout",
       "prompt_number": 38,
       "text": [
        "<IPython.core.display.HTML object>"
       ]
      }
     ],
     "prompt_number": 38
    },
    {
     "cell_type": "code",
     "collapsed": true,
     "input": [],
     "language": "python",
     "metadata": {},
     "outputs": []
    }
   ],
   "metadata": {}
  }
 ]
}