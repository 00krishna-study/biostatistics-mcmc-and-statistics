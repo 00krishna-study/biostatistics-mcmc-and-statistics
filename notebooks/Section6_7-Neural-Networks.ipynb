{
 "metadata": {
  "name": "",
  "signature": "sha256:80b5a6769f6aafa9c4e89d41069aa7c9f994e6600e31987925dadf69b886566d"
 },
 "nbformat": 3,
 "nbformat_minor": 0,
 "worksheets": [
  {
   "cells": [
    {
     "cell_type": "markdown",
     "metadata": {},
     "source": [
      "# Supervised Learning: Neural Networks"
     ]
    },
    {
     "cell_type": "code",
     "collapsed": false,
     "input": [
      "%matplotlib inline\n",
      "import numpy as np\n",
      "import pandas as pd\n",
      "import matplotlib.pyplot as plt\n",
      "import theano\n",
      "import theano.tensor as T\n",
      "from scipy import optimize\n",
      "from IPython.html.widgets import *"
     ],
     "language": "python",
     "metadata": {},
     "outputs": [],
     "prompt_number": 28
    },
    {
     "cell_type": "markdown",
     "metadata": {},
     "source": [
      "## McCulloch and Pitts Neuron\n",
      "\n",
      "In 1943, McCulloch and Pitts introduced a mathematical model of a neuron. It consisted of three components:\n",
      "\n",
      "1. A set of **weights** $w_i$ corresponding to synapses (inputs)\n",
      "2. An **adder** for summing input signals; analogous to cell membrane that collects charge\n",
      "3. An **activation function** for determining when the neuron fires, based on accumulated input\n",
      "\n",
      "The neuron model is shown schematically below. On the left are input nodes $\\{x_i\\}$, usually expressed as a vector. The strength with which the inputs are able to deliver the signal along the synapse is determined by their corresponding weights $\\{w_i\\}$. The adder then sums the inputs from all the synapses:\n",
      "\n",
      "$$h = \\sum_i w_i x_i$$\n",
      "\n",
      "The parameter $\\theta$ determines whether or not the neuron fires given a weighted input of $h$. If it fires, it returns a value $y=1$, otherwise $y=0$. For example, a simple **activation function** is using $\\theta$ as a simple fixed threshold:\n",
      "\n",
      "$$y = g(h) = \\left\\{ \\begin{array}{l}\n",
      "1, \\text{if } h \\gt \\theta \\\\\n",
      "0, \\text{if } h \\le \\theta\n",
      "\\end{array} \\right.$$\n",
      "\n",
      "this activation function may take any of several forms, such as a logistic function.\n",
      "\n",
      "![neuron](http://d.pr/i/9AMK+)"
     ]
    },
    {
     "cell_type": "markdown",
     "metadata": {},
     "source": [
      "A single neuron is not interesting, nor useful, from a learning perspective. It cannot learn; it simply receives inputs and either fires or not. Only when neurons are joined as a network can they perform useful work.\n",
      "\n",
      "Learning takes place by changing the weights of the connections in a neural network, and by changing the parameters of the activation functions of neurons.\n",
      "\n",
      "## Perceptron\n",
      "\n",
      "A collection of McCullough and Pitts neurons, along with a set of input nodes connected to the inputs via weighted edges, is a perceptron, the simplest neural network.\n",
      "\n",
      "Each neuron is independent of the others in the perceptron, in the sense that its behavior and performance depends only on its own weights and threshold values, and not of those for the other neurons. Though they share inputs, they operate independently.\n",
      "\n",
      "The number of inputs and outputs are determined by the data. Weights are stored as a `N x K` matrix, with N observations and K neurons, with $w_{ij}$ specifying the weight on the *i*th observation on the *j*th neuron.\n",
      "\n",
      "![perceptron](http://d.pr/i/4IWA+)"
     ]
    },
    {
     "cell_type": "markdown",
     "metadata": {},
     "source": [
      "In order to use the perceptron for statistical learning, we compare the outputs $y_j$ from each neuron to the obervation target $t_j$, and adjust the input weights when they do not correspond (*e.g.* if a neuron fires when it should not have).\n",
      "\n",
      "$$t_j - y_j$$\n",
      "\n",
      "We use this difference to update the weight $w_{ij}$, based on the input and a desired learning rate. This results in an update rule:\n",
      "\n",
      "$$w_{ij} \\leftarrow w_{ij} + \\eta (t_j - y_j) x_i$$\n",
      "\n",
      "After an incremental improvement, the perceptron is shown the training data again, resulting in another update. This is repeated until the performance no longer improves. Having a learning rate less than one results in a more stable learning rate, though this stability is traded off against having to expose the network to the data multiple times. Typical learning rates are in the 0.1-0.4 range.\n",
      "\n",
      "An additional input node is typically added to the perceptron model, which is a constant value (usually -1) that acts analogous to an intercept in a regression model. This establishes a baseline input for the case when all inputs are zero.\n",
      "\n",
      "![bias](http://d.pr/i/105b5+)\n",
      "\n",
      "## Learning with Perceptrons\n",
      "\n",
      "1. Initialize weights $w_{ij}$ to small, random numbers.\n",
      "2. For each t in T iterations\n",
      "    * compute activation for each neuron *j* connected to each input vector *i*\n",
      "    $$y_j = g\\left( h=\\sum_i w_{ij} x_i \\right) = \\left\\{ \\begin{array}{l}\n",
      "1, \\text{if } h \\gt 0 \\\\\n",
      "0, \\text{if } h \\le 0\n",
      "\\end{array} \\right.$$\n",
      "    * update weights\n",
      "    $$w_{ij} \\leftarrow w_{ij} + \\eta (t_j - y_j) x_i$$\n",
      "\n",
      "\n",
      "This algorithm is $\\mathcal{O}(Tmn)$\n",
      "\n",
      "### Example: Logical functions\n",
      "\n",
      "Let's see how the perceptron learns by training it on a couple of of logical functions, AND and OR. For two variables `x1` and `x2`, the AND function returns 1 if both are true, or zero otherwise; the OR function returns 1 if either variable is true, or both. These functions can be expressed as simple lookup tables."
     ]
    },
    {
     "cell_type": "code",
     "collapsed": false,
     "input": [
      "_and = pd.DataFrame({'x1': (0,0,1,1), 'x2': (0,1,0,1), 'y': (0,0,0,1)})\n",
      "_and"
     ],
     "language": "python",
     "metadata": {},
     "outputs": [
      {
       "html": [
        "<div style=\"max-height:1000px;max-width:1500px;overflow:auto;\">\n",
        "<table border=\"1\" class=\"dataframe\">\n",
        "  <thead>\n",
        "    <tr style=\"text-align: right;\">\n",
        "      <th></th>\n",
        "      <th>x1</th>\n",
        "      <th>x2</th>\n",
        "      <th>y</th>\n",
        "    </tr>\n",
        "  </thead>\n",
        "  <tbody>\n",
        "    <tr>\n",
        "      <th>0</th>\n",
        "      <td> 0</td>\n",
        "      <td> 0</td>\n",
        "      <td> 0</td>\n",
        "    </tr>\n",
        "    <tr>\n",
        "      <th>1</th>\n",
        "      <td> 0</td>\n",
        "      <td> 1</td>\n",
        "      <td> 0</td>\n",
        "    </tr>\n",
        "    <tr>\n",
        "      <th>2</th>\n",
        "      <td> 1</td>\n",
        "      <td> 0</td>\n",
        "      <td> 0</td>\n",
        "    </tr>\n",
        "    <tr>\n",
        "      <th>3</th>\n",
        "      <td> 1</td>\n",
        "      <td> 1</td>\n",
        "      <td> 1</td>\n",
        "    </tr>\n",
        "  </tbody>\n",
        "</table>\n",
        "</div>"
       ],
       "metadata": {},
       "output_type": "pyout",
       "prompt_number": 29,
       "text": [
        "   x1  x2  y\n",
        "0   0   0  0\n",
        "1   0   1  0\n",
        "2   1   0  0\n",
        "3   1   1  1"
       ]
      }
     ],
     "prompt_number": 29
    },
    {
     "cell_type": "markdown",
     "metadata": {},
     "source": [
      "First, we need to initialize weights to small, random values (can be positive and negative)."
     ]
    },
    {
     "cell_type": "code",
     "collapsed": false,
     "input": [
      "w = np.random.randn(3)*1e-4"
     ],
     "language": "python",
     "metadata": {},
     "outputs": [],
     "prompt_number": 30
    },
    {
     "cell_type": "markdown",
     "metadata": {},
     "source": [
      "Then, a simple activation function for calculating $g(h)$:"
     ]
    },
    {
     "cell_type": "code",
     "collapsed": true,
     "input": [
      "g = lambda inputs, weights: np.where(np.dot(inputs, weights)>0, 1, 0)"
     ],
     "language": "python",
     "metadata": {},
     "outputs": [],
     "prompt_number": 31
    },
    {
     "cell_type": "markdown",
     "metadata": {},
     "source": [
      "Finally, a training function that iterates the learning algorihtm, returning the adapted weights."
     ]
    },
    {
     "cell_type": "code",
     "collapsed": true,
     "input": [
      "def train(inputs, targets, weights, eta, n_iterations):\n",
      "\n",
      "    # Add the inputs that match the bias node\n",
      "    inputs = np.c_[inputs, -np.ones((len(inputs), 1))]\n",
      "\n",
      "    for n in range(n_iterations):\n",
      "\n",
      "        activations = g(inputs, weights);\n",
      "        weights -= eta*np.dot(np.transpose(inputs), activations - targets)\n",
      "        \n",
      "    return(weights)"
     ],
     "language": "python",
     "metadata": {},
     "outputs": [],
     "prompt_number": 32
    },
    {
     "cell_type": "markdown",
     "metadata": {},
     "source": [
      "Let's test it first on the AND function."
     ]
    },
    {
     "cell_type": "code",
     "collapsed": false,
     "input": [
      "inputs = _and[['x1','x2']]\n",
      "target = _and['y']\n",
      "\n",
      "w = train(inputs, target, w, 0.25, 10)"
     ],
     "language": "python",
     "metadata": {},
     "outputs": [],
     "prompt_number": 33
    },
    {
     "cell_type": "markdown",
     "metadata": {},
     "source": [
      "Checking the performance:"
     ]
    },
    {
     "cell_type": "code",
     "collapsed": false,
     "input": [
      "g(np.c_[inputs, -np.ones((len(inputs), 1))], w)"
     ],
     "language": "python",
     "metadata": {},
     "outputs": [
      {
       "metadata": {},
       "output_type": "pyout",
       "prompt_number": 34,
       "text": [
        "array([0, 0, 0, 1])"
       ]
      }
     ],
     "prompt_number": 34
    },
    {
     "cell_type": "markdown",
     "metadata": {},
     "source": [
      "Thus, it has learned the function perfectly. Now for OR:"
     ]
    },
    {
     "cell_type": "code",
     "collapsed": false,
     "input": [
      "_or = pd.DataFrame({'x1': (0,0,1,1), 'x2': (0,1,0,1), 'y': (0,1,1,1)})\n",
      "_or"
     ],
     "language": "python",
     "metadata": {},
     "outputs": [
      {
       "html": [
        "<div style=\"max-height:1000px;max-width:1500px;overflow:auto;\">\n",
        "<table border=\"1\" class=\"dataframe\">\n",
        "  <thead>\n",
        "    <tr style=\"text-align: right;\">\n",
        "      <th></th>\n",
        "      <th>x1</th>\n",
        "      <th>x2</th>\n",
        "      <th>y</th>\n",
        "    </tr>\n",
        "  </thead>\n",
        "  <tbody>\n",
        "    <tr>\n",
        "      <th>0</th>\n",
        "      <td> 0</td>\n",
        "      <td> 0</td>\n",
        "      <td> 0</td>\n",
        "    </tr>\n",
        "    <tr>\n",
        "      <th>1</th>\n",
        "      <td> 0</td>\n",
        "      <td> 1</td>\n",
        "      <td> 1</td>\n",
        "    </tr>\n",
        "    <tr>\n",
        "      <th>2</th>\n",
        "      <td> 1</td>\n",
        "      <td> 0</td>\n",
        "      <td> 1</td>\n",
        "    </tr>\n",
        "    <tr>\n",
        "      <th>3</th>\n",
        "      <td> 1</td>\n",
        "      <td> 1</td>\n",
        "      <td> 1</td>\n",
        "    </tr>\n",
        "  </tbody>\n",
        "</table>\n",
        "</div>"
       ],
       "metadata": {},
       "output_type": "pyout",
       "prompt_number": 35,
       "text": [
        "   x1  x2  y\n",
        "0   0   0  0\n",
        "1   0   1  1\n",
        "2   1   0  1\n",
        "3   1   1  1"
       ]
      }
     ],
     "prompt_number": 35
    },
    {
     "cell_type": "code",
     "collapsed": true,
     "input": [
      "w = np.random.randn(3)*1e-4"
     ],
     "language": "python",
     "metadata": {},
     "outputs": [],
     "prompt_number": 36
    },
    {
     "cell_type": "code",
     "collapsed": true,
     "input": [
      "inputs = _or[['x1','x2']]\n",
      "target = _or['y']\n",
      "\n",
      "w = train(inputs, target, w, 0.25, 20)"
     ],
     "language": "python",
     "metadata": {},
     "outputs": [],
     "prompt_number": 37
    },
    {
     "cell_type": "code",
     "collapsed": false,
     "input": [
      "g(np.c_[inputs, -np.ones((len(inputs), 1))], w)"
     ],
     "language": "python",
     "metadata": {},
     "outputs": [
      {
       "metadata": {},
       "output_type": "pyout",
       "prompt_number": 38,
       "text": [
        "array([0, 1, 1, 1])"
       ]
      }
     ],
     "prompt_number": 38
    },
    {
     "cell_type": "markdown",
     "metadata": {},
     "source": [
      "Also 100% correct.\n",
      "\n",
      "Now try running the model on the XOR function, where a one is returned for either `x1` or `x2` being true, but *not* both. What happens here?"
     ]
    },
    {
     "cell_type": "code",
     "collapsed": true,
     "input": [
      "# Write your answer here"
     ],
     "language": "python",
     "metadata": {},
     "outputs": [],
     "prompt_number": 39
    },
    {
     "cell_type": "code",
     "collapsed": false,
     "input": [
      "_and.plot(kind='scatter', x='x1', y='x2', c='y', s=50, colormap='winter')\n",
      "plt.plot(np.linspace(0,1.4), 1.5 - 1*np.linspace(0,1.4), 'k--');"
     ],
     "language": "python",
     "metadata": {},
     "outputs": [
      {
       "metadata": {},
       "output_type": "display_data",
       "png": "[encoded data removed]",
       "text": [
        "<matplotlib.figure.Figure at 0x1194a16a0>"
       ]
      }
     ],
     "prompt_number": 40
    },
    {
     "cell_type": "code",
     "collapsed": false,
     "input": [
      "_or.plot(kind='scatter', x='x1', y='x2', c='y', s=50, colormap='winter')\n",
      "plt.plot(np.linspace(-.4,1), .5 - 1*np.linspace(-.4,1), 'k--');"
     ],
     "language": "python",
     "metadata": {},
     "outputs": [
      {
       "metadata": {},
       "output_type": "display_data",
       "png": "[encoded data removed]",
       "text": [
        "<matplotlib.figure.Figure at 0x1192762e8>"
       ]
      }
     ],
     "prompt_number": 41
    },
    {
     "cell_type": "code",
     "collapsed": false,
     "input": [
      "_xor = pd.DataFrame({'x1': (0,0,1,1), 'x2': (0,1,0,1), 'y': (0,1,1,0)})\n",
      "\n",
      "_xor.plot(kind='scatter', x='x1', y='x2', c='y', s=50, colormap='winter');"
     ],
     "language": "python",
     "metadata": {},
     "outputs": [
      {
       "metadata": {},
       "output_type": "display_data",
       "png": "[encoded data removed]",
       "text": [
        "<matplotlib.figure.Figure at 0x1198bb978>"
       ]
      }
     ],
     "prompt_number": 42
    },
    {
     "cell_type": "markdown",
     "metadata": {},
     "source": [
      "The perceptron tries to find a separating hyperplane for the two response classes. Namely, a set of weights that satisfies:\n",
      "\n",
      "$$\\mathbf{x_1}\\mathbf{w}^T=0$$\n",
      "\n",
      "and:\n",
      "\n",
      "$$\\mathbf{x_2}\\mathbf{w}^T=0$$\n",
      "\n",
      "Hence,\n",
      "\n",
      "$$\\begin{aligned}\n",
      "\\mathbf{x}_1\\mathbf{w}^T &= \\mathbf{x}_2\\mathbf{w}^T \\\\\n",
      "\\Rightarrow (\\mathbf{x}_1 - \\mathbf{x}_2) \\mathbf{w}^T &= 0\n",
      "\\end{aligned}$$\n",
      "\n",
      "This means that either the norms of $\\mathbf{x}_1 - \\mathbf{x}_2$ or $\\mathbf{w}$ are zero, or the cosine of the angle between them is equal to zero, due to the identity:\n",
      "\n",
      "$$\\mathbf{a}\\mathbf{b} = \\|a\\| \\|b\\| \\cos \\theta$$\n",
      "\n",
      "Since there is no reason for the norms to be zero in general, we need the two vectors to be at right angles to one another. So, we need a weight vector that is perpendicular to the decision boundary.\n",
      "\n",
      "Clearly, for the XOR function, the output classes are not linearly separable. So, the algorithm does not converge on an answer, but simply cycles through two incorrect solutions."
     ]
    },
    {
     "cell_type": "markdown",
     "metadata": {},
     "source": [
      "## Multi-layer Perceptron\n",
      "\n",
      "The solution to fitting more complex (*i.e.* non-linear) models with neural networks is to use a more complex network that consists of more than just a single perceptron. The take-home message from the perceptron is that all of the learning happens by adapting the synapse weights until prediction is satisfactory. Hence, a reasonable guess at how to make a perceptron more complex is to simply add more weights.\n",
      "\n",
      "There are two ways to add complexity:\n",
      "\n",
      "1. Add backward connections, so that output neurons feed back to input nodes, resulting in a **recurrent network**\n",
      "2. Add neurons between the input nodes and the outputs, creating an additional (\"hidden\") layer to the network, resulting in a **multi-layer perceptron**\n",
      "\n",
      "The latter approach is more common in applications of neural networks.\n",
      "\n",
      "![multilayer](http://d.pr/i/14BS1+)\n",
      "\n",
      "How to train a multilayer network is not intuitive. Propagating the inputs forward over two layers is straightforward, since the outputs from the hidden layer can be used as inputs for the output layer. However, the process for updating the weights based on the prediction error is less clear, since it is difficult to know whether to change the weights on the input layer or on the hidden layer in order to improve the prediction.\n",
      "\n",
      "Updating a multi-layer perceptron (MLP) is a matter of moving forward through the network, calculating outputs given inputs and current weight estimates, then moving backward updating weights according to the resulting error from forward propagation. In this sense, it is similar to a single-layer perceptron, except it has to be done twice, once for each layer (in principle, we can add additional hidden layers, but without sacrificing generality, I will keep it simple).\n",
      "\n",
      "### Error back-propagation\n",
      "\n",
      "We update the weights in a MLP using **back-propagation** of the prediction errors, which is essentially a form of gradient descent, as we have used previously for optimization.\n",
      "\n",
      "First, for the multi-layer perceptron we need to modify the error function, which in the single-layer case was a simple difference between the predicted and observed outputs. Because we will be summing errors, we have to avoid having errors in different directions cancelling each other out, so a sum of squares error is more appropriate:\n",
      "\n",
      "$$E(t,y) = \\frac{1}{2} \\sum_i (t_i - y_i)^2$$\n",
      "\n",
      "It is on this function that we will perform gradient descent, since the goal is to minimize the error. Specificially, we will differentiate with respect to the weights, since it is the weights that we are manipulating in order to get better predictions.\n",
      "\n",
      "Recall that the error is a function of the threshold function\n",
      "\n",
      "$$E(\\mathbf{w}) = \\frac{1}{2} \\sum_i (t_i - y_i)^2 = \\frac{1}{2} \\sum_i \\left(t_i - g\\left[ \\sum_j w_{ij} a_j \\right]\\right)^2$$\n",
      "\n",
      "So, we will also need to differentiate that. However, the threshold function we used in the single-layer perceptron was discontinuous, making it non-differentiable. Thus, we need to modify it as well. An alternative is to employ some type of sigmoid function, such as the logistic, which can be parameterized to resemble a threshold function, but varies smoothly across its range.\n",
      "\n",
      "$$g(h) = \\frac{1}{1 + \\exp(-\\beta h)}$$"
     ]
    },
    {
     "cell_type": "code",
     "collapsed": false,
     "input": [
      "logistic = lambda h, beta: 1./(1 + np.exp(-beta * h))\n",
      "\n",
      "@interact\n",
      "def logistic_plot(beta=5):\n",
      "    hvals = np.linspace(-2, 2)\n",
      "    plt.plot(hvals, logistic(hvals, beta))"
     ],
     "language": "python",
     "metadata": {},
     "outputs": [
      {
       "metadata": {},
       "output_type": "display_data",
       "png": "[encoded data removed]",
       "text": [
        "<matplotlib.figure.Figure at 0x1199f8160>"
       ]
      }
     ],
     "prompt_number": 43
    },
    {
     "cell_type": "markdown",
     "metadata": {},
     "source": [
      "This has the advantage of having a simple derivative:\n",
      "\n",
      "$$\\frac{dg}{dh} = \\beta g(h)(1 - g(h))$$\n",
      "\n",
      "Alternatively, the hyperbolic tangent function is also sigmoid:\n",
      "\n",
      "$$g(h) = \\tanh(h) = \\frac{\\exp(h) - \\exp(-h)}{\\exp(h) + \\exp(-h)}$$"
     ]
    },
    {
     "cell_type": "code",
     "collapsed": false,
     "input": [
      "hyperbolic_tangent = lambda h: (np.exp(h) - np.exp(-h)) / (np.exp(h) + np.exp(-h))\n",
      "\n",
      "@interact\n",
      "def tanh_plot(theta=5):\n",
      "    hvals = np.linspace(-2, 2)\n",
      "    h = hvals*theta\n",
      "    plt.plot(hvals, hyperbolic_tangent(h))"
     ],
     "language": "python",
     "metadata": {},
     "outputs": [
      {
       "metadata": {},
       "output_type": "display_data",
       "png": "[encoded data removed]",
       "text": [
        "<matplotlib.figure.Figure at 0x119a449b0>"
       ]
      }
     ],
     "prompt_number": 44
    },
    {
     "cell_type": "markdown",
     "metadata": {},
     "source": [
      "Notice that the hyperbolic tangent function asymptotes at -1 and 1, rather than 0 and 1, which is sometimes beneficial, and its derivative is simple:\n",
      "\n",
      "$$\\frac{d \\tanh(x)}{dx} = 1 - \\tanh^2(x)$$\n",
      "\n",
      "Performing gradient descent will allow us to change the weights in the direction that optimially reduces the error. The next trick will be to employ the **chain rule** to decompose how the error changes as a function of the input weights into the change in error as a function of changes in the inputs to the weights, mutliplied by the changes in input values as a function of changes in the weights. \n",
      "\n",
      "$$\\frac{\\partial E}{\\partial w} = \\frac{\\partial E}{\\partial h}\\frac{\\partial h}{\\partial w}$$\n",
      "\n",
      "This will allow us to write a function describing the activations of the output weights as a function of the activations of the hidden layer nodes and the output weights, which will allow us to propagate error backwards through the network.\n",
      "\n",
      "The second term in the chain rule simplifies to:\n",
      "\n",
      "$$\\begin{align}\n",
      "\\frac{\\partial h_k}{\\partial w_{jk}} &= \\frac{\\partial \\sum_l w_{lk} a_l}{\\partial w_{jk}}  \\\\\n",
      "&= \\sum_l \\frac{\\partial w_{lk} a_l}{\\partial w_{jk}} \\\\\n",
      "& = a_j\n",
      "\\end{align}$$\n",
      "\n",
      "where $a_j$ is the activation of the jth hidden layer neuron.\n",
      "\n",
      "For the first term in the chain rule above, we decompose it as well:\n",
      "\n",
      "$$\\frac{\\partial E}{\\partial h_k} = \\frac{\\partial E}{\\partial y_k}\\frac{\\partial y_k}{\\partial h_k} = \\frac{\\partial E}{\\partial g(h_k)}\\frac{\\partial g(h_k)}{\\partial h_k}$$\n",
      "\n",
      "The second term of this chain rule is just the derivative of the activation function, which we have chosen to have a conveneint form, while the first term simplifies to:\n",
      "\n",
      "$$\\frac{\\partial E}{\\partial g(h_k)} = \\frac{\\partial}{\\partial g(h_k)}\\left[\\frac{1}{2} \\sum_k (t_k - y_k)^2 \\right] = t_k - y_k$$\n",
      "\n",
      "Combining these, and assuming (for illustration) a logistic activiation function, we have the gradient:\n",
      "\n",
      "$$\\frac{\\partial E}{\\partial w} = (t_k - y_k) y_k (1-y_k) a_j$$\n",
      "\n",
      "Which ends up getting plugged into the weight update formula that we saw in the single-layer perceptron:\n",
      "\n",
      "$$w_{jk} \\leftarrow w_{jk} - \\eta (t_k - y_k) y_k (1-y_k) a_j$$\n",
      "\n",
      "Note that here we are *subtracting* the second term, rather than adding, since we are doing gradient descent.\n",
      "\n",
      "We can now outline the MLP learning algorithm:\n",
      "\n",
      "1. Initialize all $w_{jk}$ to small random values\n",
      "2. Iterate until learning completes:\n",
      "    + For each input vector, run the network forward:\n",
      "        * compute activation of each neuron $j$ in hidden layer:\n",
      "        $$h_j = \\sum_i x_i v_{ij}$$\n",
      "        $$a_j = g(h_j) = \\frac{1}{1 + \\exp(-\\beta h_j)}$$\n",
      "        * when the output layer is reached, calculate outputs similarly:\n",
      "        $$h_k = \\sum_k a_j w_{jk}$$\n",
      "        $$y_k = g(h_k) = \\frac{1}{1 + \\exp(-\\beta h_k)}$$\n",
      "    + Then run the network backward:\n",
      "        * compute error at output:\n",
      "        $$\\delta_k = (t_k - y_k) y_k (1-y_k)$$\n",
      "        * compute error of the hidden layers:\n",
      "        $$\\delta_{hj} = \\left[\\sum_k w_{jk} \\delta_k \\right] a_j(1-a_j)$$\n",
      "        * update output layer weights:\n",
      "        $$w_{jk} \\leftarrow w_{jk} - \\eta \\delta_k a_j$$\n",
      "        * update hidden layer weights:\n",
      "        $$v_{ij} \\leftarrow v_{ij} - \\eta \\delta_{hj} x_i$$\n",
      "    + For best performance, shuffle input vectors to avoid training in the same order\n",
      "\n",
      "Its important to be aware that because gradient descent is a hill-climbing (or descending) algorithm, it is liable to be caught in local minima with respect to starting values. Therefore, it is worthwhile training several networks using a range of starting values for the weights, so that you have a better chance of discovering a globally-competitive solution.\n",
      "\n",
      "One useful performance enhancement for the MLP learning algorithm is the addition of **momentum** to the weight updates. This is just a coefficient on the previous weight update that increases the correlation between the current weight and the weight after the next update. This is particularly useful for complex models, where falling into local mimima is an issue; adding momentum will give some weight to the previous direction, making the resulting weights essentially a weighted average of the two directions. Adding momentum, along with a smaller learning rate, usually results in a more stable algorithm with quicker convergence. When we use momentum, we lose this guarantee, but this is generally seen as a small price to pay for the improvement momentum usually gives.\n",
      "\n",
      "A weight update with momentum looks like this:\n",
      "\n",
      "$$w_{jk} \\leftarrow w_{jk} - \\eta \\delta_k a_j + \\alpha \\Delta w_{jk}^{t-1}$$\n",
      "\n",
      "where $\\alpha$ is the momentum parameter and $\\Delta w_{jk}^{t-1}$ the update from the previous iteration.\n",
      "\n",
      "The multi-layer pereptron is implemented below in the `MLP` class. The implementation uses the scikit-learn interface, so it is uses in the same way as other supervised learning algorithms in that package."
     ]
    },
    {
     "cell_type": "code",
     "collapsed": true,
     "input": [
      "class MLP(object):\n",
      "    \n",
      "    def __init__(self, reg_lambda=0, epsilon_init=0.12, hidden_layer_size=25, \n",
      "                 method='CG', maxiter=500):\n",
      "        self.reg_lambda = reg_lambda\n",
      "        self.epsilon_init = epsilon_init\n",
      "        self.hidden_layer_size = hidden_layer_size\n",
      "        self.activation_func = self.sigmoid\n",
      "        self.activation_func_prime = self.sigmoid_prime\n",
      "        self.method = method\n",
      "        self.maxiter = maxiter\n",
      "    \n",
      "    def sigmoid(self, z):\n",
      "        return 1 / (1 + np.exp(-z))\n",
      "    \n",
      "    def sigmoid_prime(self, z):\n",
      "        sig = self.sigmoid(z)\n",
      "        return sig * (1 - sig)\n",
      "    \n",
      "    def sumsqr(self, a):\n",
      "        return np.sum(a ** 2)\n",
      "    \n",
      "    def rand_init(self, l_in, l_out):\n",
      "        return np.random.rand(l_out, l_in + 1) * 2 * self.epsilon_init - self.epsilon_init\n",
      "    \n",
      "    def pack_thetas(self, t1, t2):\n",
      "        return np.concatenate((t1.reshape(-1), t2.reshape(-1)))\n",
      "    \n",
      "    def unpack_thetas(self, thetas, input_layer_size, hidden_layer_size, num_labels):\n",
      "        t1_start = 0\n",
      "        t1_end = hidden_layer_size * (input_layer_size + 1)\n",
      "        t1 = thetas[t1_start:t1_end].reshape((hidden_layer_size, input_layer_size + 1))\n",
      "        t2 = thetas[t1_end:].reshape((num_labels, hidden_layer_size + 1))\n",
      "        return t1, t2\n",
      "    \n",
      "    def _forward(self, X, t1, t2):\n",
      "        m = X.shape[0]\n",
      "        ones = None\n",
      "        if len(X.shape) == 1:\n",
      "            ones = np.array(1).reshape(1,)\n",
      "        else:\n",
      "            ones = np.ones(m).reshape(m,1)\n",
      "        \n",
      "        # Input layer\n",
      "        a1 = np.hstack((ones, X))\n",
      "        \n",
      "        # Hidden Layer\n",
      "        z2 = np.dot(t1, a1.T)\n",
      "        a2 = self.activation_func(z2)\n",
      "        a2 = np.hstack((ones, a2.T))\n",
      "        \n",
      "        # Output layer\n",
      "        z3 = np.dot(t2, a2.T)\n",
      "        a3 = self.activation_func(z3)\n",
      "        \n",
      "        return a1, z2, a2, z3, a3\n",
      "    \n",
      "    def function(self, thetas, input_layer_size, hidden_layer_size, num_labels, X, y, reg_lambda):\n",
      "        \n",
      "        t1, t2 = self.unpack_thetas(thetas, input_layer_size, hidden_layer_size, num_labels)\n",
      "        \n",
      "        m = X.shape[0]\n",
      "        Y = np.eye(num_labels)[y]\n",
      "        \n",
      "        *_, h = self._forward(X, t1, t2)\n",
      "        costPositive = -Y * np.log(h).T\n",
      "        costNegative = (1 - Y) * np.log(1 - h).T\n",
      "        cost = costPositive - costNegative\n",
      "        J = np.sum(cost) / m\n",
      "        \n",
      "        if reg_lambda != 0:\n",
      "            t1f = t1[:, 1:]\n",
      "            t2f = t2[:, 1:]\n",
      "            reg = (self.reg_lambda / (2 * m)) * (self.sumsqr(t1f) + self.sumsqr(t2f))\n",
      "            J += reg\n",
      "            \n",
      "        return J\n",
      "        \n",
      "    def function_prime(self, thetas, input_layer_size, hidden_layer_size, num_labels, X, y, reg_lambda):\n",
      "        \n",
      "        t1, t2 = self.unpack_thetas(thetas, input_layer_size, hidden_layer_size, num_labels)\n",
      "        \n",
      "        m = X.shape[0]\n",
      "        t1f = t1[:, 1:]\n",
      "        t2f = t2[:, 1:]\n",
      "        Y = np.eye(num_labels)[y]\n",
      "        \n",
      "        Delta1, Delta2 = 0, 0\n",
      "        for i, row in enumerate(X):\n",
      "            \n",
      "            a1, z2, a2, z3, a3 = self._forward(row, t1, t2)\n",
      "            \n",
      "            # Backprop\n",
      "            d3 = a3 - Y[i, :].T\n",
      "            d2 = np.dot(t2f.T, d3) * self.activation_func_prime(z2)\n",
      "            \n",
      "            Delta2 += np.dot(d3[np.newaxis].T, a2[np.newaxis])\n",
      "            Delta1 += np.dot(d2[np.newaxis].T, a1[np.newaxis])\n",
      "            \n",
      "        Theta1_grad = (1 / m) * Delta1\n",
      "        Theta2_grad = (1 / m) * Delta2\n",
      "        \n",
      "        if reg_lambda != 0:\n",
      "            Theta1_grad[:, 1:] = Theta1_grad[:, 1:] + (reg_lambda / m) * t1f\n",
      "            Theta2_grad[:, 1:] = Theta2_grad[:, 1:] + (reg_lambda / m) * t2f\n",
      "        \n",
      "        return self.pack_thetas(Theta1_grad, Theta2_grad)\n",
      "    \n",
      "    def fit(self, X, y):\n",
      "        \n",
      "        num_features = X.shape[0]\n",
      "        input_layer_size = X.shape[1]\n",
      "        num_labels = len(set(y))\n",
      "        \n",
      "        theta1_0 = self.rand_init(input_layer_size, self.hidden_layer_size)\n",
      "        theta2_0 = self.rand_init(self.hidden_layer_size, num_labels)\n",
      "        thetas0 = self.pack_thetas(theta1_0, theta2_0)\n",
      "        \n",
      "        options = {'maxiter': self.maxiter}\n",
      "        _res = optimize.minimize(self.function, thetas0, jac=self.function_prime, method=self.method, \n",
      "                    args=(input_layer_size, self.hidden_layer_size, num_labels, X, y, 0), options=options)\n",
      "        \n",
      "        self.t1, self.t2 = self.unpack_thetas(_res.x, input_layer_size, self.hidden_layer_size, num_labels)\n",
      "    \n",
      "    def predict(self, X):\n",
      "        return self.predict_proba(X).argmax(0)\n",
      "    \n",
      "    def predict_proba(self, X):\n",
      "        *_, h = self._forward(X, self.t1, self.t2)\n",
      "        return h"
     ],
     "language": "python",
     "metadata": {},
     "outputs": [],
     "prompt_number": 45
    },
    {
     "cell_type": "markdown",
     "metadata": {},
     "source": [
      "Let's initialize a MLP classifier, specifying the conjugate gradient minimization method."
     ]
    },
    {
     "cell_type": "code",
     "collapsed": true,
     "input": [
      "clf = MLP(method='CG')"
     ],
     "language": "python",
     "metadata": {},
     "outputs": [],
     "prompt_number": 46
    },
    {
     "cell_type": "markdown",
     "metadata": {},
     "source": [
      "Now we can confirm that it solves a non-linear classification, using the simple XOR example"
     ]
    },
    {
     "cell_type": "code",
     "collapsed": true,
     "input": [
      "X = _xor[['x1','x2']].values\n",
      "y = _xor['y'].values"
     ],
     "language": "python",
     "metadata": {},
     "outputs": [],
     "prompt_number": 47
    },
    {
     "cell_type": "code",
     "collapsed": false,
     "input": [
      "clf.fit(X,y)"
     ],
     "language": "python",
     "metadata": {},
     "outputs": [],
     "prompt_number": 48
    },
    {
     "cell_type": "code",
     "collapsed": false,
     "input": [
      "clf.predict(X)"
     ],
     "language": "python",
     "metadata": {},
     "outputs": [
      {
       "metadata": {},
       "output_type": "pyout",
       "prompt_number": 49,
       "text": [
        "array([0, 1, 1, 0])"
       ]
      }
     ],
     "prompt_number": 49
    },
    {
     "cell_type": "markdown",
     "metadata": {},
     "source": [
      "For a somewhat more sophisiticated example, we can use the iris dataset included with scikit-learn."
     ]
    },
    {
     "cell_type": "code",
     "collapsed": true,
     "input": [
      "import sklearn.datasets as datasets\n",
      "from sklearn import cross_validation\n",
      "\n",
      "iris = datasets.load_iris()\n",
      "X = iris.data\n",
      "y = iris.target"
     ],
     "language": "python",
     "metadata": {},
     "outputs": [],
     "prompt_number": 50
    },
    {
     "cell_type": "code",
     "collapsed": true,
     "input": [
      "X_train, X_test, y_train, y_test = cross_validation.train_test_split(X, y, test_size=0.4)"
     ],
     "language": "python",
     "metadata": {},
     "outputs": [],
     "prompt_number": 51
    },
    {
     "cell_type": "code",
     "collapsed": true,
     "input": [
      "clf = MLP()\n",
      "clf.fit(X_train, y_train)"
     ],
     "language": "python",
     "metadata": {},
     "outputs": [],
     "prompt_number": 52
    },
    {
     "cell_type": "markdown",
     "metadata": {},
     "source": [
      "Since we used the scikit-learn interface, its easy to take advantage of the `metrics` module to evaluate the MLP's performance."
     ]
    },
    {
     "cell_type": "code",
     "collapsed": false,
     "input": [
      "from sklearn.metrics import accuracy_score, confusion_matrix\n",
      "\n",
      "accuracy_score(y_test, clf.predict(X_test))"
     ],
     "language": "python",
     "metadata": {},
     "outputs": [
      {
       "metadata": {},
       "output_type": "pyout",
       "prompt_number": 53,
       "text": [
        "0.98333333333333328"
       ]
      }
     ],
     "prompt_number": 53
    },
    {
     "cell_type": "code",
     "collapsed": false,
     "input": [
      "confusion_matrix(y_test, clf.predict(X_test))"
     ],
     "language": "python",
     "metadata": {},
     "outputs": [
      {
       "metadata": {},
       "output_type": "pyout",
       "prompt_number": 54,
       "text": [
        "array([[22,  0,  0],\n",
        "       [ 0, 17,  1],\n",
        "       [ 0,  0, 20]])"
       ]
      }
     ],
     "prompt_number": 54
    },
    {
     "cell_type": "markdown",
     "metadata": {},
     "source": [
      "### Neural network specification\n",
      "\n",
      "The MLP implemented above uses a single hidden layer, though it allows a user-specified number of hidden layer nodes (defaults to 25). It is worth considering whether it is useful having **multiple hidden layers**, and whether more hidden nodes is desirable.\n",
      "\n",
      "Unfortunately, there is no theory to guide the choice of hidden node number. As a result, we are left to experiment with this parameter, perhaps in some systematic fashion such as cross-validation.\n",
      "\n",
      "Adding additional layers presents only additional \"bookkeeping\" overhead to the user, with the weight updating becoming more complicated as layers are added. So, we don't want to add more hidden layers if it does not pay off in performance. It turns out that two or three layers (including the output layer) can be shown to approximate almost any smooth function. Combining 3 sigmoid functions allows local responses to be approximated with arbitrary accuracy. This is sufficient for determining any decision boundary.\n",
      "\n",
      "### Neural network validation\n",
      "\n",
      "Just as with other supervised learning algorithms, neural networks can be under- or over-fit to a training dataset. The degree to which a network is trained to a particular dataset depends on how long we train it on that dataset. Every time we run the MLP learning algorithm over a dataset (an **epoch**), it reduces the prediction error for that dataset. Thus, the number of epochs should be tuned as a hyperparameter, stopping when the testing-training error gap begins to widen.\n",
      "\n",
      "Note that though we can also use cross-validation to tune the number of hidden layers in the network, there is no risk of overfitting by having too many layers.\n",
      "\n",
      "### Example: Epoch tuning for MLPs\n",
      "\n",
      "The dataset `pima-indians-diabetes.data.txt` in your data folder contains eight measurements taken from a group of Pima Native Americans in Arizona, along with an indicator of the onset of diabetes. Use the MLP class to fit a neural network classifier to this dataset, and use cross-validation to examine the optimal number of epochs to use in training.\n",
      "\n",
      "1. Number of times pregnant\n",
      "2. Plasma glucose concentration a 2 hours in an oral glucose tolerance test\n",
      "3. Diastolic blood pressure (mm Hg)\n",
      "4. Triceps skin fold thickness (mm)\n",
      "5. 2-Hour serum insulin (mu U/ml)\n",
      "6. Body mass index (weight in kg/(height in m)^2)\n",
      "7. Diabetes pedigree function\n",
      "8. Age (years)\n",
      "9. Class variable (0 or 1)"
     ]
    },
    {
     "cell_type": "code",
     "collapsed": false,
     "input": [
      "pima = pd.read_csv('../data/pima-indians-diabetes.data.txt', header=None)\n",
      "pima.head()"
     ],
     "language": "python",
     "metadata": {},
     "outputs": [
      {
       "html": [
        "<div style=\"max-height:1000px;max-width:1500px;overflow:auto;\">\n",
        "<table border=\"1\" class=\"dataframe\">\n",
        "  <thead>\n",
        "    <tr style=\"text-align: right;\">\n",
        "      <th></th>\n",
        "      <th>0</th>\n",
        "      <th>1</th>\n",
        "      <th>2</th>\n",
        "      <th>3</th>\n",
        "      <th>4</th>\n",
        "      <th>5</th>\n",
        "      <th>6</th>\n",
        "      <th>7</th>\n",
        "      <th>8</th>\n",
        "    </tr>\n",
        "  </thead>\n",
        "  <tbody>\n",
        "    <tr>\n",
        "      <th>0</th>\n",
        "      <td> 6</td>\n",
        "      <td> 148</td>\n",
        "      <td> 72</td>\n",
        "      <td> 35</td>\n",
        "      <td>   0</td>\n",
        "      <td> 33.6</td>\n",
        "      <td> 0.627</td>\n",
        "      <td> 50</td>\n",
        "      <td> 1</td>\n",
        "    </tr>\n",
        "    <tr>\n",
        "      <th>1</th>\n",
        "      <td> 1</td>\n",
        "      <td>  85</td>\n",
        "      <td> 66</td>\n",
        "      <td> 29</td>\n",
        "      <td>   0</td>\n",
        "      <td> 26.6</td>\n",
        "      <td> 0.351</td>\n",
        "      <td> 31</td>\n",
        "      <td> 0</td>\n",
        "    </tr>\n",
        "    <tr>\n",
        "      <th>2</th>\n",
        "      <td> 8</td>\n",
        "      <td> 183</td>\n",
        "      <td> 64</td>\n",
        "      <td>  0</td>\n",
        "      <td>   0</td>\n",
        "      <td> 23.3</td>\n",
        "      <td> 0.672</td>\n",
        "      <td> 32</td>\n",
        "      <td> 1</td>\n",
        "    </tr>\n",
        "    <tr>\n",
        "      <th>3</th>\n",
        "      <td> 1</td>\n",
        "      <td>  89</td>\n",
        "      <td> 66</td>\n",
        "      <td> 23</td>\n",
        "      <td>  94</td>\n",
        "      <td> 28.1</td>\n",
        "      <td> 0.167</td>\n",
        "      <td> 21</td>\n",
        "      <td> 0</td>\n",
        "    </tr>\n",
        "    <tr>\n",
        "      <th>4</th>\n",
        "      <td> 0</td>\n",
        "      <td> 137</td>\n",
        "      <td> 40</td>\n",
        "      <td> 35</td>\n",
        "      <td> 168</td>\n",
        "      <td> 43.1</td>\n",
        "      <td> 2.288</td>\n",
        "      <td> 33</td>\n",
        "      <td> 1</td>\n",
        "    </tr>\n",
        "  </tbody>\n",
        "</table>\n",
        "</div>"
       ],
       "metadata": {},
       "output_type": "pyout",
       "prompt_number": 55,
       "text": [
        "   0    1   2   3    4     5      6   7  8\n",
        "0  6  148  72  35    0  33.6  0.627  50  1\n",
        "1  1   85  66  29    0  26.6  0.351  31  0\n",
        "2  8  183  64   0    0  23.3  0.672  32  1\n",
        "3  1   89  66  23   94  28.1  0.167  21  0\n",
        "4  0  137  40  35  168  43.1  2.288  33  1"
       ]
      }
     ],
     "prompt_number": 55
    },
    {
     "cell_type": "markdown",
     "metadata": {},
     "source": [
      "## Example: Mulitilayer perceptron in Theano\n",
      "\n",
      "Recall the Theano package, introduced earlier in the course; it is designed to evaluate expressions efficiently, and one of its key features is that it automatically differentiates expressions. This saves us from having to code a gradient function by hand. In principle, we could also use Theano to parallelize a neural network using GPUs, but we will not explore that here.\n",
      "\n",
      "### Layer class\n",
      "\n",
      "Again using an object-oriented approach, we will code our multilayer perceptron as a series of `Layer` classes, then apply each successively to the input to produce the network output.  The `Layer` class stores a weight matrix and a bias vector and includes a function for computing output.  \n",
      "\n",
      "Note that if we weren't using Theano, we might expect the `output` method to take in a vector and return the layer's activation in response to this input.  However, with Theano, the `output` function is instead meant to be used to _create_ (using `theano.function`) a function which can take in a vector and return the layer's activation.  So, if you were to pass, say, a `np.ndarray` to the `Layer` class's `output` method, it would raise an error.  Instead, we'll construct a function for actually computing the `Layer`'s activation outside of the class itself."
     ]
    },
    {
     "cell_type": "code",
     "collapsed": false,
     "input": [
      "class Layer(object):\n",
      "    \n",
      "    def __init__(self, W_init, b_init, activation):\n",
      "        '''\n",
      "        A layer of a neural network, computes s(Wx + b) where s is a nonlinearity and x is the input vector.\n",
      "\n",
      "        :parameters:\n",
      "            - W_init : np.ndarray, shape=(n_output, n_input)\n",
      "                Values to initialize the weight matrix to.\n",
      "            - b_init : np.ndarray, shape=(n_output,)\n",
      "                Values to initialize the bias vector\n",
      "            - activation : theano.tensor.elemwise.Elemwise\n",
      "                Activation function for layer output\n",
      "        '''\n",
      "        \n",
      "        # Retrieve the input and output dimensionality based on W's initialization\n",
      "        n_output, n_input = W_init.shape\n",
      "        # Make sure b is n_output in size\n",
      "        assert b_init.shape == (n_output,)\n",
      "        \n",
      "        # All parameters should be shared variables.\n",
      "        # They're used in this class to compute the layer output,\n",
      "        # but are updated elsewhere when optimizing the network parameters.\n",
      "        # Note that we are explicitly requiring that W_init has the theano.config.floatX dtype\n",
      "        self.W = theano.shared(value=W_init.astype(theano.config.floatX),\n",
      "                               # The name parameter is solely for printing purporses\n",
      "                               name='W',\n",
      "                               # Setting borrow=True allows Theano to use user memory for this object.\n",
      "                               # It can make code slightly faster by avoiding a deep copy on construction.\n",
      "                               # For more details, see\n",
      "                               # http://deeplearning.net/software/theano/tutorial/aliasing.html\n",
      "                               borrow=True)\n",
      "        \n",
      "        # We can force our bias vector b to be a column vector using numpy's reshape method.\n",
      "        # When b is a column vector, we can pass a matrix-shaped input to the layer\n",
      "        # and get a matrix-shaped output, thanks to broadcasting (described below)\n",
      "        self.b = theano.shared(value=b_init.reshape(-1, 1).astype(theano.config.floatX),\n",
      "                               name='b',\n",
      "                               borrow=True,\n",
      "                               # Theano allows for broadcasting, similar to numpy.\n",
      "                               # However, you need to explicitly denote which axes can be broadcasted.\n",
      "                               # By setting broadcastable=(False, True), we are denoting that b\n",
      "                               # can be broadcast (copied) along its second dimension in order to be\n",
      "                               # added to another variable.  For more information, see\n",
      "                               # http://deeplearning.net/software/theano/library/tensor/basic.html\n",
      "                               broadcastable=(False, True))\n",
      "        \n",
      "        self.activation = activation\n",
      "        # We'll compute the gradient of the cost of the network with respect to the parameters in this list.\n",
      "        self.params = [self.W, self.b]\n",
      "        \n",
      "    def output(self, x):\n",
      "        '''\n",
      "        Compute this layer's output given an input\n",
      "        \n",
      "        :parameters:\n",
      "            - x : theano.tensor.var.TensorVariable\n",
      "                Theano symbolic variable for layer input\n",
      "\n",
      "        :returns:\n",
      "            - output : theano.tensor.var.TensorVariable\n",
      "                Mixed, biased, and activated x\n",
      "        '''\n",
      "        # Compute linear mix\n",
      "        lin_output = T.dot(self.W, x) + self.b\n",
      "        \n",
      "        # Output is just linear mix if no activation function\n",
      "        # Otherwise, apply the activation function\n",
      "        return (lin_output if self.activation is None else self.activation(lin_output))"
     ],
     "language": "python",
     "metadata": {},
     "outputs": [],
     "prompt_number": 56
    },
    {
     "cell_type": "markdown",
     "metadata": {},
     "source": [
      "### MLP class\n",
      "\n",
      "Most of the functionality of our MLP is contained in the `Layer` class; the `MLP` class is essentially just a container for a list of `Layer`s and their parameters.  The `output` function simply recursively computes the output for each layer.  Finally, the `squared_error` returns the squared Euclidean distance between the output of the network given an input and the desired (ground truth) output.  This function is meant to be used as a cost in the setting of minimizing cost over some training data.  As above, the `output` and `squared error` functions are not to be used for actually computing values; instead, they're to be used to create functions which are used to compute values."
     ]
    },
    {
     "cell_type": "code",
     "collapsed": false,
     "input": [
      "class MLP(object):\n",
      "    \n",
      "    def __init__(self, learning_rate=0.01, momentum=0.9, max_iteration=20):\n",
      "        '''\n",
      "        Multi-layer perceptron class, computes the composition of a sequence of Layers\n",
      "\n",
      "        :parameters:\n",
      "            - W_init : list of np.ndarray, len=N\n",
      "                Values to initialize the weight matrix in each layer to.\n",
      "                The layer sizes will be inferred from the shape of each matrix in W_init\n",
      "            - b_init : list of np.ndarray, len=N\n",
      "                Values to initialize the bias vector in each layer to\n",
      "            - activations : list of theano.tensor.elemwise.Elemwise, len=N\n",
      "                Activation function for layer output for each layer\n",
      "        '''\n",
      "        self.learning_rate = learning_rate\n",
      "        self.momentum = momentum\n",
      "        self.max_iteration = max_iteration\n",
      "        \n",
      "    def output(self, x):\n",
      "        '''\n",
      "        Compute the MLP's output given an input\n",
      "        \n",
      "        :parameters:\n",
      "            - x : theano.tensor.var.TensorVariable\n",
      "                Theano symbolic variable for network input\n",
      "\n",
      "        :returns:\n",
      "            - output : theano.tensor.var.TensorVariable\n",
      "                x passed through the MLP\n",
      "        '''\n",
      "        # Recursively compute output\n",
      "        for layer in self.layers:\n",
      "            x = layer.output(x)\n",
      "        return x\n",
      "\n",
      "    def squared_error(self, x, y):\n",
      "        '''\n",
      "        Compute the squared euclidean error of the network output against the \"true\" output y\n",
      "        \n",
      "        :parameters:\n",
      "            - x : theano.tensor.var.TensorVariable\n",
      "                Theano symbolic variable for network input\n",
      "            - y : theano.tensor.var.TensorVariable\n",
      "                Theano symbolic variable for desired network output\n",
      "\n",
      "        :returns:\n",
      "            - error : theano.tensor.var.TensorVariable\n",
      "                The squared Euclidian distance between the network output and y\n",
      "        '''\n",
      "        return T.sum((self.output(x) - y)**2)\n",
      "    \n",
      "    def fit(self, X, y):\n",
      "        \n",
      "        # First, set the size of each layer (and the number of layers)\n",
      "        # Input layer size is training data dimensionality (2)\n",
      "        # Output size is just 1-d: class label - 0 or 1\n",
      "        # Finally, let the hidden layers be twice the size of the input.\n",
      "        # If we wanted more layers, we could just add another layer size to this list.\n",
      "        layer_sizes = [X.shape[0], X.shape[0]*2, 1]\n",
      "        # Set initial parameter values\n",
      "        W_init = []\n",
      "        b_init = []\n",
      "        activations = []\n",
      "        for n_input, n_output in zip(layer_sizes[:-1], layer_sizes[1:]):\n",
      "            # Getting the correct initialization matters a lot for non-toy problems.\n",
      "            # However, here we can just use the following initialization with success:\n",
      "            # Normally distribute initial weights\n",
      "            W_init.append(np.random.randn(n_output, n_input))\n",
      "            # Set initial biases to 1\n",
      "            b_init.append(np.ones(n_output))\n",
      "            # We'll use sigmoid activation for all layers\n",
      "            # Note that this doesn't make a ton of sense when using squared distance\n",
      "            # because the sigmoid function is bounded on [0, 1].\n",
      "            activations.append(T.nnet.sigmoid)\n",
      "        \n",
      "        # Initialize lists of layers\n",
      "        self.layers = []\n",
      "        # Construct the layers\n",
      "        for W, b, activation in zip(W_init, b_init, activations):\n",
      "            self.layers.append(Layer(W, b, activation))\n",
      "\n",
      "        # Combine parameters from all layers\n",
      "        self.params = []\n",
      "        for layer in self.layers:\n",
      "            self.params += layer.params\n",
      "\n",
      "        # Create Theano variables for the MLP input\n",
      "        mlp_input = T.matrix('mlp_input')\n",
      "        # ... and the desired output\n",
      "        mlp_target = T.vector('mlp_target')\n",
      "\n",
      "        # Create a function for computing the cost of the network given an input\n",
      "        cost = self.squared_error(mlp_input, mlp_target)\n",
      "        # Create a theano function for training the network\n",
      "        train = theano.function([mlp_input, mlp_target], cost,\n",
      "                    updates=gradient_updates_momentum(cost, self.params, self.learning_rate, self.momentum))\n",
      "        # Create a theano function for computing the MLP's output given some input\n",
      "        mlp_output = theano.function([mlp_input], self.output(mlp_input))\n",
      "        \n",
      "        iteration = 0\n",
      "        # We'll only train the network with 20 iterations.\n",
      "        # A more common technique is to use a hold-out validation set.\n",
      "        # When the validation error starts to increase, the network is overfitting,\n",
      "        # so we stop training the net.  This is called \"early stopping\", which we won't do here.\n",
      "        while iteration < self.max_iteration:\n",
      "            # Train the network using the entire training set.\n",
      "            # With large datasets, it's much more common to use stochastic or mini-batch gradient descent\n",
      "            # where only a subset (or a single point) of the training set is used at each iteration.\n",
      "            # This can also help the network to avoid local minima.\n",
      "            self.current_cost_ = train(X, y)\n",
      "            \n",
      "            # Get the current network output for all points in the training set\n",
      "            self.current_output_ = mlp_output(X)\n",
      "            # We can compute the accuracy by thresholding the output\n",
      "            # and computing the proportion of points whose class match the ground truth class.\n",
      "            self.accuracy_ = np.mean((self.current_output_ > .5) == y)\n",
      "\n",
      "            iteration += 1"
     ],
     "language": "python",
     "metadata": {},
     "outputs": [],
     "prompt_number": 57
    },
    {
     "cell_type": "markdown",
     "metadata": {},
     "source": [
      "### Gradient descent\n",
      "\n",
      "To train the network, we will minimize the cost (squared Euclidean distance of network output vs. ground-truth) over a training set using gradient descent.  \n",
      "\n",
      "In Theano, we store the previous parameter update as a shared variable so that its value is preserved across iterations.  Then, during the gradient update, we not only update the parameters, but we also update the previous parameter update shared variable."
     ]
    },
    {
     "cell_type": "code",
     "collapsed": false,
     "input": [
      "def gradient_updates_momentum(cost, params, learning_rate, momentum):\n",
      "    '''\n",
      "    Compute updates for gradient descent with momentum\n",
      "    \n",
      "    :parameters:\n",
      "        - cost : theano.tensor.var.TensorVariable\n",
      "            Theano cost function to minimize\n",
      "        - params : list of theano.tensor.var.TensorVariable\n",
      "            Parameters to compute gradient against\n",
      "        - learning_rate : float\n",
      "            Gradient descent learning rate\n",
      "        - momentum : float\n",
      "            Momentum parameter, should be at least 0 (standard gradient descent) and less than 1\n",
      "   \n",
      "    :returns:\n",
      "        updates : list\n",
      "            List of updates, one for each parameter\n",
      "    '''\n",
      "    # Make sure momentum is a sane value\n",
      "    assert momentum < 1 and momentum >= 0\n",
      "    # List of update steps for each parameter\n",
      "    updates = []\n",
      "    # Just gradient descent on cost\n",
      "    for param in params:\n",
      "        # For each parameter, we'll create a param_update shared variable.\n",
      "        # This variable will keep track of the parameter's update step across iterations.\n",
      "        # We initialize it to 0\n",
      "        param_update = theano.shared(param.get_value()*0., broadcastable=param.broadcastable)\n",
      "        # Each parameter is updated by taking a step in the direction of the gradient.\n",
      "        # However, we also \"mix in\" the previous step according to the given momentum value.\n",
      "        # Note that when updating param_update, we are using its old value and also the new gradient step.\n",
      "        updates.append((param, param - learning_rate*param_update))\n",
      "        # Note that we don't need to derive backpropagation to compute updates - just use T.grad!\n",
      "        updates.append((param_update, momentum*param_update + (1. - momentum)*T.grad(cost, param)))\n",
      "    return updates"
     ],
     "language": "python",
     "metadata": {},
     "outputs": [],
     "prompt_number": 58
    },
    {
     "cell_type": "markdown",
     "metadata": {},
     "source": [
      "### Toy example\n",
      "\n",
      "We'll train our neural network to classify two Gaussian-distributed clusters in 2d space."
     ]
    },
    {
     "cell_type": "code",
     "collapsed": false,
     "input": [
      "# Training data - two randomly-generated Gaussian-distributed clouds of points in 2d space\n",
      "np.random.seed(0)\n",
      "# Number of points\n",
      "N = 1000\n",
      "# Labels for each cluster\n",
      "y = np.random.random_integers(0, 1, N)\n",
      "# Mean of each cluster\n",
      "means = np.array([[-1, 1], [-1, 1]])\n",
      "# Covariance (in X and Y direction) of each cluster\n",
      "covariances = np.random.random_sample((2, 2)) + 1\n",
      "# Dimensions of each point\n",
      "X = np.vstack([np.random.randn(N)*covariances[0, y] + means[0, y],\n",
      "               np.random.randn(N)*covariances[1, y] + means[1, y]])\n",
      "# Plot the data\n",
      "plt.figure(figsize=(8, 8))\n",
      "plt.scatter(*X, c=y, lw=.3, s=15, cmap=plt.cm.autumn)\n",
      "plt.axis([-6, 6, -6, 6])\n",
      "plt.show()"
     ],
     "language": "python",
     "metadata": {},
     "outputs": [
      {
       "metadata": {},
       "output_type": "display_data",
       "png": "[encoded data removed]",
       "text": [
        "<matplotlib.figure.Figure at 0x119ed2c50>"
       ]
      }
     ],
     "prompt_number": 59
    },
    {
     "cell_type": "code",
     "collapsed": true,
     "input": [
      "mlp = MLP()"
     ],
     "language": "python",
     "metadata": {},
     "outputs": [],
     "prompt_number": 60
    },
    {
     "cell_type": "code",
     "collapsed": false,
     "input": [
      "mlp.fit(X, y)"
     ],
     "language": "python",
     "metadata": {},
     "outputs": [],
     "prompt_number": 61
    },
    {
     "cell_type": "code",
     "collapsed": false,
     "input": [
      "print('Cost: {:.3f}, Accuracy: {:.3f}'.format(float(mlp.current_cost_), mlp.accuracy_))"
     ],
     "language": "python",
     "metadata": {},
     "outputs": [
      {
       "output_type": "stream",
       "stream": "stdout",
       "text": [
        "Cost: 158.373, Accuracy: 0.810\n"
       ]
      }
     ],
     "prompt_number": 62
    },
    {
     "cell_type": "markdown",
     "metadata": {},
     "source": [
      "## References\n",
      "\n",
      "T. Hastie, R. Tibshirani and J. Friedman. (2009) [Elements of Statistical Learning: Data Mining, Inference, and Prediction](http://statweb.stanford.edu/~tibs/ElemStatLearn/), second edition. Springer.\n",
      "\n",
      "S. Marsland. (2009) [Machine Learning: An Algorithmic Perspective](Machine Learning: An Algorithmic Perspectivehttp://seat.massey.ac.nz/personal/s.r.marsland/MLBook.html). CRC Press.\n",
      "\n",
      "D. Rodriguez. (2013) [Basic [1 hidden layer] neural network on Python](http://danielfrg.com/blog/2013/07/03/basic-neural-network-python/)."
     ]
    },
    {
     "cell_type": "markdown",
     "metadata": {},
     "source": [
      "---"
     ]
    },
    {
     "cell_type": "code",
     "collapsed": false,
     "input": [
      "from IPython.core.display import HTML\n",
      "def css_styling():\n",
      "    styles = open(\"styles/custom.css\", \"r\").read()\n",
      "    return HTML(styles)\n",
      "css_styling()"
     ],
     "language": "python",
     "metadata": {},
     "outputs": [
      {
       "html": [
        "<style>\n",
        "    @font-face {\n",
        "        font-family: \"Computer Modern\";\n",
        "        src: url('http://mirrors.ctan.org/fonts/cm-unicode/fonts/otf/cmunss.otf');\n",
        "    }\n",
        "    div.cell{\n",
        "        width: 90%;\n",
        "/*        margin-left:auto;*/\n",
        "/*        margin-right:auto;*/\n",
        "    }\n",
        "    ul {\n",
        "        line-height: 145%;\n",
        "        font-size: 90%;\n",
        "    }\n",
        "    li {\n",
        "        margin-bottom: 1em;\n",
        "    }\n",
        "    h1 {\n",
        "        font-family: Helvetica, serif;\n",
        "    }\n",
        "    h4{\n",
        "        margin-top: 12px;\n",
        "        margin-bottom: 3px;\n",
        "       }\n",
        "    div.text_cell_render{\n",
        "        font-family: Computer Modern, \"Helvetica Neue\", Arial, Helvetica, Geneva, sans-serif;\n",
        "        line-height: 145%;\n",
        "        font-size: 130%;\n",
        "        width: 90%;\n",
        "        margin-left:auto;\n",
        "        margin-right:auto;\n",
        "    }\n",
        "    .CodeMirror{\n",
        "            font-family: \"Source Code Pro\", source-code-pro,Consolas, monospace;\n",
        "    }\n",
        "/*    .prompt{\n",
        "        display: None;\n",
        "    }*/\n",
        "    .text_cell_render h5 {\n",
        "        font-weight: 300;\n",
        "        font-size: 16pt;\n",
        "        color: #4057A1;\n",
        "        font-style: italic;\n",
        "        margin-bottom: 0.5em;\n",
        "        margin-top: 0.5em;\n",
        "        display: block;\n",
        "    }\n",
        "\n",
        "    .warning{\n",
        "        color: rgb( 240, 20, 20 )\n",
        "        }\n",
        "</style>\n",
        "<script>\n",
        "    MathJax.Hub.Config({\n",
        "                        TeX: {\n",
        "                           extensions: [\"AMSmath.js\"]\n",
        "                           },\n",
        "                tex2jax: {\n",
        "                    inlineMath: [ ['$','$'], [\"\\\\(\",\"\\\\)\"] ],\n",
        "                    displayMath: [ ['$$','$$'], [\"\\\\[\",\"\\\\]\"] ]\n",
        "                },\n",
        "                displayAlign: 'center', // Change this to 'center' to center equations.\n",
        "                \"HTML-CSS\": {\n",
        "                    styles: {'.MathJax_Display': {\"margin\": 4}}\n",
        "                }\n",
        "        });\n",
        "</script>"
       ],
       "metadata": {},
       "output_type": "pyout",
       "prompt_number": 37,
       "text": [
        "<IPython.core.display.HTML object>"
       ]
      }
     ],
     "prompt_number": 37
    }
   ],
   "metadata": {}
  }
 ]
}