{
 "metadata": {
  "name": ""
 },
 "nbformat": 3,
 "nbformat_minor": 0,
 "worksheets": [
  {
   "cells": [
    {
     "cell_type": "markdown",
     "metadata": {},
     "source": [
      "# Approximate Bayesian Computation\n",
      "\n",
      "The dominant issue in applying Bayesian methods to data analysis is the feasibility of calculating the posterior distribution. As we have seen, for most non-trivial problems, the posterior is analytically intractible. Computationally, it can be expensive to calculate or sample from.\n",
      "\n",
      "Approximation methods do exist, such as the Laplace approximation, but it relies on strong assumptions about the form of the posterior.\n",
      "\n",
      "Approximate Bayesian Computation (ABC) is a simulation-based approximation approach that avoids having to calculate the model likelihood, as we do for MCMC sampling. For this reason, it is sometimes called ***likelihood-free computation*** or ***likelihood-free MCMC***. Instead of evaluating the estimated posterior distribution at sampled values of the parameters, candidate parameters sample from their *prior* distribtions are used to generate simulated datasets; if the simulated data are deemed to be \"similar enough\" to the observed data, the proposed parameters are accepted. In this way, the data are thought to lend support to parameter values that might have generated them over those for which the observations would be less probable. "
     ]
    },
    {
     "cell_type": "markdown",
     "metadata": {},
     "source": [
      "## Likelihood-free computation\n",
      "\n",
      "As is often the case in statistical computing, one effective strategy for improving compuational efficiency is to introduce auxilliary variables into a model. Such variables are solely for the purpose of facilitating computation, and play no role in inference.\n",
      "\n",
      "For approximate Bayesian computation, we do just this, augmenting the posterior with auxilliary data $x$:\n",
      "\n",
      "$$P(\\theta, x \\,|\\, y) \\propto P(y \\,|\\, \\theta, x) P(x \\,|\\, \\theta) P(\\theta)$$\n",
      "\n",
      "Upon inspection, we see that $x$ is drawn from a sampling distribution that is conditional on the prior of the parameter vector $\\theta$. Note also that since $x$ is sampled from the same parametric model as $y$, it occupies the same space as $y$.\n",
      "\n",
      "Ultimately, we want to integrate the auxilliary data from the posterior:\n",
      "\n",
      "$$P(\\theta \\,|\\, y) \\propto \\left[\\int P(y \\,|\\, \\theta, x) P(x \\,|\\, \\theta) dx\\right] P(\\theta)$$\n",
      "\n",
      "Of course, we are not able to perform this integration analytically. The thrust of ABC is that we integrate numerically by keeping samples from $P(\\theta)$ that generate sample which closely correspond to observed data (*i.e.* approximating the sampling process that generated $y$), and discarding the rest.\n",
      "\n",
      "Notice that when $x=y$, the augmented posterior becomes the posterior of interest:\n",
      "\n",
      "$$\\left[\\int P(y \\,|\\, \\theta, x=y) P(x=y \\,|\\, \\theta) dx\\right] P(\\theta) = P(y \\,|\\, \\theta) P(\\theta)$$\n",
      "\n",
      "Thus, a na\u00efve form of ABC is to simulate from the prior, accepting only those parameters that result in simulated datasets that are exactly equivalent to the observed data $y$.\n",
      "\n",
      "This rejection algorithm is as follows:\n",
      "\n",
      "1. Sample parameters $\\theta^{(i)}$ from priors $P(\\theta)$.\n",
      "2. Simulate data $x^{(i)}$ from sampling distributions $x \\sim P(x \\,|\\, \\theta^{(i)})$.\n",
      "3. If $x^{(i)}==y$, keep $\\theta^{(i)}$ as sample from posterior.\n",
      "4. Repeat steps 1-3 until desired number of samples is obtained.\n",
      "\n",
      "Of course, for continuous variables, the sampled data will never be exactly equal to the observed data, and even for discrete variables sampling will be painfully inefficient. In order for ABC to be effective, we have to relax the check for equality, and accept samples that are merely \"close enough\" to the observed data. \n",
      "\n",
      "This simple change involves making two important choices: (1) deciding how to measure \"closeness\" and (2) deciding how close is \"close enough\"? In general, however, we can specify some function $\\rho(a, b)$ that returns some distance measure between $a$ and $b$, and compare this output to a chosen threshold value $\\epsilon$. With these changes, the ABC rejection algorithm becomes:\n",
      "\n",
      "1. Sample parameters $\\theta^{(i)}$ from priors $P(\\theta)$.\n",
      "2. Simulate data $x^{(i)}$ from sampling distributions $x \\sim P(x \\,|\\, \\theta^{(i)})$.\n",
      "3. If $\\rho(x, y) < \\epsilon$, keep $\\theta^{(i)}$ as sample from posterior.\n",
      "4. Repeat steps 1-3 until desired number of samples is obtained.\n",
      "\n",
      "A popular choice of distance measure is the Euclidean distance, which is provided in NumPy as `np.linalg.norm`. \n",
      "\n",
      "$$||x - y|| = \\sqrt{(x_1-y_1)^2 + \\ldots + (x_n-y_n)^2}< \\epsilon$$\n",
      "\n",
      "The quality of the approximation of the posterior depends on the choice of the tolerance $\\epsilon$. When $\\epsilon$ is too small, sampling will be inefficient; when $\\epsilon$ is too large, estimates will more strongly resemble the model priors. The convergence properties of ABC as a function of $\\epsilon$ are not clear."
     ]
    },
    {
     "cell_type": "markdown",
     "metadata": {},
     "source": [
      "### Summary statistics\n",
      "\n",
      "When data are of high (even moderate) dimension, comparing each datum in a simulated dataset with each corresponding datum in an observed dataset can result in low sampling efficiency; the probability of all simulated data simultaneously falling within the tolerance bound $\\epsilon$ of the observed data gets very small for a fixed $\\epsilon$ as the size of the dataset grows. Instead, *summary statistics* may be compared in order to keep the acceptance rate high.\n",
      "\n",
      "$$\\rho(T(x), T(y)) < \\epsilon$$\n",
      "\n",
      "For example, one might consider the mean, variance, autocorrelation, tail probabilities, *etc.* of the simulated and observed datasets. The use of summary statistics comes at a cost, however, since there is generally information loss upon summarization that results in estimation error. This compromise can be avoided if **sufficient statistics** are available, since sufficiency guarantees that all information about the posterior distribution is captured by that statistic."
     ]
    },
    {
     "cell_type": "markdown",
     "metadata": {},
     "source": [
      "## Example: Fitting a Gaussian\n",
      "\n",
      "A very simple demonstration of ABC is to estimate the parameters of a particular statistical model. For example, let's simulate some data from a $N(2,4)$ distibution:"
     ]
    },
    {
     "cell_type": "code",
     "collapsed": false,
     "input": [
      "y = np.random.normal(4, 2, 50)\n",
      "hist(y)"
     ],
     "language": "python",
     "metadata": {},
     "outputs": [
      {
       "metadata": {},
       "output_type": "pyout",
       "prompt_number": 116,
       "text": [
        "(array([ 3.,  6.,  8.,  7.,  9.,  5.,  8.,  0.,  2.,  2.]),\n",
        " array([-0.058569  ,  0.92137391,  1.90131681,  2.88125972,  3.86120262,\n",
        "        4.84114553,  5.82108844,  6.80103134,  7.78097425,  8.76091716,\n",
        "        9.74086006]),\n",
        " <a list of 10 Patch objects>)"
       ]
      },
      {
       "metadata": {},
       "output_type": "display_data",
       "png": "[encoded data removed]",
       "text": [
        "<matplotlib.figure.Figure at 0x1101d54d0>"
       ]
      }
     ],
     "prompt_number": 116
    },
    {
     "cell_type": "markdown",
     "metadata": {},
     "source": [
      "To set up the ABC run, we first specify how many samples we want to draw from the posterior, as well as a tolerance for the distance measure to be used as the criterion for accepting or rejecting drawn values. Then, we need a data structure to store the accepted samples:"
     ]
    },
    {
     "cell_type": "code",
     "collapsed": false,
     "input": [
      "N = 100\n",
      "epsilon = [0.2, 0.8]\n",
      "\n",
      "trace = []"
     ],
     "language": "python",
     "metadata": {},
     "outputs": [],
     "prompt_number": 117
    },
    {
     "cell_type": "markdown",
     "metadata": {},
     "source": [
      "The algorithm then invloves repeatedly sampling from the priors on $\\mu$ and $\\sigma$, and using those draws to simulate some data. The mean and standard deviation of the simulations are compared to those for the observed data, and the corresponding parameter samples are stored if the distance is within the specified threshold."
     ]
    },
    {
     "cell_type": "code",
     "collapsed": false,
     "input": [
      "while len(trace) < N:\n",
      "    \n",
      "    # Simulate from priors\n",
      "    mu = np.random.normal(0, 10)\n",
      "    sigma = np.random.uniform(0, 20)\n",
      "    \n",
      "    x = np.random.normal(mu, sigma, 50)\n",
      "    \n",
      "    #if (np.linalg.norm(y - x) < epsilon):\n",
      "    if ((abs(x.mean() - y.mean()) < epsilon[0]) & \n",
      "        (abs(x.std() - y.std()) < epsilon[1])):\n",
      "        trace.append([mu, sigma])\n",
      "        \n",
      "trace = pd.DataFrame(trace, columns=['mu', 'sigma'])"
     ],
     "language": "python",
     "metadata": {},
     "outputs": [],
     "prompt_number": 118
    },
    {
     "cell_type": "code",
     "collapsed": false,
     "input": [
      "trace.hist()\n",
      "plt.tight_layout()"
     ],
     "language": "python",
     "metadata": {},
     "outputs": [
      {
       "metadata": {},
       "output_type": "display_data",
       "png": "[encoded data removed]",
       "text": [
        "<matplotlib.figure.Figure at 0x1101e0fd0>"
       ]
      }
     ],
     "prompt_number": 119
    },
    {
     "cell_type": "markdown",
     "metadata": {},
     "source": [
      "### Example: Coal mining disasters\n",
      "\n",
      "For a less trivial example, consider the following dataset, which is a time series of recorded coal mining disasters in the UK from 1851 to 1962 ([Jarrett 1979](http://www.jstor.org/stable/2335266)). Notice that the number of disasters each year appears to be lower in the later years than earlier.\n",
      "\n",
      "Annual counts of disasters in the dataset can be modeled as a Poisson process with a larger rate parameter early in the time series, and and a smaller rate in the later part. We are interested\n",
      "in locating the change point in the series, which perhaps is related to changes in mining safety regulations."
     ]
    },
    {
     "cell_type": "code",
     "collapsed": false,
     "input": [
      "disasters_array = np.array([4, 5, 4, 0, 1, 4, 3, 4, 0, 6, 3, 3, 4, 0, 2, 6,\n",
      "                         3, 3, 5, 4, 5, 3, 1, 4, 4, 1, 5, 5, 3, 4, 2, 5,\n",
      "                         2, 2, 3, 4, 2, 1, 3, 2, 2, 1, 1, 1, 1, 3, 0, 0,\n",
      "                         1, 0, 1, 1, 0, 0, 3, 1, 0, 3, 2, 2, 0, 1, 1, 1,\n",
      "                         0, 1, 0, 1, 0, 0, 0, 2, 1, 0, 0, 0, 1, 1, 0, 2,\n",
      "                         3, 3, 1, 1, 2, 1, 1, 1, 1, 2, 4, 2, 0, 0, 1, 4,\n",
      "                         0, 0, 0, 1, 0, 0, 0, 0, 0, 1, 0, 0, 1, 0, 1])"
     ],
     "language": "python",
     "metadata": {},
     "outputs": [],
     "prompt_number": 121
    },
    {
     "cell_type": "markdown",
     "metadata": {},
     "source": [
      "In this example, we will compare the norms of the simulated and observed data, sorting them, since we are comparing based on the distribtion of the values, and not their order:\n",
      "\n",
      "    np.linalg.norm(np.sort(x_early) - np.sort(disasters_array[:switch]))\n",
      "    \n",
      "The priors for the Poisson means are sampled from an exponential distribution with mean 1, and the switch point from a discrete uniform over all the years."
     ]
    },
    {
     "cell_type": "code",
     "collapsed": false,
     "input": [
      "N = 100\n",
      "epsilon = 4\n",
      "\n",
      "# Dict for holding accepted samples\n",
      "params = dict(switch=[], early_mean=[], late_mean=[])\n",
      "    \n",
      "while len(params['switch']) < N:\n",
      "        \n",
      "    # Simulate from priors\n",
      "    switch = np.random.randint(15, 90)\n",
      "    early_mean = np.random.exponential(1)\n",
      "    late_mean = np.random.exponential(1)\n",
      "    \n",
      "    # Simulate data\n",
      "    x_early = np.random.poisson(early_mean, switch)\n",
      "    x_late = np.random.poisson(late_mean, 111 - switch)\n",
      "    \n",
      "    if ((np.linalg.norm(np.sort(x_early) - np.sort(disasters_array[:switch])) < epsilon) & \n",
      "        (np.linalg.norm(np.sort(x_late) - np.sort(disasters_array[switch:])) < epsilon)):\n",
      "        \n",
      "        params['switch'].append(switch)\n",
      "        params['early_mean'].append(early_mean)\n",
      "        params['late_mean'].append(late_mean)\n",
      "\n",
      "trace = pd.DataFrame(params)"
     ],
     "language": "python",
     "metadata": {},
     "outputs": [],
     "prompt_number": 153
    },
    {
     "cell_type": "code",
     "collapsed": false,
     "input": [
      "trace.hist(bins=np.sqrt(N))"
     ],
     "language": "python",
     "metadata": {},
     "outputs": [
      {
       "metadata": {},
       "output_type": "pyout",
       "prompt_number": 154,
       "text": [
        "array([[<matplotlib.axes.AxesSubplot object at 0x110880090>,\n",
        "        <matplotlib.axes.AxesSubplot object at 0x1111cc2d0>],\n",
        "       [<matplotlib.axes.AxesSubplot object at 0x1111ceed0>,\n",
        "        <matplotlib.axes.AxesSubplot object at 0x11116f410>]], dtype=object)"
       ]
      },
      {
       "metadata": {},
       "output_type": "display_data",
       "png": "[encoded data removed]",
       "text": [
        "<matplotlib.figure.Figure at 0x110923d50>"
       ]
      }
     ],
     "prompt_number": 154
    },
    {
     "cell_type": "markdown",
     "metadata": {},
     "source": [
      "## Model comparison"
     ]
    },
    {
     "cell_type": "code",
     "collapsed": false,
     "input": [
      "simdata = np.random.gamma(10,3,50)"
     ],
     "language": "python",
     "metadata": {},
     "outputs": [],
     "prompt_number": 168
    },
    {
     "cell_type": "code",
     "collapsed": false,
     "input": [
      "np.sum(trace.values())"
     ],
     "language": "python",
     "metadata": {},
     "outputs": [
      {
       "metadata": {},
       "output_type": "pyout",
       "prompt_number": 186,
       "text": [
        "0.0"
       ]
      }
     ],
     "prompt_number": 186
    },
    {
     "cell_type": "code",
     "collapsed": false,
     "input": [
      "N = 100\n",
      "\n",
      "epsilon = [20, 10, 5]\n",
      "\n",
      "trace = dict(normal=[], gamma=[])\n",
      "\n",
      "def accept(x, simdata, e=epsilon):\n",
      "    \n",
      "    return ((abs(np.log(x.prod()) - np.log(simdata.prod())) < e[0]) & \n",
      "            (abs(x.sum() - simdata.sum()) < e[1]) &\n",
      "            (abs(x.std() - simdata.std()) < e[2]))\n",
      "    \n",
      "\n",
      "while (len(trace['normal']) + len(trace['gamma'])) < N:\n",
      "    \n",
      "    gamma = np.random.binomial(1, 0.5)\n",
      "    \n",
      "    if gamma:\n",
      "                \n",
      "        alpha, beta = np.random.exponential(10, 2)\n",
      "        \n",
      "        x = np.random.gamma(alpha, beta, 50)\n",
      "        \n",
      "        if accept(x, simdata):\n",
      "            trace['gamma'].append([alpha, beta])\n",
      "    \n",
      "    else:\n",
      "        \n",
      "        # Simulate from priors\n",
      "        mu = np.random.normal(0, 10)\n",
      "        sigma = np.random.uniform(0, 20)\n",
      "        \n",
      "        x = np.random.normal(mu, sigma, 50)\n",
      "            \n",
      "        if accept(x, simdata):\n",
      "            trace['normal'].append([mu, sigma])\n",
      "            "
     ],
     "language": "python",
     "metadata": {},
     "outputs": [],
     "prompt_number": 187
    },
    {
     "cell_type": "code",
     "collapsed": false,
     "input": [
      "trace"
     ],
     "language": "python",
     "metadata": {},
     "outputs": [
      {
       "metadata": {},
       "output_type": "pyout",
       "prompt_number": 188,
       "text": [
        "{'gamma': [[11.540861380030158, 2.7018967502950675],\n",
        "  [10.25131295957693, 3.1410632059410148],\n",
        "  [6.4056421175239207, 4.916899681174284],\n",
        "  [8.1359410557352891, 4.0223505393832601],\n",
        "  [10.167773735516349, 3.0539000511163379],\n",
        "  [12.719525837857582, 2.4219710343112419],\n",
        "  [3.8628241803239982, 9.0670687499471789],\n",
        "  [8.2028133727836998, 3.6483773416064254],\n",
        "  [34.66360409196092, 0.89603843818012774],\n",
        "  [5.5635712476188104, 6.0557015387413706],\n",
        "  [6.5977601740268419, 4.8809554198680658],\n",
        "  [11.650460942177808, 2.5518101921209926],\n",
        "  [12.986879640755138, 2.5467829247001483],\n",
        "  [12.597306524849088, 2.3432305406577636],\n",
        "  [12.745904310331547, 2.2754981298067358],\n",
        "  [15.662184170838708, 1.889338353645629],\n",
        "  [9.0873530654672567, 3.4510987630379351],\n",
        "  [16.232547922429344, 1.8365948406971229],\n",
        "  [32.848734142128897, 0.92346298456486353],\n",
        "  [6.7393873257876011, 4.2622030838012668],\n",
        "  [7.8380606882793034, 3.9661623585392292],\n",
        "  [5.7464037814999571, 5.57395253859384],\n",
        "  [14.27131653264764, 2.0445256335695645],\n",
        "  [16.780593120616249, 1.9330886271286412],\n",
        "  [5.7148647656392004, 5.5600950660286133],\n",
        "  [11.459938205443729, 2.8521986457093789],\n",
        "  [5.9862629878135607, 6.1467595927337948],\n",
        "  [16.65367843873684, 1.8547172659689157],\n",
        "  [19.122970301105951, 1.5148638335649613],\n",
        "  [7.3464901990156104, 4.3630331604856565],\n",
        "  [7.130274149969984, 4.1331080804073927],\n",
        "  [6.7677762050287216, 4.4609175844093336],\n",
        "  [17.703711449426159, 1.8098315188093581],\n",
        "  [5.7044918863601239, 5.1878134866516774],\n",
        "  [7.1008937652536481, 4.1469499469687534],\n",
        "  [5.0603836203692705, 6.902369378597756],\n",
        "  [11.39259571003852, 2.6809789081208137],\n",
        "  [9.5897805803957397, 3.3148512284879694],\n",
        "  [6.6460017977449715, 4.7156371560844583],\n",
        "  [13.274092960153766, 2.3800931479412473],\n",
        "  [5.8590277840649509, 4.6184837072595473],\n",
        "  [4.8341383835465068, 7.0287542855831608],\n",
        "  [10.566410140406816, 2.9700792475139721],\n",
        "  [4.6919842424844704, 6.197720434317886],\n",
        "  [9.8776560660775665, 3.139889155825589],\n",
        "  [12.55493830411725, 2.5497948706585549],\n",
        "  [7.371284033921973, 4.1164341241210831],\n",
        "  [10.380384649497444, 2.8664750864313571],\n",
        "  [5.5176071651760754, 6.2256367031604878],\n",
        "  [20.921083503164386, 1.5692301693914366],\n",
        "  [9.9471539610793354, 3.0744807334404105],\n",
        "  [30.666486497507165, 1.029017492409132],\n",
        "  [4.4890239798727212, 8.0043103627493615],\n",
        "  [5.7636139197024781, 5.2636101985533559],\n",
        "  [14.249655426754027, 2.1530782520238887],\n",
        "  [6.8438138251038829, 4.5506682690901252],\n",
        "  [8.1077693420249624, 3.752690621382087],\n",
        "  [6.984937217366566, 4.5384472555886584],\n",
        "  [6.4371120289100103, 4.9278374103548037],\n",
        "  [14.017439895333293, 2.3112890630749221],\n",
        "  [10.155284745616136, 2.8940257295457239],\n",
        "  [9.2896738520318021, 3.06261027457382],\n",
        "  [22.690750410714013, 1.4089772499745001],\n",
        "  [10.953025171762745, 2.6597646950799572],\n",
        "  [15.400467591780981, 1.9694239682457146],\n",
        "  [11.415544048557042, 2.7348953839630843],\n",
        "  [7.311174886678379, 4.0173858977859069],\n",
        "  [12.758691610685711, 2.5157843687223154],\n",
        "  [7.4392870387709662, 4.073639603495435],\n",
        "  [17.321229333364684, 1.7934455212759235],\n",
        "  [39.464210544650143, 0.77203872935930185],\n",
        "  [4.5237942982866048, 6.601859499630863],\n",
        "  [14.550820984287778, 2.1263519339483756],\n",
        "  [6.7392153483701067, 4.3424152703277361],\n",
        "  [15.520050670901908, 1.9556500492037445],\n",
        "  [5.0788629372918113, 6.2365471557590038],\n",
        "  [5.2916445142917921, 5.9949722185476242],\n",
        "  [8.0956665379349282, 3.7373231955056845],\n",
        "  [28.859656823725651, 1.0409169905662023],\n",
        "  [9.9271380081877609, 2.8861960057828835],\n",
        "  [11.669512795496766, 2.7565786178041995],\n",
        "  [6.7831805339053393, 4.6125284287130128],\n",
        "  [21.491824138662899, 1.4541938175703881],\n",
        "  [12.635735548684789, 2.4784532225343439],\n",
        "  [9.1109472732710053, 3.5570474868342776],\n",
        "  [4.1259093914066147, 7.8833878882311401],\n",
        "  [21.347130593610171, 1.500214374712161],\n",
        "  [5.0433006228757558, 6.2319056883405688],\n",
        "  [6.1033789069553794, 5.5125640031982535],\n",
        "  [6.0787912550579382, 5.140591848063103],\n",
        "  [6.9279593043931946, 4.3751573406134368],\n",
        "  [6.2212811272923316, 4.6842133988334664],\n",
        "  [6.0002912266259809, 5.2939350724721121],\n",
        "  [6.1009220707425849, 4.834360118682862],\n",
        "  [14.296955999935948, 2.0639802155592504],\n",
        "  [7.9411064652926155, 4.1621463282832698],\n",
        "  [6.5263312683932071, 4.8259053981822619],\n",
        "  [6.8425452152866146, 4.5945614527651184],\n",
        "  [9.9908943941686239, 3.0436776389187252]],\n",
        " 'normal': [[29.88483323904707, 5.37164667793726]]}"
       ]
      }
     ],
     "prompt_number": 188
    },
    {
     "cell_type": "code",
     "collapsed": false,
     "input": [
      "import pandas as pd\n",
      "import numpy as np\n",
      "\n",
      "# Set some Pandas options\n",
      "pd.set_option('html', False)\n",
      "pd.set_option('max_columns', 30)\n",
      "pd.set_option('max_rows', 20)\n",
      "\n",
      "from IPython.core.display import HTML\n",
      "def css_styling():\n",
      "    styles = open(\"styles/custom.css\", \"r\").read()\n",
      "    return HTML(styles)\n",
      "css_styling()"
     ],
     "language": "python",
     "metadata": {},
     "outputs": [
      {
       "html": [
        "<style>\n",
        "    @font-face {\n",
        "        font-family: \"Computer Modern\";\n",
        "        src: url('http://mirrors.ctan.org/fonts/cm-unicode/fonts/otf/cmunss.otf');\n",
        "    }\n",
        "    div.cell{\n",
        "        width:800px;\n",
        "/*        margin-left:16% !important;*/\n",
        "        margin-left:auto;\n",
        "        margin-right:auto;\n",
        "    }\n",
        "    h1 {\n",
        "        font-family: Helvetica, serif;\n",
        "    }\n",
        "    h4{\n",
        "        margin-top:12px;\n",
        "        margin-bottom: 3px;\n",
        "       }\n",
        "    div.text_cell_render{\n",
        "        font-family: Computer Modern, \"Helvetica Neue\", Arial, Helvetica, Geneva, sans-serif;\n",
        "        line-height: 145%;\n",
        "        font-size: 130%;\n",
        "        width:800px;\n",
        "        margin-left:auto;\n",
        "        margin-right:auto;\n",
        "    }\n",
        "    .CodeMirror{\n",
        "            font-family: \"Source Code Pro\", source-code-pro,Consolas, monospace;\n",
        "    }\n",
        "/*    .prompt{\n",
        "        display: None;\n",
        "    }*/\n",
        "    .text_cell_render h5 {\n",
        "        font-weight: 300;\n",
        "        font-size: 16pt;\n",
        "        color: #4057A1;\n",
        "        font-style: italic;\n",
        "        margin-bottom: .5em;\n",
        "        margin-top: 0.5em;\n",
        "        display: block;\n",
        "    }\n",
        "\n",
        "    .warning{\n",
        "        color: rgb( 240, 20, 20 )\n",
        "        }\n",
        "</style>\n",
        "<script>\n",
        "    MathJax.Hub.Config({\n",
        "                        TeX: {\n",
        "                           extensions: [\"AMSmath.js\"]\n",
        "                           },\n",
        "                tex2jax: {\n",
        "                    inlineMath: [ ['$','$'], [\"\\\\(\",\"\\\\)\"] ],\n",
        "                    displayMath: [ ['$$','$$'], [\"\\\\[\",\"\\\\]\"] ]\n",
        "                },\n",
        "                displayAlign: 'center', // Change this to 'center' to center equations.\n",
        "                \"HTML-CSS\": {\n",
        "                    styles: {'.MathJax_Display': {\"margin\": 4}}\n",
        "                }\n",
        "        });\n",
        "</script>"
       ],
       "metadata": {},
       "output_type": "pyout",
       "prompt_number": 1,
       "text": [
        "<IPython.core.display.HTML at 0x10ef69a10>"
       ]
      }
     ],
     "prompt_number": 1
    },
    {
     "cell_type": "markdown",
     "metadata": {},
     "source": [
      "## Additional Reading\n",
      "\n",
      "Sunn\u00e5ker, M., Busetto, A. G., Numminen, E., Corander, J., Foll, M., & Dessimoz, C. (2013). Approximate Bayesian Computation. PLoS Computational Biology, 9(1), e1002803. doi:10.1371/journal.pcbi.1002803\n",
      "\n",
      "Csill\u00e9ry, K., Blum, M. G. B., Gaggiotti, O. E., & Fran\u00e7ois, O. (2010). Approximate Bayesian Computation (ABC) in practice. Trends in Ecology & Evolution, 25(7), 410\u2013418. doi:10.1016/j.tree.2010.04.001"
     ]
    }
   ],
   "metadata": {}
  }
 ]
}