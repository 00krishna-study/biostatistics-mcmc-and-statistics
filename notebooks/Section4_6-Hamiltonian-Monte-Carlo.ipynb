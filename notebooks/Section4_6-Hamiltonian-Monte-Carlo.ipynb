{
 "metadata": {
  "name": ""
 },
 "nbformat": 3,
 "nbformat_minor": 0,
 "worksheets": [
  {
   "cells": [
    {
     "cell_type": "markdown",
     "metadata": {},
     "source": [
      "# Hamiltonian Monte Carlo"
     ]
    },
    {
     "cell_type": "markdown",
     "metadata": {},
     "source": [
      "## Introduction to Mathematical Expressions with Theano\n",
      "\n",
      "Theano is a Python library that allows you to define, optimize, and evaluate mathematical expressions involving multi-dimensional arrays efficiently. Theano features:\n",
      "\n",
      "* __tight integration with numpy__ \u2013 Use numpy.ndarray in Theano-compiled functions.\n",
      "* __transparent use of a GPU__ \u2013 Perform data-intensive calculations up to 140x faster than with CPU.(float32 only)\n",
      "* __efficient symbolic differentiation__ \u2013 Theano does your derivatives for function with one or many inputs.\n",
      "* __speed and stability optimizations__ \u2013 Get the right answer for log(1+x) even when x is really tiny.\n",
      "* __dynamic C code generation__ \u2013 Evaluate expressions faster.\n",
      "* __extensive unit-testing and self-verification__ \u2013 Detect and diagnose many types of mistake.\n",
      "\n",
      "### Installing Theano\n",
      "\n",
      "The easiest way to install Theano is to build it from source, using **pip**:\n",
      "\n",
      "    pip install --upgrade --no-deps git+git://github.com/Theano/Theano.git"
     ]
    },
    {
     "cell_type": "markdown",
     "metadata": {},
     "source": [
      "## Adding Two Scalars\n",
      "\n",
      "To get us started with Theano and get a feel of what we're working with, \n",
      "let's make a simple function: add two numbers together. Here is how you do\n",
      "it:\n"
     ]
    },
    {
     "cell_type": "code",
     "collapsed": false,
     "input": [
      "import theano.tensor as T\n",
      "from theano import function\n",
      "x = T.dscalar('x')\n",
      "y = T.dscalar('y')\n",
      "z = x + y\n",
      "f = function([x, y], z)"
     ],
     "language": "python",
     "metadata": {},
     "outputs": [],
     "prompt_number": 1
    },
    {
     "cell_type": "markdown",
     "metadata": {},
     "source": [
      "Now we can call the function:"
     ]
    },
    {
     "cell_type": "code",
     "collapsed": false,
     "input": [
      "print f(2, 3)\n",
      "print f(16.3, 12.1)"
     ],
     "language": "python",
     "metadata": {},
     "outputs": []
    },
    {
     "cell_type": "markdown",
     "metadata": {},
     "source": [
      "Let's break this down into several steps. The first step is to define\n",
      "two symbols (*Variables*) representing the quantities that you want\n",
      "to add. Note that from now on, we will use the term \n",
      "*Variable* to mean \"symbol\" (in other words, \n",
      "*x*, *y*, *z* are all *Variable* objects). The output of the function \n",
      "*f* is a ``numpy.ndarray`` with zero dimensions.\n",
      "\n",
      "If you are following along and typing into an interpreter, you may have\n",
      "noticed that there was a slight delay in executing the ``function``\n",
      "instruction. Behind the scene, *f* was being compiled into C code."
     ]
    },
    {
     "cell_type": "markdown",
     "metadata": {},
     "source": [
      "---"
     ]
    },
    {
     "cell_type": "code",
     "collapsed": false,
     "input": [
      "from IPython.core.display import HTML\n",
      "def css_styling():\n",
      "    styles = open(\"styles/custom.css\", \"r\").read()\n",
      "    return HTML(styles)\n",
      "css_styling()"
     ],
     "language": "python",
     "metadata": {},
     "outputs": [
      {
       "html": [
        "<style>\n",
        "    @font-face {\n",
        "        font-family: \"Computer Modern\";\n",
        "        src: url('http://mirrors.ctan.org/fonts/cm-unicode/fonts/otf/cmunss.otf');\n",
        "    }\n",
        "    div.cell{\n",
        "        width: 90%;\n",
        "/*        margin-left:auto;*/\n",
        "/*        margin-right:auto;*/\n",
        "    }\n",
        "    ul {\n",
        "        line-height: 145%;\n",
        "        font-size: 90%;\n",
        "    }\n",
        "    li {\n",
        "        margin-bottom: 1em;\n",
        "    }\n",
        "    h1 {\n",
        "        font-family: Helvetica, serif;\n",
        "    }\n",
        "    h4{\n",
        "        margin-top: 12px;\n",
        "        margin-bottom: 3px;\n",
        "       }\n",
        "    div.text_cell_render{\n",
        "        font-family: Computer Modern, \"Helvetica Neue\", Arial, Helvetica, Geneva, sans-serif;\n",
        "        line-height: 145%;\n",
        "        font-size: 130%;\n",
        "        width: 90%;\n",
        "        margin-left:auto;\n",
        "        margin-right:auto;\n",
        "    }\n",
        "    .CodeMirror{\n",
        "            font-family: \"Source Code Pro\", source-code-pro,Consolas, monospace;\n",
        "    }\n",
        "/*    .prompt{\n",
        "        display: None;\n",
        "    }*/\n",
        "    .text_cell_render h5 {\n",
        "        font-weight: 300;\n",
        "        font-size: 16pt;\n",
        "        color: #4057A1;\n",
        "        font-style: italic;\n",
        "        margin-bottom: 0.5em;\n",
        "        margin-top: 0.5em;\n",
        "        display: block;\n",
        "    }\n",
        "\n",
        "    .warning{\n",
        "        color: rgb( 240, 20, 20 )\n",
        "        }\n",
        "</style>\n",
        "<script>\n",
        "    MathJax.Hub.Config({\n",
        "                        TeX: {\n",
        "                           extensions: [\"AMSmath.js\"]\n",
        "                           },\n",
        "                tex2jax: {\n",
        "                    inlineMath: [ ['$','$'], [\"\\\\(\",\"\\\\)\"] ],\n",
        "                    displayMath: [ ['$$','$$'], [\"\\\\[\",\"\\\\]\"] ]\n",
        "                },\n",
        "                displayAlign: 'center', // Change this to 'center' to center equations.\n",
        "                \"HTML-CSS\": {\n",
        "                    styles: {'.MathJax_Display': {\"margin\": 4}}\n",
        "                }\n",
        "        });\n",
        "</script>"
       ],
       "metadata": {},
       "output_type": "pyout",
       "prompt_number": 1,
       "text": [
        "<IPython.core.display.HTML at 0x10907c690>"
       ]
      }
     ],
     "prompt_number": 1
    }
   ],
   "metadata": {}
  }
 ]
}