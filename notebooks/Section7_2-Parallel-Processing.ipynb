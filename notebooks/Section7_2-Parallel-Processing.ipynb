{
 "cells": [
  {
   "cell_type": "markdown",
   "metadata": {},
   "source": [
    "# Parallel Processing in Python\n",
    "\n",
    "An obvious way to improve the performance of Python code is to make it run in parallel. Any relatively new computer will have multiple cores, which means that several processors can operate on the same data stored on memory. However, most of the code we have written in the course so far does not take advantage of more than one of them. In addition there is now widespread availability of computing clusters, such as [those offered for use by Amazon](http://aws.amazon.com/ec2/) (Vanderbilt also has [its own cluster](http://www.accre.vanderbilt.edu)). Clusters allow several computers to work together by exchanging data over a network.\n",
    "\n",
    "Parallel computing involves breaking a task into several independent sub-tasks, distributing these sub-tasks to available processors or computers, then coordinating the execution of these tasks and combining their outputs in an appropriate way.\n",
    "\n",
    "There are several different models for parallel processing, including:\n",
    "\n",
    "* **Message passing**: processes or other program components running in parallel communicate by sending and receiving messages, which allows for easy synchronization. \n",
    "* **Multi-threading**: within a single process, some architectures allow for the existence of several \"threads\", which execute independently, though they share the memory and state of the process in which they reside. Multi-threading is good for increasing *throughput* and reducing *latency*.\n",
    "* **Task farming**: a master process delegates independent calculations to available processors (task farm), and collects their outputs when complete.\n",
    "* **Single program, multiple data (SPMD)** Probably the most common type of parallel processing, in which tasks are split up and run simultaneously on multiple processors with different input in order to obtain results faster. All tasks execute their copy of the same program simultaneously.\n",
    "* **Multiple program, multiple data (MPMD)** Like SPMD, except each task may be executing a different program."
   ]
  },
  {
   "cell_type": "markdown",
   "metadata": {},
   "source": [
    "## `multiprocessing`\n",
    "\n",
    "The simplest way (though probably not the best) for performing parallel computing in Python is via the built-in process-based library for concurrent computing, called `multiprocessing`. "
   ]
  },
  {
   "cell_type": "code",
   "execution_count": 2,
   "metadata": {
    "collapsed": false
   },
   "outputs": [],
   "source": [
    "import multiprocessing\n",
    "import os\n",
    "import numpy as np"
   ]
  },
  {
   "cell_type": "markdown",
   "metadata": {},
   "source": [
    "The `multiprocessing` module parallelizes by launching multiple *processes*, each with a seperate interpretor. You may have already heard about *threads*. Processes and threads are not the same:\n",
    "\n",
    "* processes are independent of one another, each having their own state, memory and address spaces\n",
    "* threads share resources, and are therefore interdependent; they are subunits of the same process\n",
    "\n",
    "Since processes are independent, they now have independent Global Interpreter Locks (GILs),  its best to run multiprocessing on multiple CPUs. You can check how many you have on your machine:"
   ]
  },
  {
   "cell_type": "code",
   "execution_count": 3,
   "metadata": {
    "collapsed": false
   },
   "outputs": [
    {
     "data": {
      "text/plain": [
       "4"
      ]
     },
     "execution_count": 3,
     "metadata": {},
     "output_type": "execute_result"
    }
   ],
   "source": [
    "multiprocessing.cpu_count()"
   ]
  },
  {
   "cell_type": "markdown",
   "metadata": {},
   "source": [
    "### `Process` class\n",
    "\n",
    "The `Process` class encapsulates a task running in a process. It will usually have a `target` argument that is some callable (function/method) that is executed when the process runs, along with optional arguments that can be passed to the target.\n",
    "\n",
    "A `Process` has several methods, with some useful ones being:\n",
    "\n",
    "* `is_alive`: Returns `True` if the process is running.\n",
    "* `join`: Waits for the process to finish its work and terminate. An optional `timeout` argument can be passed.\n",
    "* `run`: When the process starts, this method is called to invoke the `target`.\n",
    "* `terminate`: Kills the process forcibly, without any cleanup.\n",
    "\n",
    "A `Process` also has several other non-callable attributes, such as `pid`, `name` and `authkey`.\n",
    "\n",
    "Here is a trivial example of using the `Process` class, showing that each has its own process ID."
   ]
  },
  {
   "cell_type": "code",
   "execution_count": 4,
   "metadata": {
    "collapsed": false
   },
   "outputs": [
    {
     "name": "stdout",
     "output_type": "stream",
     "text": [
      "I am working on job 0 running on PID 36696\n",
      "I am working on job 1 running on PID 36697\n",
      "I am working on job 2 running on PID 36698\n"
     ]
    }
   ],
   "source": [
    "import os\n",
    "\n",
    "def job(n):\n",
    "    print('I am working on job {0} running on PID {1}'.format(n, os.getpid()))\n",
    "\n",
    "jobs = []\n",
    "for i in range(5):\n",
    "    p = multiprocessing.Process(target=job, args=(i,))\n",
    "    jobs.append(p)\n",
    "    p.start()"
   ]
  },
  {
   "cell_type": "code",
   "execution_count": 5,
   "metadata": {
    "collapsed": false
   },
   "outputs": [
    {
     "name": "stdout",
     "output_type": "stream",
     "text": [
      "I am working on job 3 running on PID 36699\n",
      "I am working on job 4 running on PID 36700\n"
     ]
    },
    {
     "data": {
      "text/plain": [
       "[<Process(Process-1, stopped)>,\n",
       " <Process(Process-2, stopped)>,\n",
       " <Process(Process-3, stopped)>,\n",
       " <Process(Process-4, stopped)>,\n",
       " <Process(Process-5, stopped)>]"
      ]
     },
     "execution_count": 5,
     "metadata": {},
     "output_type": "execute_result"
    }
   ],
   "source": [
    "jobs"
   ]
  },
  {
   "cell_type": "markdown",
   "metadata": {},
   "source": [
    "We can easily subclass `Process` to our liking:"
   ]
  },
  {
   "cell_type": "code",
   "execution_count": 6,
   "metadata": {
    "collapsed": false
   },
   "outputs": [],
   "source": [
    "class FibProcess(multiprocessing.Process):\n",
    "    \n",
    "    def __init__(self, n):\n",
    "        self.n = n\n",
    "        multiprocessing.Process.__init__(self)\n",
    "        \n",
    "    def run(self):\n",
    "        a, b = 0, 1\n",
    "        for i in range(self.n):\n",
    "            a, b = b, a + b"
   ]
  },
  {
   "cell_type": "code",
   "execution_count": 7,
   "metadata": {
    "collapsed": false
   },
   "outputs": [
    {
     "name": "stdout",
     "output_type": "stream",
     "text": [
      "36701\n",
      "0\n"
     ]
    }
   ],
   "source": [
    "p = FibProcess(10000)\n",
    "p.start()\n",
    "print(p.pid)\n",
    "p.join()\n",
    "print(p.exitcode)"
   ]
  },
  {
   "cell_type": "markdown",
   "metadata": {},
   "source": [
    "### `Queue` class\n",
    "\n",
    "Of course, despite being independent, we would like our processes to communicate with one another, for example, to share data. One way to facilitate this in `multiprocessing` is via the `Queue` class, a thread/process safe, first-in-first-out (FIFO) data structure that can store any serializable Python object.\n",
    "\n",
    "A `Queue`'s important methods include:\n",
    "\n",
    "* `put`: Adds item to `Queue`.\n",
    "* `get`: Fetches next item from `Queue`.\n",
    "* `close`: Closes the `Queue`, preventing the addition of more data.\n",
    "* `empty`: Returns True if the `Queue` is empty.\n",
    "* `full`: Returns True if full.\n",
    "* `qsize`: Retuns approximate current number of items in `Queue`.\n",
    "\n",
    "A subclass of `Queue` is the `JoinableQueue`, which has additional methods, notably `join`, which waits until all the items have been processed, blocking the addition of new items.\n"
   ]
  },
  {
   "cell_type": "code",
   "execution_count": 8,
   "metadata": {
    "collapsed": false
   },
   "outputs": [
    {
     "name": "stdout",
     "output_type": "stream",
     "text": [
      "-1\n",
      "foobar\n"
     ]
    }
   ],
   "source": [
    "from multiprocessing import Queue\n",
    "\n",
    "q = Queue()\n",
    "\n",
    "q.put(-1)\n",
    "q.put('foobar')\n",
    "q.put(5)\n",
    "\n",
    "print(q.get())\n",
    "print(q.get())"
   ]
  },
  {
   "cell_type": "markdown",
   "metadata": {},
   "source": [
    "Here's a toy example of `Queue` usage, where a process is fed items from a function, until it receives a `None` object.\n",
    "\n",
    "First, a function to execute a task with items from a `Queue`:"
   ]
  },
  {
   "cell_type": "code",
   "execution_count": 9,
   "metadata": {
    "collapsed": false
   },
   "outputs": [],
   "source": [
    "def consumer(q):\n",
    "    while True:\n",
    "        thing = q.get()\n",
    "        if thing is None:\n",
    "            break\n",
    "        print('Consuming {}'.format(thing))\n",
    "    print(\"\\nFinished consuming\")"
   ]
  },
  {
   "cell_type": "markdown",
   "metadata": {},
   "source": [
    "Complementing this is another function that provisions the `Queue` with items:"
   ]
  },
  {
   "cell_type": "code",
   "execution_count": 10,
   "metadata": {
    "collapsed": false
   },
   "outputs": [],
   "source": [
    "def producer(sequence, q):\n",
    "    for thing in sequence:\n",
    "        q.put(thing)"
   ]
  },
  {
   "cell_type": "markdown",
   "metadata": {},
   "source": [
    "Initialize the `Queue` and start the `consumer` process:"
   ]
  },
  {
   "cell_type": "code",
   "execution_count": 11,
   "metadata": {
    "collapsed": false
   },
   "outputs": [],
   "source": [
    "queue = multiprocessing.Queue()\n",
    "\n",
    "consumer_process = multiprocessing.Process(target=consumer, args=[queue])\n",
    "consumer_process.start()"
   ]
  },
  {
   "cell_type": "markdown",
   "metadata": {},
   "source": [
    "Feed the `Queue` and process until finished:"
   ]
  },
  {
   "cell_type": "code",
   "execution_count": 12,
   "metadata": {
    "collapsed": false
   },
   "outputs": [],
   "source": [
    "stuff = [42, 'foobar', True, range(5)]\n",
    "producer(stuff, queue)"
   ]
  },
  {
   "cell_type": "code",
   "execution_count": 13,
   "metadata": {
    "collapsed": false
   },
   "outputs": [
    {
     "name": "stdout",
     "output_type": "stream",
     "text": [
      "Consuming 42\n",
      "Consuming foobar\n",
      "Consuming True\n",
      "Consuming [0, 1, 2, 3, 4]\n",
      "\n",
      "Finished consuming\n"
     ]
    }
   ],
   "source": [
    "queue.put(None)\n",
    "consumer_process.join()"
   ]
  },
  {
   "cell_type": "markdown",
   "metadata": {},
   "source": [
    "Two things to be aware of:\n",
    "\n",
    "1. if you `terminate` a process that is still accessing a queue, the queue may become corrupted\n",
    "2. you should make sure that any queue to which a given process has given data is clear before joining the process, or you will get a deadlock condition\n",
    "\n",
    "### `Pool` class\n",
    "\n",
    "We often have a task that we want to split up among several worker processes in parallel. The `Pool` class creates a number of processes and the methods for passing work to them. A `Pool` has the following key methods:\n",
    "\n",
    "* `apply`: Executes a passed function in a process and returns the result.\n",
    "* `apply_async`: Same as apply, but the result is returned asynchronously via a *callback*\n",
    "* `map`: A parallel version of `apply`, which splits an iterable of data into chunks and farms chunks out to processes.\n",
    "* `map_async`: Asynchronous `map`."
   ]
  },
  {
   "cell_type": "markdown",
   "metadata": {},
   "source": [
    "### Example: parallel bootstrap\n",
    "\n",
    "As an example, we will choose a statistical computing task that is [*embarassingly parallel*](http://en.wikipedia.org/wiki/Embarrassingly_parallel). This function generates statistics of bootstrapped samples from a dataset."
   ]
  },
  {
   "cell_type": "code",
   "execution_count": 14,
   "metadata": {
    "collapsed": false
   },
   "outputs": [],
   "source": [
    "def bootstrap(data, nsamples, f):\n",
    "    boot_samples = data[np.random.randint(len(data), size=(nsamples, len(data)))]\n",
    "    return [f(s) for s in boot_samples]"
   ]
  },
  {
   "cell_type": "code",
   "execution_count": 15,
   "metadata": {
    "collapsed": false
   },
   "outputs": [],
   "source": [
    "pool = multiprocessing.Pool(processes=4)"
   ]
  },
  {
   "cell_type": "code",
   "execution_count": 16,
   "metadata": {
    "collapsed": false
   },
   "outputs": [],
   "source": [
    "some_data = np.random.poisson(4, 25)"
   ]
  },
  {
   "cell_type": "code",
   "execution_count": 17,
   "metadata": {
    "collapsed": false
   },
   "outputs": [],
   "source": [
    "result = pool.apply_async(bootstrap, (some_data, 1000, np.mean))"
   ]
  },
  {
   "cell_type": "markdown",
   "metadata": {},
   "source": [
    "The result is an `ApplyResult` object:"
   ]
  },
  {
   "cell_type": "code",
   "execution_count": 18,
   "metadata": {
    "collapsed": false
   },
   "outputs": [
    {
     "data": {
      "text/plain": [
       "<multiprocessing.pool.ApplyResult at 0x11020cd10>"
      ]
     },
     "execution_count": 18,
     "metadata": {},
     "output_type": "execute_result"
    }
   ],
   "source": [
    "result"
   ]
  },
  {
   "cell_type": "markdown",
   "metadata": {},
   "source": [
    "We may then want to take the result and calculate a confidence interval based on the quantiles."
   ]
  },
  {
   "cell_type": "code",
   "execution_count": 19,
   "metadata": {
    "collapsed": false
   },
   "outputs": [],
   "source": [
    "bootstrap_ci = lambda boot, alpha=0.05: (boot[np.floor((0.5*alpha)*len(boot))],\n",
    "            boot[np.floor((1.-0.5*alpha)*len(boot))])"
   ]
  },
  {
   "cell_type": "code",
   "execution_count": 20,
   "metadata": {
    "collapsed": false
   },
   "outputs": [
    {
     "data": {
      "text/plain": [
       "(2.7200000000000002, 4.0800000000000001)"
      ]
     },
     "execution_count": 20,
     "metadata": {},
     "output_type": "execute_result"
    }
   ],
   "source": [
    "bootstrap_ci(np.sort(result.get()))"
   ]
  },
  {
   "cell_type": "code",
   "execution_count": 21,
   "metadata": {
    "collapsed": false
   },
   "outputs": [],
   "source": [
    "# Clean up\n",
    "pool.close()\n",
    "pool.join()"
   ]
  },
  {
   "cell_type": "markdown",
   "metadata": {},
   "source": [
    "But, since we used `Pool.apply`, this is not a parallel task. We need to use `map`."
   ]
  },
  {
   "cell_type": "code",
   "execution_count": 22,
   "metadata": {
    "collapsed": false
   },
   "outputs": [],
   "source": [
    "def mapped_bootstrap(n): \n",
    "    return bootstrap(some_data, n, np.mean)"
   ]
  },
  {
   "cell_type": "code",
   "execution_count": 23,
   "metadata": {
    "collapsed": false
   },
   "outputs": [],
   "source": [
    "pool = multiprocessing.Pool(processes=4)"
   ]
  },
  {
   "cell_type": "code",
   "execution_count": 24,
   "metadata": {
    "collapsed": false
   },
   "outputs": [],
   "source": [
    "map_result = pool.map_async(mapped_bootstrap, [250]*4)"
   ]
  },
  {
   "cell_type": "code",
   "execution_count": 25,
   "metadata": {
    "collapsed": false
   },
   "outputs": [
    {
     "data": {
      "text/plain": [
       "<multiprocessing.pool.MapResult at 0x11020cf90>"
      ]
     },
     "execution_count": 25,
     "metadata": {},
     "output_type": "execute_result"
    }
   ],
   "source": [
    "map_result"
   ]
  },
  {
   "cell_type": "code",
   "execution_count": 26,
   "metadata": {
    "collapsed": false
   },
   "outputs": [
    {
     "data": {
      "text/plain": [
       "[250, 250, 250, 250]"
      ]
     },
     "execution_count": 26,
     "metadata": {},
     "output_type": "execute_result"
    }
   ],
   "source": [
    "parallel_results = map_result.get()\n",
    "[len(p) for p in parallel_results]"
   ]
  },
  {
   "cell_type": "code",
   "execution_count": 27,
   "metadata": {
    "collapsed": false
   },
   "outputs": [
    {
     "data": {
      "text/plain": [
       "(2.7599999999999998, 4.0800000000000001)"
      ]
     },
     "execution_count": 27,
     "metadata": {},
     "output_type": "execute_result"
    }
   ],
   "source": [
    "bootstrap_ci(np.sort(np.ravel(parallel_results)))"
   ]
  },
  {
   "cell_type": "code",
   "execution_count": 28,
   "metadata": {
    "collapsed": false
   },
   "outputs": [],
   "source": [
    "pool.close()\n",
    "pool.join()"
   ]
  },
  {
   "cell_type": "markdown",
   "metadata": {},
   "source": [
    "The multiprocessing package is very useful for highly parallel tasks that do not need to communicate with each other, other than when sending the initial data to the pool of processes and when and collecting the results. "
   ]
  },
  {
   "cell_type": "markdown",
   "metadata": {},
   "source": [
    "## IPython parallel\n",
    "\n",
    "The IPython architecture consists of four components, which reside in the `IPython.parallel` package:\n",
    "\n",
    "1. **Engine** The IPython engine is a Python instance that accepts Python commands over a network connection.  When multiple engines are started, parallel and distributed computing becomes possible. An important property of an IPython engine is that it blocks while user code is being executed. \n",
    "\n",
    "2. **Hub** The hub keeps track of engine connections, schedulers, clients, as well as persist all task requests and results in a database for later use.\n",
    "\n",
    "3. **Schedulers** All actions that can be performed on the engine go through a Scheduler. While the engines themselves block when user code is run, the schedulers hide that from the user to provide a fully asynchronous interface to a set of engines.\n",
    "\n",
    "4. **Client** The primary object for connecting to a cluster.\n",
    "\n",
    "![IPython architecture](images/ipython_architecture.png)\n",
    "(courtesy Min Ragan-Kelley)\n",
    "\n",
    "This architecture is implemented using the ØMQ messaging library and the associated Python bindings in `pyzmq`.\n",
    "\n",
    "## Start your engines!\n",
    "\n",
    "In order to use IPython for parallel computing, you will need to start the IPython\n",
    "controller and two or more IPython engines. The simplest way of doing this is\n",
    "with the [clusters tab](/#tab2), or you can use the `ipcluster` command in a terminal:\n",
    "\n",
    "    $ ipcluster start --n=4\n",
    "\n",
    "This command will start 4 IPython engines on the current host, which is appropriate for many desktop multicore systems. You can also setup IPython clusters that span many nodes in a computing cluster, but this is beyond the scope of this lecture, but you can get more information from \n",
    "[the IPython.parallel docs](http://ipython.org/ipython-doc/dev/parallel/parallel_process.html)..\n",
    "\n",
    "To use the IPython cluster in our Python programs or notebooks, we start by creating an instance of `IPython.parallel.Client`:"
   ]
  },
  {
   "cell_type": "code",
   "execution_count": 29,
   "metadata": {
    "collapsed": false
   },
   "outputs": [],
   "source": [
    "from IPython.parallel import Client"
   ]
  },
  {
   "cell_type": "code",
   "execution_count": 30,
   "metadata": {
    "collapsed": false
   },
   "outputs": [],
   "source": [
    "cli = Client()"
   ]
  },
  {
   "cell_type": "markdown",
   "metadata": {},
   "source": [
    "This creates a client using the default profile; you can pass an optional `profile=\"my_profile\"` argument if you have a different one running.\n",
    "\n",
    "Using the `ids` attribute we can retreive a list of ids for the IPython engines in the cluster:"
   ]
  },
  {
   "cell_type": "code",
   "execution_count": 31,
   "metadata": {
    "collapsed": false
   },
   "outputs": [
    {
     "data": {
      "text/plain": [
       "[0, 1, 2, 3]"
      ]
     },
     "execution_count": 31,
     "metadata": {},
     "output_type": "execute_result"
    }
   ],
   "source": [
    "cli.ids"
   ]
  },
  {
   "cell_type": "markdown",
   "metadata": {},
   "source": [
    "We can use a `DirectView` object for execution of tasks, which an be accessed simply by indexing the client:"
   ]
  },
  {
   "cell_type": "code",
   "execution_count": 32,
   "metadata": {
    "collapsed": false
   },
   "outputs": [
    {
     "data": {
      "text/plain": [
       "<DirectView 0>"
      ]
     },
     "execution_count": 32,
     "metadata": {},
     "output_type": "execute_result"
    }
   ],
   "source": [
    "dv0 = cli[0]\n",
    "dv0"
   ]
  },
  {
   "cell_type": "markdown",
   "metadata": {},
   "source": [
    "The above shows just a single engine, but we want all of them:"
   ]
  },
  {
   "cell_type": "code",
   "execution_count": 33,
   "metadata": {
    "collapsed": false
   },
   "outputs": [
    {
     "data": {
      "text/plain": [
       "<DirectView [0, 1, 2, 3]>"
      ]
     },
     "execution_count": 33,
     "metadata": {},
     "output_type": "execute_result"
    }
   ],
   "source": [
    "dview = cli[:]\n",
    "dview"
   ]
  },
  {
   "cell_type": "markdown",
   "metadata": {},
   "source": [
    "We can get a view on whatever combination of engines we want:"
   ]
  },
  {
   "cell_type": "code",
   "execution_count": 34,
   "metadata": {
    "collapsed": false
   },
   "outputs": [
    {
     "data": {
      "text/plain": [
       "<DirectView [0, 2]>"
      ]
     },
     "execution_count": 34,
     "metadata": {},
     "output_type": "execute_result"
    }
   ],
   "source": [
    "cli[::2]"
   ]
  },
  {
   "cell_type": "code",
   "execution_count": 35,
   "metadata": {
    "collapsed": false
   },
   "outputs": [
    {
     "data": {
      "text/plain": [
       "<DirectView [1, 3]>"
      ]
     },
     "execution_count": 35,
     "metadata": {},
     "output_type": "execute_result"
    }
   ],
   "source": [
    "cli[1::2]"
   ]
  },
  {
   "cell_type": "markdown",
   "metadata": {},
   "source": [
    "The `block` flag specifies whether to wait for the result, or return an `AsyncResult` object immediately:"
   ]
  },
  {
   "cell_type": "code",
   "execution_count": 36,
   "metadata": {
    "collapsed": false
   },
   "outputs": [],
   "source": [
    "dview.block = True"
   ]
  },
  {
   "cell_type": "markdown",
   "metadata": {},
   "source": [
    "Finally, since we want to use IPython's parallel magic commands, we set the `DirectView` to be `active`:"
   ]
  },
  {
   "cell_type": "code",
   "execution_count": 37,
   "metadata": {
    "collapsed": false
   },
   "outputs": [],
   "source": [
    "dview.activate()"
   ]
  },
  {
   "cell_type": "markdown",
   "metadata": {},
   "source": [
    "Each of these engines are ready to execute tasks. We can selectively run code on individual engines. For example, we can simply use `os.getpid` to return the process ID that the engine is running on. Here is the notebook process:"
   ]
  },
  {
   "cell_type": "code",
   "execution_count": 38,
   "metadata": {
    "collapsed": false
   },
   "outputs": [
    {
     "data": {
      "text/plain": [
       "36689"
      ]
     },
     "execution_count": 38,
     "metadata": {},
     "output_type": "execute_result"
    }
   ],
   "source": [
    "import os\n",
    "os.getpid()"
   ]
  },
  {
   "cell_type": "markdown",
   "metadata": {},
   "source": [
    "Here is a single engine's process ID:"
   ]
  },
  {
   "cell_type": "code",
   "execution_count": 39,
   "metadata": {
    "collapsed": false
   },
   "outputs": [
    {
     "data": {
      "text/plain": [
       "36743"
      ]
     },
     "execution_count": 39,
     "metadata": {},
     "output_type": "execute_result"
    }
   ],
   "source": [
    "dv0.apply_sync(os.getpid)"
   ]
  },
  {
   "cell_type": "markdown",
   "metadata": {},
   "source": [
    "And here are all the engines, run simultaneously:"
   ]
  },
  {
   "cell_type": "code",
   "execution_count": 40,
   "metadata": {
    "collapsed": false
   },
   "outputs": [
    {
     "data": {
      "text/plain": [
       "[36743, 36744, 36745, 36747]"
      ]
     },
     "execution_count": 40,
     "metadata": {},
     "output_type": "execute_result"
    }
   ],
   "source": [
    "dview.apply_sync(os.getpid)"
   ]
  },
  {
   "cell_type": "markdown",
   "metadata": {},
   "source": [
    "Let's now consider a useful function that we might want to run in parallel. Here is a version of the approximate Bayesian computing (ABC) algorithm that we have seen in previous lectures."
   ]
  },
  {
   "cell_type": "code",
   "execution_count": 41,
   "metadata": {
    "collapsed": false
   },
   "outputs": [],
   "source": [
    "import numpy\n",
    "\n",
    "def abc(y, N, epsilon=[0.2, 0.8]):\n",
    "    \n",
    "    trace = []\n",
    "\n",
    "    while len(trace) < N:\n",
    "\n",
    "        # Simulate from priors\n",
    "        mu = numpy.random.normal(0, 10)\n",
    "        sigma = numpy.random.uniform(0, 20)\n",
    "\n",
    "        x = numpy.random.normal(mu, sigma, 50)\n",
    "\n",
    "        #if (np.linalg.norm(y - x) < epsilon):\n",
    "        if ((abs(x.mean() - y.mean()) < epsilon[0]) &\n",
    "            (abs(x.std() - y.std()) < epsilon[1])):\n",
    "            trace.append([mu, sigma])\n",
    "\n",
    "    return trace"
   ]
  },
  {
   "cell_type": "code",
   "execution_count": 42,
   "metadata": {
    "collapsed": false
   },
   "outputs": [],
   "source": [
    "import numpy as np\n",
    "\n",
    "y = np.random.normal(4, 2, 50)"
   ]
  },
  {
   "cell_type": "markdown",
   "metadata": {},
   "source": [
    "Let's try running this on one of the cluster engines:"
   ]
  },
  {
   "cell_type": "code",
   "execution_count": 43,
   "metadata": {
    "collapsed": false
   },
   "outputs": [
    {
     "ename": "RemoteError",
     "evalue": "NameError(global name 'numpy' is not defined)",
     "output_type": "error",
     "traceback": [
      "\u001b[0;31m---------------------------------------------------------------------------\u001b[0m\u001b[0;31mNameError\u001b[0m                                 Traceback (most recent call last)\u001b[0;32m<string>\u001b[0m in \u001b[0;36m<module>\u001b[0;34m()\u001b[0m",
      "\u001b[0;32m<ipython-input-41-02c6cbe59268>\u001b[0m in \u001b[0;36mabc\u001b[0;34m(y, N, epsilon)\u001b[0m",
      "\u001b[0;31mNameError\u001b[0m: global name 'numpy' is not defined"
     ]
    }
   ],
   "source": [
    "dv0.block = True\n",
    "dv0.apply(abc, y, 10)"
   ]
  },
  {
   "cell_type": "markdown",
   "metadata": {},
   "source": [
    "This fails with a `NameError` because NumPy has not been imported on the engine to which we sent the task. Each engine has its own namespace, so we need to import whatever modules we will need  prior to running our code:"
   ]
  },
  {
   "cell_type": "code",
   "execution_count": 44,
   "metadata": {
    "collapsed": false
   },
   "outputs": [
    {
     "data": {
      "text/plain": [
       "<AsyncResult: execute>"
      ]
     },
     "execution_count": 44,
     "metadata": {},
     "output_type": "execute_result"
    }
   ],
   "source": [
    "cli[0].execute(\"import numpy\")"
   ]
  },
  {
   "cell_type": "code",
   "execution_count": 45,
   "metadata": {
    "collapsed": false
   },
   "outputs": [
    {
     "data": {
      "text/plain": [
       "[[4.296035134248462, 1.3479308716089289],\n",
       " [4.3983006830585385, 2.349284271281107],\n",
       " [4.351466245742123, 1.4689382189725086],\n",
       " [4.3093181708121255, 1.378912963780492],\n",
       " [4.495718338330757, 1.556065189999154],\n",
       " [4.376894051950992, 2.2182338563764925],\n",
       " [4.21810006657294, 1.7870060654016084],\n",
       " [4.2840808357112135, 1.533668644386208],\n",
       " [4.843551396591307, 1.9511617223560362],\n",
       " [4.346882604913656, 2.173056618404996]]"
      ]
     },
     "execution_count": 45,
     "metadata": {},
     "output_type": "execute_result"
    }
   ],
   "source": [
    "dv0.apply(abc, y, 10)"
   ]
  },
  {
   "cell_type": "markdown",
   "metadata": {},
   "source": [
    "A more efficient way is to simultaneously import modules into the local and the engine namespaces simultaneously, using a context manager:"
   ]
  },
  {
   "cell_type": "code",
   "execution_count": 46,
   "metadata": {
    "collapsed": false
   },
   "outputs": [
    {
     "name": "stdout",
     "output_type": "stream",
     "text": [
      "importing numpy on engine(s)\n"
     ]
    }
   ],
   "source": [
    "with dview.sync_imports():\n",
    "    import numpy"
   ]
  },
  {
   "cell_type": "code",
   "execution_count": 47,
   "metadata": {
    "collapsed": false
   },
   "outputs": [],
   "source": [
    "t = dview.apply(abc, y, 10)"
   ]
  },
  {
   "cell_type": "markdown",
   "metadata": {},
   "source": [
    "Easier yet, you can use the parallel cell magic to import everywhere:"
   ]
  },
  {
   "cell_type": "code",
   "execution_count": 48,
   "metadata": {
    "collapsed": false
   },
   "outputs": [],
   "source": [
    "%%px\n",
    "import numpy"
   ]
  },
  {
   "cell_type": "markdown",
   "metadata": {},
   "source": [
    "You can also use the `require` decorator for functions that you wish to use on engines."
   ]
  },
  {
   "cell_type": "code",
   "execution_count": 49,
   "metadata": {
    "collapsed": false
   },
   "outputs": [],
   "source": [
    "from IPython.parallel import require\n",
    "\n",
    "@require(\"numpy\")\n",
    "def abc(y, N, epsilon=[0.2, 0.8]):\n",
    "\n",
    "    trace = []\n",
    "\n",
    "    while len(trace) < N:\n",
    "\n",
    "        # Simulate from priors\n",
    "        mu = numpy.random.normal(0, 10)\n",
    "        sigma = numpy.random.uniform(0, 20)\n",
    "\n",
    "        x = numpy.random.normal(mu, sigma, 50)\n",
    "\n",
    "        #if (np.linalg.norm(y - x) < epsilon):\n",
    "        if ((abs(x.mean() - y.mean()) < epsilon[0]) &\n",
    "            (abs(x.std() - y.std()) < epsilon[1])):\n",
    "            trace.append([mu, sigma])\n",
    "\n",
    "    return trace"
   ]
  },
  {
   "cell_type": "markdown",
   "metadata": {},
   "source": [
    "A simple way to run code on an engine is via the `execute` method:"
   ]
  },
  {
   "cell_type": "code",
   "execution_count": 50,
   "metadata": {
    "collapsed": false
   },
   "outputs": [
    {
     "data": {
      "text/plain": [
       "<AsyncResult: finished>"
      ]
     },
     "execution_count": 50,
     "metadata": {},
     "output_type": "execute_result"
    }
   ],
   "source": [
    "dv0.execute('x=3')"
   ]
  },
  {
   "cell_type": "code",
   "execution_count": 51,
   "metadata": {
    "collapsed": false
   },
   "outputs": [
    {
     "data": {
      "text/plain": [
       "3"
      ]
     },
     "execution_count": 51,
     "metadata": {},
     "output_type": "execute_result"
    }
   ],
   "source": [
    "dv0['x']"
   ]
  },
  {
   "cell_type": "markdown",
   "metadata": {},
   "source": [
    "### Data transfer\n",
    "\n",
    "We will often want to send data to our engines, or retrieve objects from them. `DirectView` has `push` and `pull` methods for achieving this.\n",
    "\n",
    "Recall that Python namespaces are just dictionaries. So, we can update an engine's namespace by pushing a dictionary:"
   ]
  },
  {
   "cell_type": "code",
   "execution_count": 53,
   "metadata": {
    "collapsed": false
   },
   "outputs": [],
   "source": [
    "dv0.push({'foo': -3, 'bar': np.arange(10)})"
   ]
  },
  {
   "cell_type": "code",
   "execution_count": 54,
   "metadata": {
    "collapsed": false
   },
   "outputs": [
    {
     "data": {
      "text/plain": [
       "[3, array([0, 1, 2, 3, 4, 5, 6, 7, 8, 9])]"
      ]
     },
     "execution_count": 54,
     "metadata": {},
     "output_type": "execute_result"
    }
   ],
   "source": [
    "dv0.pull(('x', 'bar'))"
   ]
  },
  {
   "cell_type": "markdown",
   "metadata": {},
   "source": [
    "Additionally, `DirectView` objects also have `scatter` and `gather` methods, to distribute data among engines. `scatter` accepts any container or Numpy `array` type, while `gather` assembles the respective return objects in the Client."
   ]
  },
  {
   "cell_type": "code",
   "execution_count": 58,
   "metadata": {
    "collapsed": false
   },
   "outputs": [
    {
     "data": {
      "text/plain": [
       "array([ 1.71942045,  6.40345393,  1.61259801,  6.55233647,  3.31167343,\n",
       "        5.95285222,  0.24565448,  1.1889946 ,  6.31514771,  2.19040417,\n",
       "        2.93629586,  6.00326471,  5.7429894 ,  1.03371821,  3.28303562,\n",
       "        5.93051096,  4.46314998,  2.49293474,  5.62932026,  8.48639635,\n",
       "        4.70009504,  3.78732378,  6.63238178,  2.10198236,  4.29666251,\n",
       "        6.58401329,  2.93762345,  7.77585169,  4.30554335,  3.36403899,\n",
       "        2.84125582,  3.37946949,  5.90715398,  2.32934912,  4.6896009 ,\n",
       "        5.80288162,  6.99097411,  2.09934838,  4.82495716,  5.33021337,\n",
       "        5.77743957,  2.9667956 ,  4.13818239,  5.93058454,  3.06974473,\n",
       "        0.68068601,  5.6967499 ,  5.09660342,  6.05595693,  4.83159048])"
      ]
     },
     "execution_count": 58,
     "metadata": {},
     "output_type": "execute_result"
    }
   ],
   "source": [
    "# Some Gaussian data\n",
    "y"
   ]
  },
  {
   "cell_type": "code",
   "execution_count": 56,
   "metadata": {
    "collapsed": false
   },
   "outputs": [
    {
     "data": {
      "text/plain": [
       "[array([ 1.71942045,  6.40345393,  1.61259801,  6.55233647,  3.31167343,\n",
       "         5.95285222,  0.24565448,  1.1889946 ,  6.31514771,  2.19040417,\n",
       "         2.93629586,  6.00326471,  5.7429894 ]),\n",
       " array([ 1.03371821,  3.28303562,  5.93051096,  4.46314998,  2.49293474,\n",
       "         5.62932026,  8.48639635,  4.70009504,  3.78732378,  6.63238178,\n",
       "         2.10198236,  4.29666251,  6.58401329]),\n",
       " array([ 2.93762345,  7.77585169,  4.30554335,  3.36403899,  2.84125582,\n",
       "         3.37946949,  5.90715398,  2.32934912,  4.6896009 ,  5.80288162,\n",
       "         6.99097411,  2.09934838]),\n",
       " array([ 4.82495716,  5.33021337,  5.77743957,  2.9667956 ,  4.13818239,\n",
       "         5.93058454,  3.06974473,  0.68068601,  5.6967499 ,  5.09660342,\n",
       "         6.05595693,  4.83159048])]"
      ]
     },
     "execution_count": 56,
     "metadata": {},
     "output_type": "execute_result"
    }
   ],
   "source": [
    "# Send to engines\n",
    "dview.scatter('y', y)\n",
    "dview['y']"
   ]
  },
  {
   "cell_type": "code",
   "execution_count": 59,
   "metadata": {
    "collapsed": false
   },
   "outputs": [
    {
     "data": {
      "text/plain": [
       "<AsyncResult: finished>"
      ]
     },
     "execution_count": 59,
     "metadata": {},
     "output_type": "execute_result"
    }
   ],
   "source": [
    "# Remote execution of function\n",
    "dview.execute('sum_y = sum(y)')"
   ]
  },
  {
   "cell_type": "code",
   "execution_count": 60,
   "metadata": {
    "collapsed": false
   },
   "outputs": [
    {
     "data": {
      "text/plain": [
       "216.41920529009951"
      ]
     },
     "execution_count": 60,
     "metadata": {},
     "output_type": "execute_result"
    }
   ],
   "source": [
    "# Aggregation on client\n",
    "sum(dview.gather('sum_y'))"
   ]
  },
  {
   "cell_type": "markdown",
   "metadata": {},
   "source": [
    "The `map` method essentially combines `scatter` and `gather` into a single call:"
   ]
  },
  {
   "cell_type": "code",
   "execution_count": 61,
   "metadata": {
    "collapsed": false
   },
   "outputs": [
    {
     "data": {
      "text/plain": [
       "[182.05086024252262,\n",
       " 254.50340516324769,\n",
       " 245.60003524163488,\n",
       " 220.45204449325368,\n",
       " 222.81094363831392]"
      ]
     },
     "execution_count": 61,
     "metadata": {},
     "output_type": "execute_result"
    }
   ],
   "source": [
    "dview.map(lambda x: sum(x**2), np.split(y, 5))"
   ]
  },
  {
   "cell_type": "markdown",
   "metadata": {},
   "source": [
    "### Load balancing\n",
    "\n",
    "The `DirectView` objects we have used so far strictly allocate particular tasks to particular engines. This is often inefficient, when tasks take variable amounts of time, leaving some engines idle while some are overworked. We can use a **load balanced** view to distribute memory approximately equally among engines, to minimize idle time."
   ]
  },
  {
   "cell_type": "code",
   "execution_count": 62,
   "metadata": {
    "collapsed": false
   },
   "outputs": [
    {
     "data": {
      "text/plain": [
       "<LoadBalancedView None>"
      ]
     },
     "execution_count": 62,
     "metadata": {},
     "output_type": "execute_result"
    }
   ],
   "source": [
    "lb_view = cli.load_balanced_view()\n",
    "lb_view"
   ]
  },
  {
   "cell_type": "markdown",
   "metadata": {},
   "source": [
    "A `LoadBalancedView`, though it works with all the engines (or specified subsets of engines), behaves as if it is working with a single engine.\n",
    "\n",
    "If you do not specify the engines when the `LoadBalancedView` is created, it will use all the engines that are available when it assigns tasks."
   ]
  },
  {
   "cell_type": "code",
   "execution_count": 63,
   "metadata": {
    "collapsed": false
   },
   "outputs": [
    {
     "name": "stdout",
     "output_type": "stream",
     "text": [
      "Task 0 ran on process 36743\n",
      "Task 1 ran on process 36747\n",
      "Task 2 ran on process 36745\n",
      "Task 3 ran on process 36744\n",
      "Task 4 ran on process 36743\n",
      "Task 5 ran on process 36747\n",
      "Task 6 ran on process 36745\n",
      "Task 7 ran on process 36744\n",
      "Task 8 ran on process 36743\n",
      "Task 9 ran on process 36747\n"
     ]
    }
   ],
   "source": [
    "for i in range(10):\n",
    "    pid = lb_view.apply_sync(os.getpid)\n",
    "    print('Task {0} ran on process {1}'.format(i, pid))"
   ]
  },
  {
   "cell_type": "code",
   "execution_count": 64,
   "metadata": {
    "collapsed": false
   },
   "outputs": [],
   "source": [
    "%%px\n",
    "\n",
    "def abc(y, N, epsilon=[0.2, 0.8]):\n",
    "\n",
    "    trace = []\n",
    "\n",
    "    while len(trace) < N:\n",
    "\n",
    "        # Simulate from priors\n",
    "        mu = numpy.random.normal(0, 10)\n",
    "        sigma = numpy.random.uniform(0, 20)\n",
    "\n",
    "        x = numpy.random.normal(mu, sigma, 50)\n",
    "\n",
    "        #if (np.linalg.norm(y - x) < epsilon):\n",
    "        if ((abs(x.mean() - y.mean()) < epsilon[0]) &\n",
    "            (abs(x.std() - y.std()) < epsilon[1])):\n",
    "            trace.append([mu, sigma])\n",
    "\n",
    "    return trace"
   ]
  },
  {
   "cell_type": "code",
   "execution_count": 65,
   "metadata": {
    "collapsed": false
   },
   "outputs": [],
   "source": [
    "tasks = lb_view.map_async(lambda n: abc(y, n), [20]*5)"
   ]
  },
  {
   "cell_type": "code",
   "execution_count": 66,
   "metadata": {
    "collapsed": false
   },
   "outputs": [
    {
     "data": {
      "text/plain": [
       "['aef08b39-3c2a-4869-84c3-7c0ea21f1375',\n",
       " '3eb39114-b9c4-4c47-b9b2-9f994551e4b6',\n",
       " '98afb476-c033-4bf1-a829-c472de0ae745',\n",
       " 'af3d7850-bb63-41dc-90fe-ec52187b9eea',\n",
       " 'bd2c38ae-c3e3-4f0b-89fa-b067942c3061']"
      ]
     },
     "execution_count": 66,
     "metadata": {},
     "output_type": "execute_result"
    }
   ],
   "source": [
    "tasks.msg_ids"
   ]
  },
  {
   "cell_type": "code",
   "execution_count": 67,
   "metadata": {
    "collapsed": false
   },
   "outputs": [
    {
     "data": {
      "text/plain": [
       "array([[ 4.15647773,  1.18895429],\n",
       "       [ 4.03205328,  1.9781741 ],\n",
       "       [ 4.78843273,  2.25491363],\n",
       "       [ 4.56652904,  2.03787131],\n",
       "       [ 4.80574885,  2.31861753],\n",
       "       [ 4.0252279 ,  1.68287013],\n",
       "       [ 4.30961267,  1.49600211],\n",
       "       [ 4.63318263,  2.62346424],\n",
       "       [ 4.26574682,  1.74173109],\n",
       "       [ 4.4106172 ,  1.61924934]])"
      ]
     },
     "execution_count": 67,
     "metadata": {},
     "output_type": "execute_result"
    }
   ],
   "source": [
    "result = np.concatenate(tasks.get())\n",
    "result[:10]"
   ]
  },
  {
   "cell_type": "markdown",
   "metadata": {},
   "source": [
    "Another way that you can dispatch tasks to engines is via the `parallel` decorator. This decorator is a method of the `DirectView` class that controls our engine pool. The decorated function is then disparched to the engines using the `map` method that the decorator adds to the class."
   ]
  },
  {
   "cell_type": "code",
   "execution_count": 68,
   "metadata": {
    "collapsed": false
   },
   "outputs": [],
   "source": [
    "@lb_view.parallel(block=True)\n",
    "def abc(y, N, epsilon=[0.2, 0.8]):\n",
    "    \n",
    "    trace = []\n",
    "\n",
    "    while len(trace) < N:\n",
    "\n",
    "        # Simulate from priors\n",
    "        mu = numpy.random.normal(0, 10)\n",
    "        sigma = numpy.random.uniform(0, 20)\n",
    "\n",
    "        x = numpy.random.normal(mu, sigma, 50)\n",
    "\n",
    "        #if (np.linalg.norm(y - x) < epsilon):\n",
    "        if ((abs(x.mean() - y.mean()) < epsilon[0]) &\n",
    "            (abs(x.std() - y.std()) < epsilon[1])):\n",
    "            trace.append([mu, sigma])\n",
    "\n",
    "    return trace"
   ]
  },
  {
   "cell_type": "code",
   "execution_count": 69,
   "metadata": {
    "collapsed": false
   },
   "outputs": [
    {
     "data": {
      "text/plain": [
       "[[[5.02614102218041, 3.0292661301289026],\n",
       "  [3.70785955857188, 2.744451051561947],\n",
       "  [4.406584143504131, 1.6649455363993892],\n",
       "  [4.2048862497888315, 1.9544627011564364],\n",
       "  [3.8731612915585885, 2.7334960303571165],\n",
       "  [4.577021649546617, 1.489766943885087],\n",
       "  [4.59343406850707, 2.7547896192466093],\n",
       "  [4.304444409394333, 1.573043427625953],\n",
       "  [4.208868802788899, 1.681646588875858],\n",
       "  [3.8267577131369084, 1.697749856933699],\n",
       "  [4.209980782063326, 1.4134432619342685],\n",
       "  [4.181183169211455, 1.7962782932649124],\n",
       "  [4.074477369757625, 1.523823365703172],\n",
       "  [4.782208090014215, 1.9349099821274263],\n",
       "  [4.022968814073817, 1.3902550518617085],\n",
       "  [4.096855067980554, 1.9280986527674382],\n",
       "  [4.018024890326915, 1.8512935853137513],\n",
       "  [4.06569768627194, 2.090164662084033],\n",
       "  [4.764618370324228, 2.3886157276285647],\n",
       "  [3.9949480376249036, 1.4613116868207388],\n",
       "  [3.8723985776285814, 1.9380315741963439],\n",
       "  [4.329284303543278, 2.2135522372678795],\n",
       "  [3.8711289168816476, 1.8053947459994824],\n",
       "  [4.313332175583172, 1.3477818537936082],\n",
       "  [4.359373572292372, 1.6371340037661852]],\n",
       " [[4.41381911259941, 1.850274024818408],\n",
       "  [4.249529344582934, 2.4934384991380565],\n",
       "  [3.839879695707242, 2.3689144825725528],\n",
       "  [3.9260147400754546, 2.8467269629267267],\n",
       "  [4.352760472361838, 2.0945665982561623],\n",
       "  [4.53032400406031, 2.012003655633645],\n",
       "  [3.9400305178809347, 1.8415644741348736],\n",
       "  [3.8952530756611594, 2.773806542743218],\n",
       "  [3.8730611784112727, 2.1107408519917747],\n",
       "  [4.201718729577001, 1.4168179102744105],\n",
       "  [5.198592288219234, 1.831191289624674],\n",
       "  [4.739833060121254, 2.6919890511908973],\n",
       "  [4.994753957289468, 2.369438938629236],\n",
       "  [3.9835056902931303, 2.8586560250451054],\n",
       "  [4.393659016817394, 2.310935270983725],\n",
       "  [4.812260978238038, 2.809450260421007],\n",
       "  [4.115835012350037, 1.694149082207188],\n",
       "  [4.734793840585356, 2.4122558825724916],\n",
       "  [4.94872625637176, 1.801662048858883],\n",
       "  [4.700934554317756, 3.9534998549276845],\n",
       "  [4.56996609738302, 1.196908504399281],\n",
       "  [4.139138783165228, 1.3975019624576612],\n",
       "  [4.473044455063908, 1.6482841173329787],\n",
       "  [4.213345125546734, 1.4208889626230992],\n",
       "  [4.392256116782353, 2.382063380538524]],\n",
       " [[4.3106227176179575, 1.203751027179476],\n",
       "  [3.5350259237265518, 2.1736139499594698],\n",
       "  [4.051889074941826, 1.1396505848759997],\n",
       "  [4.335967701740341, 1.1749584495639898],\n",
       "  [4.337435237295209, 2.5489171416395595],\n",
       "  [4.314187720809787, 1.8001718974088576],\n",
       "  [4.836737377390097, 2.362144221227953],\n",
       "  [4.583245538898228, 2.5461433343505457],\n",
       "  [4.185888674350953, 2.257880841018567],\n",
       "  [4.16082902815985, 3.0615186599417377],\n",
       "  [4.478343518931992, 2.059220377385289],\n",
       "  [4.5244616025119395, 2.1829403481526066],\n",
       "  [4.33112318977682, 2.181391786240625],\n",
       "  [3.6517012306562533, 2.9363245689801887],\n",
       "  [4.495938674741796, 1.3102928711115092],\n",
       "  [4.537528084050359, 2.0701303826056483],\n",
       "  [4.450017585676397, 1.5954581003567503],\n",
       "  [4.24419271454948, 1.55885758581636],\n",
       "  [3.6633796458989116, 1.4191581375009465],\n",
       "  [4.095770162077016, 2.086652584889044],\n",
       "  [3.95424814938547, 2.1415840691922594],\n",
       "  [4.317049029655094, 2.374218670682673],\n",
       "  [3.522581475399261, 2.130721982136401],\n",
       "  [4.169207445411761, 2.17394605735155],\n",
       "  [4.044017689522595, 2.1398534843182593]],\n",
       " [[4.4593404969138275, 1.9689859002826782],\n",
       "  [4.313994972757453, 1.3798215084558008],\n",
       "  [4.701639034705882, 2.2682683618285493],\n",
       "  [4.8547559275537155, 1.319639191044728],\n",
       "  [4.338130511091457, 1.330123037245019],\n",
       "  [4.145438507827336, 2.5326408610234163],\n",
       "  [4.339030479835099, 1.706850030290259],\n",
       "  [4.112565180144511, 1.402187324735702],\n",
       "  [4.461725603801775, 2.166777265888906],\n",
       "  [4.4508415604859275, 1.8809600328064335],\n",
       "  [4.308320129941034, 1.8787223283868526],\n",
       "  [3.8477390212606903, 2.186511562383069],\n",
       "  [4.344897020639023, 2.3677953895307735],\n",
       "  [4.636536934135594, 1.6358755696509286],\n",
       "  [4.292316738592569, 1.8671619906588832],\n",
       "  [4.683738196972611, 2.82690100716515],\n",
       "  [4.764610504462017, 2.0582718884364315],\n",
       "  [4.172292117479447, 1.5193626141837901],\n",
       "  [4.403437657251464, 2.38377226332543],\n",
       "  [3.9538197210815014, 2.025882216040946],\n",
       "  [4.287064357942262, 3.0964867512575456],\n",
       "  [4.390844534903057, 1.9367917883410124],\n",
       "  [4.6942569890370995, 2.132131080452906],\n",
       "  [4.388693727639945, 1.0431485640648042],\n",
       "  [4.375670620844742, 1.742585603246436]]]"
      ]
     },
     "execution_count": 69,
     "metadata": {},
     "output_type": "execute_result"
    }
   ],
   "source": [
    "abc.map([y]*4, [25]*4)"
   ]
  },
  {
   "cell_type": "markdown",
   "metadata": {},
   "source": [
    "### Parallel magics\n",
    "\n",
    "The `%px` cell magic is a \"parallel execution\" statement, which will run the code in that cell on all the engines."
   ]
  },
  {
   "cell_type": "code",
   "execution_count": 70,
   "metadata": {
    "collapsed": false
   },
   "outputs": [
    {
     "name": "stdout",
     "output_type": "stream",
     "text": [
      "[stdout:0] 36743\n",
      "[stdout:1] 36744\n",
      "[stdout:2] 36745\n",
      "[stdout:3] 36747\n"
     ]
    }
   ],
   "source": [
    "%%px \n",
    "import os\n",
    "print(os.getpid())"
   ]
  },
  {
   "cell_type": "code",
   "execution_count": 71,
   "metadata": {
    "collapsed": false
   },
   "outputs": [],
   "source": [
    "%px b = numpy.random.random()"
   ]
  },
  {
   "cell_type": "code",
   "execution_count": 72,
   "metadata": {
    "collapsed": false
   },
   "outputs": [
    {
     "data": {
      "text/plain": [
       "\u001b[0;31mOut[0:5]: \u001b[0m0.5582875732519741"
      ]
     },
     "metadata": {},
     "output_type": "display_data"
    },
    {
     "data": {
      "text/plain": [
       "\u001b[0;31mOut[1:5]: \u001b[0m0.765223157058653"
      ]
     },
     "metadata": {},
     "output_type": "display_data"
    },
    {
     "data": {
      "text/plain": [
       "\u001b[0;31mOut[2:5]: \u001b[0m0.33318443656675867"
      ]
     },
     "metadata": {},
     "output_type": "display_data"
    },
    {
     "data": {
      "text/plain": [
       "\u001b[0;31mOut[3:5]: \u001b[0m0.821424626118478"
      ]
     },
     "metadata": {},
     "output_type": "display_data"
    }
   ],
   "source": [
    "%px b"
   ]
  },
  {
   "cell_type": "markdown",
   "metadata": {},
   "source": [
    "`%pxresult` displays the output of the last request:"
   ]
  },
  {
   "cell_type": "code",
   "execution_count": 73,
   "metadata": {
    "collapsed": false
   },
   "outputs": [
    {
     "data": {
      "text/plain": [
       "\u001b[0;31mOut[0:5]: \u001b[0m0.5582875732519741"
      ]
     },
     "metadata": {},
     "output_type": "display_data"
    },
    {
     "data": {
      "text/plain": [
       "\u001b[0;31mOut[1:5]: \u001b[0m0.765223157058653"
      ]
     },
     "metadata": {},
     "output_type": "display_data"
    },
    {
     "data": {
      "text/plain": [
       "\u001b[0;31mOut[2:5]: \u001b[0m0.33318443656675867"
      ]
     },
     "metadata": {},
     "output_type": "display_data"
    },
    {
     "data": {
      "text/plain": [
       "\u001b[0;31mOut[3:5]: \u001b[0m0.821424626118478"
      ]
     },
     "metadata": {},
     "output_type": "display_data"
    }
   ],
   "source": [
    "%pxresult"
   ]
  },
  {
   "cell_type": "markdown",
   "metadata": {},
   "source": [
    "The `%pxconfig` magic allows you to configure blocking for the parallel magics."
   ]
  },
  {
   "cell_type": "code",
   "execution_count": 74,
   "metadata": {
    "collapsed": false
   },
   "outputs": [],
   "source": [
    "# Switch to asynchronous\n",
    "%pxconfig --block"
   ]
  },
  {
   "cell_type": "markdown",
   "metadata": {},
   "source": [
    "Remember that each engine is just another IPython, so anyting you can do in an IPython session you can also do on an engine."
   ]
  },
  {
   "cell_type": "code",
   "execution_count": 75,
   "metadata": {
    "collapsed": false
   },
   "outputs": [
    {
     "name": "stdout",
     "output_type": "stream",
     "text": [
      "[stdout:0] Populating the interactive namespace from numpy and matplotlib\n",
      "[stdout:1] Populating the interactive namespace from numpy and matplotlib\n",
      "[stdout:2] Populating the interactive namespace from numpy and matplotlib\n",
      "[stdout:3] Populating the interactive namespace from numpy and matplotlib\n"
     ]
    },
    {
     "name": "stderr",
     "output_type": "stream",
     "text": [
      "[stderr:0] \n",
      "WARNING: pylab import has clobbered these variables: ['bar']\n",
      "`%matplotlib` prevents importing * from pylab and numpy\n"
     ]
    }
   ],
   "source": [
    "%px %pylab inline"
   ]
  },
  {
   "cell_type": "code",
   "execution_count": 76,
   "metadata": {
    "collapsed": false
   },
   "outputs": [],
   "source": [
    "%px samples = abc(y, 100)"
   ]
  },
  {
   "cell_type": "code",
   "execution_count": 77,
   "metadata": {
    "collapsed": false
   },
   "outputs": [
    {
     "data": {
      "text/plain": [
       "[output:0]"
      ]
     },
     "metadata": {},
     "output_type": "display_data"
    },
    {
     "data": {
      "image/png": "[encoded data removed]",
      "text/plain": [
       "<matplotlib.figure.Figure at 0x1073f5890>"
      ]
     },
     "metadata": {
      "engine": 0
     },
     "output_type": "display_data"
    },
    {
     "data": {
      "text/plain": [
       "[output:1]"
      ]
     },
     "metadata": {},
     "output_type": "display_data"
    },
    {
     "data": {
      "image/png": "[encoded data removed]",
      "text/plain": [
       "<matplotlib.figure.Figure at 0x10e880310>"
      ]
     },
     "metadata": {
      "engine": 1
     },
     "output_type": "display_data"
    },
    {
     "data": {
      "text/plain": [
       "[output:2]"
      ]
     },
     "metadata": {},
     "output_type": "display_data"
    },
    {
     "data": {
      "image/png": "[encoded data removed]",
      "text/plain": [
       "<matplotlib.figure.Figure at 0x10a5a7310>"
      ]
     },
     "metadata": {
      "engine": 2
     },
     "output_type": "display_data"
    },
    {
     "data": {
      "text/plain": [
       "[output:3]"
      ]
     },
     "metadata": {},
     "output_type": "display_data"
    },
    {
     "data": {
      "image/png": "[encoded data removed]",
      "text/plain": [
       "<matplotlib.figure.Figure at 0x112246310>"
      ]
     },
     "metadata": {
      "engine": 3
     },
     "output_type": "display_data"
    }
   ],
   "source": [
    "%%px \n",
    "import os\n",
    "tsamples = numpy.transpose(samples)\n",
    "plt.hist(tsamples[0])\n",
    "plt.hist(tsamples[1])\n",
    "_ = title('PID %i' % os.getpid())"
   ]
  },
  {
   "cell_type": "markdown",
   "metadata": {},
   "source": [
    "For profiling, we can also use the `%timeit` magic to compare performance on the engines:"
   ]
  },
  {
   "cell_type": "code",
   "execution_count": 79,
   "metadata": {
    "collapsed": false
   },
   "outputs": [
    {
     "name": "stdout",
     "output_type": "stream",
     "text": [
      "[stdout:0] 1 loops, best of 3: 471 ms per loop\n",
      "[stdout:1] 1 loops, best of 3: 463 ms per loop\n",
      "[stdout:2] 1 loops, best of 3: 746 ms per loop\n",
      "[stdout:3] 1 loops, best of 3: 430 ms per loop\n"
     ]
    }
   ],
   "source": [
    "%%px\n",
    "%%timeit\n",
    "s = abc(y, 10)"
   ]
  },
  {
   "cell_type": "markdown",
   "metadata": {},
   "source": [
    "## Cython Parallel\n",
    "\n",
    "In order to use Cython in parallel on IPython, we need to load and execute `cythonmagic` on all engines."
   ]
  },
  {
   "cell_type": "code",
   "execution_count": 80,
   "metadata": {
    "collapsed": false
   },
   "outputs": [],
   "source": [
    "%px %load_ext cythonmagic"
   ]
  },
  {
   "cell_type": "markdown",
   "metadata": {},
   "source": [
    "As an example, let's use the Cythonized Gibbs sampler from the last lecture."
   ]
  },
  {
   "cell_type": "code",
   "execution_count": 81,
   "metadata": {
    "collapsed": false
   },
   "outputs": [],
   "source": [
    "%%px\n",
    "%%cython\n",
    "\n",
    "from numpy import zeros, random\n",
    "from numpy cimport *\n",
    "from libc.math cimport sqrt\n",
    "gamma = random.gamma\n",
    "normal = random.normal\n",
    "\n",
    "def gibbs(int N=20000, int thin=200):\n",
    "    cdef: \n",
    "        ndarray[float64_t, ndim=2] mat = zeros((N,2))\n",
    "        float64_t x,y = 0\n",
    "        int i,j\n",
    "    for i in range(N):\n",
    "        for j in range(thin):\n",
    "            x = gamma(3, y**2 + 4)\n",
    "            y = normal(1./(x+1), 1./sqrt(2*(x+1)))\n",
    "        mat[i] = x,y\n",
    "\n",
    "    return mat"
   ]
  },
  {
   "cell_type": "markdown",
   "metadata": {},
   "source": [
    "Divide the array by the number of nodes.  In this case they divide evenly, a more general partitioning of sizes is easy to do as well."
   ]
  },
  {
   "cell_type": "code",
   "execution_count": 82,
   "metadata": {
    "collapsed": false
   },
   "outputs": [
    {
     "data": {
      "text/plain": [
       "[0, 1, 2, 3]"
      ]
     },
     "execution_count": 82,
     "metadata": {},
     "output_type": "execute_result"
    }
   ],
   "source": [
    "cli.ids"
   ]
  },
  {
   "cell_type": "code",
   "execution_count": 83,
   "metadata": {
    "collapsed": false
   },
   "outputs": [
    {
     "data": {
      "text/plain": [
       "[25000, 25000, 25000, 25000]"
      ]
     },
     "execution_count": 83,
     "metadata": {},
     "output_type": "execute_result"
    }
   ],
   "source": [
    "N = 100000\n",
    "thin = 10\n",
    "n = N/len(cli.ids)\n",
    "dv = cli[:]\n",
    "dv.push(dict(n=n, thin=thin))\n",
    "# Let's just confirm visually we got what we expect\n",
    "dv['n']"
   ]
  },
  {
   "cell_type": "markdown",
   "metadata": {},
   "source": [
    "We can time the execution of the gibbs sampler on the remote nodes"
   ]
  },
  {
   "cell_type": "code",
   "execution_count": 84,
   "metadata": {
    "collapsed": false
   },
   "outputs": [],
   "source": [
    "%pxconfig --noblock"
   ]
  },
  {
   "cell_type": "code",
   "execution_count": 85,
   "metadata": {
    "collapsed": false
   },
   "outputs": [
    {
     "name": "stdout",
     "output_type": "stream",
     "text": [
      "100 loops, best of 3: 2.69 ms per loop\n"
     ]
    }
   ],
   "source": [
    "%timeit dv.execute('gibbs(n, thin)')"
   ]
  },
  {
   "cell_type": "markdown",
   "metadata": {},
   "source": [
    "But a more realistic (and costly) benchmark must also include the cost of bringing the results back from the cluster engines to our local namespace.  For that, we assign the call to the variable `a` on each node and then use the view's `gather` method to pull them back in:"
   ]
  },
  {
   "cell_type": "code",
   "execution_count": 86,
   "metadata": {
    "collapsed": false
   },
   "outputs": [
    {
     "name": "stdout",
     "output_type": "stream",
     "text": [
      "100 loops, best of 3: 8.31 ms per loop\n"
     ]
    }
   ],
   "source": [
    "%%timeit\n",
    "dv.execute('a = gibbs(n, thin)')\n",
    "a = dv.gather('a')"
   ]
  },
  {
   "cell_type": "markdown",
   "metadata": {},
   "source": [
    "Let's compare this to the same number of samples executed on a single process:"
   ]
  },
  {
   "cell_type": "code",
   "execution_count": 87,
   "metadata": {
    "collapsed": false
   },
   "outputs": [],
   "source": [
    "%load_ext cythonmagic"
   ]
  },
  {
   "cell_type": "code",
   "execution_count": 88,
   "metadata": {
    "collapsed": false
   },
   "outputs": [],
   "source": [
    "%%cython\n",
    "\n",
    "from libc.math cimport sqrt\n",
    "from numpy import zeros, random\n",
    "from numpy cimport *\n",
    "gamma = random.gamma\n",
    "normal = random.normal\n",
    "\n",
    "def gibbs(int N=20000, int thin=200):\n",
    "    cdef: \n",
    "        ndarray[float64_t, ndim=2] mat = zeros((N,2))\n",
    "        float64_t x,y = 0\n",
    "        int i,j\n",
    "    for i in range(N):\n",
    "        for j in range(thin):\n",
    "            x = gamma(3, y**2 + 4)\n",
    "            y = normal(1./(x+1), 1./sqrt(2*(x+1)))\n",
    "        mat[i] = x,y\n",
    "\n",
    "    return mat"
   ]
  },
  {
   "cell_type": "code",
   "execution_count": 89,
   "metadata": {
    "collapsed": false
   },
   "outputs": [
    {
     "name": "stdout",
     "output_type": "stream",
     "text": [
      "1 loops, best of 3: 1.01 s per loop\n"
     ]
    }
   ],
   "source": [
    "%%timeit \n",
    "a = gibbs(N, thin)"
   ]
  },
  {
   "cell_type": "markdown",
   "metadata": {},
   "source": [
    "## Exercise\n",
    "\n",
    "Run parallel chains of the `disaster_model` example from PyMC and return the resulting traces to your client, for plotting and summarization."
   ]
  },
  {
   "cell_type": "code",
   "execution_count": null,
   "metadata": {
    "collapsed": false
   },
   "outputs": [],
   "source": [
    "# Write your answer here"
   ]
  },
  {
   "cell_type": "markdown",
   "metadata": {},
   "source": [
    "## References\n",
    "\n",
    "[Scientific Python Lectures](http://github.com/jrjohansson/scientific-python-lectures) by Robert Johansson\n",
    "\n",
    "[Using IPython for Parallel Computing](http://ipython.org/ipython-doc/dev/parallel/)"
   ]
  },
  {
   "cell_type": "markdown",
   "metadata": {},
   "source": [
    "---"
   ]
  },
  {
   "cell_type": "code",
   "execution_count": 1,
   "metadata": {
    "collapsed": false
   },
   "outputs": [
    {
     "data": {
      "text/html": [
       "<style>\n",
       "    @font-face {\n",
       "        font-family: \"Computer Modern\";\n",
       "        src: url('http://mirrors.ctan.org/fonts/cm-unicode/fonts/otf/cmunss.otf');\n",
       "    }\n",
       "    div.cell{\n",
       "        width: 90%;\n",
       "/*        margin-left:auto;*/\n",
       "/*        margin-right:auto;*/\n",
       "    }\n",
       "    ul {\n",
       "        line-height: 145%;\n",
       "        font-size: 90%;\n",
       "    }\n",
       "    li {\n",
       "        margin-bottom: 1em;\n",
       "    }\n",
       "    h1 {\n",
       "        font-family: Helvetica, serif;\n",
       "    }\n",
       "    h4{\n",
       "        margin-top: 12px;\n",
       "        margin-bottom: 3px;\n",
       "       }\n",
       "    div.text_cell_render{\n",
       "        font-family: Computer Modern, \"Helvetica Neue\", Arial, Helvetica, Geneva, sans-serif;\n",
       "        line-height: 145%;\n",
       "        font-size: 130%;\n",
       "        width: 90%;\n",
       "        margin-left:auto;\n",
       "        margin-right:auto;\n",
       "    }\n",
       "    .CodeMirror{\n",
       "            font-family: \"Source Code Pro\", source-code-pro,Consolas, monospace;\n",
       "    }\n",
       "/*    .prompt{\n",
       "        display: None;\n",
       "    }*/\n",
       "    .text_cell_render h5 {\n",
       "        font-weight: 300;\n",
       "        font-size: 16pt;\n",
       "        color: #4057A1;\n",
       "        font-style: italic;\n",
       "        margin-bottom: 0.5em;\n",
       "        margin-top: 0.5em;\n",
       "        display: block;\n",
       "    }\n",
       "\n",
       "    .warning{\n",
       "        color: rgb( 240, 20, 20 )\n",
       "        }\n",
       "</style>\n",
       "<script>\n",
       "    MathJax.Hub.Config({\n",
       "                        TeX: {\n",
       "                           extensions: [\"AMSmath.js\"]\n",
       "                           },\n",
       "                tex2jax: {\n",
       "                    inlineMath: [ ['$','$'], [\"\\\\(\",\"\\\\)\"] ],\n",
       "                    displayMath: [ ['$$','$$'], [\"\\\\[\",\"\\\\]\"] ]\n",
       "                },\n",
       "                displayAlign: 'center', // Change this to 'center' to center equations.\n",
       "                \"HTML-CSS\": {\n",
       "                    styles: {'.MathJax_Display': {\"margin\": 4}}\n",
       "                }\n",
       "        });\n",
       "</script>"
      ],
      "text/plain": [
       "<IPython.core.display.HTML object>"
      ]
     },
     "execution_count": 1,
     "metadata": {},
     "output_type": "execute_result"
    }
   ],
   "source": [
    "from IPython.core.display import HTML\n",
    "def css_styling():\n",
    "    styles = open(\"styles/custom.css\", \"r\").read()\n",
    "    \n",
    "    return HTML(styles)\n",
    "css_styling()"
   ]
  }
 ],
 "metadata": {
  "kernelspec": {
   "display_name": "Python 3",
   "language": "python",
   "name": "python3"
  }
 },
 "nbformat": 4,
 "nbformat_minor": 0
}
