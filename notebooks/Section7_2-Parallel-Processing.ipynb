{
 "metadata": {
  "kernelspec": {
   "codemirror_mode": {
    "name": "ipython",
    "version": 2
   },
   "display_name": "IPython (Python 2)",
   "language": "python",
   "name": "python2"
  },
  "name": "",
  "signature": "sha256:e9b34754e835689133adb6a90839080dbad3b694fea185d2b40a637868afc98b"
 },
 "nbformat": 3,
 "nbformat_minor": 0,
 "worksheets": [
  {
   "cells": [
    {
     "cell_type": "markdown",
     "metadata": {},
     "source": [
      "# Parallel Processing in Python\n",
      "\n",
      "An obvious way to improve the performance of Python code is to make it run in parallel. Any relatively new computer will have multiple cores, which means that several processors can operate on the same data stored on memory. However, most of the code we have written in the course so far does not take advantage of more than one of them. In addition there is now widespread availability of computing clusters, such as [those offered for use by Amazon](http://aws.amazon.com/ec2/) (Vanderbilt also has [its own cluster](http://www.accre.vanderbilt.edu)). Clusters allow several computers to work together by exchanging data over a network.\n",
      "\n",
      "Parallel computing involves breaking a task into several independent sub-tasks, distributing these sub-tasks to available processors or computers, then coordinating the execution of these tasks and combining their outputs in an appropriate way.\n",
      "\n",
      "There are several different models for parallel processing, including:\n",
      "\n",
      "* **Message passing**: processes or other program components running in parallel communicate by sending and receiving messages, which allows for easy synchronization. \n",
      "* **Multi-threading**: within a single process, some architectures allow for the existence of several \"threads\", which execute independently, though they share the memory and state of the process in which they reside. Multi-threading is good for increasing *throughput* and reducing *latency*.\n",
      "* **Task farming**: a master process delegates independent calculations to available processors (task farm), and collects their outputs when complete.\n",
      "* **Single program, multiple data (SPMD)** Probably the most common type of parallel processing, in which tasks are split up and run simultaneously on multiple processors with different input in order to obtain results faster. All tasks execute their copy of the same program simultaneously.\n",
      "* **Multiple program, multiple data (MPMD)** Like SPMD, except each task may be executing a different program."
     ]
    },
    {
     "cell_type": "markdown",
     "metadata": {},
     "source": [
      "## `multiprocessing`\n",
      "\n",
      "The simplest way (though probably not the best) for performing parallel computing in Python is via the built-in process-based library for concurrent computing, called `multiprocessing`. "
     ]
    },
    {
     "cell_type": "code",
     "collapsed": false,
     "input": [
      "import multiprocessing\n",
      "import os\n",
      "import numpy as np"
     ],
     "language": "python",
     "metadata": {},
     "outputs": [],
     "prompt_number": 1
    },
    {
     "cell_type": "markdown",
     "metadata": {},
     "source": [
      "The `multiprocessing` module parallelizes by launching multiple *processes*, each with a seperate interpretor. You may have already heard about *threads*. Processes and threads are not the same:\n",
      "\n",
      "* processes are independent of one another, each having their own state, memory and address spaces\n",
      "* threads share resources, and are therefore interdependent; they are subunits of the same process\n",
      "\n",
      "Since processes are independent, they now have independent Global Interpreter Locks (GILs),  its best to run multiprocessing on multiple CPUs. You can check how many you have on your machine:"
     ]
    },
    {
     "cell_type": "code",
     "collapsed": false,
     "input": [
      "multiprocessing.cpu_count()"
     ],
     "language": "python",
     "metadata": {},
     "outputs": [
      {
       "metadata": {},
       "output_type": "pyout",
       "prompt_number": 2,
       "text": [
        "4"
       ]
      }
     ],
     "prompt_number": 2
    },
    {
     "cell_type": "markdown",
     "metadata": {},
     "source": [
      "### `Process` class\n",
      "\n",
      "The `Process` class encapsulates a task running in a process. It will usually have a `target` argument that is some callable (function/method) that is executed when the process runs, along with optional arguments that can be passed to the target.\n",
      "\n",
      "A `Process` has several methods, with some useful ones being:\n",
      "\n",
      "* `is_alive`: Returns `True` if the process is running.\n",
      "* `join`: Waits for the process to finish its work and terminate. An optional `timeout` argument can be passed.\n",
      "* `run`: When the process starts, this method is called to invoke the `target`.\n",
      "* `terminate`: Kills the process forcibly, without any cleanup.\n",
      "\n",
      "A `Process` also has several other non-callable attributes, such as `pid`, `name` and `authkey`.\n",
      "\n",
      "Here is a trivial example of using the `Process` class, showing that each has its own process ID."
     ]
    },
    {
     "cell_type": "code",
     "collapsed": false,
     "input": [
      "import os\n",
      "\n",
      "def job(n):\n",
      "    print('I am working on job {0} running on PID {1}'.format(n, os.getpid()))\n",
      "\n",
      "jobs = []\n",
      "for i in range(5):\n",
      "    p = multiprocessing.Process(target=job, args=(i,))\n",
      "    jobs.append(p)\n",
      "    p.start()"
     ],
     "language": "python",
     "metadata": {},
     "outputs": [],
     "prompt_number": 3
    },
    {
     "cell_type": "code",
     "collapsed": false,
     "input": [
      "jobs"
     ],
     "language": "python",
     "metadata": {},
     "outputs": [
      {
       "output_type": "stream",
       "stream": "stdout",
       "text": [
        "I am working on job 0 running on PID 15051\n",
        "I am working on job 4 running on PID 15055\n",
        "I am working on job 1 running on PID 15052\n",
        "I am working on job 2 running on PID 15053\n",
        "I am working on job 3 running on PID 15054\n"
       ]
      },
      {
       "metadata": {},
       "output_type": "pyout",
       "prompt_number": 4,
       "text": [
        "[<Process(Process-1, stopped)>,\n",
        " <Process(Process-2, stopped)>,\n",
        " <Process(Process-3, stopped)>,\n",
        " <Process(Process-4, stopped)>,\n",
        " <Process(Process-5, stopped)>]"
       ]
      }
     ],
     "prompt_number": 4
    },
    {
     "cell_type": "markdown",
     "metadata": {},
     "source": [
      "We can easily subclass `Process` to our liking:"
     ]
    },
    {
     "cell_type": "code",
     "collapsed": false,
     "input": [
      "class FibProcess(multiprocessing.Process):\n",
      "    \n",
      "    def __init__(self, n):\n",
      "        self.n = n\n",
      "        multiprocessing.Process.__init__(self)\n",
      "        \n",
      "    def run(self):\n",
      "        a, b = 0, 1\n",
      "        for i in range(self.n):\n",
      "            a, b = b, a + b"
     ],
     "language": "python",
     "metadata": {},
     "outputs": [],
     "prompt_number": 5
    },
    {
     "cell_type": "code",
     "collapsed": false,
     "input": [
      "p = FibProcess(10000)\n",
      "p.start()\n",
      "print(p.pid)\n",
      "p.join()\n",
      "print(p.exitcode)"
     ],
     "language": "python",
     "metadata": {},
     "outputs": [
      {
       "output_type": "stream",
       "stream": "stdout",
       "text": [
        "15056\n",
        "0\n"
       ]
      }
     ],
     "prompt_number": 6
    },
    {
     "cell_type": "markdown",
     "metadata": {},
     "source": [
      "### `Queue` class\n",
      "\n",
      "Of course, despite being independent, we would like our processes to communicate with one another, for example, to share data. One way to facilitate this in `multiprocessing` is via the `Queue` class, a thread/process safe, first-in-first-out (FIFO) data structure that can store any serializable Python object.\n",
      "\n",
      "A `Queue`'s important methods include:\n",
      "\n",
      "* `put`: Adds item to `Queue`.\n",
      "* `get`: Fetches next item from `Queue`.\n",
      "* `close`: Closes the `Queue`, preventing the addition of more data.\n",
      "* `empty`: Returns True if the `Queue` is empty.\n",
      "* `full`: Returns True if full.\n",
      "* `qsize`: Retuns approximate current number of items in `Queue`.\n",
      "\n",
      "A subclass of `Queue` is the `JoinableQueue`, which has additional methods, notably `join`, which waits until all the items have been processed, blocking the addition of new items.\n"
     ]
    },
    {
     "cell_type": "code",
     "collapsed": false,
     "input": [
      "from multiprocessing import Queue\n",
      "\n",
      "q = Queue()\n",
      "\n",
      "q.put(-1)\n",
      "q.put('foobar')\n",
      "q.put(5)\n",
      "\n",
      "print(q.get())\n",
      "print(q.get())"
     ],
     "language": "python",
     "metadata": {},
     "outputs": [
      {
       "output_type": "stream",
       "stream": "stdout",
       "text": [
        "-1\n",
        "foobar\n"
       ]
      }
     ],
     "prompt_number": 7
    },
    {
     "cell_type": "code",
     "collapsed": false,
     "input": [
      "def consumer(q):\n",
      "    while True:\n",
      "        thing = q.get()\n",
      "        if thing is None:\n",
      "            break\n",
      "        print('Consuming {}'.format(thing))\n",
      "    print(\"\\nFinished consuming\")\n",
      "    \n",
      "def producer(sequence, q):\n",
      "    for thing in sequence:\n",
      "        q.put(thing)\n",
      "        \n",
      "queue = multiprocessing.Queue()\n",
      "\n",
      "consumer_process = multiprocessing.Process(target=consumer, args=[queue])\n",
      "consumer_process.start()\n",
      "\n",
      "stuff = [42, 'foobar', True, range(5)]\n",
      "producer(stuff, queue)\n",
      "\n",
      "queue.put(None)\n",
      "consumer_process.join()"
     ],
     "language": "python",
     "metadata": {},
     "outputs": [
      {
       "output_type": "stream",
       "stream": "stdout",
       "text": [
        "Consuming 42\n",
        "Consuming foobar\n",
        "Consuming True\n",
        "Consuming [0, 1, 2, 3, 4]\n",
        "\n",
        "Finished consuming\n"
       ]
      }
     ],
     "prompt_number": 11
    },
    {
     "cell_type": "markdown",
     "metadata": {},
     "source": [
      "Two things to be aware of:\n",
      "\n",
      "1. if you `terminate` a process that is still accessing a queue, the queue may become corrupted\n",
      "2. you should make sure that any queue to which a given process has given data is clear before joining the process, or you will get a deadlock condition\n",
      "\n",
      "### `Pool` class\n",
      "\n",
      "We often have a task that we want to split up among several worker processes in parallel. The `Pool` class creates a number of processes and the methods for passing work to them. A `Pool` has the following key methods:\n",
      "\n",
      "* `apply`: Executes a passed function in a process and returns the result.\n",
      "* `apply_async`: Same as apply, but the result is returned asynchrnously via a *callback*\n",
      "* `map`: A parallel version of `apply`, which splits an iterable of data into chunks and farms chunks out to processes.\n",
      "* `map_async`: Asynchronous `map`."
     ]
    },
    {
     "cell_type": "markdown",
     "metadata": {},
     "source": [
      "### Example: parallel bootstrap\n",
      "\n",
      "As an example, we will choose a statistical computing task that is [*embarassingly parallel*](http://en.wikipedia.org/wiki/Embarrassingly_parallel). This function generates statistics of bootstrapped samples from a dataset."
     ]
    },
    {
     "cell_type": "code",
     "collapsed": false,
     "input": [
      "def bootstrap(data, nsamples, f):\n",
      "    boot_samples = data[np.random.randint(len(data), size=(nsamples, len(data)))]\n",
      "    return [f(s) for s in boot_samples]"
     ],
     "language": "python",
     "metadata": {},
     "outputs": [],
     "prompt_number": 12
    },
    {
     "cell_type": "code",
     "collapsed": false,
     "input": [
      "pool = multiprocessing.Pool(processes=4)"
     ],
     "language": "python",
     "metadata": {},
     "outputs": [],
     "prompt_number": 13
    },
    {
     "cell_type": "code",
     "collapsed": false,
     "input": [
      "some_data = np.random.poisson(4, 25)"
     ],
     "language": "python",
     "metadata": {},
     "outputs": [],
     "prompt_number": 14
    },
    {
     "cell_type": "code",
     "collapsed": false,
     "input": [
      "result = pool.apply_async(bootstrap, (some_data, 1000, np.mean))"
     ],
     "language": "python",
     "metadata": {},
     "outputs": [],
     "prompt_number": 15
    },
    {
     "cell_type": "markdown",
     "metadata": {},
     "source": [
      "The result is an `ApplyResult` object:"
     ]
    },
    {
     "cell_type": "code",
     "collapsed": false,
     "input": [
      "result"
     ],
     "language": "python",
     "metadata": {},
     "outputs": [
      {
       "metadata": {},
       "output_type": "pyout",
       "prompt_number": 16,
       "text": [
        "<multiprocessing.pool.ApplyResult at 0x103021490>"
       ]
      }
     ],
     "prompt_number": 16
    },
    {
     "cell_type": "markdown",
     "metadata": {},
     "source": [
      "We may then want to take the result and calculate a confidence interval based on the quantiles."
     ]
    },
    {
     "cell_type": "code",
     "collapsed": false,
     "input": [
      "bootstrap_ci = lambda boot, alpha=0.05: (boot[np.floor((0.5*alpha)*len(boot))],\n",
      "            boot[np.floor((1.-0.5*alpha)*len(boot))])"
     ],
     "language": "python",
     "metadata": {},
     "outputs": [],
     "prompt_number": 17
    },
    {
     "cell_type": "code",
     "collapsed": false,
     "input": [
      "bootstrap_ci(np.sort(result.get()))"
     ],
     "language": "python",
     "metadata": {},
     "outputs": [
      {
       "metadata": {},
       "output_type": "pyout",
       "prompt_number": 18,
       "text": [
        "(3.04, 4.7999999999999998)"
       ]
      }
     ],
     "prompt_number": 18
    },
    {
     "cell_type": "code",
     "collapsed": false,
     "input": [
      "# Clean up\n",
      "pool.close()\n",
      "pool.join()"
     ],
     "language": "python",
     "metadata": {},
     "outputs": [],
     "prompt_number": 19
    },
    {
     "cell_type": "markdown",
     "metadata": {},
     "source": [
      "But, since we used `Pool.apply`, this is not a parallel task. We need to use `map`."
     ]
    },
    {
     "cell_type": "code",
     "collapsed": false,
     "input": [
      "def mapped_bootstrap(n): \n",
      "    return bootstrap(some_data, n, np.mean)"
     ],
     "language": "python",
     "metadata": {},
     "outputs": [],
     "prompt_number": 20
    },
    {
     "cell_type": "code",
     "collapsed": false,
     "input": [
      "pool = multiprocessing.Pool(processes=4)"
     ],
     "language": "python",
     "metadata": {},
     "outputs": [],
     "prompt_number": 21
    },
    {
     "cell_type": "code",
     "collapsed": false,
     "input": [
      "map_result = pool.map_async(mapped_bootstrap, [250]*4)"
     ],
     "language": "python",
     "metadata": {},
     "outputs": [],
     "prompt_number": 22
    },
    {
     "cell_type": "code",
     "collapsed": false,
     "input": [
      "map_result"
     ],
     "language": "python",
     "metadata": {},
     "outputs": [
      {
       "metadata": {},
       "output_type": "pyout",
       "prompt_number": 23,
       "text": [
        "<multiprocessing.pool.MapResult at 0x10301af50>"
       ]
      }
     ],
     "prompt_number": 23
    },
    {
     "cell_type": "code",
     "collapsed": false,
     "input": [
      "parallel_results = map_result.get()\n",
      "[len(p) for p in parallel_results]"
     ],
     "language": "python",
     "metadata": {},
     "outputs": [
      {
       "metadata": {},
       "output_type": "pyout",
       "prompt_number": 24,
       "text": [
        "[250, 250, 250, 250]"
       ]
      }
     ],
     "prompt_number": 24
    },
    {
     "cell_type": "code",
     "collapsed": false,
     "input": [
      "bootstrap_ci(np.sort(np.ravel(parallel_results)))"
     ],
     "language": "python",
     "metadata": {},
     "outputs": [
      {
       "metadata": {},
       "output_type": "pyout",
       "prompt_number": 25,
       "text": [
        "(3.0800000000000001, 4.7999999999999998)"
       ]
      }
     ],
     "prompt_number": 25
    },
    {
     "cell_type": "code",
     "collapsed": false,
     "input": [
      "pool.close()\n",
      "pool.join()"
     ],
     "language": "python",
     "metadata": {},
     "outputs": [],
     "prompt_number": 26
    },
    {
     "cell_type": "markdown",
     "metadata": {},
     "source": [
      "The multiprocessing package is very useful for highly parallel tasks that do not need to communicate with each other, other than when sending the initial data to the pool of processes and when and collecting the results. "
     ]
    },
    {
     "cell_type": "markdown",
     "metadata": {},
     "source": [
      "## IPython parallel\n",
      "\n",
      "The IPython architecture consists of four components, which reside in the `IPython.parallel` package:\n",
      "\n",
      "1. **Engine** The IPython engine is a Python instance that accepts Python commands over a network connection.  When multiple engines are started, parallel and distributed computing becomes possible. An important property of an IPython engine is that it blocks while user code is being executed. \n",
      "\n",
      "2. **Hub** The hub keeps track of engine connections, schedulers, clients, as well as persist all task requests and results in a database for later use.\n",
      "\n",
      "3. **Schedulers** All actions that can be performed on the engine go through a Scheduler. While the engines themselves block when user code is run, the schedulers hide that from the user to provide a fully asynchronous interface to a set of engines.\n",
      "\n",
      "4. **Client** The primary object for connecting to a cluster.\n",
      "\n",
      "![IPython architecture](images/ipython_architecture.png)\n",
      "(courtesy Min Ragan-Kelley)\n",
      "\n",
      "This architecture is implemented using the \u00d8MQ messaging library and the associated Python bindings in `pyzmq`.\n",
      "\n",
      "## Start your engines!\n",
      "\n",
      "In order to use IPython for parallel computing, you will need to start the IPython\n",
      "controller and two or more IPython engines. The simplest way of doing this is\n",
      "with the [clusters tab](/#tab2), or you can use the `ipcluster` command in a terminal:\n",
      "\n",
      "    $ ipcluster start --n=4\n",
      "\n",
      "This command will start 4 IPython engines on the current host, which is appropriate for many desktop multicore systems. You can also setup IPython clusters that span many nodes in a computing cluster, but this is beyond the scope of this lecture, but you can get more information from \n",
      "[the IPython.parallel docs](http://ipython.org/ipython-doc/dev/parallel/parallel_process.html)..\n",
      "\n",
      "To use the IPython cluster in our Python programs or notebooks, we start by creating an instance of `IPython.parallel.Client`:"
     ]
    },
    {
     "cell_type": "code",
     "collapsed": false,
     "input": [
      "from IPython.parallel import Client"
     ],
     "language": "python",
     "metadata": {},
     "outputs": [],
     "prompt_number": 27
    },
    {
     "cell_type": "code",
     "collapsed": false,
     "input": [
      "cli = Client()"
     ],
     "language": "python",
     "metadata": {},
     "outputs": [
      {
       "output_type": "stream",
       "stream": "stderr",
       "text": [
        "/usr/local/lib/python2.7/site-packages/IPython/parallel/client/client.py:433: RuntimeWarning: \n",
        "            Controller appears to be listening on localhost, but not on this machine.\n",
        "            If this is true, you should specify Client(...,sshserver='you@10.66.117.146')\n",
        "            or instruct your controller to listen on an external IP.\n",
        "  RuntimeWarning)\n"
       ]
      }
     ],
     "prompt_number": 28
    },
    {
     "cell_type": "markdown",
     "metadata": {},
     "source": [
      "This creates a client using the default profile; you can pass an optional `profile=\"my_profile\"` argument if you have a different one running.\n",
      "\n",
      "Using the `ids` attribute we can retreive a list of ids for the IPython engines in the cluster:"
     ]
    },
    {
     "cell_type": "code",
     "collapsed": false,
     "input": [
      "cli.ids"
     ],
     "language": "python",
     "metadata": {},
     "outputs": [
      {
       "metadata": {},
       "output_type": "pyout",
       "prompt_number": 29,
       "text": [
        "[0, 1, 2, 3]"
       ]
      }
     ],
     "prompt_number": 29
    },
    {
     "cell_type": "markdown",
     "metadata": {},
     "source": [
      "We can use a `DirectView` object for execution of tasks, which an be accessed simply by indexing the client:"
     ]
    },
    {
     "cell_type": "code",
     "collapsed": false,
     "input": [
      "dv0 = cli[0]\n",
      "dv0"
     ],
     "language": "python",
     "metadata": {},
     "outputs": [
      {
       "metadata": {},
       "output_type": "pyout",
       "prompt_number": 30,
       "text": [
        "<DirectView 0>"
       ]
      }
     ],
     "prompt_number": 30
    },
    {
     "cell_type": "markdown",
     "metadata": {},
     "source": [
      "The above shows just a single engine, but we want all of them:"
     ]
    },
    {
     "cell_type": "code",
     "collapsed": false,
     "input": [
      "dview = cli[:]\n",
      "dview"
     ],
     "language": "python",
     "metadata": {},
     "outputs": [
      {
       "metadata": {},
       "output_type": "pyout",
       "prompt_number": 31,
       "text": [
        "<DirectView [0, 1, 2, 3]>"
       ]
      }
     ],
     "prompt_number": 31
    },
    {
     "cell_type": "markdown",
     "metadata": {},
     "source": [
      "We can get a view on whatever combination of engines we want:"
     ]
    },
    {
     "cell_type": "code",
     "collapsed": false,
     "input": [
      "cli[::2]"
     ],
     "language": "python",
     "metadata": {},
     "outputs": [
      {
       "metadata": {},
       "output_type": "pyout",
       "prompt_number": 32,
       "text": [
        "<DirectView [0, 2]>"
       ]
      }
     ],
     "prompt_number": 32
    },
    {
     "cell_type": "code",
     "collapsed": false,
     "input": [
      "cli[1::2]"
     ],
     "language": "python",
     "metadata": {},
     "outputs": [
      {
       "metadata": {},
       "output_type": "pyout",
       "prompt_number": 33,
       "text": [
        "<DirectView [1, 3]>"
       ]
      }
     ],
     "prompt_number": 33
    },
    {
     "cell_type": "markdown",
     "metadata": {},
     "source": [
      "The `block` flag specifies whether to wait for the result, or return an `AsyncResult` object immediately:"
     ]
    },
    {
     "cell_type": "code",
     "collapsed": false,
     "input": [
      "dview.block = True"
     ],
     "language": "python",
     "metadata": {},
     "outputs": [],
     "prompt_number": 34
    },
    {
     "cell_type": "markdown",
     "metadata": {},
     "source": [
      "Finally, since we want to use IPython's parallel magic commands, we set the `DirectView` to be `active`:"
     ]
    },
    {
     "cell_type": "code",
     "collapsed": false,
     "input": [
      "dview.activate()"
     ],
     "language": "python",
     "metadata": {},
     "outputs": [],
     "prompt_number": 35
    },
    {
     "cell_type": "markdown",
     "metadata": {},
     "source": [
      "Each of these engines are ready to execute tasks. We can selectively run code on individual engines. For example, we can simply use `os.getpid` to return the process ID that the engine is running on. Here is the notebook process:"
     ]
    },
    {
     "cell_type": "code",
     "collapsed": false,
     "input": [
      "import os\n",
      "os.getpid()"
     ],
     "language": "python",
     "metadata": {},
     "outputs": [
      {
       "metadata": {},
       "output_type": "pyout",
       "prompt_number": 36,
       "text": [
        "15044"
       ]
      }
     ],
     "prompt_number": 36
    },
    {
     "cell_type": "markdown",
     "metadata": {},
     "source": [
      "Here is a single engine's process ID:"
     ]
    },
    {
     "cell_type": "code",
     "collapsed": false,
     "input": [
      "dv0.apply_sync(os.getpid)"
     ],
     "language": "python",
     "metadata": {},
     "outputs": [
      {
       "metadata": {},
       "output_type": "pyout",
       "prompt_number": 37,
       "text": [
        "15358"
       ]
      }
     ],
     "prompt_number": 37
    },
    {
     "cell_type": "markdown",
     "metadata": {},
     "source": [
      "And here are all the engines, run simultaneously:"
     ]
    },
    {
     "cell_type": "code",
     "collapsed": false,
     "input": [
      "dview.apply_sync(os.getpid)"
     ],
     "language": "python",
     "metadata": {},
     "outputs": [
      {
       "metadata": {},
       "output_type": "pyout",
       "prompt_number": 38,
       "text": [
        "[15358, 15360, 15365, 15366]"
       ]
      }
     ],
     "prompt_number": 38
    },
    {
     "cell_type": "markdown",
     "metadata": {},
     "source": [
      "Let's now consider a useful function that we might want to run in parallel. Here is a version of the approximate Bayesian computing (ABC) algorithm that we have seen in previous lectures."
     ]
    },
    {
     "cell_type": "code",
     "collapsed": false,
     "input": [
      "import numpy\n",
      "\n",
      "def abc(y, N, epsilon=[0.2, 0.8]):\n",
      "    \n",
      "    trace = []\n",
      "\n",
      "    while len(trace) < N:\n",
      "\n",
      "        # Simulate from priors\n",
      "        mu = numpy.random.normal(0, 10)\n",
      "        sigma = numpy.random.uniform(0, 20)\n",
      "\n",
      "        x = numpy.random.normal(mu, sigma, 50)\n",
      "\n",
      "        #if (np.linalg.norm(y - x) < epsilon):\n",
      "        if ((abs(x.mean() - y.mean()) < epsilon[0]) &\n",
      "            (abs(x.std() - y.std()) < epsilon[1])):\n",
      "            trace.append([mu, sigma])\n",
      "\n",
      "    return trace"
     ],
     "language": "python",
     "metadata": {},
     "outputs": [],
     "prompt_number": 56
    },
    {
     "cell_type": "code",
     "collapsed": false,
     "input": [
      "import numpy as np\n",
      "\n",
      "y = np.random.normal(4, 2, 50)"
     ],
     "language": "python",
     "metadata": {},
     "outputs": [],
     "prompt_number": 57
    },
    {
     "cell_type": "markdown",
     "metadata": {},
     "source": [
      "Let's try running this on one of the cluster engines:"
     ]
    },
    {
     "cell_type": "code",
     "collapsed": false,
     "input": [
      "dv0.block = True\n",
      "dv0.apply(abc, y, 10)"
     ],
     "language": "python",
     "metadata": {},
     "outputs": [
      {
       "metadata": {},
       "output_type": "pyout",
       "prompt_number": 58,
       "text": [
        "[[3.4905303589850103, 2.067210232402441],\n",
        " [3.654066532496158, 1.3561016357247357],\n",
        " [4.769209254273974, 3.2114938925960024],\n",
        " [4.555670062828533, 3.50894226663651],\n",
        " [3.5440425846554073, 1.6693486123633727],\n",
        " [3.3261466887922704, 2.027812670834388],\n",
        " [3.677896602361928, 2.7203932346205772],\n",
        " [3.1292463504370165, 1.449848840214183],\n",
        " [3.672416867335933, 2.2899346251821617],\n",
        " [3.604860359205262, 1.7541173536597432]]"
       ]
      }
     ],
     "prompt_number": 58
    },
    {
     "cell_type": "markdown",
     "metadata": {},
     "source": [
      "This fails with a `NameError` because NumPy has not been imported on the engine to which we sent the task. Each engine has its own namespace, so we need to import whatever modules we will need  prior to running our code:"
     ]
    },
    {
     "cell_type": "code",
     "collapsed": false,
     "input": [
      "cli[0].execute(\"import numpy as np\")"
     ],
     "language": "python",
     "metadata": {},
     "outputs": [
      {
       "metadata": {},
       "output_type": "pyout",
       "prompt_number": 59,
       "text": [
        "<AsyncResult: execute>"
       ]
      }
     ],
     "prompt_number": 59
    },
    {
     "cell_type": "code",
     "collapsed": false,
     "input": [
      "dv0.apply(abc, y, 10)"
     ],
     "language": "python",
     "metadata": {},
     "outputs": [
      {
       "metadata": {},
       "output_type": "pyout",
       "prompt_number": 60,
       "text": [
        "[[3.985077673004807, 2.2487181275543033],\n",
        " [2.8475051294101266, 2.3827202996168606],\n",
        " [3.177871848047738, 1.8846485685179237],\n",
        " [3.394115750050137, 1.9936846470066127],\n",
        " [3.3849341861987985, 1.9371190084202206],\n",
        " [3.9127067957247337, 2.855707704803303],\n",
        " [3.8580590413589553, 2.5120600186629805],\n",
        " [3.368199487151019, 1.9929987244568048],\n",
        " [3.935194565345847, 1.6594202533892233],\n",
        " [3.7463244916927763, 2.217593117321417]]"
       ]
      }
     ],
     "prompt_number": 60
    },
    {
     "cell_type": "markdown",
     "metadata": {},
     "source": [
      "A more efficient way is to simultaneously import modules into the local and the engine namespaces simultaneously, using a context manager:"
     ]
    },
    {
     "cell_type": "code",
     "collapsed": false,
     "input": [
      "with dview.sync_imports():\n",
      "    import numpy"
     ],
     "language": "python",
     "metadata": {},
     "outputs": [
      {
       "output_type": "stream",
       "stream": "stdout",
       "text": [
        "importing numpy on engine(s)\n"
       ]
      }
     ],
     "prompt_number": 61
    },
    {
     "cell_type": "code",
     "collapsed": false,
     "input": [
      "t = dview.apply(abc, y, 10)"
     ],
     "language": "python",
     "metadata": {},
     "outputs": [],
     "prompt_number": 62
    },
    {
     "cell_type": "markdown",
     "metadata": {},
     "source": [
      "Easier yet, you can use the parallel cell magic to import everywhere:"
     ]
    },
    {
     "cell_type": "code",
     "collapsed": false,
     "input": [
      "%%px\n",
      "import numpy"
     ],
     "language": "python",
     "metadata": {},
     "outputs": [],
     "prompt_number": 63
    },
    {
     "cell_type": "markdown",
     "metadata": {},
     "source": [
      "You can also use the `require` decorator for functions that you wish to use on engines."
     ]
    },
    {
     "cell_type": "code",
     "collapsed": false,
     "input": [
      "from IPython.parallel import require\n",
      "\n",
      "@require(\"numpy\")\n",
      "def abc(y, N, epsilon=[0.2, 0.8]):\n",
      "\n",
      "    trace = []\n",
      "\n",
      "    while len(trace) < N:\n",
      "\n",
      "        # Simulate from priors\n",
      "        mu = numpy.random.normal(0, 10)\n",
      "        sigma = numpy.random.uniform(0, 20)\n",
      "\n",
      "        x = numpy.random.normal(mu, sigma, 50)\n",
      "\n",
      "        #if (np.linalg.norm(y - x) < epsilon):\n",
      "        if ((abs(x.mean() - y.mean()) < epsilon[0]) &\n",
      "            (abs(x.std() - y.std()) < epsilon[1])):\n",
      "            trace.append([mu, sigma])\n",
      "\n",
      "    return trace"
     ],
     "language": "python",
     "metadata": {},
     "outputs": [],
     "prompt_number": 64
    },
    {
     "cell_type": "markdown",
     "metadata": {},
     "source": [
      "A simple way to run code on an engine is via the `execute` method:"
     ]
    },
    {
     "cell_type": "code",
     "collapsed": false,
     "input": [
      "dv0.execute('x=3')"
     ],
     "language": "python",
     "metadata": {},
     "outputs": [
      {
       "metadata": {},
       "output_type": "pyout",
       "prompt_number": 65,
       "text": [
        "<AsyncResult: finished>"
       ]
      }
     ],
     "prompt_number": 65
    },
    {
     "cell_type": "code",
     "collapsed": false,
     "input": [
      "dv0['x']"
     ],
     "language": "python",
     "metadata": {},
     "outputs": [
      {
       "metadata": {},
       "output_type": "pyout",
       "prompt_number": 66,
       "text": [
        "3"
       ]
      }
     ],
     "prompt_number": 66
    },
    {
     "cell_type": "markdown",
     "metadata": {},
     "source": [
      "### Data transfer\n",
      "\n",
      "We will often want to send data to our engines, or retrieve objects from them. `DirectView` has `push` and `pull` methods for achieving this.\n",
      "\n",
      "Recall that Python namespaces are just dictionaries. So, we can update an engine's namespace by pushing a dictionary:"
     ]
    },
    {
     "cell_type": "code",
     "collapsed": false,
     "input": [
      "dv0.push({'foo': -3, 'bar': np.arange(10)})"
     ],
     "language": "python",
     "metadata": {},
     "outputs": [],
     "prompt_number": 67
    },
    {
     "cell_type": "code",
     "collapsed": false,
     "input": [
      "dv0.pull(('x', 'bar'))"
     ],
     "language": "python",
     "metadata": {},
     "outputs": [
      {
       "metadata": {},
       "output_type": "pyout",
       "prompt_number": 68,
       "text": [
        "[3, array([0, 1, 2, 3, 4, 5, 6, 7, 8, 9])]"
       ]
      }
     ],
     "prompt_number": 68
    },
    {
     "cell_type": "markdown",
     "metadata": {},
     "source": [
      "Additionally, `DirectView` objects also have `scatter` and `gather` methods, to distribute data among engines. `scatter` accepts any container or Numpy `array` type, while `gather` assembles the respective return objects in the Client."
     ]
    },
    {
     "cell_type": "code",
     "collapsed": false,
     "input": [
      "# Some Gaussian data\n",
      "y"
     ],
     "language": "python",
     "metadata": {},
     "outputs": [
      {
       "metadata": {},
       "output_type": "pyout",
       "prompt_number": 69,
       "text": [
        "array([ 3.17736283,  5.08046458,  5.41770677,  5.53674432,  2.02491427,\n",
        "        4.62786732,  4.67142453,  2.33657657,  6.38691195,  0.76577138,\n",
        "        4.86088371,  5.81798019,  5.31610624,  3.58121021,  3.72003428,\n",
        "        1.64345469,  3.87249724,  5.41306248,  0.99073153,  3.15258818,\n",
        "        2.5548766 ,  3.14703345,  3.63959636,  3.09062221, -1.74380425,\n",
        "        3.36785588,  5.70242266,  0.29872851,  4.90547419,  5.32000761,\n",
        "        6.88631788,  5.10460748,  5.13808209, -0.79491113,  0.8891627 ,\n",
        "        6.45959887,  0.29809579,  5.64768865,  2.87530766,  2.2028753 ,\n",
        "        2.04098951,  4.97140649,  2.36633557,  3.0840214 ,  3.81745844,\n",
        "        7.87265001,  0.97676495,  6.35925856,  3.23955993,  0.19391006])"
       ]
      }
     ],
     "prompt_number": 69
    },
    {
     "cell_type": "code",
     "collapsed": false,
     "input": [
      "# Send to engines\n",
      "dview.scatter('y', y)\n",
      "dview['y']"
     ],
     "language": "python",
     "metadata": {},
     "outputs": [
      {
       "metadata": {},
       "output_type": "pyout",
       "prompt_number": 70,
       "text": [
        "[array([ 3.17736283,  5.08046458,  5.41770677,  5.53674432,  2.02491427,\n",
        "         4.62786732,  4.67142453,  2.33657657,  6.38691195,  0.76577138,\n",
        "         4.86088371,  5.81798019,  5.31610624]),\n",
        " array([ 3.58121021,  3.72003428,  1.64345469,  3.87249724,  5.41306248,\n",
        "         0.99073153,  3.15258818,  2.5548766 ,  3.14703345,  3.63959636,\n",
        "         3.09062221, -1.74380425,  3.36785588]),\n",
        " array([ 5.70242266,  0.29872851,  4.90547419,  5.32000761,  6.88631788,\n",
        "         5.10460748,  5.13808209, -0.79491113,  0.8891627 ,  6.45959887,\n",
        "         0.29809579,  5.64768865]),\n",
        " array([ 2.87530766,  2.2028753 ,  2.04098951,  4.97140649,  2.36633557,\n",
        "         3.0840214 ,  3.81745844,  7.87265001,  0.97676495,  6.35925856,\n",
        "         3.23955993,  0.19391006])]"
       ]
      }
     ],
     "prompt_number": 70
    },
    {
     "cell_type": "code",
     "collapsed": false,
     "input": [
      "# Remote execution of function\n",
      "dview.execute('sum_y = sum(y)')"
     ],
     "language": "python",
     "metadata": {},
     "outputs": [
      {
       "metadata": {},
       "output_type": "pyout",
       "prompt_number": 71,
       "text": [
        "<AsyncResult: finished>"
       ]
      }
     ],
     "prompt_number": 71
    },
    {
     "cell_type": "code",
     "collapsed": false,
     "input": [
      "# Aggregation on client\n",
      "sum(dview.gather('sum_y'))"
     ],
     "language": "python",
     "metadata": {},
     "outputs": [
      {
       "metadata": {},
       "output_type": "pyout",
       "prompt_number": 72,
       "text": [
        "178.30628672099328"
       ]
      }
     ],
     "prompt_number": 72
    },
    {
     "cell_type": "markdown",
     "metadata": {},
     "source": [
      "The `map` method essentially combines `scatter` and `gather` into a single call:"
     ]
    },
    {
     "cell_type": "code",
     "collapsed": false,
     "input": [
      "dview.map(lambda x: sum(x**2), np.split(y, 5))"
     ],
     "language": "python",
     "metadata": {},
     "outputs": [
      {
       "metadata": {},
       "output_type": "pyout",
       "prompt_number": 73,
       "text": [
        "[190.09212033295259,\n",
        " 170.32057594263281,\n",
        " 138.58614867205154,\n",
        " 188.13249249594085,\n",
        " 172.46944884852883]"
       ]
      }
     ],
     "prompt_number": 73
    },
    {
     "cell_type": "markdown",
     "metadata": {},
     "source": [
      "### Load balancing\n",
      "\n",
      "The `DirectView` objects we have used so far strictly allocate particular tasks to particular engines. This is often inefficient, when tasks take variable amounts of time, leaving some engines idle while some are overworked. We can use a **load balanced** view to distribute memory approximately equally among engines, to minimize idle time."
     ]
    },
    {
     "cell_type": "code",
     "collapsed": false,
     "input": [
      "lb_view = cli.load_balanced_view()\n",
      "lb_view"
     ],
     "language": "python",
     "metadata": {},
     "outputs": [
      {
       "metadata": {},
       "output_type": "pyout",
       "prompt_number": 74,
       "text": [
        "<LoadBalancedView None>"
       ]
      }
     ],
     "prompt_number": 74
    },
    {
     "cell_type": "markdown",
     "metadata": {},
     "source": [
      "A `LoadBalancedView`, though it works with all the engines (or specified subsets of engines), behaves as if it is working with a single engine.\n",
      "\n",
      "If you do not specify the engines when the `LoadBalancedView` is created, it will use all the engines that are available when it assigns tasks."
     ]
    },
    {
     "cell_type": "code",
     "collapsed": false,
     "input": [
      "for i in range(10):\n",
      "    pid = lb_view.apply_sync(os.getpid)\n",
      "    print('Task {0} ran on process {1}'.format(i, pid))"
     ],
     "language": "python",
     "metadata": {},
     "outputs": [
      {
       "output_type": "stream",
       "stream": "stdout",
       "text": [
        "Task 0 ran on process 15365\n",
        "Task 1 ran on process 15366\n",
        "Task 2 ran on process 15360\n",
        "Task 3 ran on process 15358\n",
        "Task 4 ran on process 15365\n",
        "Task 5 ran on process 15366\n",
        "Task 6 ran on process 15360\n",
        "Task 7 ran on process 15358\n",
        "Task 8 ran on process 15365\n",
        "Task 9 ran on process 15366\n"
       ]
      }
     ],
     "prompt_number": 75
    },
    {
     "cell_type": "code",
     "collapsed": false,
     "input": [
      "%%px\n",
      "\n",
      "def abc(y, N, epsilon=[0.2, 0.8]):\n",
      "\n",
      "    trace = []\n",
      "\n",
      "    while len(trace) < N:\n",
      "\n",
      "        # Simulate from priors\n",
      "        mu = numpy.random.normal(0, 10)\n",
      "        sigma = numpy.random.uniform(0, 20)\n",
      "\n",
      "        x = numpy.random.normal(mu, sigma, 50)\n",
      "\n",
      "        #if (np.linalg.norm(y - x) < epsilon):\n",
      "        if ((abs(x.mean() - y.mean()) < epsilon[0]) &\n",
      "            (abs(x.std() - y.std()) < epsilon[1])):\n",
      "            trace.append([mu, sigma])\n",
      "\n",
      "    return trace"
     ],
     "language": "python",
     "metadata": {},
     "outputs": [],
     "prompt_number": 76
    },
    {
     "cell_type": "code",
     "collapsed": false,
     "input": [
      "tasks = lb_view.map_async(lambda n: abc(y, n), [20]*5)"
     ],
     "language": "python",
     "metadata": {},
     "outputs": [],
     "prompt_number": 77
    },
    {
     "cell_type": "code",
     "collapsed": false,
     "input": [
      "tasks.msg_ids"
     ],
     "language": "python",
     "metadata": {},
     "outputs": [
      {
       "metadata": {},
       "output_type": "pyout",
       "prompt_number": 78,
       "text": [
        "['af092a52-24f8-437e-a193-2811a6699892',\n",
        " '4bcca66e-3c12-4b55-9175-6623a1aaf116',\n",
        " '311e97d9-bad7-4e44-877a-c79a7965b8ae',\n",
        " 'aaa9b590-18d0-4038-b047-1e17c1811032',\n",
        " 'a9da9eee-060f-4e24-88a2-60a2ca0703ec']"
       ]
      }
     ],
     "prompt_number": 78
    },
    {
     "cell_type": "code",
     "collapsed": false,
     "input": [
      "result = np.concatenate(tasks.get())\n",
      "result[:10]"
     ],
     "language": "python",
     "metadata": {},
     "outputs": [
      {
       "metadata": {},
       "output_type": "pyout",
       "prompt_number": 79,
       "text": [
        "array([[ 2.80223063,  1.44507749],\n",
        "       [ 2.7902949 ,  1.84365687],\n",
        "       [ 3.04371943,  1.39765819],\n",
        "       [ 2.76422579,  1.72452846],\n",
        "       [ 3.26425959,  1.41338032],\n",
        "       [ 2.7720327 ,  1.52638037],\n",
        "       [ 2.63579428,  1.51979835],\n",
        "       [ 2.41919496,  2.45533244],\n",
        "       [ 3.07355229,  1.55046634],\n",
        "       [ 2.70806998,  1.91768823]])"
       ]
      }
     ],
     "prompt_number": 79
    },
    {
     "cell_type": "markdown",
     "metadata": {},
     "source": [
      "Another way that you can dispatch tasks to engines is via the `parallel` decorator. This decorator is a method of the `DirectView` class that controls our engine pool. The decorated function is then disparched to the engines using the `map` method that the decorator adds to the class."
     ]
    },
    {
     "cell_type": "code",
     "collapsed": false,
     "input": [
      "@lb_view.parallel(block=True)\n",
      "def abc(y, N, epsilon=[0.2, 0.8]):\n",
      "\n",
      "    trace = []\n",
      "\n",
      "    while len(trace) < N:\n",
      "\n",
      "        # Simulate from priors\n",
      "        mu = numpy.random.normal(0, 10)\n",
      "        sigma = numpy.random.uniform(0, 20)\n",
      "\n",
      "        x = numpy.random.normal(mu, sigma, 50)\n",
      "\n",
      "        #if (np.linalg.norm(y - x) < epsilon):\n",
      "        if ((abs(x.mean() - y.mean()) < epsilon[0]) &\n",
      "            (abs(x.std() - y.std()) < epsilon[1])):\n",
      "            trace.append([mu, sigma])\n",
      "\n",
      "    return trace"
     ],
     "language": "python",
     "metadata": {},
     "outputs": [],
     "prompt_number": 80
    },
    {
     "cell_type": "code",
     "collapsed": false,
     "input": [
      "abc.map([y]*4, [25]*4)"
     ],
     "language": "python",
     "metadata": {},
     "outputs": [
      {
       "metadata": {},
       "output_type": "pyout",
       "prompt_number": 82,
       "text": [
        "[[[3.1271299073539116, 2.8636618236524614],\n",
        "  [3.4143529988434023, 1.8168259438527246],\n",
        "  [3.63031505059301, 2.266430270416502],\n",
        "  [3.0538710947428327, 2.1770614836553115],\n",
        "  [3.906535611795195, 2.456953151465888],\n",
        "  [4.232816642142623, 1.914781727196535],\n",
        "  [3.936717495755121, 2.976624414701694],\n",
        "  [3.767642842506411, 2.612279158146813],\n",
        "  [3.5355474804116716, 2.08561683737827],\n",
        "  [3.370341942673245, 2.0997646678706827],\n",
        "  [3.301493811122481, 2.879582613480902],\n",
        "  [3.2575554931105573, 1.9540254369359955],\n",
        "  [3.3772605067427186, 2.0251640513347513],\n",
        "  [2.979438985733167, 2.6025558606562726],\n",
        "  [3.2813000109769415, 2.915920704584347],\n",
        "  [3.978402109953316, 1.5439277722529754],\n",
        "  [3.420708856115764, 2.515158788789287],\n",
        "  [2.9117374525283197, 2.4255170828617123],\n",
        "  [3.2445770110704752, 1.852200845190306],\n",
        "  [3.414545797997512, 2.63805505000394],\n",
        "  [4.068167158379916, 2.1417915807166676],\n",
        "  [3.6401520174949393, 1.1518467684928368],\n",
        "  [3.4525967126294543, 1.776047366817406],\n",
        "  [3.540797986878573, 2.444443603401194],\n",
        "  [3.812813003668189, 2.193818136581769]],\n",
        " [[3.459340228773689, 2.098370234141451],\n",
        "  [3.6454442453593554, 1.786187620115458],\n",
        "  [3.3627632047579232, 1.9592434763841804],\n",
        "  [2.8657929252684564, 2.525205060184359],\n",
        "  [3.003472003984605, 1.944874166979138],\n",
        "  [3.21289603283254, 2.52819650954347],\n",
        "  [3.532476440056328, 1.6473343048394473],\n",
        "  [3.1291799438510632, 1.3617799010117482],\n",
        "  [3.211684089263444, 2.6879714633459284],\n",
        "  [2.883234402471537, 2.270286312375571],\n",
        "  [2.8009858863533372, 2.4727360566135315],\n",
        "  [3.9599799114279914, 2.8535327611331507],\n",
        "  [4.040853634375311, 2.284732224502146],\n",
        "  [3.7501051395568643, 2.5491268820978163],\n",
        "  [4.511434501377541, 3.0435081932841723],\n",
        "  [3.2681792127617886, 2.8165512857806796],\n",
        "  [3.5720609023105547, 1.6616936565741836],\n",
        "  [3.9385988487167323, 2.260888458933319],\n",
        "  [3.576393915708974, 2.3372488915221368],\n",
        "  [3.38524313254081, 2.322405385164792],\n",
        "  [3.444994826328366, 2.779085856341381],\n",
        "  [3.6588820801285187, 1.4571055986021464],\n",
        "  [3.081004958631663, 2.4434433344848783],\n",
        "  [3.7994384734310493, 1.8665505001064675],\n",
        "  [3.4162364873797295, 2.558302119002136]],\n",
        " [[3.954975078011497, 1.3231406198614448],\n",
        "  [3.954922986947001, 1.9786838070096868],\n",
        "  [3.853978108067419, 2.2846950275855393],\n",
        "  [4.544562504361027, 2.887529804544564],\n",
        "  [3.0093351441800884, 2.361566085921516],\n",
        "  [3.652610919133883, 1.551542278136817],\n",
        "  [3.6161201985051967, 2.287410840702042],\n",
        "  [3.3619745542248545, 1.8340252543530822],\n",
        "  [2.9602634377158035, 1.6125197516530143],\n",
        "  [3.237804794694352, 2.1991653825778434],\n",
        "  [3.439551772404803, 1.3292883519172305],\n",
        "  [4.2508076175196114, 2.3668046533641984],\n",
        "  [4.064790446707814, 2.638165185222252],\n",
        "  [3.4134483706237373, 2.749975200403212],\n",
        "  [3.95342380250763, 2.36573103005866],\n",
        "  [3.418366058643638, 1.4966353890082784],\n",
        "  [3.5948603494642963, 2.3894750722426195],\n",
        "  [3.2984532402921434, 3.324932989873932],\n",
        "  [3.649128381517732, 2.010570002181875],\n",
        "  [3.7050279691573165, 2.9217004803465674],\n",
        "  [3.6820501354132933, 2.14744985280257],\n",
        "  [3.3016209847678257, 2.262157239873035],\n",
        "  [2.7873711580329963, 2.9122075668717606],\n",
        "  [4.009674428052696, 2.465643395489643],\n",
        "  [3.1654091516844596, 1.9534974856473974]],\n",
        " [[3.8534898139294715, 2.360930912539929],\n",
        "  [3.6430557765613885, 1.6695735659647704],\n",
        "  [3.7155398043620833, 2.4847861936334104],\n",
        "  [3.2520880397780445, 2.3824128327774408],\n",
        "  [3.4808921851647994, 1.3458880641915205],\n",
        "  [3.134649140192174, 3.1311834417670825],\n",
        "  [3.146735177274465, 2.3726901463361405],\n",
        "  [3.7313945498654535, 2.3813103157119864],\n",
        "  [3.8500382171345064, 1.8493171018557986],\n",
        "  [3.776090381236756, 3.0057948253857214],\n",
        "  [4.051490483411523, 1.907067968558669],\n",
        "  [3.2616373106683003, 1.8099603651993679],\n",
        "  [3.6931068456853406, 2.399378400645449],\n",
        "  [3.344355709444981, 2.732619641460816],\n",
        "  [3.2182972641146605, 3.1308782207029706],\n",
        "  [3.0861974233186897, 1.6113667320759495],\n",
        "  [3.751170393455174, 1.852088142037227],\n",
        "  [2.4986558156802103, 2.2340687709037477],\n",
        "  [3.6312355995237637, 2.7008384190857915],\n",
        "  [3.6694737998049476, 1.546387742994615],\n",
        "  [3.956596414092979, 2.788449527618835],\n",
        "  [3.662897879045463, 1.8356173159118594],\n",
        "  [4.039024340385819, 3.187974307739976],\n",
        "  [3.501879880703264, 2.1977880951445306],\n",
        "  [3.190573698565948, 2.5008063249044743]]]"
       ]
      }
     ],
     "prompt_number": 82
    },
    {
     "cell_type": "markdown",
     "metadata": {},
     "source": [
      "### Parallel magics\n",
      "\n",
      "The `%px` cell magic is a \"parallel execution\" statement, which will run the code in that cell on all the engines."
     ]
    },
    {
     "cell_type": "code",
     "collapsed": false,
     "input": [
      "%%px \n",
      "import os\n",
      "print(os.getpid())"
     ],
     "language": "python",
     "metadata": {},
     "outputs": [
      {
       "output_type": "stream",
       "stream": "stdout",
       "text": [
        "[stdout:0] 15358\n",
        "[stdout:1] 15360\n",
        "[stdout:2] 15365\n",
        "[stdout:3] 15366\n"
       ]
      }
     ],
     "prompt_number": 83
    },
    {
     "cell_type": "code",
     "collapsed": false,
     "input": [
      "%px b = numpy.random.random()"
     ],
     "language": "python",
     "metadata": {},
     "outputs": [],
     "prompt_number": 84
    },
    {
     "cell_type": "code",
     "collapsed": false,
     "input": [
      "%px b"
     ],
     "language": "python",
     "metadata": {},
     "outputs": [
      {
       "metadata": {},
       "output_type": "display_data",
       "text": [
        "\u001b[0;31mOut[0:6]: \u001b[0m0.9297851610112113"
       ]
      },
      {
       "metadata": {},
       "output_type": "display_data",
       "text": [
        "\u001b[0;31mOut[1:6]: \u001b[0m0.6305232345336198"
       ]
      },
      {
       "metadata": {},
       "output_type": "display_data",
       "text": [
        "\u001b[0;31mOut[2:6]: \u001b[0m0.9492045434296758"
       ]
      },
      {
       "metadata": {},
       "output_type": "display_data",
       "text": [
        "\u001b[0;31mOut[3:6]: \u001b[0m0.4097919790867197"
       ]
      }
     ],
     "prompt_number": 85
    },
    {
     "cell_type": "markdown",
     "metadata": {},
     "source": [
      "`%pxresult` displays the output of the last request:"
     ]
    },
    {
     "cell_type": "code",
     "collapsed": false,
     "input": [
      "%pxresult"
     ],
     "language": "python",
     "metadata": {},
     "outputs": [
      {
       "metadata": {},
       "output_type": "display_data",
       "text": [
        "\u001b[0;31mOut[0:6]: \u001b[0m0.9297851610112113"
       ]
      },
      {
       "metadata": {},
       "output_type": "display_data",
       "text": [
        "\u001b[0;31mOut[1:6]: \u001b[0m0.6305232345336198"
       ]
      },
      {
       "metadata": {},
       "output_type": "display_data",
       "text": [
        "\u001b[0;31mOut[2:6]: \u001b[0m0.9492045434296758"
       ]
      },
      {
       "metadata": {},
       "output_type": "display_data",
       "text": [
        "\u001b[0;31mOut[3:6]: \u001b[0m0.4097919790867197"
       ]
      }
     ],
     "prompt_number": 86
    },
    {
     "cell_type": "markdown",
     "metadata": {},
     "source": [
      "The `%pxconfig` magic allows you to configure blocking for the parallel magics."
     ]
    },
    {
     "cell_type": "code",
     "collapsed": false,
     "input": [
      "# Switch to asynchronous\n",
      "%pxconfig --block"
     ],
     "language": "python",
     "metadata": {},
     "outputs": [],
     "prompt_number": 87
    },
    {
     "cell_type": "markdown",
     "metadata": {},
     "source": [
      "Remember that each engine is just another IPython, so anyting you can do in an IPython session you can also do on an engine."
     ]
    },
    {
     "cell_type": "code",
     "collapsed": false,
     "input": [
      "%px %pylab inline"
     ],
     "language": "python",
     "metadata": {},
     "outputs": [
      {
       "output_type": "stream",
       "stream": "stdout",
       "text": [
        "[stdout:0] Populating the interactive namespace from numpy and matplotlib\n",
        "[stdout:1] Populating the interactive namespace from numpy and matplotlib\n",
        "[stdout:2] Populating the interactive namespace from numpy and matplotlib\n",
        "[stdout:3] Populating the interactive namespace from numpy and matplotlib\n"
       ]
      },
      {
       "output_type": "stream",
       "stream": "stderr",
       "text": [
        "[stderr:0] \n",
        "WARNING: pylab import has clobbered these variables: ['bar']\n",
        "`%matplotlib` prevents importing * from pylab and numpy\n"
       ]
      }
     ],
     "prompt_number": 88
    },
    {
     "cell_type": "code",
     "collapsed": false,
     "input": [
      "%px samples = abc(y, 100)"
     ],
     "language": "python",
     "metadata": {},
     "outputs": [],
     "prompt_number": 89
    },
    {
     "cell_type": "code",
     "collapsed": false,
     "input": [
      "%%px \n",
      "import os\n",
      "tsamples = numpy.transpose(samples)\n",
      "plt.hist(tsamples[0])\n",
      "plt.hist(tsamples[1])\n",
      "_ = title('PID %i' % os.getpid())"
     ],
     "language": "python",
     "metadata": {},
     "outputs": [
      {
       "metadata": {},
       "output_type": "display_data",
       "text": [
        "[output:0]"
       ]
      },
      {
       "metadata": {
        "engine": 0
       },
       "output_type": "display_data",
       "png": "[encoded data removed]",
       "text": [
        "<matplotlib.figure.Figure at 0x1094a0850>"
       ]
      },
      {
       "metadata": {},
       "output_type": "display_data",
       "text": [
        "[output:1]"
       ]
      },
      {
       "metadata": {
        "engine": 1
       },
       "output_type": "display_data",
       "png": "[encoded data removed]",
       "text": [
        "<matplotlib.figure.Figure at 0x10da7d850>"
       ]
      },
      {
       "metadata": {},
       "output_type": "display_data",
       "text": [
        "[output:2]"
       ]
      },
      {
       "metadata": {
        "engine": 2
       },
       "output_type": "display_data",
       "png": "[encoded data removed]",
       "text": [
        "<matplotlib.figure.Figure at 0x10bbd6850>"
       ]
      },
      {
       "metadata": {},
       "output_type": "display_data",
       "text": [
        "[output:3]"
       ]
      },
      {
       "metadata": {
        "engine": 3
       },
       "output_type": "display_data",
       "png": "[encoded data removed]",
       "text": [
        "<matplotlib.figure.Figure at 0x10a377850>"
       ]
      }
     ],
     "prompt_number": 90
    },
    {
     "cell_type": "markdown",
     "metadata": {},
     "source": [
      "For profiling, we can also use the `%timeit` magic to compare performance on the engines:"
     ]
    },
    {
     "cell_type": "code",
     "collapsed": false,
     "input": [
      "%%px\n",
      "%%timeit\n",
      "s = abc(y, 10)"
     ],
     "language": "python",
     "metadata": {},
     "outputs": [
      {
       "output_type": "stream",
       "stream": "stdout",
       "text": [
        "[stdout:0] 1 loops, best of 3: 1.17 s per loop\n",
        "[stdout:1] \n",
        "The slowest run took 4.16 times longer than the fastest. This could mean that an intermediate result is being cached \n",
        "1 loops, best of 3: 635 ms per loop\n",
        "[stdout:2] 1 loops, best of 3: 845 ms per loop\n",
        "[stdout:3] 1 loops, best of 3: 859 ms per loop\n"
       ]
      }
     ],
     "prompt_number": 91
    },
    {
     "cell_type": "markdown",
     "metadata": {},
     "source": [
      "## Cython Parallel\n",
      "\n",
      "In order to use Cython in parallel on IPython, we need to load and execute `cythonmagic` on all engines."
     ]
    },
    {
     "cell_type": "code",
     "collapsed": false,
     "input": [
      "%px %load_ext cythonmagic"
     ],
     "language": "python",
     "metadata": {},
     "outputs": [],
     "prompt_number": 92
    },
    {
     "cell_type": "markdown",
     "metadata": {},
     "source": [
      "As an example, let's use the Cythonized Gibbs sampler from the last lecture."
     ]
    },
    {
     "cell_type": "code",
     "collapsed": false,
     "input": [
      "%%px\n",
      "%%cython\n",
      "\n",
      "from numpy import zeros, random\n",
      "from numpy cimport *\n",
      "from libc.math cimport sqrt\n",
      "gamma = random.gamma\n",
      "normal = random.normal\n",
      "\n",
      "def gibbs(int N=20000, int thin=200):\n",
      "    cdef: \n",
      "        ndarray[float64_t, ndim=2] mat = zeros((N,2))\n",
      "        float64_t x,y = 0\n",
      "        int i,j\n",
      "    for i in range(N):\n",
      "        for j in range(thin):\n",
      "            x = gamma(3, y**2 + 4)\n",
      "            y = normal(1./(x+1), 1./sqrt(2*(x+1)))\n",
      "        mat[i] = x,y\n",
      "\n",
      "    return mat"
     ],
     "language": "python",
     "metadata": {},
     "outputs": [],
     "prompt_number": 93
    },
    {
     "cell_type": "markdown",
     "metadata": {},
     "source": [
      "Divide the array by the number of nodes.  In this case they divide evenly, a more general partitioning of sizes is easy to do as well."
     ]
    },
    {
     "cell_type": "code",
     "collapsed": false,
     "input": [
      "cli.ids"
     ],
     "language": "python",
     "metadata": {},
     "outputs": [
      {
       "metadata": {},
       "output_type": "pyout",
       "prompt_number": 94,
       "text": [
        "[0, 1, 2, 3]"
       ]
      }
     ],
     "prompt_number": 94
    },
    {
     "cell_type": "code",
     "collapsed": false,
     "input": [
      "N = 100000\n",
      "thin = 10\n",
      "n = N/len(cli.ids)\n",
      "dv = cli[:]\n",
      "dv.push(dict(n=n, thin=thin))\n",
      "# Let's just confirm visually we got what we expect\n",
      "dv['n']"
     ],
     "language": "python",
     "metadata": {},
     "outputs": [
      {
       "metadata": {},
       "output_type": "pyout",
       "prompt_number": 95,
       "text": [
        "[25000, 25000, 25000, 25000]"
       ]
      }
     ],
     "prompt_number": 95
    },
    {
     "cell_type": "markdown",
     "metadata": {},
     "source": [
      "We can time the execution of the gibbs sampler on the remote nodes"
     ]
    },
    {
     "cell_type": "code",
     "collapsed": false,
     "input": [
      "%pxconfig --noblock"
     ],
     "language": "python",
     "metadata": {},
     "outputs": [],
     "prompt_number": 96
    },
    {
     "cell_type": "code",
     "collapsed": false,
     "input": [
      "%timeit dv.execute('gibbs(n, thin)')"
     ],
     "language": "python",
     "metadata": {},
     "outputs": [
      {
       "output_type": "stream",
       "stream": "stdout",
       "text": [
        "100 loops, best of 3: 2.65 ms per loop\n"
       ]
      }
     ],
     "prompt_number": 97
    },
    {
     "cell_type": "markdown",
     "metadata": {},
     "source": [
      "But a more realistic (and costly) benchmark must also include the cost of bringing the results back from the cluster engines to our local namespace.  For that, we assign the call to the variable `a` on each node and then use the view's `gather` method to pull them back in:"
     ]
    },
    {
     "cell_type": "code",
     "collapsed": false,
     "input": [
      "%%timeit\n",
      "dv.execute('a = gibbs(n, thin)')\n",
      "a = dv.gather('a')"
     ],
     "language": "python",
     "metadata": {},
     "outputs": [
      {
       "output_type": "stream",
       "stream": "stdout",
       "text": [
        "100 loops, best of 3: 7.45 ms per loop\n"
       ]
      }
     ],
     "prompt_number": 98
    },
    {
     "cell_type": "markdown",
     "metadata": {},
     "source": [
      "Let's compare this to the same number of samples executed on a single process:"
     ]
    },
    {
     "cell_type": "code",
     "collapsed": false,
     "input": [
      "%load_ext cythonmagic"
     ],
     "language": "python",
     "metadata": {},
     "outputs": [],
     "prompt_number": 99
    },
    {
     "cell_type": "code",
     "collapsed": false,
     "input": [
      "%%cython\n",
      "\n",
      "from libc.math cimport sqrt\n",
      "from numpy import zeros, random\n",
      "from numpy cimport *\n",
      "gamma = random.gamma\n",
      "normal = random.normal\n",
      "\n",
      "def gibbs(int N=20000, int thin=200):\n",
      "    cdef: \n",
      "        ndarray[float64_t, ndim=2] mat = zeros((N,2))\n",
      "        float64_t x,y = 0\n",
      "        int i,j\n",
      "    for i in range(N):\n",
      "        for j in range(thin):\n",
      "            x = gamma(3, y**2 + 4)\n",
      "            y = normal(1./(x+1), 1./sqrt(2*(x+1)))\n",
      "        mat[i] = x,y\n",
      "\n",
      "    return mat"
     ],
     "language": "python",
     "metadata": {},
     "outputs": [],
     "prompt_number": 100
    },
    {
     "cell_type": "code",
     "collapsed": false,
     "input": [
      "%%timeit \n",
      "a = gibbs(N, thin)"
     ],
     "language": "python",
     "metadata": {},
     "outputs": [
      {
       "output_type": "stream",
       "stream": "stdout",
       "text": [
        "1 loops, best of 3: 1.2 s per loop\n"
       ]
      }
     ],
     "prompt_number": 101
    },
    {
     "cell_type": "markdown",
     "metadata": {},
     "source": [
      "## Exercise\n",
      "\n",
      "Run parallel chains of the `disaster_model` example from PyMC and return the resulting traces to your client, for plotting and summarization."
     ]
    },
    {
     "cell_type": "code",
     "collapsed": false,
     "input": [
      "# Write your answer here"
     ],
     "language": "python",
     "metadata": {},
     "outputs": []
    },
    {
     "cell_type": "markdown",
     "metadata": {},
     "source": [
      "## References\n",
      "\n",
      "[Scientific Python Lectures](http://github.com/jrjohansson/scientific-python-lectures) by Robert Johansson\n",
      "\n",
      "[Using IPython for Parallel Computing](http://ipython.org/ipython-doc/dev/parallel/)"
     ]
    },
    {
     "cell_type": "markdown",
     "metadata": {},
     "source": [
      "---"
     ]
    },
    {
     "cell_type": "code",
     "collapsed": false,
     "input": [
      "from IPython.core.display import HTML\n",
      "def css_styling():\n",
      "    styles = open(\"styles/custom.css\", \"r\").read()\n",
      "    \n",
      "    return HTML(styles)\n",
      "css_styling()"
     ],
     "language": "python",
     "metadata": {},
     "outputs": []
    }
   ],
   "metadata": {}
  }
 ]
}