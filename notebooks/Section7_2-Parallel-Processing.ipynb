{
 "metadata": {
  "name": ""
 },
 "nbformat": 3,
 "nbformat_minor": 0,
 "worksheets": [
  {
   "cells": [
    {
     "cell_type": "markdown",
     "metadata": {},
     "source": [
      "# Parallel Processing in Python\n",
      "\n",
      "An obvious way to improve the performance of Python code is to make it run in parallel. Any relatively new computer will have multiple cores, which means that several processors can operate on the same data stored on memory. However, most of the code we have written in the course so far does not take advantage of more than one of them. In addition there is now widespread availability of computing clusters, such as [those offered for use by Amazon](http://aws.amazon.com/ec2/) (Vanderbilt also has [its own cluster](http://www.accre.vanderbilt.edu)). Clusters allow several computers to work together by exchanging data over a network.\n",
      "\n",
      "Parallel computing involves breaking a task into several independent sub-tasks, distributing these sub-tasks to available processors or computers, then coordinating the execution of these tasks and combining their outputs in an appropriate way.\n",
      "\n",
      "There are several different models for parallel processing, including:\n",
      "\n",
      "* **Message passing**: processes or other program components running in parallel communicate by sending and receiving messages, which allows for easy synchronization. \n",
      "* **Multi-threading**: within a single process, some architectures allow for the existence of several \"threads\", which execute independently, though they share the memory and state of the process in which they reside. Multi-threading is good for increasing *throughput* and reducing *latency*.\n",
      "* **Task farming**: a master process delegates independent calculations to available processors (task farm), and collects their outputs when complete.\n",
      "* **Single program, multiple data (SPMD)** Probably the most common type of parallel processing, in which tasks are split up and run simultaneously on multiple processors with different input in order to obtain results faster. All tasks execute their copy of the same program simultaneously.\n",
      "* **Multiple program, multiple data (MPMD)** Like SPMD, except each task may be executing a different program."
     ]
    },
    {
     "cell_type": "markdown",
     "metadata": {},
     "source": [
      "## `multiprocessing`\n",
      "\n",
      "The simplest way (though probably not the best) for performing parallel computing in Python is via the built-in process-based library for concurrent computing, called `multiprocessing`. "
     ]
    },
    {
     "cell_type": "code",
     "collapsed": false,
     "input": [
      "import multiprocessing\n",
      "import os\n",
      "import numpy as np"
     ],
     "language": "python",
     "metadata": {},
     "outputs": [],
     "prompt_number": 1
    },
    {
     "cell_type": "markdown",
     "metadata": {},
     "source": [
      "The `multiprocessing` module parallelizes by launching multiple *processes*, each with a seperate interpretor. You may have already heard about *threads*. Processes and threads are not the same:\n",
      "\n",
      "* processes are independent of one another, each having their own state, memory and address spaces\n",
      "* threads share resources, and are therefore interdependent; they are subunits of the same process\n",
      "\n",
      "Since processes are independent, they now have independent Global Interpreter Locks (GILs),  its best to run multiprocessing on multiple CPUs. You can check how many you have on your machine:"
     ]
    },
    {
     "cell_type": "code",
     "collapsed": false,
     "input": [
      "multiprocessing.cpu_count()"
     ],
     "language": "python",
     "metadata": {},
     "outputs": [
      {
       "metadata": {},
       "output_type": "pyout",
       "prompt_number": 2,
       "text": [
        "4"
       ]
      }
     ],
     "prompt_number": 2
    },
    {
     "cell_type": "markdown",
     "metadata": {},
     "source": [
      "### `Process` class\n",
      "\n",
      "The `Process` class encapsulates a task running in a process. It will usually have a `target` argument that is some callable (function/method) that is executed when the process runs, along with optional arguments that can be passed to the target.\n",
      "\n",
      "A `Process` has several methods, with some useful ones being:\n",
      "\n",
      "* `is_alive`: Returns `True` if the process is running.\n",
      "* `join`: Waits for the process to finish its work and terminate. An optional `timeout` argument can be passed.\n",
      "* `run`: When the process starts, this method is called to invoke the `target`.\n",
      "* `terminate`: Kills the process forcibly, without any cleanup.\n",
      "\n",
      "A `Process` also has several other non-callable attributes, such as `pid`, `name` and `authkey`.\n",
      "\n",
      "Here is a trivial example of using the `Process` class, showing that each has its own process ID."
     ]
    },
    {
     "cell_type": "code",
     "collapsed": false,
     "input": [
      "import os\n",
      "\n",
      "def job(n):\n",
      "    print('I am working on job {0} running on PID {1}'.format(n, os.getpid()))\n",
      "\n",
      "jobs = []\n",
      "for i in range(5):\n",
      "    p = multiprocessing.Process(target=job, args=(i,))\n",
      "    jobs.append(p)\n",
      "    p.start()"
     ],
     "language": "python",
     "metadata": {},
     "outputs": [],
     "prompt_number": 3
    },
    {
     "cell_type": "markdown",
     "metadata": {},
     "source": [
      "We can easily subclass `Process` to our liking:"
     ]
    },
    {
     "cell_type": "code",
     "collapsed": false,
     "input": [
      "class FibProcess(multiprocessing.Process):\n",
      "    \n",
      "    def __init__(self, n):\n",
      "        self.n = n\n",
      "        multiprocessing.Process.__init__(self)\n",
      "        \n",
      "    def run(self):\n",
      "        a, b = 0, 1\n",
      "        for i in range(self.n):\n",
      "            a, b = b, a + b"
     ],
     "language": "python",
     "metadata": {},
     "outputs": [
      {
       "output_type": "stream",
       "stream": "stdout",
       "text": [
        "I am working on job 0 running on PID 37261\n",
        "I am working on job 1 running on PID 37262\n",
        "I am working on job 2 running on PID 37263\n",
        "I am working on job 3 running on PID 37264\n",
        "I am working on job 4 running on PID 37265\n"
       ]
      }
     ],
     "prompt_number": 4
    },
    {
     "cell_type": "code",
     "collapsed": false,
     "input": [
      "p = FibProcess(10000)\n",
      "p.start()\n",
      "print(p.pid)\n",
      "p.join()\n",
      "print(p.exitcode)"
     ],
     "language": "python",
     "metadata": {},
     "outputs": [
      {
       "output_type": "stream",
       "stream": "stdout",
       "text": [
        "37266\n",
        "0\n"
       ]
      }
     ],
     "prompt_number": 5
    },
    {
     "cell_type": "markdown",
     "metadata": {},
     "source": [
      "### `Queue` class\n",
      "\n",
      "Of course, despite being independent, we would like our processes to communicate with one another, for example, to share data. One way to facilitate this in `multiprocessing` is via the `Queue` class, a thread/process safe, first-in-first-out (FIFO) data structure that can store any serializable Python object.\n",
      "\n",
      "A `Queue`'s important methods include:\n",
      "\n",
      "* `put`: Adds item to `Queue`.\n",
      "* `get`: Fetchs next item from `Queue`.\n",
      "* `close`: Closes the `Queue`, preventing the addition of more data.\n",
      "* `empty`: Returns True if the `Queue` is empty.\n",
      "* `full`: Returns True if full.\n",
      "* `qsize`: Retuns approximate current number of items in `Queue`.\n",
      "\n",
      "A subclass of `Queue` is the `JoinableQueue`, which has additional methods, notably `join`, which waits until all the items have been processed, blocking the addition of new items.\n"
     ]
    },
    {
     "cell_type": "code",
     "collapsed": false,
     "input": [
      "from multiprocessing import Queue\n",
      "\n",
      "q = Queue()\n",
      "\n",
      "q.put(-1)\n",
      "q.put('foobar')\n",
      "q.put(5)\n",
      "\n",
      "print(q.get())\n",
      "print(q.get())"
     ],
     "language": "python",
     "metadata": {},
     "outputs": [
      {
       "output_type": "stream",
       "stream": "stdout",
       "text": [
        "-1\n",
        "foobar\n"
       ]
      }
     ],
     "prompt_number": 6
    },
    {
     "cell_type": "code",
     "collapsed": false,
     "input": [
      "def consumer(q):\n",
      "    while True:\n",
      "        thing = q.get()\n",
      "        if thing is None:\n",
      "            break\n",
      "        print('Consuming {}'.format(thing))\n",
      "    print(\"\\nFinished consuming\")\n",
      "    \n",
      "def producer(sequence, q):\n",
      "    for thing in sequence:\n",
      "        q.put(thing)\n",
      "        \n",
      "queue = multiprocessing.Queue()\n",
      "\n",
      "consumer_process = multiprocessing.Process(target=consumer, args=[queue])\n",
      "consumer_process.start()\n",
      "\n",
      "stuff = [42, 'foobar', True, range(5)]\n",
      "producer(stuff, queue)\n",
      "\n",
      "queue.put(None)\n",
      "consumer_process.join()"
     ],
     "language": "python",
     "metadata": {},
     "outputs": [
      {
       "output_type": "stream",
       "stream": "stdout",
       "text": [
        "Consuming 42\n",
        "Consuming foobar\n",
        "Consuming True\n",
        "Consuming [0, 1, 2, 3, 4]\n",
        "\n",
        "Finished consuming\n"
       ]
      }
     ],
     "prompt_number": 7
    },
    {
     "cell_type": "markdown",
     "metadata": {},
     "source": [
      "Two things to be aware of:\n",
      "\n",
      "1. if you `terminate` a process that is still accessing a queue, the queue may become corrupted\n",
      "2. you should make sure that any queue to which a given process has given data is clear before joining the process, or you will get a deadlock condition\n",
      "\n",
      "### `Pool` class\n",
      "\n",
      "We often have a task that we want to split up among several worker processes in parallel. The `Pool` class creates a number of processes and the methods for passing work to them. A `Pool` has the following key methods:\n",
      "\n",
      "* `apply`: Executes a passed function in a process and returns the result.\n",
      "* `apply_async`: Same as apply, but the result is returned asynchrnously via a *callback*\n",
      "* `map`: A parallel version of `apply`, which splits an iterable of data into chunks and farms chunks out to processes.\n",
      "* `map_async`: Asynchronous `map`."
     ]
    },
    {
     "cell_type": "markdown",
     "metadata": {},
     "source": [
      "### Example: parallel bootstrap\n",
      "\n",
      "As an example, we will choose a statistical computing task that is *embarassingly parallel*. This function generates statistics of bootstrapped samples from a dataset."
     ]
    },
    {
     "cell_type": "code",
     "collapsed": false,
     "input": [
      "def bootstrap(data, nsamples, f):\n",
      "    boot_samples = data[np.random.randint(len(data), size=(nsamples, len(data)))]\n",
      "    return [f(s) for s in boot_samples]"
     ],
     "language": "python",
     "metadata": {},
     "outputs": [],
     "prompt_number": 3
    },
    {
     "cell_type": "code",
     "collapsed": false,
     "input": [
      "pool = multiprocessing.Pool(processes=4)"
     ],
     "language": "python",
     "metadata": {},
     "outputs": [],
     "prompt_number": 4
    },
    {
     "cell_type": "code",
     "collapsed": false,
     "input": [
      "some_data = np.random.poisson(4, 25)"
     ],
     "language": "python",
     "metadata": {},
     "outputs": [],
     "prompt_number": 5
    },
    {
     "cell_type": "code",
     "collapsed": false,
     "input": [
      "result = pool.apply_async(bootstrap, (some_data, 1000, np.mean))"
     ],
     "language": "python",
     "metadata": {},
     "outputs": [],
     "prompt_number": 6
    },
    {
     "cell_type": "markdown",
     "metadata": {},
     "source": [
      "The result is an `AsyncResult` object:"
     ]
    },
    {
     "cell_type": "code",
     "collapsed": false,
     "input": [
      "result"
     ],
     "language": "python",
     "metadata": {},
     "outputs": [
      {
       "metadata": {},
       "output_type": "pyout",
       "prompt_number": 7,
       "text": [
        "<multiprocessing.pool.ApplyResult at 0x106679c90>"
       ]
      }
     ],
     "prompt_number": 7
    },
    {
     "cell_type": "markdown",
     "metadata": {},
     "source": [
      "We may then want to take the result and calculate a confidence interval based on the quantiles."
     ]
    },
    {
     "cell_type": "code",
     "collapsed": false,
     "input": [
      "bootstrap_ci = lambda boot, alpha=0.05: (boot[np.floor((0.5*alpha)*len(boot))],\n",
      "            boot[np.floor((1.-0.5*alpha)*len(boot))])"
     ],
     "language": "python",
     "metadata": {},
     "outputs": [],
     "prompt_number": 8
    },
    {
     "cell_type": "code",
     "collapsed": false,
     "input": [
      "bootstrap_ci(np.sort(result.get()))"
     ],
     "language": "python",
     "metadata": {},
     "outputs": [
      {
       "metadata": {},
       "output_type": "pyout",
       "prompt_number": 9,
       "text": [
        "(3.1200000000000001, 4.96)"
       ]
      }
     ],
     "prompt_number": 9
    },
    {
     "cell_type": "code",
     "collapsed": false,
     "input": [
      "pool.close()\n",
      "pool.join()"
     ],
     "language": "python",
     "metadata": {},
     "outputs": [],
     "prompt_number": 10
    },
    {
     "cell_type": "markdown",
     "metadata": {},
     "source": [
      "But, since we used `Pool.apply`, this is not a parallel task. We need to use `map`."
     ]
    },
    {
     "cell_type": "code",
     "collapsed": false,
     "input": [
      "def mapped_bootstrap(n): \n",
      "    return bootstrap(some_data, n, np.mean)"
     ],
     "language": "python",
     "metadata": {},
     "outputs": [],
     "prompt_number": 11
    },
    {
     "cell_type": "code",
     "collapsed": false,
     "input": [
      "pool = multiprocessing.Pool(processes=4)"
     ],
     "language": "python",
     "metadata": {},
     "outputs": [],
     "prompt_number": 12
    },
    {
     "cell_type": "code",
     "collapsed": false,
     "input": [
      "map_result = pool.map_async(mapped_bootstrap, [250]*4)"
     ],
     "language": "python",
     "metadata": {},
     "outputs": [
      {
       "ename": "AssertionError",
       "evalue": "",
       "output_type": "pyerr",
       "traceback": [
        "\u001b[0;31m---------------------------------------------------------------------------\u001b[0m\n\u001b[0;31mAssertionError\u001b[0m                            Traceback (most recent call last)",
        "\u001b[0;32m<ipython-input-21-4d601a6ef8b8>\u001b[0m in \u001b[0;36m<module>\u001b[0;34m()\u001b[0m\n\u001b[0;32m----> 1\u001b[0;31m \u001b[0mmap_result\u001b[0m \u001b[0;34m=\u001b[0m \u001b[0mpool\u001b[0m\u001b[0;34m.\u001b[0m\u001b[0mmap_async\u001b[0m\u001b[0;34m(\u001b[0m\u001b[0mmapped_bootstrap\u001b[0m\u001b[0;34m,\u001b[0m \u001b[0;34m[\u001b[0m\u001b[0;36m250\u001b[0m\u001b[0;34m]\u001b[0m\u001b[0;34m*\u001b[0m\u001b[0;36m4\u001b[0m\u001b[0;34m)\u001b[0m\u001b[0;34m\u001b[0m\u001b[0m\n\u001b[0m",
        "\u001b[0;32m/System/Library/Frameworks/Python.framework/Versions/2.7/lib/python2.7/multiprocessing/pool.pyc\u001b[0m in \u001b[0;36mmap_async\u001b[0;34m(self, func, iterable, chunksize, callback)\u001b[0m\n\u001b[1;32m    299\u001b[0m         \u001b[0mAsynchronous\u001b[0m \u001b[0mequivalent\u001b[0m \u001b[0mof\u001b[0m \u001b[0;34m`\u001b[0m\u001b[0mmap\u001b[0m\u001b[0;34m(\u001b[0m\u001b[0;34m)\u001b[0m\u001b[0;34m`\u001b[0m \u001b[0mbuiltin\u001b[0m\u001b[0;34m\u001b[0m\u001b[0m\n\u001b[1;32m    300\u001b[0m         '''\n\u001b[0;32m--> 301\u001b[0;31m         \u001b[0;32massert\u001b[0m \u001b[0mself\u001b[0m\u001b[0;34m.\u001b[0m\u001b[0m_state\u001b[0m \u001b[0;34m==\u001b[0m \u001b[0mRUN\u001b[0m\u001b[0;34m\u001b[0m\u001b[0m\n\u001b[0m\u001b[1;32m    302\u001b[0m         \u001b[0;32mif\u001b[0m \u001b[0;32mnot\u001b[0m \u001b[0mhasattr\u001b[0m\u001b[0;34m(\u001b[0m\u001b[0miterable\u001b[0m\u001b[0;34m,\u001b[0m \u001b[0;34m'__len__'\u001b[0m\u001b[0;34m)\u001b[0m\u001b[0;34m:\u001b[0m\u001b[0;34m\u001b[0m\u001b[0m\n\u001b[1;32m    303\u001b[0m             \u001b[0miterable\u001b[0m \u001b[0;34m=\u001b[0m \u001b[0mlist\u001b[0m\u001b[0;34m(\u001b[0m\u001b[0miterable\u001b[0m\u001b[0;34m)\u001b[0m\u001b[0;34m\u001b[0m\u001b[0m\n",
        "\u001b[0;31mAssertionError\u001b[0m: "
       ]
      }
     ],
     "prompt_number": 21
    },
    {
     "cell_type": "code",
     "collapsed": false,
     "input": [
      "parallel_results = map_result.get()\n",
      "[len(p) for p in parallel_results]"
     ],
     "language": "python",
     "metadata": {},
     "outputs": [
      {
       "metadata": {},
       "output_type": "pyout",
       "prompt_number": 22,
       "text": [
        "[250, 250, 250, 250]"
       ]
      }
     ],
     "prompt_number": 22
    },
    {
     "cell_type": "code",
     "collapsed": false,
     "input": [
      "bootstrap_ci(np.sort(np.ravel(parallel_results)))"
     ],
     "language": "python",
     "metadata": {},
     "outputs": [
      {
       "metadata": {},
       "output_type": "pyout",
       "prompt_number": 23,
       "text": [
        "(3.04, 4.9199999999999999)"
       ]
      }
     ],
     "prompt_number": 23
    },
    {
     "cell_type": "code",
     "collapsed": false,
     "input": [
      "pool.close()\n",
      "pool.join()"
     ],
     "language": "python",
     "metadata": {},
     "outputs": [],
     "prompt_number": 20
    },
    {
     "cell_type": "markdown",
     "metadata": {},
     "source": [
      "The multiprocessing package is very useful for highly parallel tasks that do not need to communicate with each other, other than when sending the initial data to the pool of processes and when and collecting the results. "
     ]
    },
    {
     "cell_type": "markdown",
     "metadata": {},
     "source": [
      "## IPython parallel\n",
      "\n",
      "The IPython architecture consists of four components, which reside in the `IPython.parallel` package:\n",
      "\n",
      "1. **Engine** The IPython engine is a Python instance that accepts Python commands over a network connection.  When multiple engines are started, parallel and distributed computing becomes possible. An important property of an IPython engine is that it blocks while user code is being executed. \n",
      "\n",
      "2. **Hub** The hub keeps track of engine connections, schedulers, clients, as well as persist all task requests and results in a database for later use.\n",
      "\n",
      "3. **Schedulers** All actions that can be performed on the engine go through a Scheduler. While the engines themselves block when user code is run, the schedulers hide that from the user to provide a fully asynchronous interface to a set of engines.\n",
      "\n",
      "4. **Client** The primary object for connecting to a cluster.\n",
      "\n",
      "![IPython architecture](images/ipython_architecture.png)\n",
      "(courtesy Min Ragan-Kelley)\n",
      "\n",
      "This architecture is implemented using the \u00d8MQ messaging library and the associated Pytohn bindings in `pyzmq`.\n",
      "\n",
      "## Start your engines!\n",
      "\n",
      "In order to use IPython for parallel computing, you will need to start the IPython\n",
      "controller and two or more IPython engines. The simplest way of doing this is\n",
      "with the [clusters tab](/#tab2), or you can use the `ipcluster` command in a terminal:\n",
      "\n",
      "    $ ipcluster start --n=4\n",
      "\n",
      "This command will start 4 IPython engines on the current host, which is appropriate for many desktop multicore systems. You can also setup IPython clusters that span many nodes in a computing cluster, but this is beyond the scope of this lecture, but you can get more information from \n",
      "[the IPython.parallel docs](http://ipython.org/ipython-doc/dev/parallel/parallel_process.html)..\n",
      "\n",
      "To use the IPython cluster in our Python programs or notebooks, we start by creating an instance of `IPython.parallel.Client`:"
     ]
    },
    {
     "cell_type": "code",
     "collapsed": false,
     "input": [
      "from IPython.parallel import Client"
     ],
     "language": "python",
     "metadata": {},
     "outputs": [],
     "prompt_number": 2
    },
    {
     "cell_type": "code",
     "collapsed": false,
     "input": [
      "cli = Client()"
     ],
     "language": "python",
     "metadata": {},
     "outputs": [],
     "prompt_number": 3
    },
    {
     "cell_type": "markdown",
     "metadata": {},
     "source": [
      "This creates a client using the default profile; you can pass an optional `profile=\"my_profile\"` argument if you have a different one running.\n",
      "\n",
      "Using the `ids` attribute we can retreive a list of ids for the IPython engines in the cluster:"
     ]
    },
    {
     "cell_type": "code",
     "collapsed": false,
     "input": [
      "cli.ids"
     ],
     "language": "python",
     "metadata": {},
     "outputs": [
      {
       "metadata": {},
       "output_type": "pyout",
       "prompt_number": 4,
       "text": [
        "[0, 1, 2, 3]"
       ]
      }
     ],
     "prompt_number": 4
    },
    {
     "cell_type": "markdown",
     "metadata": {},
     "source": [
      "We can use a `DirectView` object for execution of tasks, which an be accessed simply by indexing the client:"
     ]
    },
    {
     "cell_type": "code",
     "collapsed": false,
     "input": [
      "dv0 = cli[0]\n",
      "dv0"
     ],
     "language": "python",
     "metadata": {},
     "outputs": [
      {
       "metadata": {},
       "output_type": "pyout",
       "prompt_number": 62,
       "text": [
        "<DirectView 0>"
       ]
      }
     ],
     "prompt_number": 62
    },
    {
     "cell_type": "markdown",
     "metadata": {},
     "source": [
      "The above shows just a single engine, but we want all of them:"
     ]
    },
    {
     "cell_type": "code",
     "collapsed": false,
     "input": [
      "dview = cli[:]\n",
      "dview"
     ],
     "language": "python",
     "metadata": {},
     "outputs": [
      {
       "metadata": {},
       "output_type": "pyout",
       "prompt_number": 72,
       "text": [
        "<DirectView [0, 1, 2, 3]>"
       ]
      }
     ],
     "prompt_number": 72
    },
    {
     "cell_type": "markdown",
     "metadata": {},
     "source": [
      "We can get a view on whatever combination of engines we want:"
     ]
    },
    {
     "cell_type": "code",
     "collapsed": false,
     "input": [
      "cli[::2]"
     ],
     "language": "python",
     "metadata": {},
     "outputs": [
      {
       "metadata": {},
       "output_type": "pyout",
       "prompt_number": 73,
       "text": [
        "<DirectView [0, 2]>"
       ]
      }
     ],
     "prompt_number": 73
    },
    {
     "cell_type": "code",
     "collapsed": false,
     "input": [
      "cli[1::2]"
     ],
     "language": "python",
     "metadata": {},
     "outputs": [
      {
       "metadata": {},
       "output_type": "pyout",
       "prompt_number": 74,
       "text": [
        "<DirectView [1, 3]>"
       ]
      }
     ],
     "prompt_number": 74
    },
    {
     "cell_type": "markdown",
     "metadata": {},
     "source": [
      "The `block` flag specifies whether to wait for the result, or return an `AsyncResult` object immediately:"
     ]
    },
    {
     "cell_type": "code",
     "collapsed": false,
     "input": [
      "dview.block = True"
     ],
     "language": "python",
     "metadata": {},
     "outputs": [],
     "prompt_number": 53
    },
    {
     "cell_type": "markdown",
     "metadata": {},
     "source": [
      "Finally, since we want to use IPython's parallel magic commands, we set the `DirectView` to be `active`:"
     ]
    },
    {
     "cell_type": "code",
     "collapsed": false,
     "input": [
      "dview.activate()"
     ],
     "language": "python",
     "metadata": {},
     "outputs": [],
     "prompt_number": 8
    },
    {
     "cell_type": "markdown",
     "metadata": {},
     "source": [
      "Each of these engines are ready to execute tasks. We can selectively run code on individual engines. For example, we can simply use `os.getpid` to return the process ID that the engine is running on. Here is the notebook process:"
     ]
    },
    {
     "cell_type": "code",
     "collapsed": false,
     "input": [
      "os.getpid()"
     ],
     "language": "python",
     "metadata": {},
     "outputs": [
      {
       "metadata": {},
       "output_type": "pyout",
       "prompt_number": 9,
       "text": [
        "44971"
       ]
      }
     ],
     "prompt_number": 9
    },
    {
     "cell_type": "markdown",
     "metadata": {},
     "source": [
      "Here is a single engine's process ID:"
     ]
    },
    {
     "cell_type": "code",
     "collapsed": false,
     "input": [
      "dv0.apply_sync(os.getpid)"
     ],
     "language": "python",
     "metadata": {},
     "outputs": [
      {
       "metadata": {},
       "output_type": "pyout",
       "prompt_number": 63,
       "text": [
        "44961"
       ]
      }
     ],
     "prompt_number": 63
    },
    {
     "cell_type": "markdown",
     "metadata": {},
     "source": [
      "And here are all the engines, run simultaneously:"
     ]
    },
    {
     "cell_type": "code",
     "collapsed": false,
     "input": [
      "dview.apply_sync(os.getpid)"
     ],
     "language": "python",
     "metadata": {},
     "outputs": [
      {
       "metadata": {},
       "output_type": "pyout",
       "prompt_number": 11,
       "text": [
        "[44961, 44962, 44963, 44964]"
       ]
      }
     ],
     "prompt_number": 11
    },
    {
     "cell_type": "markdown",
     "metadata": {},
     "source": [
      "Let's now consider a useful function that we might want to run in parallel. Here is a version of the approximate Bayesian computing (ABC) algorithm that we have seen in previous lectures."
     ]
    },
    {
     "cell_type": "code",
     "collapsed": false,
     "input": [
      "import numpy\n",
      "\n",
      "def abc(y, N, epsilon=[0.2, 0.8]):\n",
      "\n",
      "    trace = []\n",
      "\n",
      "    while len(trace) < N:\n",
      "\n",
      "        # Simulate from priors\n",
      "        mu = numpy.random.normal(0, 10)\n",
      "        sigma = numpy.random.uniform(0, 20)\n",
      "\n",
      "        x = numpy.random.normal(mu, sigma, 50)\n",
      "\n",
      "        #if (np.linalg.norm(y - x) < epsilon):\n",
      "        if ((abs(x.mean() - y.mean()) < epsilon[0]) &\n",
      "            (abs(x.std() - y.std()) < epsilon[1])):\n",
      "            trace.append([mu, sigma])\n",
      "\n",
      "    return trace"
     ],
     "language": "python",
     "metadata": {},
     "outputs": [],
     "prompt_number": 27
    },
    {
     "cell_type": "code",
     "collapsed": false,
     "input": [
      "y = np.random.normal(4, 2, 50)"
     ],
     "language": "python",
     "metadata": {},
     "outputs": [],
     "prompt_number": 28
    },
    {
     "cell_type": "markdown",
     "metadata": {},
     "source": [
      "Let's try running this on one of the cluster engines:"
     ]
    },
    {
     "cell_type": "code",
     "collapsed": false,
     "input": [
      "dv0.block = True\n",
      "dv0.apply(abc, y, 10)"
     ],
     "language": "python",
     "metadata": {},
     "outputs": [
      {
       "metadata": {},
       "output_type": "pyout",
       "prompt_number": 64,
       "text": [
        "[[3.797559059938866, 2.4088991408146088],\n",
        " [3.272761645123727, 1.3844456277187023],\n",
        " [3.941176703399475, 2.6222573548383576],\n",
        " [4.175864287627051, 3.0378753560568383],\n",
        " [3.6417628462090446, 2.2447577663733354],\n",
        " [4.018045824618534, 1.7818194306954305],\n",
        " [2.774348601655847, 2.1646343118229305],\n",
        " [3.8179872494568627, 2.8855379011031257],\n",
        " [3.194257118669795, 2.1980279103955302],\n",
        " [3.414377670078288, 2.0403647589261253]]"
       ]
      }
     ],
     "prompt_number": 64
    },
    {
     "cell_type": "markdown",
     "metadata": {},
     "source": [
      "This fails with a `NameError` because NumPy has not been imported on the engine to which we sent the task. Each engine has its own namespace, so we need to import whatever modules we will need  prior to running our code:"
     ]
    },
    {
     "cell_type": "code",
     "collapsed": false,
     "input": [
      "cli[0].execute(\"import numpy\")"
     ],
     "language": "python",
     "metadata": {},
     "outputs": [
      {
       "metadata": {},
       "output_type": "pyout",
       "prompt_number": 30,
       "text": [
        "<AsyncResult: execute>"
       ]
      }
     ],
     "prompt_number": 30
    },
    {
     "cell_type": "code",
     "collapsed": false,
     "input": [
      "dv0.apply(abc, y, 10)"
     ],
     "language": "python",
     "metadata": {},
     "outputs": [
      {
       "metadata": {},
       "output_type": "pyout",
       "prompt_number": 65,
       "text": [
        "[[4.020874239218064, 3.110807423328914],\n",
        " [2.369696925079599, 3.159321179417871],\n",
        " [3.8987406966162483, 2.450236927212095],\n",
        " [3.889056245566408, 3.8011033296400254],\n",
        " [3.2133161851159247, 1.72947127880136],\n",
        " [3.8424829009927617, 3.084188203827971],\n",
        " [3.349736306000425, 1.8575143290029805],\n",
        " [4.041885208365097, 2.208807986788208],\n",
        " [3.568454157454484, 1.7255051617369177],\n",
        " [4.327819444311031, 1.5782448811242267]]"
       ]
      }
     ],
     "prompt_number": 65
    },
    {
     "cell_type": "markdown",
     "metadata": {},
     "source": [
      "A more efficient way is to simultaneously import modules into the local and the engine namespaces simultaneously, using a context manager:"
     ]
    },
    {
     "cell_type": "code",
     "collapsed": false,
     "input": [
      "with dview.sync_imports():\n",
      "    import numpy"
     ],
     "language": "python",
     "metadata": {},
     "outputs": [
      {
       "output_type": "stream",
       "stream": "stdout",
       "text": [
        "importing numpy on engine(s)\n"
       ]
      }
     ],
     "prompt_number": 32
    },
    {
     "cell_type": "code",
     "collapsed": false,
     "input": [
      "t = dview.apply(abc, y, 10)"
     ],
     "language": "python",
     "metadata": {},
     "outputs": [],
     "prompt_number": 37
    },
    {
     "cell_type": "markdown",
     "metadata": {},
     "source": [
      "You can also use the `require` decorator for functions that you wish to use on engines."
     ]
    },
    {
     "cell_type": "code",
     "collapsed": false,
     "input": [
      "from IPython.parallel import require\n",
      "\n",
      "@require(\"numpy\")\n",
      "def abc(y, N, epsilon=[0.2, 0.8]):\n",
      "\n",
      "    trace = []\n",
      "\n",
      "    while len(trace) < N:\n",
      "\n",
      "        # Simulate from priors\n",
      "        mu = numpy.random.normal(0, 10)\n",
      "        sigma = numpy.random.uniform(0, 20)\n",
      "\n",
      "        x = numpy.random.normal(mu, sigma, 50)\n",
      "\n",
      "        #if (np.linalg.norm(y - x) < epsilon):\n",
      "        if ((abs(x.mean() - y.mean()) < epsilon[0]) &\n",
      "            (abs(x.std() - y.std()) < epsilon[1])):\n",
      "            trace.append([mu, sigma])\n",
      "\n",
      "    return trace"
     ],
     "language": "python",
     "metadata": {},
     "outputs": [],
     "prompt_number": 38
    },
    {
     "cell_type": "markdown",
     "metadata": {},
     "source": [
      "A simple way to run code on an engine is via the `execute` method:"
     ]
    },
    {
     "cell_type": "code",
     "collapsed": false,
     "input": [
      "dv0.execute('x=3')"
     ],
     "language": "python",
     "metadata": {},
     "outputs": [
      {
       "metadata": {},
       "output_type": "pyout",
       "prompt_number": 71,
       "text": [
        "<AsyncResult: finished>"
       ]
      }
     ],
     "prompt_number": 71
    },
    {
     "cell_type": "code",
     "collapsed": false,
     "input": [
      "dv0['x']"
     ],
     "language": "python",
     "metadata": {},
     "outputs": [
      {
       "metadata": {},
       "output_type": "pyout",
       "prompt_number": 67,
       "text": [
        "3"
       ]
      }
     ],
     "prompt_number": 67
    },
    {
     "cell_type": "markdown",
     "metadata": {},
     "source": [
      "### Data transfer\n",
      "\n",
      "We will often want to send data to our engines, or retrieve objects from them. `DirectView` has `push` and `pull` methods for achieving this.\n",
      "\n",
      "Recall that Python namespaces are just dictionaries. So, we can update an engine's namespace by pushing a dictionary:"
     ]
    },
    {
     "cell_type": "code",
     "collapsed": false,
     "input": [
      "dv0.push({'foo': -3, 'bar': np.arange(10)})"
     ],
     "language": "python",
     "metadata": {},
     "outputs": [],
     "prompt_number": 68
    },
    {
     "cell_type": "code",
     "collapsed": false,
     "input": [
      "dv0.pull(('x', 'bar'))"
     ],
     "language": "python",
     "metadata": {},
     "outputs": [
      {
       "metadata": {},
       "output_type": "pyout",
       "prompt_number": 70,
       "text": [
        "[3, array([0, 1, 2, 3, 4, 5, 6, 7, 8, 9])]"
       ]
      }
     ],
     "prompt_number": 70
    },
    {
     "cell_type": "markdown",
     "metadata": {},
     "source": [
      "The `%px` cell magic will run the code in that cell on all the engines."
     ]
    },
    {
     "cell_type": "code",
     "collapsed": false,
     "input": [
      "%%px \n",
      "import os\n",
      "print(os.getpid())"
     ],
     "language": "python",
     "metadata": {},
     "outputs": [
      {
       "output_type": "stream",
       "stream": "stdout",
       "text": [
        "[stdout:0] 40424\n",
        "[stdout:1] 40425\n",
        "[stdout:2] 40426\n",
        "[stdout:3] 40427\n"
       ]
      }
     ],
     "prompt_number": 48
    },
    {
     "cell_type": "markdown",
     "metadata": {},
     "source": [
      "We can use this cluster of IPython engines to execute tasks in parallel. The easiest way to dispatch a function to different engines is to define the function with the decorator:\n",
      "\n",
      "    @view.parallel(block=True)\n",
      "\n",
      "Here, `view` is supposed to be the engine pool which we want to dispatch the function (task). Once our function is defined this way we can dispatch it to the engine using the `map` method in the resulting class (in Python, a decorator is a language construct which automatically wraps the function into another function or a class).\n",
      "\n",
      "To see how all this works, lets look at an example:"
     ]
    },
    {
     "cell_type": "code",
     "collapsed": false,
     "input": [
      "@dview.parallel(block=True)\n",
      "def dummy_task(delay):\n",
      "    \"\"\" a dummy task that takes 'delay' seconds to finish \"\"\"\n",
      "    import os, time\n",
      "\n",
      "    t0 = time.time()\n",
      "    pid = os.getpid()\n",
      "    time.sleep(delay)\n",
      "    t1 = time.time()\n",
      "    \n",
      "    return [pid, t0, t1]"
     ],
     "language": "python",
     "metadata": {},
     "outputs": [],
     "prompt_number": 32
    },
    {
     "cell_type": "code",
     "collapsed": false,
     "input": [
      "# generate random delay times for dummy tasks\n",
      "delay_times = numpy.random.rand(4)"
     ],
     "language": "python",
     "metadata": {},
     "outputs": [],
     "prompt_number": 33
    },
    {
     "cell_type": "markdown",
     "metadata": {},
     "source": [
      "Now, to map the function `dummy_task` to the random delay time data, we use the `map` method in `dummy_task`:"
     ]
    },
    {
     "cell_type": "code",
     "collapsed": false,
     "input": [
      "dummy_task.map(delay_times)"
     ],
     "language": "python",
     "metadata": {},
     "outputs": [
      {
       "metadata": {},
       "output_type": "pyout",
       "prompt_number": 34,
       "text": [
        "[[39952, 1386177803.267927, 1386177803.720117],\n",
        " [39953, 1386177803.268603, 1386177803.899902],\n",
        " [39955, 1386177803.270315, 1386177803.874082],\n",
        " [39956, 1386177803.272362, 1386177804.037112]]"
       ]
      }
     ],
     "prompt_number": 34
    },
    {
     "cell_type": "markdown",
     "metadata": {},
     "source": [
      "Let's do the same thing again with many more tasks and visualize how these tasks are executed on different IPython engines:"
     ]
    },
    {
     "cell_type": "code",
     "collapsed": false,
     "input": [
      "def visualize_tasks(results):\n",
      "    res = numpy.array(results)\n",
      "    fig, ax = subplots(figsize=(10, res.shape[1]))\n",
      "    \n",
      "    yticks = []\n",
      "    yticklabels = []\n",
      "    tmin = min(res[:,1])\n",
      "    for n, pid in enumerate(numpy.unique(res[:,0])):\n",
      "        yticks.append(n)\n",
      "        yticklabels.append(\"%d\" % pid)\n",
      "        for m in numpy.where(res[:,0] == pid)[0]:\n",
      "            ax.add_patch(Rectangle((res[m,1] - tmin, n-0.25),\n",
      "                         res[m,2] - res[m,1], 0.5, color=\"green\", alpha=0.5))\n",
      "        \n",
      "    ax.set_ylim(-.5, n+.5)\n",
      "    ax.set_xlim(0, max(res[:,2]) - tmin + 0.)\n",
      "    ax.set_yticks(yticks)\n",
      "    ax.set_yticklabels(yticklabels)\n",
      "    ax.set_ylabel(\"PID\")\n",
      "    ax.set_xlabel(\"seconds\")"
     ],
     "language": "python",
     "metadata": {},
     "outputs": [],
     "prompt_number": 35
    },
    {
     "cell_type": "code",
     "collapsed": false,
     "input": [
      "delay_times = numpy.random.rand(64)"
     ],
     "language": "python",
     "metadata": {},
     "outputs": [],
     "prompt_number": 36
    },
    {
     "cell_type": "code",
     "collapsed": false,
     "input": [
      "result = dummy_task.map(delay_times)\n",
      "visualize_tasks(result)"
     ],
     "language": "python",
     "metadata": {},
     "outputs": [
      {
       "metadata": {},
       "output_type": "display_data",
       "png": "[encoded data removed]",
       "text": [
        "<matplotlib.figure.Figure at 0x106b992d0>"
       ]
      }
     ],
     "prompt_number": 37
    },
    {
     "cell_type": "markdown",
     "metadata": {},
     "source": [
      "That's a nice and easy parallelization! We can see that we utilize all four engines quite well.\n",
      "\n",
      "But one short coming so far is that the tasks are not load balanced, so one engine might be idle while others still have more tasks to work on.\n",
      "\n",
      "However, the IPython parallel environment provides a number of alternative \"views\" of the engine cluster, and there is a view that provides load balancing as well (above we have used the \"direct view\", which is why we called it \"dview\").\n",
      "\n",
      "To obtain a load balanced view we simply use the `load_balanced_view` method in the engine cluster client instance `cli`:"
     ]
    },
    {
     "cell_type": "code",
     "collapsed": false,
     "input": [
      "lbview = cli.load_balanced_view()"
     ],
     "language": "python",
     "metadata": {},
     "outputs": [],
     "prompt_number": 38
    },
    {
     "cell_type": "code",
     "collapsed": false,
     "input": [
      "@lbview.parallel(block=True)\n",
      "def dummy_task_load_balanced(delay):\n",
      "    \"\"\" a dummy task that takes 'delay' seconds to finish \"\"\"\n",
      "    import os, time\n",
      "\n",
      "    t0 = time.time()\n",
      "    pid = os.getpid()\n",
      "    time.sleep(delay)\n",
      "    t1 = time.time()\n",
      "    \n",
      "    return [pid, t0, t1]"
     ],
     "language": "python",
     "metadata": {},
     "outputs": [],
     "prompt_number": 39
    },
    {
     "cell_type": "code",
     "collapsed": false,
     "input": [
      "result = dummy_task_load_balanced.map(delay_times)\n",
      "visualize_tasks(result)"
     ],
     "language": "python",
     "metadata": {},
     "outputs": [
      {
       "metadata": {},
       "output_type": "display_data",
       "png": "[encoded data removed]",
       "text": [
        "<matplotlib.figure.Figure at 0x1066aab90>"
       ]
      }
     ],
     "prompt_number": 40
    },
    {
     "cell_type": "markdown",
     "metadata": {},
     "source": [
      "In the example above we can see that the engine cluster is a bit more efficiently used, and the time to completion is shorter than in the previous example."
     ]
    },
    {
     "cell_type": "markdown",
     "metadata": {},
     "source": [
      "## Cython Parallel\n",
      "\n",
      "In order to use Cython in parallel on IPython, we need to load and execute `cythonmagic` on all engines."
     ]
    },
    {
     "cell_type": "code",
     "collapsed": false,
     "input": [
      "%px %load_ext cythonmagic"
     ],
     "language": "python",
     "metadata": {},
     "outputs": [],
     "prompt_number": 10
    },
    {
     "cell_type": "markdown",
     "metadata": {},
     "source": [
      "As an example, let's use the Cythonized Gibbs sampler from the last lecture."
     ]
    },
    {
     "cell_type": "code",
     "collapsed": false,
     "input": [
      "%%px\n",
      "%%cython\n",
      "\n",
      "from numpy import zeros, random\n",
      "from numpy cimport *\n",
      "from libc.math cimport sqrt\n",
      "gamma = random.gamma\n",
      "normal = random.normal\n",
      "\n",
      "def gibbs(int N=20000, int thin=200):\n",
      "    cdef: \n",
      "        ndarray[float64_t, ndim=2] mat = zeros((N,2))\n",
      "        float64_t x,y = 0\n",
      "        int i,j\n",
      "    for i in range(N):\n",
      "        for j in range(thin):\n",
      "            x = gamma(3, y**2 + 4)\n",
      "            y = normal(1./(x+1), 1./sqrt(2*(x+1)))\n",
      "        mat[i] = x,y\n",
      "\n",
      "    return mat"
     ],
     "language": "python",
     "metadata": {},
     "outputs": [],
     "prompt_number": 11
    },
    {
     "cell_type": "markdown",
     "metadata": {},
     "source": [
      "Divide the array by the number of nodes.  In this case they divide evenly, a more general partitioning of sizes is easy to do as well."
     ]
    },
    {
     "cell_type": "code",
     "collapsed": false,
     "input": [
      "cli.ids"
     ],
     "language": "python",
     "metadata": {},
     "outputs": [
      {
       "metadata": {},
       "output_type": "pyout",
       "prompt_number": 12,
       "text": [
        "[0, 1, 2, 3]"
       ]
      }
     ],
     "prompt_number": 12
    },
    {
     "cell_type": "code",
     "collapsed": false,
     "input": [
      "N = 100000\n",
      "thin = 10\n",
      "n = N/len(cli.ids)\n",
      "dv = cli[:]\n",
      "dv.push(dict(n=n, thin=thin))\n",
      "# Let's just confirm visually we got what we expect\n",
      "dv['n']"
     ],
     "language": "python",
     "metadata": {},
     "outputs": [
      {
       "metadata": {},
       "output_type": "pyout",
       "prompt_number": 13,
       "text": [
        "[25000, 25000, 25000, 25000]"
       ]
      }
     ],
     "prompt_number": 13
    },
    {
     "cell_type": "markdown",
     "metadata": {},
     "source": [
      "We can time purely the execution of the gibbs sampler on the remote nodes"
     ]
    },
    {
     "cell_type": "code",
     "collapsed": false,
     "input": [
      "%timeit dv.execute('gibbs(n, thin)')"
     ],
     "language": "python",
     "metadata": {},
     "outputs": [
      {
       "output_type": "stream",
       "stream": "stdout",
       "text": [
        "100 loops, best of 3: 3.07 ms per loop\n"
       ]
      }
     ],
     "prompt_number": 14
    },
    {
     "cell_type": "markdown",
     "metadata": {},
     "source": [
      "But a more realistic (and costly) benchmark must also include the cost of bringing the results back from the cluster engines to our local namespace.  For that, we assign the call to the variable `a` on each node and then use the view's `gather` method to pull them back in:"
     ]
    },
    {
     "cell_type": "code",
     "collapsed": false,
     "input": [
      "%%timeit\n",
      "dv.execute('a = gibbs(n, thin)')\n",
      "a = dv.gather('a')"
     ],
     "language": "python",
     "metadata": {},
     "outputs": [],
     "prompt_number": 25
    },
    {
     "cell_type": "markdown",
     "metadata": {},
     "source": [
      "Let's compare this to the same number of samples executed on a single process:"
     ]
    },
    {
     "cell_type": "code",
     "collapsed": false,
     "input": [
      "%load_ext cythonmagic"
     ],
     "language": "python",
     "metadata": {},
     "outputs": [],
     "prompt_number": 16
    },
    {
     "cell_type": "code",
     "collapsed": false,
     "input": [
      "%%cython\n",
      "\n",
      "from libc.math cimport sqrt\n",
      "from numpy import zeros, random\n",
      "from numpy cimport *\n",
      "gamma = random.gamma\n",
      "normal = random.normal\n",
      "\n",
      "def gibbs(int N=20000, int thin=200):\n",
      "    cdef: \n",
      "        ndarray[float64_t, ndim=2] mat = zeros((N,2))\n",
      "        float64_t x,y = 0\n",
      "        int i,j\n",
      "    for i in range(N):\n",
      "        for j in range(thin):\n",
      "            x = gamma(3, y**2 + 4)\n",
      "            y = normal(1./(x+1), 1./sqrt(2*(x+1)))\n",
      "        mat[i] = x,y\n",
      "\n",
      "    return mat"
     ],
     "language": "python",
     "metadata": {},
     "outputs": [],
     "prompt_number": 17
    },
    {
     "cell_type": "code",
     "collapsed": false,
     "input": [
      "%%timeit \n",
      "a = gibbs(N, thin)"
     ],
     "language": "python",
     "metadata": {},
     "outputs": [
      {
       "output_type": "stream",
       "stream": "stdout",
       "text": [
        "1 loops, best of 3: 1.63 s per loop\n"
       ]
      }
     ],
     "prompt_number": 18
    },
    {
     "cell_type": "markdown",
     "metadata": {},
     "source": [
      "## References\n",
      "\n",
      "[Scientific Python Lectures](http://github.com/jrjohansson/scientific-python-lectures) by Robert Johansson\n",
      "\n",
      "[Using IPython for Parallel Computing](http://ipython.org/ipython-doc/dev/parallel/)"
     ]
    },
    {
     "cell_type": "markdown",
     "metadata": {},
     "source": [
      "---"
     ]
    },
    {
     "cell_type": "code",
     "collapsed": false,
     "input": [
      "from IPython.core.display import HTML\n",
      "def css_styling():\n",
      "    styles = open(\"styles/custom.css\", \"r\").read()\n",
      "    return HTML(styles)\n",
      "css_styling()"
     ],
     "language": "python",
     "metadata": {},
     "outputs": [
      {
       "html": [
        "<style>\n",
        "    @font-face {\n",
        "        font-family: \"Computer Modern\";\n",
        "        src: url('http://mirrors.ctan.org/fonts/cm-unicode/fonts/otf/cmunss.otf');\n",
        "    }\n",
        "    div.cell{\n",
        "        width:800px;\n",
        "/*        margin-left:16% !important;*/\n",
        "        margin-left:auto;\n",
        "        margin-right:auto;\n",
        "    }\n",
        "    h1 {\n",
        "        font-family: Helvetica, serif;\n",
        "    }\n",
        "    h4{\n",
        "        margin-top:12px;\n",
        "        margin-bottom: 3px;\n",
        "       }\n",
        "    div.text_cell_render{\n",
        "        font-family: Computer Modern, \"Helvetica Neue\", Arial, Helvetica, Geneva, sans-serif;\n",
        "        line-height: 145%;\n",
        "        font-size: 130%;\n",
        "        width:800px;\n",
        "        margin-left:auto;\n",
        "        margin-right:auto;\n",
        "    }\n",
        "    .CodeMirror{\n",
        "            font-family: \"Source Code Pro\", source-code-pro,Consolas, monospace;\n",
        "    }\n",
        "/*    .prompt{\n",
        "        display: None;\n",
        "    }*/\n",
        "    .text_cell_render h5 {\n",
        "        font-weight: 300;\n",
        "        font-size: 16pt;\n",
        "        color: #4057A1;\n",
        "        font-style: italic;\n",
        "        margin-bottom: .5em;\n",
        "        margin-top: 0.5em;\n",
        "        display: block;\n",
        "    }\n",
        "\n",
        "    .warning{\n",
        "        color: rgb( 240, 20, 20 )\n",
        "        }\n",
        "</style>\n",
        "<script>\n",
        "    MathJax.Hub.Config({\n",
        "                        TeX: {\n",
        "                           extensions: [\"AMSmath.js\"]\n",
        "                           },\n",
        "                tex2jax: {\n",
        "                    inlineMath: [ ['$','$'], [\"\\\\(\",\"\\\\)\"] ],\n",
        "                    displayMath: [ ['$$','$$'], [\"\\\\[\",\"\\\\]\"] ]\n",
        "                },\n",
        "                displayAlign: 'center', // Change this to 'center' to center equations.\n",
        "                \"HTML-CSS\": {\n",
        "                    styles: {'.MathJax_Display': {\"margin\": 4}}\n",
        "                }\n",
        "        });\n",
        "</script>"
       ],
       "metadata": {},
       "output_type": "pyout",
       "prompt_number": 1,
       "text": [
        "<IPython.core.display.HTML at 0x10f9b0dd0>"
       ]
      }
     ],
     "prompt_number": 1
    }
   ],
   "metadata": {}
  }
 ]
}