{
 "metadata": {
  "name": "",
  "signature": "sha256:6f40b3efc24ddf4d228f70511b3099b7a7246811c7f3a41480c4294c4727d499"
 },
 "nbformat": 3,
 "nbformat_minor": 0,
 "worksheets": [
  {
   "cells": [
    {
     "cell_type": "code",
     "collapsed": false,
     "input": [
      "%matplotlib inline\n",
      "import numpy as np\n",
      "import pandas as pd\n",
      "import matplotlib.pyplot as plt"
     ],
     "language": "python",
     "metadata": {},
     "outputs": [],
     "prompt_number": 1
    },
    {
     "cell_type": "code",
     "collapsed": false,
     "input": [
      "data_files = !ls Bios366_project_data/*csv\n",
      "\n",
      "data = {f[f.rfind('_')+1:-4] : pd.read_csv(f, index_col='RUID', escapechar='\\\\') for f in data_files}"
     ],
     "language": "python",
     "metadata": {},
     "outputs": [],
     "prompt_number": 2
    },
    {
     "cell_type": "code",
     "collapsed": false,
     "input": [
      "data_files"
     ],
     "language": "python",
     "metadata": {},
     "outputs": [
      {
       "metadata": {},
       "output_type": "pyout",
       "prompt_number": 3,
       "text": [
        "['Bios366_project_data/FONNESBECK_ADT.csv',\n",
        " 'Bios366_project_data/FONNESBECK_BMI.csv',\n",
        " 'Bios366_project_data/FONNESBECK_BP.csv',\n",
        " 'Bios366_project_data/FONNESBECK_CPT.csv',\n",
        " 'Bios366_project_data/FONNESBECK_EGFR.csv',\n",
        " 'Bios366_project_data/FONNESBECK_ICD9.csv',\n",
        " 'Bios366_project_data/FONNESBECK_LAB.csv',\n",
        " 'Bios366_project_data/FONNESBECK_MED.csv',\n",
        " 'Bios366_project_data/FONNESBECK_phenotype.csv']"
       ]
      }
     ],
     "prompt_number": 3
    },
    {
     "cell_type": "code",
     "collapsed": false,
     "input": [
      "data.keys()"
     ],
     "language": "python",
     "metadata": {},
     "outputs": [
      {
       "metadata": {},
       "output_type": "pyout",
       "prompt_number": 3,
       "text": [
        "dict_keys(['ICD9', 'BMI', 'phenotype', 'CPT', 'MED', 'BP', 'LAB', 'ADT', 'EGFR'])"
       ]
      }
     ],
     "prompt_number": 3
    },
    {
     "cell_type": "code",
     "collapsed": false,
     "input": [
      "data['ADT'].head()"
     ],
     "language": "python",
     "metadata": {},
     "outputs": [
      {
       "html": [
        "<div style=\"max-height:1000px;max-width:1500px;overflow:auto;\">\n",
        "<table border=\"1\" class=\"dataframe\">\n",
        "  <thead>\n",
        "    <tr style=\"text-align: right;\">\n",
        "      <th></th>\n",
        "      <th>Event</th>\n",
        "      <th>Admission_date</th>\n",
        "      <th>Event_Date</th>\n",
        "      <th>SRV_CODE</th>\n",
        "      <th>CHIEF_COMPLAINT</th>\n",
        "      <th>DISCHARGE_DATE</th>\n",
        "    </tr>\n",
        "    <tr>\n",
        "      <th>RUID</th>\n",
        "      <th></th>\n",
        "      <th></th>\n",
        "      <th></th>\n",
        "      <th></th>\n",
        "      <th></th>\n",
        "      <th></th>\n",
        "    </tr>\n",
        "  </thead>\n",
        "  <tbody>\n",
        "    <tr>\n",
        "      <th>124</th>\n",
        "      <td>       ADT TRANSFER</td>\n",
        "      <td> 01/24/2013</td>\n",
        "      <td> 01/24/2013</td>\n",
        "      <td> GAS</td>\n",
        "      <td> BLEEDING AT OSTOMY SITE</td>\n",
        "      <td>        NaN</td>\n",
        "    </tr>\n",
        "    <tr>\n",
        "      <th>124</th>\n",
        "      <td> ADT ACCOUNT UPDATE</td>\n",
        "      <td> 01/24/2013</td>\n",
        "      <td> 01/24/2013</td>\n",
        "      <td> GAS</td>\n",
        "      <td> BLEEDING AT OSTOMY SITE</td>\n",
        "      <td>        NaN</td>\n",
        "    </tr>\n",
        "    <tr>\n",
        "      <th>124</th>\n",
        "      <td>          ADT ADMIT</td>\n",
        "      <td> 01/24/2013</td>\n",
        "      <td> 01/24/2013</td>\n",
        "      <td> GAS</td>\n",
        "      <td> BLEEDING AT OSTOMY SITE</td>\n",
        "      <td>        NaN</td>\n",
        "    </tr>\n",
        "    <tr>\n",
        "      <th>124</th>\n",
        "      <td>      ADT DISCHARGE</td>\n",
        "      <td> 01/24/2013</td>\n",
        "      <td> 01/27/2013</td>\n",
        "      <td> GAS</td>\n",
        "      <td> BLEEDING AT OSTOMY SITE</td>\n",
        "      <td> 01/27/2013</td>\n",
        "    </tr>\n",
        "    <tr>\n",
        "      <th>124</th>\n",
        "      <td>          ADT ADMIT</td>\n",
        "      <td> 01/30/2013</td>\n",
        "      <td> 01/30/2013</td>\n",
        "      <td> PUL</td>\n",
        "      <td>          LOWER GI BLEED</td>\n",
        "      <td>        NaN</td>\n",
        "    </tr>\n",
        "  </tbody>\n",
        "</table>\n",
        "</div>"
       ],
       "metadata": {},
       "output_type": "pyout",
       "prompt_number": 4,
       "text": [
        "                   Event Admission_date  Event_Date SRV_CODE  \\\n",
        "RUID                                                           \n",
        "124         ADT TRANSFER     01/24/2013  01/24/2013      GAS   \n",
        "124   ADT ACCOUNT UPDATE     01/24/2013  01/24/2013      GAS   \n",
        "124            ADT ADMIT     01/24/2013  01/24/2013      GAS   \n",
        "124        ADT DISCHARGE     01/24/2013  01/27/2013      GAS   \n",
        "124            ADT ADMIT     01/30/2013  01/30/2013      PUL   \n",
        "\n",
        "              CHIEF_COMPLAINT DISCHARGE_DATE  \n",
        "RUID                                          \n",
        "124   BLEEDING AT OSTOMY SITE            NaN  \n",
        "124   BLEEDING AT OSTOMY SITE            NaN  \n",
        "124   BLEEDING AT OSTOMY SITE            NaN  \n",
        "124   BLEEDING AT OSTOMY SITE     01/27/2013  \n",
        "124            LOWER GI BLEED            NaN  "
       ]
      }
     ],
     "prompt_number": 4
    },
    {
     "cell_type": "code",
     "collapsed": false,
     "input": [
      "admissions = data['ADT'].groupby(level='RUID').apply(lambda x: (x.Event=='ADT ADMIT').sum())\n",
      "admissions.sort(ascending=False)\n",
      "(admissions>1).mean()"
     ],
     "language": "python",
     "metadata": {},
     "outputs": [
      {
       "metadata": {},
       "output_type": "pyout",
       "prompt_number": 5,
       "text": [
        "0.29857022708158115"
       ]
      }
     ],
     "prompt_number": 5
    },
    {
     "cell_type": "code",
     "collapsed": false,
     "input": [
      "from numpy.random import randn\n",
      "\n",
      "fig = plt.figure(figsize=(14,10), dpi=1600) # specifies the parameters of our graphs\n",
      "a = 0.2                                    # sets the alpha level of the colors in the graph (for more attractive results)\n",
      "a_bar = 0.55                               # another alpha setting\n",
      "\n",
      "plt.subplot2grid((2,3),(0,0))             # lets us plot many diffrent shaped graphs together\n",
      "support.hospdead.value_counts().plot(kind='bar', alpha=a_bar) # plots a bar graph of those who surived vs those who did not. \n",
      "title(\"Distribution of Readmission Times\") # puts a title on our graph\n",
      "\n",
      "plt.subplot2grid((2,3),(0,1))\n",
      "plt.scatter(support.hospdead+randn(len(support.hospdead))*0.01, support.age, alpha=a*0.2)\n",
      "plt.ylabel(\"Age\")                         # sets the y axis lable\n",
      "plt.grid(b=True, which='major', axis='y') # formats the grid line style of our graphs\n",
      "title(\"Mortality by Age,  (1 = Died in hospital)\")\n",
      "xticks((0,1))\n",
      "\n",
      "plt.subplot2grid((2,3),(0,2))\n",
      "support.race.value_counts().plot(kind=\"barh\", alpha=a_bar)\n",
      "title(\"Race Distribution\")\n",
      "\n",
      "plt.subplot2grid((2,3),(1,0), colspan=2)\n",
      "support.age[support.race == 'white'].plot(kind='kde')   # plots a kernel desnsity estimate of the subset of the 1st class passanges's age\n",
      "support.age[support.race == 'black'].plot(kind='kde')\n",
      "support.age[support.race == 'hispanic'].plot(kind='kde')\n",
      "support.age[support.race == 'asian'].plot(kind='kde')\n",
      "support.age[support.race == 'other'].plot(kind='kde')\n",
      "plt.xlabel(\"Age\")                         # plots an axis lable\n",
      "title(\"Age Distribution within race\"); legend(('White', 'Black','Hispanic', 'Asian', 'Other'),loc='best') # sets our legend for our graph.\n",
      "\n",
      "plt.subplot2grid((2,3),(1,2))\n",
      "support.dzgroup.value_counts().plot(kind='bar', alpha=a_bar)\n",
      "title(\"Disease distribution\")\n",
      "\n",
      "plt.tight_layout()"
     ],
     "language": "python",
     "metadata": {},
     "outputs": [
      {
       "ename": "NameError",
       "evalue": "name 'support' is not defined",
       "output_type": "pyerr",
       "traceback": [
        "\u001b[0;31m---------------------------------------------------------------------------\u001b[0m",
        "\u001b[0;31mNameError\u001b[0m                                 Traceback (most recent call last)",
        "\u001b[0;32m<ipython-input-16-565adf6b6434>\u001b[0m in \u001b[0;36m<module>\u001b[0;34m()\u001b[0m\n\u001b[1;32m      6\u001b[0m \u001b[0;34m\u001b[0m\u001b[0m\n\u001b[1;32m      7\u001b[0m \u001b[0mplt\u001b[0m\u001b[0;34m.\u001b[0m\u001b[0msubplot2grid\u001b[0m\u001b[0;34m(\u001b[0m\u001b[0;34m(\u001b[0m\u001b[0;36m2\u001b[0m\u001b[0;34m,\u001b[0m\u001b[0;36m3\u001b[0m\u001b[0;34m)\u001b[0m\u001b[0;34m,\u001b[0m\u001b[0;34m(\u001b[0m\u001b[0;36m0\u001b[0m\u001b[0;34m,\u001b[0m\u001b[0;36m0\u001b[0m\u001b[0;34m)\u001b[0m\u001b[0;34m)\u001b[0m             \u001b[0;31m# lets us plot many diffrent shaped graphs together\u001b[0m\u001b[0;34m\u001b[0m\u001b[0m\n\u001b[0;32m----> 8\u001b[0;31m \u001b[0msupport\u001b[0m\u001b[0;34m.\u001b[0m\u001b[0mhospdead\u001b[0m\u001b[0;34m.\u001b[0m\u001b[0mvalue_counts\u001b[0m\u001b[0;34m(\u001b[0m\u001b[0;34m)\u001b[0m\u001b[0;34m.\u001b[0m\u001b[0mplot\u001b[0m\u001b[0;34m(\u001b[0m\u001b[0mkind\u001b[0m\u001b[0;34m=\u001b[0m\u001b[0;34m'bar'\u001b[0m\u001b[0;34m,\u001b[0m \u001b[0malpha\u001b[0m\u001b[0;34m=\u001b[0m\u001b[0ma_bar\u001b[0m\u001b[0;34m)\u001b[0m \u001b[0;31m# plots a bar graph of those who surived vs those who did not.\u001b[0m\u001b[0;34m\u001b[0m\u001b[0m\n\u001b[0m\u001b[1;32m      9\u001b[0m \u001b[0mtitle\u001b[0m\u001b[0;34m(\u001b[0m\u001b[0;34m\"Distribution of Mortality, (1 = Died in hospital)\"\u001b[0m\u001b[0;34m)\u001b[0m \u001b[0;31m# puts a title on our graph\u001b[0m\u001b[0;34m\u001b[0m\u001b[0m\n\u001b[1;32m     10\u001b[0m \u001b[0;34m\u001b[0m\u001b[0m\n",
        "\u001b[0;31mNameError\u001b[0m: name 'support' is not defined"
       ]
      },
      {
       "metadata": {},
       "output_type": "display_data",
       "png": "[encoded data removed]",
       "text": [
        "<matplotlib.figure.Figure at 0x10b0459b0>"
       ]
      }
     ],
     "prompt_number": 16
    },
    {
     "cell_type": "code",
     "collapsed": true,
     "input": [],
     "language": "python",
     "metadata": {},
     "outputs": []
    }
   ],
   "metadata": {}
  }
 ]
}